{
  "nbformat": 4,
  "nbformat_minor": 0,
  "metadata": {
    "colab": {
      "provenance": []
    },
    "kernelspec": {
      "name": "python3",
      "display_name": "Python 3"
    },
    "language_info": {
      "name": "python"
    },
    "widgets": {
      "application/vnd.jupyter.widget-state+json": {
        "f7d7230be4c34a6b84124adf48321ff7": {
          "model_module": "@jupyter-widgets/controls",
          "model_name": "VBoxModel",
          "model_module_version": "1.5.0",
          "state": {
            "_dom_classes": [],
            "_model_module": "@jupyter-widgets/controls",
            "_model_module_version": "1.5.0",
            "_model_name": "VBoxModel",
            "_view_count": null,
            "_view_module": "@jupyter-widgets/controls",
            "_view_module_version": "1.5.0",
            "_view_name": "VBoxView",
            "box_style": "",
            "children": [
              "IPY_MODEL_a692e0bec34e46f69052f8906fdd56bf",
              "IPY_MODEL_a914602cdfe143ba968bd69007669c65",
              "IPY_MODEL_bd604ce33f0b45ae866a0d19e185737a"
            ],
            "layout": "IPY_MODEL_e16a9615fda54d35a5d18387278b1c50"
          }
        },
        "a692e0bec34e46f69052f8906fdd56bf": {
          "model_module": "@jupyter-widgets/controls",
          "model_name": "HBoxModel",
          "model_module_version": "1.5.0",
          "state": {
            "_dom_classes": [],
            "_model_module": "@jupyter-widgets/controls",
            "_model_module_version": "1.5.0",
            "_model_name": "HBoxModel",
            "_view_count": null,
            "_view_module": "@jupyter-widgets/controls",
            "_view_module_version": "1.5.0",
            "_view_name": "HBoxView",
            "box_style": "",
            "children": [
              "IPY_MODEL_a9471e0002914ef1bbfcfcfdc06370a4",
              "IPY_MODEL_04e743003cf14c52b099abee784cfe9e"
            ],
            "layout": "IPY_MODEL_f3a8a80498c74908808d25f5c603a954"
          }
        },
        "a914602cdfe143ba968bd69007669c65": {
          "model_module": "@jupyter-widgets/output",
          "model_name": "OutputModel",
          "model_module_version": "1.0.0",
          "state": {
            "_dom_classes": [],
            "_model_module": "@jupyter-widgets/output",
            "_model_module_version": "1.0.0",
            "_model_name": "OutputModel",
            "_view_count": null,
            "_view_module": "@jupyter-widgets/output",
            "_view_module_version": "1.0.0",
            "_view_name": "OutputView",
            "layout": "IPY_MODEL_974044d577fe48daba8836f774f4a291",
            "msg_id": "",
            "outputs": [
              {
                "output_type": "stream",
                "name": "stdout",
                "text": [
                  "License license at /tmp/tmpmr6o1wmf.lic.\n"
                ]
              }
            ]
          }
        },
        "bd604ce33f0b45ae866a0d19e185737a": {
          "model_module": "@jupyter-widgets/output",
          "model_name": "OutputModel",
          "model_module_version": "1.0.0",
          "state": {
            "_dom_classes": [],
            "_model_module": "@jupyter-widgets/output",
            "_model_module_version": "1.0.0",
            "_model_name": "OutputModel",
            "_view_count": null,
            "_view_module": "@jupyter-widgets/output",
            "_view_module_version": "1.0.0",
            "_view_name": "OutputView",
            "layout": "IPY_MODEL_df3b68da6bd04d86a120952d88f0206f",
            "msg_id": "",
            "outputs": [
              {
                "output_type": "stream",
                "name": "stdout",
                "text": [
                  "\n"
                ]
              },
              {
                "output_type": "stream",
                "name": "stdout",
                "text": [
                  "AMPL Version 20221013 (Linux-5.4.0-1091-azure, 64-bit)\n",
                  "Licensed to Default AMPL Community Edition License for the AMPL Model Colaboratory.\n",
                  "Temporary license expires 20240131.\n",
                  "Using license file \"/tmp/tmpmr6o1wmf.lic\".\n",
                  "\n"
                ]
              }
            ]
          }
        },
        "e16a9615fda54d35a5d18387278b1c50": {
          "model_module": "@jupyter-widgets/base",
          "model_name": "LayoutModel",
          "model_module_version": "1.2.0",
          "state": {
            "_model_module": "@jupyter-widgets/base",
            "_model_module_version": "1.2.0",
            "_model_name": "LayoutModel",
            "_view_count": null,
            "_view_module": "@jupyter-widgets/base",
            "_view_module_version": "1.2.0",
            "_view_name": "LayoutView",
            "align_content": null,
            "align_items": null,
            "align_self": null,
            "border": null,
            "bottom": null,
            "display": null,
            "flex": null,
            "flex_flow": null,
            "grid_area": null,
            "grid_auto_columns": null,
            "grid_auto_flow": null,
            "grid_auto_rows": null,
            "grid_column": null,
            "grid_gap": null,
            "grid_row": null,
            "grid_template_areas": null,
            "grid_template_columns": null,
            "grid_template_rows": null,
            "height": null,
            "justify_content": null,
            "justify_items": null,
            "left": null,
            "margin": null,
            "max_height": null,
            "max_width": null,
            "min_height": null,
            "min_width": null,
            "object_fit": null,
            "object_position": null,
            "order": null,
            "overflow": null,
            "overflow_x": null,
            "overflow_y": null,
            "padding": null,
            "right": null,
            "top": null,
            "visibility": null,
            "width": null
          }
        },
        "a9471e0002914ef1bbfcfcfdc06370a4": {
          "model_module": "@jupyter-widgets/controls",
          "model_name": "ButtonModel",
          "model_module_version": "1.5.0",
          "state": {
            "_dom_classes": [],
            "_model_module": "@jupyter-widgets/controls",
            "_model_module_version": "1.5.0",
            "_model_name": "ButtonModel",
            "_view_count": null,
            "_view_module": "@jupyter-widgets/controls",
            "_view_module_version": "1.5.0",
            "_view_name": "ButtonView",
            "button_style": "",
            "description": "Use existing license",
            "disabled": false,
            "icon": "",
            "layout": "IPY_MODEL_12dcb8ceb50749bfbdff40f0060dd011",
            "style": "IPY_MODEL_a1c94f6cff2e467c82d1d74c93bf52f9",
            "tooltip": ""
          }
        },
        "04e743003cf14c52b099abee784cfe9e": {
          "model_module": "@jupyter-widgets/controls",
          "model_name": "TextModel",
          "model_module_version": "1.5.0",
          "state": {
            "_dom_classes": [],
            "_model_module": "@jupyter-widgets/controls",
            "_model_module_version": "1.5.0",
            "_model_name": "TextModel",
            "_view_count": null,
            "_view_module": "@jupyter-widgets/controls",
            "_view_module_version": "1.5.0",
            "_view_name": "TextView",
            "continuous_update": true,
            "description": "UUID:",
            "description_tooltip": null,
            "disabled": false,
            "layout": "IPY_MODEL_84c1c97e495e4b73bdc74eb5e09deff8",
            "placeholder": "​",
            "style": "IPY_MODEL_f0376b57411c499490197dfc8ee063bf",
            "value": ""
          }
        },
        "f3a8a80498c74908808d25f5c603a954": {
          "model_module": "@jupyter-widgets/base",
          "model_name": "LayoutModel",
          "model_module_version": "1.2.0",
          "state": {
            "_model_module": "@jupyter-widgets/base",
            "_model_module_version": "1.2.0",
            "_model_name": "LayoutModel",
            "_view_count": null,
            "_view_module": "@jupyter-widgets/base",
            "_view_module_version": "1.2.0",
            "_view_name": "LayoutView",
            "align_content": null,
            "align_items": null,
            "align_self": null,
            "border": null,
            "bottom": null,
            "display": null,
            "flex": null,
            "flex_flow": null,
            "grid_area": null,
            "grid_auto_columns": null,
            "grid_auto_flow": null,
            "grid_auto_rows": null,
            "grid_column": null,
            "grid_gap": null,
            "grid_row": null,
            "grid_template_areas": null,
            "grid_template_columns": null,
            "grid_template_rows": null,
            "height": null,
            "justify_content": null,
            "justify_items": null,
            "left": null,
            "margin": null,
            "max_height": null,
            "max_width": null,
            "min_height": null,
            "min_width": null,
            "object_fit": null,
            "object_position": null,
            "order": null,
            "overflow": null,
            "overflow_x": null,
            "overflow_y": null,
            "padding": null,
            "right": null,
            "top": null,
            "visibility": null,
            "width": null
          }
        },
        "12dcb8ceb50749bfbdff40f0060dd011": {
          "model_module": "@jupyter-widgets/base",
          "model_name": "LayoutModel",
          "model_module_version": "1.2.0",
          "state": {
            "_model_module": "@jupyter-widgets/base",
            "_model_module_version": "1.2.0",
            "_model_name": "LayoutModel",
            "_view_count": null,
            "_view_module": "@jupyter-widgets/base",
            "_view_module_version": "1.2.0",
            "_view_name": "LayoutView",
            "align_content": null,
            "align_items": null,
            "align_self": null,
            "border": null,
            "bottom": null,
            "display": null,
            "flex": null,
            "flex_flow": null,
            "grid_area": null,
            "grid_auto_columns": null,
            "grid_auto_flow": null,
            "grid_auto_rows": null,
            "grid_column": null,
            "grid_gap": null,
            "grid_row": null,
            "grid_template_areas": null,
            "grid_template_columns": null,
            "grid_template_rows": null,
            "height": null,
            "justify_content": null,
            "justify_items": null,
            "left": null,
            "margin": null,
            "max_height": null,
            "max_width": null,
            "min_height": null,
            "min_width": null,
            "object_fit": null,
            "object_position": null,
            "order": null,
            "overflow": null,
            "overflow_x": null,
            "overflow_y": null,
            "padding": null,
            "right": null,
            "top": null,
            "visibility": null,
            "width": null
          }
        },
        "a1c94f6cff2e467c82d1d74c93bf52f9": {
          "model_module": "@jupyter-widgets/controls",
          "model_name": "ButtonStyleModel",
          "model_module_version": "1.5.0",
          "state": {
            "_model_module": "@jupyter-widgets/controls",
            "_model_module_version": "1.5.0",
            "_model_name": "ButtonStyleModel",
            "_view_count": null,
            "_view_module": "@jupyter-widgets/base",
            "_view_module_version": "1.2.0",
            "_view_name": "StyleView",
            "button_color": null,
            "font_weight": ""
          }
        },
        "84c1c97e495e4b73bdc74eb5e09deff8": {
          "model_module": "@jupyter-widgets/base",
          "model_name": "LayoutModel",
          "model_module_version": "1.2.0",
          "state": {
            "_model_module": "@jupyter-widgets/base",
            "_model_module_version": "1.2.0",
            "_model_name": "LayoutModel",
            "_view_count": null,
            "_view_module": "@jupyter-widgets/base",
            "_view_module_version": "1.2.0",
            "_view_name": "LayoutView",
            "align_content": null,
            "align_items": null,
            "align_self": null,
            "border": null,
            "bottom": null,
            "display": null,
            "flex": null,
            "flex_flow": null,
            "grid_area": null,
            "grid_auto_columns": null,
            "grid_auto_flow": null,
            "grid_auto_rows": null,
            "grid_column": null,
            "grid_gap": null,
            "grid_row": null,
            "grid_template_areas": null,
            "grid_template_columns": null,
            "grid_template_rows": null,
            "height": null,
            "justify_content": null,
            "justify_items": null,
            "left": null,
            "margin": null,
            "max_height": null,
            "max_width": null,
            "min_height": null,
            "min_width": null,
            "object_fit": null,
            "object_position": null,
            "order": null,
            "overflow": null,
            "overflow_x": null,
            "overflow_y": null,
            "padding": null,
            "right": null,
            "top": null,
            "visibility": null,
            "width": null
          }
        },
        "f0376b57411c499490197dfc8ee063bf": {
          "model_module": "@jupyter-widgets/controls",
          "model_name": "DescriptionStyleModel",
          "model_module_version": "1.5.0",
          "state": {
            "_model_module": "@jupyter-widgets/controls",
            "_model_module_version": "1.5.0",
            "_model_name": "DescriptionStyleModel",
            "_view_count": null,
            "_view_module": "@jupyter-widgets/base",
            "_view_module_version": "1.2.0",
            "_view_name": "StyleView",
            "description_width": ""
          }
        },
        "974044d577fe48daba8836f774f4a291": {
          "model_module": "@jupyter-widgets/base",
          "model_name": "LayoutModel",
          "model_module_version": "1.2.0",
          "state": {
            "_model_module": "@jupyter-widgets/base",
            "_model_module_version": "1.2.0",
            "_model_name": "LayoutModel",
            "_view_count": null,
            "_view_module": "@jupyter-widgets/base",
            "_view_module_version": "1.2.0",
            "_view_name": "LayoutView",
            "align_content": null,
            "align_items": null,
            "align_self": null,
            "border": null,
            "bottom": null,
            "display": null,
            "flex": null,
            "flex_flow": null,
            "grid_area": null,
            "grid_auto_columns": null,
            "grid_auto_flow": null,
            "grid_auto_rows": null,
            "grid_column": null,
            "grid_gap": null,
            "grid_row": null,
            "grid_template_areas": null,
            "grid_template_columns": null,
            "grid_template_rows": null,
            "height": null,
            "justify_content": null,
            "justify_items": null,
            "left": null,
            "margin": null,
            "max_height": null,
            "max_width": null,
            "min_height": null,
            "min_width": null,
            "object_fit": null,
            "object_position": null,
            "order": null,
            "overflow": null,
            "overflow_x": null,
            "overflow_y": null,
            "padding": null,
            "right": null,
            "top": null,
            "visibility": null,
            "width": null
          }
        },
        "df3b68da6bd04d86a120952d88f0206f": {
          "model_module": "@jupyter-widgets/base",
          "model_name": "LayoutModel",
          "model_module_version": "1.2.0",
          "state": {
            "_model_module": "@jupyter-widgets/base",
            "_model_module_version": "1.2.0",
            "_model_name": "LayoutModel",
            "_view_count": null,
            "_view_module": "@jupyter-widgets/base",
            "_view_module_version": "1.2.0",
            "_view_name": "LayoutView",
            "align_content": null,
            "align_items": null,
            "align_self": null,
            "border": null,
            "bottom": null,
            "display": null,
            "flex": null,
            "flex_flow": null,
            "grid_area": null,
            "grid_auto_columns": null,
            "grid_auto_flow": null,
            "grid_auto_rows": null,
            "grid_column": null,
            "grid_gap": null,
            "grid_row": null,
            "grid_template_areas": null,
            "grid_template_columns": null,
            "grid_template_rows": null,
            "height": null,
            "justify_content": null,
            "justify_items": null,
            "left": null,
            "margin": null,
            "max_height": null,
            "max_width": null,
            "min_height": null,
            "min_width": null,
            "object_fit": null,
            "object_position": null,
            "order": null,
            "overflow": null,
            "overflow_x": null,
            "overflow_y": null,
            "padding": null,
            "right": null,
            "top": null,
            "visibility": null,
            "width": null
          }
        },
        "cec69999fdc643598e63bb7b42040935": {
          "model_module": "@jupyter-widgets/controls",
          "model_name": "BoxModel",
          "model_module_version": "1.5.0",
          "state": {
            "_dom_classes": [],
            "_model_module": "@jupyter-widgets/controls",
            "_model_module_version": "1.5.0",
            "_model_name": "BoxModel",
            "_view_count": null,
            "_view_module": "@jupyter-widgets/controls",
            "_view_module_version": "1.5.0",
            "_view_name": "BoxView",
            "box_style": "",
            "children": [
              "IPY_MODEL_ae97f3c456c540488b6284404e32df1d",
              "IPY_MODEL_5800d308f1ad4e9e8d89236435ab89b4",
              "IPY_MODEL_57ee0604b3a64e74b85370391a72a98b",
              "IPY_MODEL_ff9c009756984324982a57afed6e7e9f"
            ],
            "layout": "IPY_MODEL_8e2c82a07a8d46f6ada3b50441ed7dc3"
          }
        },
        "ae97f3c456c540488b6284404e32df1d": {
          "model_module": "@jupyter-widgets/controls",
          "model_name": "IntTextModel",
          "model_module_version": "1.5.0",
          "state": {
            "_dom_classes": [],
            "_model_module": "@jupyter-widgets/controls",
            "_model_module_version": "1.5.0",
            "_model_name": "IntTextModel",
            "_view_count": null,
            "_view_module": "@jupyter-widgets/controls",
            "_view_module_version": "1.5.0",
            "_view_name": "IntTextView",
            "continuous_update": false,
            "description": "Size",
            "description_tooltip": null,
            "disabled": false,
            "layout": "IPY_MODEL_9fb1e6f177ee494a962e84afe599b66f",
            "step": 1,
            "style": "IPY_MODEL_8910b58c2d0b43c2af366b9f14353144",
            "value": 9
          }
        },
        "5800d308f1ad4e9e8d89236435ab89b4": {
          "model_module": "@jupyter-widgets/controls",
          "model_name": "IntTextModel",
          "model_module_version": "1.5.0",
          "state": {
            "_dom_classes": [],
            "_model_module": "@jupyter-widgets/controls",
            "_model_module_version": "1.5.0",
            "_model_name": "IntTextModel",
            "_view_count": null,
            "_view_module": "@jupyter-widgets/controls",
            "_view_module_version": "1.5.0",
            "_view_name": "IntTextView",
            "continuous_update": false,
            "description": "Clusters",
            "description_tooltip": null,
            "disabled": false,
            "layout": "IPY_MODEL_81e1ce83192d4608b31aecb7e170ed39",
            "step": 1,
            "style": "IPY_MODEL_65fc147c1c82400fbc665cb7ac5ce342",
            "value": 1
          }
        },
        "57ee0604b3a64e74b85370391a72a98b": {
          "model_module": "@jupyter-widgets/controls",
          "model_name": "FloatTextModel",
          "model_module_version": "1.5.0",
          "state": {
            "_dom_classes": [],
            "_model_module": "@jupyter-widgets/controls",
            "_model_module_version": "1.5.0",
            "_model_name": "FloatTextModel",
            "_view_count": null,
            "_view_module": "@jupyter-widgets/controls",
            "_view_module_version": "1.5.0",
            "_view_name": "FloatTextView",
            "continuous_update": false,
            "description": "Deviation",
            "description_tooltip": null,
            "disabled": false,
            "layout": "IPY_MODEL_879a6f42f22540fa9840ea72e2c40505",
            "step": null,
            "style": "IPY_MODEL_d90002f01035416a82a7e4e6c7469c9a",
            "value": 0.1
          }
        },
        "ff9c009756984324982a57afed6e7e9f": {
          "model_module": "@jupyter-widgets/controls",
          "model_name": "IntTextModel",
          "model_module_version": "1.5.0",
          "state": {
            "_dom_classes": [],
            "_model_module": "@jupyter-widgets/controls",
            "_model_module_version": "1.5.0",
            "_model_name": "IntTextModel",
            "_view_count": null,
            "_view_module": "@jupyter-widgets/controls",
            "_view_module_version": "1.5.0",
            "_view_name": "IntTextView",
            "continuous_update": false,
            "description": "Scaling",
            "description_tooltip": null,
            "disabled": false,
            "layout": "IPY_MODEL_f142e6cf73394bf0908efbb5f14008ef",
            "step": 1,
            "style": "IPY_MODEL_a2cf064b3f9648ce8415303e7bdf9934",
            "value": 1
          }
        },
        "8e2c82a07a8d46f6ada3b50441ed7dc3": {
          "model_module": "@jupyter-widgets/base",
          "model_name": "LayoutModel",
          "model_module_version": "1.2.0",
          "state": {
            "_model_module": "@jupyter-widgets/base",
            "_model_module_version": "1.2.0",
            "_model_name": "LayoutModel",
            "_view_count": null,
            "_view_module": "@jupyter-widgets/base",
            "_view_module_version": "1.2.0",
            "_view_name": "LayoutView",
            "align_content": null,
            "align_items": null,
            "align_self": null,
            "border": null,
            "bottom": null,
            "display": "flex",
            "flex": null,
            "flex_flow": "row",
            "grid_area": null,
            "grid_auto_columns": null,
            "grid_auto_flow": null,
            "grid_auto_rows": null,
            "grid_column": null,
            "grid_gap": null,
            "grid_row": null,
            "grid_template_areas": null,
            "grid_template_columns": null,
            "grid_template_rows": null,
            "height": null,
            "justify_content": null,
            "justify_items": null,
            "left": null,
            "margin": null,
            "max_height": null,
            "max_width": null,
            "min_height": null,
            "min_width": null,
            "object_fit": null,
            "object_position": null,
            "order": null,
            "overflow": null,
            "overflow_x": null,
            "overflow_y": null,
            "padding": null,
            "right": null,
            "top": null,
            "visibility": null,
            "width": null
          }
        },
        "9fb1e6f177ee494a962e84afe599b66f": {
          "model_module": "@jupyter-widgets/base",
          "model_name": "LayoutModel",
          "model_module_version": "1.2.0",
          "state": {
            "_model_module": "@jupyter-widgets/base",
            "_model_module_version": "1.2.0",
            "_model_name": "LayoutModel",
            "_view_count": null,
            "_view_module": "@jupyter-widgets/base",
            "_view_module_version": "1.2.0",
            "_view_name": "LayoutView",
            "align_content": null,
            "align_items": null,
            "align_self": null,
            "border": null,
            "bottom": null,
            "display": null,
            "flex": null,
            "flex_flow": null,
            "grid_area": null,
            "grid_auto_columns": null,
            "grid_auto_flow": null,
            "grid_auto_rows": null,
            "grid_column": null,
            "grid_gap": null,
            "grid_row": null,
            "grid_template_areas": null,
            "grid_template_columns": null,
            "grid_template_rows": null,
            "height": null,
            "justify_content": null,
            "justify_items": null,
            "left": null,
            "margin": null,
            "max_height": null,
            "max_width": null,
            "min_height": null,
            "min_width": null,
            "object_fit": null,
            "object_position": null,
            "order": null,
            "overflow": null,
            "overflow_x": null,
            "overflow_y": null,
            "padding": null,
            "right": null,
            "top": null,
            "visibility": null,
            "width": null
          }
        },
        "8910b58c2d0b43c2af366b9f14353144": {
          "model_module": "@jupyter-widgets/controls",
          "model_name": "DescriptionStyleModel",
          "model_module_version": "1.5.0",
          "state": {
            "_model_module": "@jupyter-widgets/controls",
            "_model_module_version": "1.5.0",
            "_model_name": "DescriptionStyleModel",
            "_view_count": null,
            "_view_module": "@jupyter-widgets/base",
            "_view_module_version": "1.2.0",
            "_view_name": "StyleView",
            "description_width": ""
          }
        },
        "81e1ce83192d4608b31aecb7e170ed39": {
          "model_module": "@jupyter-widgets/base",
          "model_name": "LayoutModel",
          "model_module_version": "1.2.0",
          "state": {
            "_model_module": "@jupyter-widgets/base",
            "_model_module_version": "1.2.0",
            "_model_name": "LayoutModel",
            "_view_count": null,
            "_view_module": "@jupyter-widgets/base",
            "_view_module_version": "1.2.0",
            "_view_name": "LayoutView",
            "align_content": null,
            "align_items": null,
            "align_self": null,
            "border": null,
            "bottom": null,
            "display": null,
            "flex": null,
            "flex_flow": null,
            "grid_area": null,
            "grid_auto_columns": null,
            "grid_auto_flow": null,
            "grid_auto_rows": null,
            "grid_column": null,
            "grid_gap": null,
            "grid_row": null,
            "grid_template_areas": null,
            "grid_template_columns": null,
            "grid_template_rows": null,
            "height": null,
            "justify_content": null,
            "justify_items": null,
            "left": null,
            "margin": null,
            "max_height": null,
            "max_width": null,
            "min_height": null,
            "min_width": null,
            "object_fit": null,
            "object_position": null,
            "order": null,
            "overflow": null,
            "overflow_x": null,
            "overflow_y": null,
            "padding": null,
            "right": null,
            "top": null,
            "visibility": null,
            "width": null
          }
        },
        "65fc147c1c82400fbc665cb7ac5ce342": {
          "model_module": "@jupyter-widgets/controls",
          "model_name": "DescriptionStyleModel",
          "model_module_version": "1.5.0",
          "state": {
            "_model_module": "@jupyter-widgets/controls",
            "_model_module_version": "1.5.0",
            "_model_name": "DescriptionStyleModel",
            "_view_count": null,
            "_view_module": "@jupyter-widgets/base",
            "_view_module_version": "1.2.0",
            "_view_name": "StyleView",
            "description_width": ""
          }
        },
        "879a6f42f22540fa9840ea72e2c40505": {
          "model_module": "@jupyter-widgets/base",
          "model_name": "LayoutModel",
          "model_module_version": "1.2.0",
          "state": {
            "_model_module": "@jupyter-widgets/base",
            "_model_module_version": "1.2.0",
            "_model_name": "LayoutModel",
            "_view_count": null,
            "_view_module": "@jupyter-widgets/base",
            "_view_module_version": "1.2.0",
            "_view_name": "LayoutView",
            "align_content": null,
            "align_items": null,
            "align_self": null,
            "border": null,
            "bottom": null,
            "display": null,
            "flex": null,
            "flex_flow": null,
            "grid_area": null,
            "grid_auto_columns": null,
            "grid_auto_flow": null,
            "grid_auto_rows": null,
            "grid_column": null,
            "grid_gap": null,
            "grid_row": null,
            "grid_template_areas": null,
            "grid_template_columns": null,
            "grid_template_rows": null,
            "height": null,
            "justify_content": null,
            "justify_items": null,
            "left": null,
            "margin": null,
            "max_height": null,
            "max_width": null,
            "min_height": null,
            "min_width": null,
            "object_fit": null,
            "object_position": null,
            "order": null,
            "overflow": null,
            "overflow_x": null,
            "overflow_y": null,
            "padding": null,
            "right": null,
            "top": null,
            "visibility": null,
            "width": null
          }
        },
        "d90002f01035416a82a7e4e6c7469c9a": {
          "model_module": "@jupyter-widgets/controls",
          "model_name": "DescriptionStyleModel",
          "model_module_version": "1.5.0",
          "state": {
            "_model_module": "@jupyter-widgets/controls",
            "_model_module_version": "1.5.0",
            "_model_name": "DescriptionStyleModel",
            "_view_count": null,
            "_view_module": "@jupyter-widgets/base",
            "_view_module_version": "1.2.0",
            "_view_name": "StyleView",
            "description_width": ""
          }
        },
        "f142e6cf73394bf0908efbb5f14008ef": {
          "model_module": "@jupyter-widgets/base",
          "model_name": "LayoutModel",
          "model_module_version": "1.2.0",
          "state": {
            "_model_module": "@jupyter-widgets/base",
            "_model_module_version": "1.2.0",
            "_model_name": "LayoutModel",
            "_view_count": null,
            "_view_module": "@jupyter-widgets/base",
            "_view_module_version": "1.2.0",
            "_view_name": "LayoutView",
            "align_content": null,
            "align_items": null,
            "align_self": null,
            "border": null,
            "bottom": null,
            "display": null,
            "flex": null,
            "flex_flow": null,
            "grid_area": null,
            "grid_auto_columns": null,
            "grid_auto_flow": null,
            "grid_auto_rows": null,
            "grid_column": null,
            "grid_gap": null,
            "grid_row": null,
            "grid_template_areas": null,
            "grid_template_columns": null,
            "grid_template_rows": null,
            "height": null,
            "justify_content": null,
            "justify_items": null,
            "left": null,
            "margin": null,
            "max_height": null,
            "max_width": null,
            "min_height": null,
            "min_width": null,
            "object_fit": null,
            "object_position": null,
            "order": null,
            "overflow": null,
            "overflow_x": null,
            "overflow_y": null,
            "padding": null,
            "right": null,
            "top": null,
            "visibility": null,
            "width": null
          }
        },
        "a2cf064b3f9648ce8415303e7bdf9934": {
          "model_module": "@jupyter-widgets/controls",
          "model_name": "DescriptionStyleModel",
          "model_module_version": "1.5.0",
          "state": {
            "_model_module": "@jupyter-widgets/controls",
            "_model_module_version": "1.5.0",
            "_model_name": "DescriptionStyleModel",
            "_view_count": null,
            "_view_module": "@jupyter-widgets/base",
            "_view_module_version": "1.2.0",
            "_view_name": "StyleView",
            "description_width": ""
          }
        }
      }
    }
  },
  "cells": [
    {
      "cell_type": "markdown",
      "source": [
        "# Progressive Dinner Party Mathematical Program"
      ],
      "metadata": {
        "id": "HWTI2q7SjtOO"
      }
    },
    {
      "cell_type": "markdown",
      "source": [
        "# Setup"
      ],
      "metadata": {
        "id": "xJTzYuoQIXQU"
      }
    },
    {
      "cell_type": "markdown",
      "source": [
        "### AMPL"
      ],
      "metadata": {
        "id": "cCxrb2FGqXni"
      }
    },
    {
      "cell_type": "code",
      "execution_count": 1,
      "metadata": {
        "id": "kZHLv0z2jj6S"
      },
      "outputs": [],
      "source": [
        "!pip install -q amplpy"
      ]
    },
    {
      "cell_type": "code",
      "source": [
        "# Google Colab & Kaggle integration\n",
        "MODULES=['ampl', 'gokestrel']\n",
        "from amplpy import tools\n",
        "ampl = tools.ampl_notebook(modules=MODULES, globals_=globals()) # instantiate AMPL object and register magics"
      ],
      "metadata": {
        "id": "7ZwbUK8_j3h0",
        "outputId": "4c8e2d61-309e-4059-ae46-fefba9d06ab3",
        "colab": {
          "base_uri": "https://localhost:8080/",
          "height": 188,
          "referenced_widgets": [
            "f7d7230be4c34a6b84124adf48321ff7",
            "a692e0bec34e46f69052f8906fdd56bf",
            "a914602cdfe143ba968bd69007669c65",
            "bd604ce33f0b45ae866a0d19e185737a",
            "e16a9615fda54d35a5d18387278b1c50",
            "a9471e0002914ef1bbfcfcfdc06370a4",
            "04e743003cf14c52b099abee784cfe9e",
            "f3a8a80498c74908808d25f5c603a954",
            "12dcb8ceb50749bfbdff40f0060dd011",
            "a1c94f6cff2e467c82d1d74c93bf52f9",
            "84c1c97e495e4b73bdc74eb5e09deff8",
            "f0376b57411c499490197dfc8ee063bf",
            "974044d577fe48daba8836f774f4a291",
            "df3b68da6bd04d86a120952d88f0206f"
          ]
        }
      },
      "execution_count": 2,
      "outputs": [
        {
          "output_type": "stream",
          "name": "stdout",
          "text": [
            "AMPL License:\n"
          ]
        },
        {
          "output_type": "display_data",
          "data": {
            "text/plain": [
              "VBox(children=(HBox(children=(Button(description='Use existing license', style=ButtonStyle()), Text(value='', …"
            ],
            "application/vnd.jupyter.widget-view+json": {
              "version_major": 2,
              "version_minor": 0,
              "model_id": "f7d7230be4c34a6b84124adf48321ff7"
            }
          },
          "metadata": {}
        }
      ]
    },
    {
      "cell_type": "markdown",
      "source": [
        "### Imports"
      ],
      "metadata": {
        "id": "27sAldKUqgPC"
      }
    },
    {
      "cell_type": "code",
      "source": [
        "from getpass import getpass\n",
        "import itertools\n",
        "import pickle\n",
        "import numpy as np\n",
        "import networkx as nx\n",
        "import matplotlib.pyplot as plt\n",
        "import ipywidgets as widgets"
      ],
      "metadata": {
        "id": "Yi3uS7D3pOld"
      },
      "execution_count": 3,
      "outputs": []
    },
    {
      "cell_type": "markdown",
      "source": [
        "# Model"
      ],
      "metadata": {
        "id": "n_C0pimuIVsF"
      }
    },
    {
      "cell_type": "code",
      "source": [
        "%%writefile pdp.mod\n",
        "problem progressive_dinner_party;\n",
        "#--------------------------------\n",
        "\n",
        "set N;\n",
        "param C{N,N};\n",
        "var s{N} binary;\n",
        "var m{N} binary;\n",
        "var d{N} binary;\n",
        "var e{N,N} binary;\n",
        "\n",
        "minimize objective:\n",
        "\tsum {i in N, j in N} C[i,j]*e[i,j];\n",
        "\n",
        "subject to classes {i in N}:\n",
        "\ts[i] + m[i] + d[i] = 1;\n",
        "\t\n",
        "subject to inflow_s {i in N}:\n",
        "\tsum {j in N} s[i] * e[j,i] = 0;\n",
        "\t\n",
        "subject to outflow_s {i in N}:\n",
        "\tsum {j in N} s[i] * e[i,j] = 3 * s[i];\n",
        "\t\n",
        "subject to inflow_m {i in N}:\n",
        "\tsum {j in N} m[i] * e[j,i] = 3 * m[i];\n",
        "\t\n",
        "subject to outflow_m {i in N}:\n",
        "\tsum {j in N} m[i] * e[i,j] = 3 * m[i];\n",
        "\t\n",
        "subject to inflow_d {i in N}:\n",
        "\tsum {j in N} d[i] * e[j,i] = 3 * d[i];\n",
        "\t\n",
        "subject to outflow_d {i in N}:\n",
        "\tsum {j in N} d[i] * e[i,j] = 0;\n",
        "\t\n",
        "subject to shortcut {i in N, j in N}:\n",
        "\ts[i] * e[i,j] + d[j] <= 1;\n",
        "\t\n",
        "subject to equipartition:\n",
        "\t3 * sum {i in N} m[i] = card(N);"
      ],
      "metadata": {
        "id": "pgixlDm8G1xj",
        "outputId": "9988169a-4213-40c8-8498-48e5a82f551c",
        "colab": {
          "base_uri": "https://localhost:8080/"
        }
      },
      "execution_count": 4,
      "outputs": [
        {
          "output_type": "stream",
          "name": "stdout",
          "text": [
            "Writing pdp.mod\n"
          ]
        }
      ]
    },
    {
      "cell_type": "markdown",
      "source": [
        "# Data"
      ],
      "metadata": {
        "id": "XW2AURgzIavl"
      }
    },
    {
      "cell_type": "code",
      "source": [
        "w_size = widgets.IntText(description='Size', orientation='horizontal')\n",
        "w_cluster = widgets.IntText(description='Clusters', orientation='horizontal')\n",
        "w_deviation = widgets.FloatText(description='Deviation', orientation='horizontal')\n",
        "w_scale = widgets.IntText(description='Scaling', orientation='horizontal')\n",
        "display(widgets.Box([w_size, w_cluster,w_deviation, w_scale], layout=widgets.Layout(display='flex', flex_flow='row')))"
      ],
      "metadata": {
        "id": "ZbMtrzssIR8r",
        "outputId": "1dc36bcd-dbce-4bbf-d795-ac791206b474",
        "colab": {
          "base_uri": "https://localhost:8080/",
          "height": 49,
          "referenced_widgets": [
            "cec69999fdc643598e63bb7b42040935",
            "ae97f3c456c540488b6284404e32df1d",
            "5800d308f1ad4e9e8d89236435ab89b4",
            "57ee0604b3a64e74b85370391a72a98b",
            "ff9c009756984324982a57afed6e7e9f",
            "8e2c82a07a8d46f6ada3b50441ed7dc3",
            "9fb1e6f177ee494a962e84afe599b66f",
            "8910b58c2d0b43c2af366b9f14353144",
            "81e1ce83192d4608b31aecb7e170ed39",
            "65fc147c1c82400fbc665cb7ac5ce342",
            "879a6f42f22540fa9840ea72e2c40505",
            "d90002f01035416a82a7e4e6c7469c9a",
            "f142e6cf73394bf0908efbb5f14008ef",
            "a2cf064b3f9648ce8415303e7bdf9934"
          ]
        }
      },
      "execution_count": 5,
      "outputs": [
        {
          "output_type": "display_data",
          "data": {
            "text/plain": [
              "Box(children=(IntText(value=0, description='Size'), IntText(value=0, description='Clusters'), FloatText(value=…"
            ],
            "application/vnd.jupyter.widget-view+json": {
              "version_major": 2,
              "version_minor": 0,
              "model_id": "cec69999fdc643598e63bb7b42040935"
            }
          },
          "metadata": {}
        }
      ]
    },
    {
      "cell_type": "code",
      "source": [
        "rng = np.random.default_rng()\n",
        "\n",
        "N = w_size.value\n",
        "K = w_cluster.value\n",
        "σ = w_deviation.value\n",
        "λ = w_scale.value\n",
        "\n",
        "assert N >= 9\n",
        "assert K > 0\n",
        "assert N % K == 0\n",
        "assert N % 3 == 0\n",
        "assert σ >= 0\n",
        "assert λ > 0\n",
        "\n",
        "points = {}\n",
        "centers = rng.uniform(-1, 1, (K, 2))\n",
        "for i in range(K):\n",
        "\tpoints[str(centers[i])] = λ * rng.normal(centers[i], σ, (N // K, 2))\n",
        "\n",
        "X = np.array(list(points.values())).reshape(N, 2)[:,0]\n",
        "Y = np.array(list(points.values())).reshape(N, 2)[:,1]\n",
        "\n",
        "G = nx.Graph()\n",
        "for i in range(N):\n",
        "\tG.add_node(i, x = X[i], y = Y[i])\n",
        "\n",
        "C = np.empty((N,N))\n",
        "for a,b in itertools.product(range(N), range(N)):\n",
        "\tdX = (X[b]-X[a]) * (X[b]-X[a])\n",
        "\tdY = (Y[b]-Y[a]) * (Y[b]-Y[a])\n",
        "\tC[a,b] = np.sqrt(dX + dY)\n",
        "\n",
        "with open('pdp.dat', 'w') as f:\n",
        "\tf.write('set N :=')\n",
        "\tfor n in range(1, N + 1):\n",
        "\t\tf.write(f' {n}')\n",
        "\tf.write(';\\n')\n",
        "\tf.write('param C :=\\n')\n",
        "\tfor i,j in itertools.product(range(N), range(N)):\n",
        "\t\tf.write(f'{i+1} {j+1} {C[i,j]}\\n')\n",
        "\tf.write(';')\n",
        "\n",
        "plt.scatter(X,Y)\n",
        "plt.show()"
      ],
      "metadata": {
        "id": "kQ8rb5aVHAZY",
        "outputId": "44d9f97c-0606-4277-dee6-b919e0daa23e",
        "colab": {
          "base_uri": "https://localhost:8080/",
          "height": 265
        }
      },
      "execution_count": 6,
      "outputs": [
        {
          "output_type": "display_data",
          "data": {
            "text/plain": [
              "<Figure size 432x288 with 1 Axes>"
            ],
            "image/png": "[encoded data removed]"
          },
          "metadata": {
            "needs_background": "light"
          }
        }
      ]
    },
    {
      "cell_type": "code",
      "source": [
        "with open('pdp.run', 'w') as f:\n",
        "  f.write(\"option solver kestrel;\\n\")\n",
        "  f.write(\"option kestrel_options 'solver=octeract';\\n\")\n",
        "  f.write(f\"option email '{getpass('NEOS MAIL')}';\\n\")\n",
        "  f.write(\"model pdp.mod;\\n\")\n",
        "  f.write(\"data pdp.dat;\\n\")\n",
        "  f.write(\"solve;\")"
      ],
      "metadata": {
        "id": "9OGh0qaXuEOw",
        "outputId": "201818a7-35a6-4f8e-fdc1-64c44afa58ed",
        "colab": {
          "base_uri": "https://localhost:8080/"
        }
      },
      "execution_count": 7,
      "outputs": [
        {
          "name": "stdout",
          "output_type": "stream",
          "text": [
            "NEOS MAIL··········\n"
          ]
        }
      ]
    },
    {
      "cell_type": "code",
      "source": [
        "%%ampl_eval\n",
        "commands pdp.run;"
      ],
      "metadata": {
        "id": "DHxCy67NLCtq",
        "outputId": "cb4178a7-cddb-4dae-c49c-59660c98f757",
        "colab": {
          "base_uri": "https://localhost:8080/"
        }
      },
      "execution_count": 8,
      "outputs": [
        {
          "output_type": "stream",
          "name": "stdout",
          "text": [
            "Connecting to: neos-server.org:3333\n",
            "Job 12548802 submitted to NEOS, password='yTYtRVCv'\n",
            "Check the following URL for progress report:\n",
            "https://neos-server.org/neos/cgi-bin/nph-neos-solver.cgi?admin=results&jobnumber=12548802&pass=yTYtRVCv\n",
            "Job 12548802 dispatched\n",
            "password: yTYtRVCv\n",
            "---------- Begin Solver Output -----------\n",
            "Condor submit: 'neos.submit'\n",
            "Condor submit: 'watchdog.submit'\n",
            "Job submitted to NEOS HTCondor pool.\n",
            "kestrel_options:solver=octeract\n",
            "\n",
            "You are using the solver octeract.\n",
            "Executing on prod-exec-1.neos-server.org\n",
            "========================================\n",
            " Octeract Engine v4.4.0\n",
            " Copyright (c) Octeract Ltd, 2022\n",
            " 1-core licence\n",
            " Licensee: Elizabeth Wong (elwong@wisc.edu)\n",
            " Licence expiry date: Jul 11 2024\n",
            "========================================\n",
            "\n",
            "[ 0.0s ] Command executed: /opt/octeract/bin/octeract-engine kestrel.nl -AMPL \n",
            "[ 0.0s ] Start time: Tue Dec 20 07:36:38 2022\n",
            "[ 0.0s ] Hostname: prod-exec-1.neos-server.org | Available threads: 64 | Available RAM: 202GB\n",
            "[ 0.0s ] Reading model file: kestrel.nl\n",
            "[ 0.0s ] Model checksum: 7B2201D4F62AB69A1817D193877B8069\n",
            "[ 0.0s ] Reading options file: octeract.opt\n",
            "[ 0.0s ] Loading problem. Depending on problem size this may take some time.\n",
            "[ 0.0s ] Problem Summary: \n",
            "\t ==========================================\n",
            "\t Problem structure\t: BQCQP\n",
            "\t Objective convexity\t: linear\n",
            "\t Total # variables\t: 108\n",
            "\t -- continuous\t\t: 0\n",
            "\t -- binary\t\t: 108\n",
            "\t -- integer\t\t: 0\n",
            "\t Total # constraints\t: 145\n",
            "\t -- linear\t\t: 10\n",
            "\t -- convex\t\t: 0\n",
            "\t -- non-convex\t\t: 135\n",
            "\t ==========================================\n",
            "[ 0.0s ] Preprocessing is starting (non-convex BQCQP).\n",
            "[ 0.0s ] Presolver: Applying problem and domain reduction algorithms\n",
            "[ 0.0s ] Domains were ensured to be valid (e.g., log(), sqrt()).\n",
            "[ 0.0s ] The BQCQP problem was linearized (see https://docs.octeract.com/kb1001).\n",
            "[ 0.0s ] Problem structure was reclassified.\n",
            " \n",
            "[ 0.0s ] Preprocessing is restarting for the reclassified problem (convex MILP).\n",
            "[ 0.0s ] Presolver: Applying problem and domain reduction algorithms\n",
            "[ 0.0s ] 54 variables were eliminated (0 binaries, 0 integers, 54 continuous).\n",
            "[ 0.0s ] 126 constraints were eliminated.(126 linear, 0 nonlinear).\n",
            "[ 0.0s ] Domains were ensured to be valid (e.g., log(), sqrt()).\n",
            "[ 0.0s ] FBBT was used to tighten variable bounds.\n",
            "[ 0.0s ] Solving linear problem with OSICBC.\n",
            "Welcome to the CBC MILP Solver \n",
            "Version: 2.10.5 \n",
            "Build Date: Jul 11 2022 \n",
            "\n",
            "command line - SSND_Det -log 1 -sec 1.779716e+308 -threads 1 -timeMode elapsed -solve -quit (default strategy 1)\n",
            "seconds was changed from 1e+100 to 1.77972e+308\n",
            "threads was changed from 0 to 1\n",
            "Option for timeMode changed from cpu to elapsed\n",
            "Continuous objective value is 0 - 0.00 seconds\n",
            "Cgl0003I 9 fixed, 0 tightened bounds, 258 strengthened rows, 0 substitutions\n",
            "Cgl0003I 0 fixed, 0 tightened bounds, 18 strengthened rows, 0 substitutions\n",
            "Cgl0003I 0 fixed, 0 tightened bounds, 103 strengthened rows, 0 substitutions\n",
            "Cgl0004I processed model has 400 rows, 180 columns (108 integer (108 of which binary)) and 1931 elements\n",
            "Cbc0031I 38 added rows had average density of 61.157895\n",
            "Cbc0013I At root node, 38 cuts changed objective from 0.85839902 to 1.9152964 in 50 passes\n",
            "Cbc0014I Cut generator 0 (Probing) - 99 row cuts average 2.0 elements, 0 column cuts (0 active)  in 0.043 seconds - new frequency is 1\n",
            "Cbc0014I Cut generator 1 (Gomory) - 751 row cuts average 109.3 elements, 0 column cuts (0 active)  in 0.075 seconds - new frequency is 1\n",
            "Cbc0014I Cut generator 2 (Knapsack) - 123 row cuts average 7.4 elements, 0 column cuts (0 active)  in 0.032 seconds - new frequency is 1\n",
            "Cbc0014I Cut generator 3 (Clique) - 0 row cuts average 0.0 elements, 0 column cuts (0 active)  in 0.004 seconds - new frequency is -100\n",
            "Cbc0014I Cut generator 4 (MixedIntegerRounding2) - 14 row cuts average 8.9 elements, 0 column cuts (0 active)  in 0.092 seconds - new frequency is -100\n",
            "Cbc0014I Cut generator 5 (FlowCover) - 11 row cuts average 7.2 elements, 0 column cuts (0 active)  in 0.021 seconds - new frequency is -100\n",
            "Cbc0014I Cut generator 6 (TwoMirCuts) - 393 row cuts average 71.0 elements, 0 column cuts (0 active)  in 0.056 seconds - new frequency is 1\n",
            "Cbc0014I Cut generator 7 (ZeroHalf) - 1 row cuts average 8.0 elements, 0 column cuts (0 active)  in 0.001 seconds - new frequency is -100\n",
            "Cbc0010I After 0 nodes, 1 on tree, 1e+50 best solution, best possible 1.9152964 (0.98 seconds)\n",
            "Cbc0016I Integer solution of 2.4979494 found by strong branching after 6460 iterations and 21 nodes (2.00 seconds)\n",
            "Cbc0012I Integer solution of 2.4979494 found by heuristic after 6409 iterations and 20 nodes (2.00 seconds)\n",
            "Cbc0012I Integer solution of 2.495714 found by heuristic after 13169 iterations and 75 nodes (2.98 seconds)\n",
            "Cbc0012I Integer solution of 2.477126 found by heuristic after 20326 iterations and 112 nodes (4.36 seconds)\n",
            "Cbc0012I Integer solution of 2.4726466 found by heuristic after 21418 iterations and 122 nodes (4.66 seconds)\n",
            "Cbc0012I Integer solution of 2.4720342 found by heuristic after 23066 iterations and 132 nodes (4.93 seconds)\n",
            "Cbc0030I Thread 0 used 136 times,  waiting to start 0.0085279942, 3.906801 cpu time, 992 locks, 0.0080223083 locked, 0.00018429756 waiting for locks\n",
            "Cbc0030I Main thread 3.9500229 waiting for threads,  280 locks, 0.00012588501 locked, 1.0490417e-05 waiting for locks\n",
            "Cbc0001I Search completed - best objective 2.472034227249594, took 23331 iterations and 136 nodes (4.94 seconds)\n",
            "Cbc0032I Strong branching done 2266 times (83999 iterations), fathomed 28 nodes and fixed 13 variables\n",
            "Cbc0035I Maximum depth 15, 174 variables fixed on reduced cost\n",
            "Cuts at root node changed objective from 0.858399 to 1.9153\n",
            "Probing was tried 378 times and created 1981 cuts of which 0 were active after adding rounds of cuts (0.180 seconds)\n",
            "Gomory was tried 378 times and created 1791 cuts of which 0 were active after adding rounds of cuts (0.205 seconds)\n",
            "Knapsack was tried 378 times and created 725 cuts of which 0 were active after adding rounds of cuts (0.212 seconds)\n",
            "Clique was tried 100 times and created 0 cuts of which 0 were active after adding rounds of cuts (0.004 seconds)\n",
            "MixedIntegerRounding2 was tried 100 times and created 28 cuts of which 0 were active after adding rounds of cuts (0.092 seconds)\n",
            "FlowCover was tried 100 times and created 22 cuts of which 0 were active after adding rounds of cuts (0.021 seconds)\n",
            "TwoMirCuts was tried 378 times and created 1793 cuts of which 0 were active after adding rounds of cuts (0.220 seconds)\n",
            "ZeroHalf was tried 2 times and created 2 cuts of which 0 were active after adding rounds of cuts (0.001 seconds)\n",
            "ImplicationCuts was tried 221 times and created 1 cuts of which 0 were active after adding rounds of cuts (0.002 seconds)\n",
            "\n",
            "Result - Optimal solution found\n",
            "\n",
            "Objective value:                2.47203423\n",
            "Enumerated nodes:               136\n",
            "Total iterations:               23331\n",
            "Time (CPU seconds):             4.89\n",
            "Time (Wallclock seconds):       4.96\n",
            "\n",
            "Total time (CPU seconds):       4.89   (Wallclock seconds):       4.96\n",
            "\n",
            "[ 4.9s ] Found solution during preprocessing. Exiting.\n",
            "Objective value at global solution:  2.472e+00\n",
            "Solution file written to: /tmp/neos-20221/kestrel.octsol\n",
            "\n",
            "Time spent on:\n",
            "-------------------------------------------\n",
            "          OSICBC Solver:       4.957s\n",
            " Feasibility Tightening:       0.004s\n",
            "-------------------------------------------\n",
            "For more information, visit: https://docs.octeract.com/\n",
            "\n",
            "\n",
            "Configuration Suggestions\n",
            "-------------------------\n",
            "1)\tAdjusting the MILP LB timeout may help with the Least Lower Bound calculations.\n",
            "\tFor more information, visit: https://docs.octeract.com/kb1002\n",
            "\n",
            "2)\tOSICBC was used to solve LB problems.\n",
            "\tSee the MILP_SOLVER option to use a different solver for the relaxation.\n",
            "\tFor more information, visit: https://docs.octeract.com/so1157-milp_solver\n",
            "Solved_To_Global_Optimality\n"
          ]
        }
      ]
    },
    {
      "cell_type": "code",
      "source": [],
      "metadata": {
        "id": "oiETfJOTLuMZ"
      },
      "execution_count": null,
      "outputs": []
    }
  ]
}