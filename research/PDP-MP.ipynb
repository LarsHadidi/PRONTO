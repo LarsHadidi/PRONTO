{
  "nbformat": 4,
  "nbformat_minor": 0,
  "metadata": {
    "colab": {
      "provenance": []
    },
    "kernelspec": {
      "name": "python3",
      "display_name": "Python 3"
    },
    "language_info": {
      "name": "python"
    },
    "widgets": {
      "application/vnd.jupyter.widget-state+json": {
        "524ae43c2b884099bb90b853974392fe": {
          "model_module": "@jupyter-widgets/controls",
          "model_name": "VBoxModel",
          "model_module_version": "1.5.0",
          "state": {
            "_dom_classes": [],
            "_model_module": "@jupyter-widgets/controls",
            "_model_module_version": "1.5.0",
            "_model_name": "VBoxModel",
            "_view_count": null,
            "_view_module": "@jupyter-widgets/controls",
            "_view_module_version": "1.5.0",
            "_view_name": "VBoxView",
            "box_style": "",
            "children": [
              "IPY_MODEL_15154229bfbc4623ae17b2221dbc475f",
              "IPY_MODEL_9aca5ed4d33f4f0f8e7fda256cdc74de",
              "IPY_MODEL_0558514d936e4b18b5a235cc02148970"
            ],
            "layout": "IPY_MODEL_19126131351e41f88cdafd42d1f31994"
          }
        },
        "15154229bfbc4623ae17b2221dbc475f": {
          "model_module": "@jupyter-widgets/controls",
          "model_name": "HBoxModel",
          "model_module_version": "1.5.0",
          "state": {
            "_dom_classes": [],
            "_model_module": "@jupyter-widgets/controls",
            "_model_module_version": "1.5.0",
            "_model_name": "HBoxModel",
            "_view_count": null,
            "_view_module": "@jupyter-widgets/controls",
            "_view_module_version": "1.5.0",
            "_view_name": "HBoxView",
            "box_style": "",
            "children": [
              "IPY_MODEL_19e47c2272a9452ba3260a2f01a58c3c",
              "IPY_MODEL_d86e4844a4be474d87fc5e70b0d47055"
            ],
            "layout": "IPY_MODEL_0df1f81e8e5b46819769067c521c4f39"
          }
        },
        "9aca5ed4d33f4f0f8e7fda256cdc74de": {
          "model_module": "@jupyter-widgets/output",
          "model_name": "OutputModel",
          "model_module_version": "1.0.0",
          "state": {
            "_dom_classes": [],
            "_model_module": "@jupyter-widgets/output",
            "_model_module_version": "1.0.0",
            "_model_name": "OutputModel",
            "_view_count": null,
            "_view_module": "@jupyter-widgets/output",
            "_view_module_version": "1.0.0",
            "_view_name": "OutputView",
            "layout": "IPY_MODEL_75615dfc32d547f2ae8a1168ec96110b",
            "msg_id": "",
            "outputs": [
              {
                "output_type": "stream",
                "name": "stdout",
                "text": [
                  "License license at /tmp/tmpdl2eu6w4.lic.\n"
                ]
              }
            ]
          }
        },
        "0558514d936e4b18b5a235cc02148970": {
          "model_module": "@jupyter-widgets/output",
          "model_name": "OutputModel",
          "model_module_version": "1.0.0",
          "state": {
            "_dom_classes": [],
            "_model_module": "@jupyter-widgets/output",
            "_model_module_version": "1.0.0",
            "_model_name": "OutputModel",
            "_view_count": null,
            "_view_module": "@jupyter-widgets/output",
            "_view_module_version": "1.0.0",
            "_view_name": "OutputView",
            "layout": "IPY_MODEL_35a941f0dd974f7980be7cb7074ad8f8",
            "msg_id": "",
            "outputs": [
              {
                "output_type": "stream",
                "name": "stdout",
                "text": [
                  "\n",
                  "AMPL Version 20221013 (Linux-5.4.0-1091-azure, 64-bit)\n",
                  "Licensed to Default AMPL Community Edition License for the AMPL Model Colaboratory.\n",
                  "Temporary license expires 20240131.\n",
                  "Using license file \"/tmp/tmpdl2eu6w4.lic\".\n",
                  "\n"
                ]
              }
            ]
          }
        },
        "19126131351e41f88cdafd42d1f31994": {
          "model_module": "@jupyter-widgets/base",
          "model_name": "LayoutModel",
          "model_module_version": "1.2.0",
          "state": {
            "_model_module": "@jupyter-widgets/base",
            "_model_module_version": "1.2.0",
            "_model_name": "LayoutModel",
            "_view_count": null,
            "_view_module": "@jupyter-widgets/base",
            "_view_module_version": "1.2.0",
            "_view_name": "LayoutView",
            "align_content": null,
            "align_items": null,
            "align_self": null,
            "border": null,
            "bottom": null,
            "display": null,
            "flex": null,
            "flex_flow": null,
            "grid_area": null,
            "grid_auto_columns": null,
            "grid_auto_flow": null,
            "grid_auto_rows": null,
            "grid_column": null,
            "grid_gap": null,
            "grid_row": null,
            "grid_template_areas": null,
            "grid_template_columns": null,
            "grid_template_rows": null,
            "height": null,
            "justify_content": null,
            "justify_items": null,
            "left": null,
            "margin": null,
            "max_height": null,
            "max_width": null,
            "min_height": null,
            "min_width": null,
            "object_fit": null,
            "object_position": null,
            "order": null,
            "overflow": null,
            "overflow_x": null,
            "overflow_y": null,
            "padding": null,
            "right": null,
            "top": null,
            "visibility": null,
            "width": null
          }
        },
        "19e47c2272a9452ba3260a2f01a58c3c": {
          "model_module": "@jupyter-widgets/controls",
          "model_name": "ButtonModel",
          "model_module_version": "1.5.0",
          "state": {
            "_dom_classes": [],
            "_model_module": "@jupyter-widgets/controls",
            "_model_module_version": "1.5.0",
            "_model_name": "ButtonModel",
            "_view_count": null,
            "_view_module": "@jupyter-widgets/controls",
            "_view_module_version": "1.5.0",
            "_view_name": "ButtonView",
            "button_style": "",
            "description": "Use demo license",
            "disabled": false,
            "icon": "",
            "layout": "IPY_MODEL_7a5c36507fde4dcfb217f7ca850e7c9d",
            "style": "IPY_MODEL_6acbab5eea7b48e590086dec71ea4a72",
            "tooltip": ""
          }
        },
        "d86e4844a4be474d87fc5e70b0d47055": {
          "model_module": "@jupyter-widgets/controls",
          "model_name": "TextModel",
          "model_module_version": "1.5.0",
          "state": {
            "_dom_classes": [],
            "_model_module": "@jupyter-widgets/controls",
            "_model_module_version": "1.5.0",
            "_model_name": "TextModel",
            "_view_count": null,
            "_view_module": "@jupyter-widgets/controls",
            "_view_module_version": "1.5.0",
            "_view_name": "TextView",
            "continuous_update": true,
            "description": "UUID:",
            "description_tooltip": null,
            "disabled": false,
            "layout": "IPY_MODEL_906b50e83af74893af7b7ae7bdb37d47",
            "placeholder": "​",
            "style": "IPY_MODEL_15dc75a94c0946dc8910bc52d3f2e1c6",
            "value": ""
          }
        },
        "0df1f81e8e5b46819769067c521c4f39": {
          "model_module": "@jupyter-widgets/base",
          "model_name": "LayoutModel",
          "model_module_version": "1.2.0",
          "state": {
            "_model_module": "@jupyter-widgets/base",
            "_model_module_version": "1.2.0",
            "_model_name": "LayoutModel",
            "_view_count": null,
            "_view_module": "@jupyter-widgets/base",
            "_view_module_version": "1.2.0",
            "_view_name": "LayoutView",
            "align_content": null,
            "align_items": null,
            "align_self": null,
            "border": null,
            "bottom": null,
            "display": null,
            "flex": null,
            "flex_flow": null,
            "grid_area": null,
            "grid_auto_columns": null,
            "grid_auto_flow": null,
            "grid_auto_rows": null,
            "grid_column": null,
            "grid_gap": null,
            "grid_row": null,
            "grid_template_areas": null,
            "grid_template_columns": null,
            "grid_template_rows": null,
            "height": null,
            "justify_content": null,
            "justify_items": null,
            "left": null,
            "margin": null,
            "max_height": null,
            "max_width": null,
            "min_height": null,
            "min_width": null,
            "object_fit": null,
            "object_position": null,
            "order": null,
            "overflow": null,
            "overflow_x": null,
            "overflow_y": null,
            "padding": null,
            "right": null,
            "top": null,
            "visibility": null,
            "width": null
          }
        },
        "7a5c36507fde4dcfb217f7ca850e7c9d": {
          "model_module": "@jupyter-widgets/base",
          "model_name": "LayoutModel",
          "model_module_version": "1.2.0",
          "state": {
            "_model_module": "@jupyter-widgets/base",
            "_model_module_version": "1.2.0",
            "_model_name": "LayoutModel",
            "_view_count": null,
            "_view_module": "@jupyter-widgets/base",
            "_view_module_version": "1.2.0",
            "_view_name": "LayoutView",
            "align_content": null,
            "align_items": null,
            "align_self": null,
            "border": null,
            "bottom": null,
            "display": null,
            "flex": null,
            "flex_flow": null,
            "grid_area": null,
            "grid_auto_columns": null,
            "grid_auto_flow": null,
            "grid_auto_rows": null,
            "grid_column": null,
            "grid_gap": null,
            "grid_row": null,
            "grid_template_areas": null,
            "grid_template_columns": null,
            "grid_template_rows": null,
            "height": null,
            "justify_content": null,
            "justify_items": null,
            "left": null,
            "margin": null,
            "max_height": null,
            "max_width": null,
            "min_height": null,
            "min_width": null,
            "object_fit": null,
            "object_position": null,
            "order": null,
            "overflow": null,
            "overflow_x": null,
            "overflow_y": null,
            "padding": null,
            "right": null,
            "top": null,
            "visibility": null,
            "width": null
          }
        },
        "6acbab5eea7b48e590086dec71ea4a72": {
          "model_module": "@jupyter-widgets/controls",
          "model_name": "ButtonStyleModel",
          "model_module_version": "1.5.0",
          "state": {
            "_model_module": "@jupyter-widgets/controls",
            "_model_module_version": "1.5.0",
            "_model_name": "ButtonStyleModel",
            "_view_count": null,
            "_view_module": "@jupyter-widgets/base",
            "_view_module_version": "1.2.0",
            "_view_name": "StyleView",
            "button_color": null,
            "font_weight": ""
          }
        },
        "906b50e83af74893af7b7ae7bdb37d47": {
          "model_module": "@jupyter-widgets/base",
          "model_name": "LayoutModel",
          "model_module_version": "1.2.0",
          "state": {
            "_model_module": "@jupyter-widgets/base",
            "_model_module_version": "1.2.0",
            "_model_name": "LayoutModel",
            "_view_count": null,
            "_view_module": "@jupyter-widgets/base",
            "_view_module_version": "1.2.0",
            "_view_name": "LayoutView",
            "align_content": null,
            "align_items": null,
            "align_self": null,
            "border": null,
            "bottom": null,
            "display": null,
            "flex": null,
            "flex_flow": null,
            "grid_area": null,
            "grid_auto_columns": null,
            "grid_auto_flow": null,
            "grid_auto_rows": null,
            "grid_column": null,
            "grid_gap": null,
            "grid_row": null,
            "grid_template_areas": null,
            "grid_template_columns": null,
            "grid_template_rows": null,
            "height": null,
            "justify_content": null,
            "justify_items": null,
            "left": null,
            "margin": null,
            "max_height": null,
            "max_width": null,
            "min_height": null,
            "min_width": null,
            "object_fit": null,
            "object_position": null,
            "order": null,
            "overflow": null,
            "overflow_x": null,
            "overflow_y": null,
            "padding": null,
            "right": null,
            "top": null,
            "visibility": null,
            "width": null
          }
        },
        "15dc75a94c0946dc8910bc52d3f2e1c6": {
          "model_module": "@jupyter-widgets/controls",
          "model_name": "DescriptionStyleModel",
          "model_module_version": "1.5.0",
          "state": {
            "_model_module": "@jupyter-widgets/controls",
            "_model_module_version": "1.5.0",
            "_model_name": "DescriptionStyleModel",
            "_view_count": null,
            "_view_module": "@jupyter-widgets/base",
            "_view_module_version": "1.2.0",
            "_view_name": "StyleView",
            "description_width": ""
          }
        },
        "75615dfc32d547f2ae8a1168ec96110b": {
          "model_module": "@jupyter-widgets/base",
          "model_name": "LayoutModel",
          "model_module_version": "1.2.0",
          "state": {
            "_model_module": "@jupyter-widgets/base",
            "_model_module_version": "1.2.0",
            "_model_name": "LayoutModel",
            "_view_count": null,
            "_view_module": "@jupyter-widgets/base",
            "_view_module_version": "1.2.0",
            "_view_name": "LayoutView",
            "align_content": null,
            "align_items": null,
            "align_self": null,
            "border": null,
            "bottom": null,
            "display": null,
            "flex": null,
            "flex_flow": null,
            "grid_area": null,
            "grid_auto_columns": null,
            "grid_auto_flow": null,
            "grid_auto_rows": null,
            "grid_column": null,
            "grid_gap": null,
            "grid_row": null,
            "grid_template_areas": null,
            "grid_template_columns": null,
            "grid_template_rows": null,
            "height": null,
            "justify_content": null,
            "justify_items": null,
            "left": null,
            "margin": null,
            "max_height": null,
            "max_width": null,
            "min_height": null,
            "min_width": null,
            "object_fit": null,
            "object_position": null,
            "order": null,
            "overflow": null,
            "overflow_x": null,
            "overflow_y": null,
            "padding": null,
            "right": null,
            "top": null,
            "visibility": null,
            "width": null
          }
        },
        "35a941f0dd974f7980be7cb7074ad8f8": {
          "model_module": "@jupyter-widgets/base",
          "model_name": "LayoutModel",
          "model_module_version": "1.2.0",
          "state": {
            "_model_module": "@jupyter-widgets/base",
            "_model_module_version": "1.2.0",
            "_model_name": "LayoutModel",
            "_view_count": null,
            "_view_module": "@jupyter-widgets/base",
            "_view_module_version": "1.2.0",
            "_view_name": "LayoutView",
            "align_content": null,
            "align_items": null,
            "align_self": null,
            "border": null,
            "bottom": null,
            "display": null,
            "flex": null,
            "flex_flow": null,
            "grid_area": null,
            "grid_auto_columns": null,
            "grid_auto_flow": null,
            "grid_auto_rows": null,
            "grid_column": null,
            "grid_gap": null,
            "grid_row": null,
            "grid_template_areas": null,
            "grid_template_columns": null,
            "grid_template_rows": null,
            "height": null,
            "justify_content": null,
            "justify_items": null,
            "left": null,
            "margin": null,
            "max_height": null,
            "max_width": null,
            "min_height": null,
            "min_width": null,
            "object_fit": null,
            "object_position": null,
            "order": null,
            "overflow": null,
            "overflow_x": null,
            "overflow_y": null,
            "padding": null,
            "right": null,
            "top": null,
            "visibility": null,
            "width": null
          }
        },
        "7b567afe8f7b47028f6f191b221f2e32": {
          "model_module": "@jupyter-widgets/controls",
          "model_name": "BoxModel",
          "model_module_version": "1.5.0",
          "state": {
            "_dom_classes": [],
            "_model_module": "@jupyter-widgets/controls",
            "_model_module_version": "1.5.0",
            "_model_name": "BoxModel",
            "_view_count": null,
            "_view_module": "@jupyter-widgets/controls",
            "_view_module_version": "1.5.0",
            "_view_name": "BoxView",
            "box_style": "",
            "children": [
              "IPY_MODEL_42f985e8b31046bd8a716f8f8bebfc12",
              "IPY_MODEL_3cba9dc50146400193819aadaff3de85",
              "IPY_MODEL_51ea8172c1f0458898f94933030373d8",
              "IPY_MODEL_0b1eb02569a84192abe6200c13a18815"
            ],
            "layout": "IPY_MODEL_8a2366d4cd904dc190341ad5629c8cff"
          }
        },
        "42f985e8b31046bd8a716f8f8bebfc12": {
          "model_module": "@jupyter-widgets/controls",
          "model_name": "IntTextModel",
          "model_module_version": "1.5.0",
          "state": {
            "_dom_classes": [],
            "_model_module": "@jupyter-widgets/controls",
            "_model_module_version": "1.5.0",
            "_model_name": "IntTextModel",
            "_view_count": null,
            "_view_module": "@jupyter-widgets/controls",
            "_view_module_version": "1.5.0",
            "_view_name": "IntTextView",
            "continuous_update": false,
            "description": "Size",
            "description_tooltip": null,
            "disabled": false,
            "layout": "IPY_MODEL_a7191a00c4034bcfa8b8d4d6cec6d782",
            "step": 1,
            "style": "IPY_MODEL_7a2ad3c3f3cc4a14a23bf0703225c78f",
            "value": 9
          }
        },
        "3cba9dc50146400193819aadaff3de85": {
          "model_module": "@jupyter-widgets/controls",
          "model_name": "IntTextModel",
          "model_module_version": "1.5.0",
          "state": {
            "_dom_classes": [],
            "_model_module": "@jupyter-widgets/controls",
            "_model_module_version": "1.5.0",
            "_model_name": "IntTextModel",
            "_view_count": null,
            "_view_module": "@jupyter-widgets/controls",
            "_view_module_version": "1.5.0",
            "_view_name": "IntTextView",
            "continuous_update": false,
            "description": "Clusters",
            "description_tooltip": null,
            "disabled": false,
            "layout": "IPY_MODEL_e060529a8abf47d0be6f5ef9bca695c2",
            "step": 1,
            "style": "IPY_MODEL_47d0cb00df17470d9f9d374d885759e2",
            "value": 1
          }
        },
        "51ea8172c1f0458898f94933030373d8": {
          "model_module": "@jupyter-widgets/controls",
          "model_name": "FloatTextModel",
          "model_module_version": "1.5.0",
          "state": {
            "_dom_classes": [],
            "_model_module": "@jupyter-widgets/controls",
            "_model_module_version": "1.5.0",
            "_model_name": "FloatTextModel",
            "_view_count": null,
            "_view_module": "@jupyter-widgets/controls",
            "_view_module_version": "1.5.0",
            "_view_name": "FloatTextView",
            "continuous_update": false,
            "description": "Deviation",
            "description_tooltip": null,
            "disabled": false,
            "layout": "IPY_MODEL_4577c5604a7a496c9d18a02a0601d4e3",
            "step": null,
            "style": "IPY_MODEL_0f1e2509bd8d4df6b9557a402b3c67ed",
            "value": 0.5
          }
        },
        "0b1eb02569a84192abe6200c13a18815": {
          "model_module": "@jupyter-widgets/controls",
          "model_name": "IntTextModel",
          "model_module_version": "1.5.0",
          "state": {
            "_dom_classes": [],
            "_model_module": "@jupyter-widgets/controls",
            "_model_module_version": "1.5.0",
            "_model_name": "IntTextModel",
            "_view_count": null,
            "_view_module": "@jupyter-widgets/controls",
            "_view_module_version": "1.5.0",
            "_view_name": "IntTextView",
            "continuous_update": false,
            "description": "Scaling",
            "description_tooltip": null,
            "disabled": false,
            "layout": "IPY_MODEL_6027d964926148d2b23d60f8e9981183",
            "step": 1,
            "style": "IPY_MODEL_7a7e769e08ee4db68acf4154444bda29",
            "value": 1
          }
        },
        "8a2366d4cd904dc190341ad5629c8cff": {
          "model_module": "@jupyter-widgets/base",
          "model_name": "LayoutModel",
          "model_module_version": "1.2.0",
          "state": {
            "_model_module": "@jupyter-widgets/base",
            "_model_module_version": "1.2.0",
            "_model_name": "LayoutModel",
            "_view_count": null,
            "_view_module": "@jupyter-widgets/base",
            "_view_module_version": "1.2.0",
            "_view_name": "LayoutView",
            "align_content": null,
            "align_items": null,
            "align_self": null,
            "border": null,
            "bottom": null,
            "display": "flex",
            "flex": null,
            "flex_flow": "row",
            "grid_area": null,
            "grid_auto_columns": null,
            "grid_auto_flow": null,
            "grid_auto_rows": null,
            "grid_column": null,
            "grid_gap": null,
            "grid_row": null,
            "grid_template_areas": null,
            "grid_template_columns": null,
            "grid_template_rows": null,
            "height": null,
            "justify_content": null,
            "justify_items": null,
            "left": null,
            "margin": null,
            "max_height": null,
            "max_width": null,
            "min_height": null,
            "min_width": null,
            "object_fit": null,
            "object_position": null,
            "order": null,
            "overflow": null,
            "overflow_x": null,
            "overflow_y": null,
            "padding": null,
            "right": null,
            "top": null,
            "visibility": null,
            "width": null
          }
        },
        "a7191a00c4034bcfa8b8d4d6cec6d782": {
          "model_module": "@jupyter-widgets/base",
          "model_name": "LayoutModel",
          "model_module_version": "1.2.0",
          "state": {
            "_model_module": "@jupyter-widgets/base",
            "_model_module_version": "1.2.0",
            "_model_name": "LayoutModel",
            "_view_count": null,
            "_view_module": "@jupyter-widgets/base",
            "_view_module_version": "1.2.0",
            "_view_name": "LayoutView",
            "align_content": null,
            "align_items": null,
            "align_self": null,
            "border": null,
            "bottom": null,
            "display": null,
            "flex": null,
            "flex_flow": null,
            "grid_area": null,
            "grid_auto_columns": null,
            "grid_auto_flow": null,
            "grid_auto_rows": null,
            "grid_column": null,
            "grid_gap": null,
            "grid_row": null,
            "grid_template_areas": null,
            "grid_template_columns": null,
            "grid_template_rows": null,
            "height": null,
            "justify_content": null,
            "justify_items": null,
            "left": null,
            "margin": null,
            "max_height": null,
            "max_width": null,
            "min_height": null,
            "min_width": null,
            "object_fit": null,
            "object_position": null,
            "order": null,
            "overflow": null,
            "overflow_x": null,
            "overflow_y": null,
            "padding": null,
            "right": null,
            "top": null,
            "visibility": null,
            "width": null
          }
        },
        "7a2ad3c3f3cc4a14a23bf0703225c78f": {
          "model_module": "@jupyter-widgets/controls",
          "model_name": "DescriptionStyleModel",
          "model_module_version": "1.5.0",
          "state": {
            "_model_module": "@jupyter-widgets/controls",
            "_model_module_version": "1.5.0",
            "_model_name": "DescriptionStyleModel",
            "_view_count": null,
            "_view_module": "@jupyter-widgets/base",
            "_view_module_version": "1.2.0",
            "_view_name": "StyleView",
            "description_width": ""
          }
        },
        "e060529a8abf47d0be6f5ef9bca695c2": {
          "model_module": "@jupyter-widgets/base",
          "model_name": "LayoutModel",
          "model_module_version": "1.2.0",
          "state": {
            "_model_module": "@jupyter-widgets/base",
            "_model_module_version": "1.2.0",
            "_model_name": "LayoutModel",
            "_view_count": null,
            "_view_module": "@jupyter-widgets/base",
            "_view_module_version": "1.2.0",
            "_view_name": "LayoutView",
            "align_content": null,
            "align_items": null,
            "align_self": null,
            "border": null,
            "bottom": null,
            "display": null,
            "flex": null,
            "flex_flow": null,
            "grid_area": null,
            "grid_auto_columns": null,
            "grid_auto_flow": null,
            "grid_auto_rows": null,
            "grid_column": null,
            "grid_gap": null,
            "grid_row": null,
            "grid_template_areas": null,
            "grid_template_columns": null,
            "grid_template_rows": null,
            "height": null,
            "justify_content": null,
            "justify_items": null,
            "left": null,
            "margin": null,
            "max_height": null,
            "max_width": null,
            "min_height": null,
            "min_width": null,
            "object_fit": null,
            "object_position": null,
            "order": null,
            "overflow": null,
            "overflow_x": null,
            "overflow_y": null,
            "padding": null,
            "right": null,
            "top": null,
            "visibility": null,
            "width": null
          }
        },
        "47d0cb00df17470d9f9d374d885759e2": {
          "model_module": "@jupyter-widgets/controls",
          "model_name": "DescriptionStyleModel",
          "model_module_version": "1.5.0",
          "state": {
            "_model_module": "@jupyter-widgets/controls",
            "_model_module_version": "1.5.0",
            "_model_name": "DescriptionStyleModel",
            "_view_count": null,
            "_view_module": "@jupyter-widgets/base",
            "_view_module_version": "1.2.0",
            "_view_name": "StyleView",
            "description_width": ""
          }
        },
        "4577c5604a7a496c9d18a02a0601d4e3": {
          "model_module": "@jupyter-widgets/base",
          "model_name": "LayoutModel",
          "model_module_version": "1.2.0",
          "state": {
            "_model_module": "@jupyter-widgets/base",
            "_model_module_version": "1.2.0",
            "_model_name": "LayoutModel",
            "_view_count": null,
            "_view_module": "@jupyter-widgets/base",
            "_view_module_version": "1.2.0",
            "_view_name": "LayoutView",
            "align_content": null,
            "align_items": null,
            "align_self": null,
            "border": null,
            "bottom": null,
            "display": null,
            "flex": null,
            "flex_flow": null,
            "grid_area": null,
            "grid_auto_columns": null,
            "grid_auto_flow": null,
            "grid_auto_rows": null,
            "grid_column": null,
            "grid_gap": null,
            "grid_row": null,
            "grid_template_areas": null,
            "grid_template_columns": null,
            "grid_template_rows": null,
            "height": null,
            "justify_content": null,
            "justify_items": null,
            "left": null,
            "margin": null,
            "max_height": null,
            "max_width": null,
            "min_height": null,
            "min_width": null,
            "object_fit": null,
            "object_position": null,
            "order": null,
            "overflow": null,
            "overflow_x": null,
            "overflow_y": null,
            "padding": null,
            "right": null,
            "top": null,
            "visibility": null,
            "width": null
          }
        },
        "0f1e2509bd8d4df6b9557a402b3c67ed": {
          "model_module": "@jupyter-widgets/controls",
          "model_name": "DescriptionStyleModel",
          "model_module_version": "1.5.0",
          "state": {
            "_model_module": "@jupyter-widgets/controls",
            "_model_module_version": "1.5.0",
            "_model_name": "DescriptionStyleModel",
            "_view_count": null,
            "_view_module": "@jupyter-widgets/base",
            "_view_module_version": "1.2.0",
            "_view_name": "StyleView",
            "description_width": ""
          }
        },
        "6027d964926148d2b23d60f8e9981183": {
          "model_module": "@jupyter-widgets/base",
          "model_name": "LayoutModel",
          "model_module_version": "1.2.0",
          "state": {
            "_model_module": "@jupyter-widgets/base",
            "_model_module_version": "1.2.0",
            "_model_name": "LayoutModel",
            "_view_count": null,
            "_view_module": "@jupyter-widgets/base",
            "_view_module_version": "1.2.0",
            "_view_name": "LayoutView",
            "align_content": null,
            "align_items": null,
            "align_self": null,
            "border": null,
            "bottom": null,
            "display": null,
            "flex": null,
            "flex_flow": null,
            "grid_area": null,
            "grid_auto_columns": null,
            "grid_auto_flow": null,
            "grid_auto_rows": null,
            "grid_column": null,
            "grid_gap": null,
            "grid_row": null,
            "grid_template_areas": null,
            "grid_template_columns": null,
            "grid_template_rows": null,
            "height": null,
            "justify_content": null,
            "justify_items": null,
            "left": null,
            "margin": null,
            "max_height": null,
            "max_width": null,
            "min_height": null,
            "min_width": null,
            "object_fit": null,
            "object_position": null,
            "order": null,
            "overflow": null,
            "overflow_x": null,
            "overflow_y": null,
            "padding": null,
            "right": null,
            "top": null,
            "visibility": null,
            "width": null
          }
        },
        "7a7e769e08ee4db68acf4154444bda29": {
          "model_module": "@jupyter-widgets/controls",
          "model_name": "DescriptionStyleModel",
          "model_module_version": "1.5.0",
          "state": {
            "_model_module": "@jupyter-widgets/controls",
            "_model_module_version": "1.5.0",
            "_model_name": "DescriptionStyleModel",
            "_view_count": null,
            "_view_module": "@jupyter-widgets/base",
            "_view_module_version": "1.2.0",
            "_view_name": "StyleView",
            "description_width": ""
          }
        }
      }
    }
  },
  "cells": [
    {
      "cell_type": "markdown",
      "source": [
        "# Progressive Dinner Party Mathematical Program"
      ],
      "metadata": {
        "id": "HWTI2q7SjtOO"
      }
    },
    {
      "cell_type": "markdown",
      "source": [
        "# Setup"
      ],
      "metadata": {
        "id": "xJTzYuoQIXQU"
      }
    },
    {
      "cell_type": "code",
      "execution_count": 3,
      "metadata": {
        "id": "kZHLv0z2jj6S"
      },
      "outputs": [],
      "source": [
        "!pip install -q amplpy"
      ]
    },
    {
      "cell_type": "code",
      "source": [
        "# Google Colab & Kaggle integration\n",
        "MODULES=['ampl', 'gokestrel']\n",
        "from amplpy import tools\n",
        "ampl = tools.ampl_notebook(modules=MODULES, globals_=globals()) # instantiate AMPL object and register magics"
      ],
      "metadata": {
        "id": "7ZwbUK8_j3h0",
        "outputId": "edb18215-89e9-4afa-d20f-17c27a029ecb",
        "colab": {
          "base_uri": "https://localhost:8080/",
          "height": 240,
          "referenced_widgets": [
            "524ae43c2b884099bb90b853974392fe",
            "15154229bfbc4623ae17b2221dbc475f",
            "9aca5ed4d33f4f0f8e7fda256cdc74de",
            "0558514d936e4b18b5a235cc02148970",
            "19126131351e41f88cdafd42d1f31994",
            "19e47c2272a9452ba3260a2f01a58c3c",
            "d86e4844a4be474d87fc5e70b0d47055",
            "0df1f81e8e5b46819769067c521c4f39",
            "7a5c36507fde4dcfb217f7ca850e7c9d",
            "6acbab5eea7b48e590086dec71ea4a72",
            "906b50e83af74893af7b7ae7bdb37d47",
            "15dc75a94c0946dc8910bc52d3f2e1c6",
            "75615dfc32d547f2ae8a1168ec96110b",
            "35a941f0dd974f7980be7cb7074ad8f8"
          ]
        }
      },
      "execution_count": 4,
      "outputs": [
        {
          "output_type": "stream",
          "name": "stdout",
          "text": [
            "Already installed. Skipping. Set reinstall=True if you want to reinstall.\n",
            "Activating default license.\n",
            "Default license activated.\n",
            "AMPL License:\n"
          ]
        },
        {
          "output_type": "display_data",
          "data": {
            "text/plain": [
              "VBox(children=(HBox(children=(Button(description='Use demo license', style=ButtonStyle()), Text(value='', desc…"
            ],
            "application/vnd.jupyter.widget-view+json": {
              "version_major": 2,
              "version_minor": 0,
              "model_id": "524ae43c2b884099bb90b853974392fe"
            }
          },
          "metadata": {}
        }
      ]
    },
    {
      "cell_type": "markdown",
      "source": [
        "# Model"
      ],
      "metadata": {
        "id": "n_C0pimuIVsF"
      }
    },
    {
      "cell_type": "code",
      "source": [
        "%%writefile pdp.mod\n",
        "problem progressive_dinner_party;\n",
        "#--------------------------------\n",
        "\n",
        "set N;\n",
        "param C{N,N};\n",
        "var s{N} binary;\n",
        "var m{N} binary;\n",
        "var d{N} binary;\n",
        "var e{N,N} binary;\n",
        "\n",
        "minimize objective:\n",
        "\tsum {i in N, j in N} C[i,j]*e[i,j];\n",
        "\n",
        "subject to classes {i in N}:\n",
        "\ts[i] + m[i] + d[i] = 1;\n",
        "\t\n",
        "subject to inflow_s {i in N}:\n",
        "\tsum {j in N} s[i] * e[j,i] = 0;\n",
        "\t\n",
        "subject to outflow_s {i in N}:\n",
        "\tsum {j in N} s[i] * e[i,j] = 3 * s[i];\n",
        "\t\n",
        "subject to inflow_m {i in N}:\n",
        "\tsum {j in N} m[i] * e[j,i] = 3 * m[i];\n",
        "\t\n",
        "subject to outflow_m {i in N}:\n",
        "\tsum {j in N} m[i] * e[i,j] = 3 * m[i];\n",
        "\t\n",
        "subject to inflow_d {i in N}:\n",
        "\tsum {j in N} d[i] * e[j,i] = 3 * d[i];\n",
        "\t\n",
        "subject to outflow_d {i in N}:\n",
        "\tsum {j in N} d[i] * e[i,j] = 0;\n",
        "\t\n",
        "subject to shortcut {i in N, j in N}:\n",
        "\ts[i] * e[i,j] + d[j] <= 1;\n",
        "\t\n",
        "subject to equipartition:\n",
        "\t3 * sum {i in N} m[i] = card(N);"
      ],
      "metadata": {
        "id": "pgixlDm8G1xj",
        "outputId": "036fcaac-3696-4512-c58a-ec9f64b5c5c7",
        "colab": {
          "base_uri": "https://localhost:8080/"
        }
      },
      "execution_count": 6,
      "outputs": [
        {
          "output_type": "stream",
          "name": "stdout",
          "text": [
            "Writing pdp.mod\n"
          ]
        }
      ]
    },
    {
      "cell_type": "markdown",
      "source": [
        "# Data"
      ],
      "metadata": {
        "id": "XW2AURgzIavl"
      }
    },
    {
      "cell_type": "code",
      "source": [
        "import itertools\n",
        "import pickle\n",
        "import numpy as np\n",
        "import networkx as nx\n",
        "import matplotlib.pyplot as plt\n",
        "import ipywidgets as widgets"
      ],
      "metadata": {
        "id": "TyrD38fDITdu"
      },
      "execution_count": 7,
      "outputs": []
    },
    {
      "cell_type": "code",
      "source": [
        "w_size = widgets.IntText(description='Size', orientation='horizontal')\n",
        "w_cluster = widgets.IntText(description='Clusters', orientation='horizontal')\n",
        "w_deviation = widgets.FloatText(description='Deviation', orientation='horizontal')\n",
        "w_scale = widgets.IntText(description='Scaling', orientation='horizontal')\n",
        "display(widgets.Box([w_size, w_cluster,w_deviation, w_scale], layout=widgets.Layout(display='flex', flex_flow='row')))"
      ],
      "metadata": {
        "id": "ZbMtrzssIR8r",
        "outputId": "28cbfd70-6956-4640-ea63-18b886381e41",
        "colab": {
          "base_uri": "https://localhost:8080/",
          "height": 49,
          "referenced_widgets": [
            "7b567afe8f7b47028f6f191b221f2e32",
            "42f985e8b31046bd8a716f8f8bebfc12",
            "3cba9dc50146400193819aadaff3de85",
            "51ea8172c1f0458898f94933030373d8",
            "0b1eb02569a84192abe6200c13a18815",
            "8a2366d4cd904dc190341ad5629c8cff",
            "a7191a00c4034bcfa8b8d4d6cec6d782",
            "7a2ad3c3f3cc4a14a23bf0703225c78f",
            "e060529a8abf47d0be6f5ef9bca695c2",
            "47d0cb00df17470d9f9d374d885759e2",
            "4577c5604a7a496c9d18a02a0601d4e3",
            "0f1e2509bd8d4df6b9557a402b3c67ed",
            "6027d964926148d2b23d60f8e9981183",
            "7a7e769e08ee4db68acf4154444bda29"
          ]
        }
      },
      "execution_count": 13,
      "outputs": [
        {
          "output_type": "display_data",
          "data": {
            "text/plain": [
              "Box(children=(IntText(value=0, description='Size'), IntText(value=0, description='Clusters'), FloatText(value=…"
            ],
            "application/vnd.jupyter.widget-view+json": {
              "version_major": 2,
              "version_minor": 0,
              "model_id": "7b567afe8f7b47028f6f191b221f2e32"
            }
          },
          "metadata": {}
        }
      ]
    },
    {
      "cell_type": "code",
      "source": [
        "rng = np.random.default_rng()"
      ],
      "metadata": {
        "id": "zpTx_f_wJSDR"
      },
      "execution_count": 11,
      "outputs": []
    },
    {
      "cell_type": "code",
      "source": [
        "N = w_size.value\n",
        "K = w_cluster.value\n",
        "σ = w_deviation.value\n",
        "λ = w_scale.value\n",
        "\n",
        "assert N >= 9\n",
        "assert K > 0\n",
        "assert N % K == 0\n",
        "assert N % 3 == 0\n",
        "assert σ >= 0\n",
        "assert λ > 0\n",
        "\n",
        "points = {}\n",
        "centers = rng.uniform(-1, 1, (K, 2))\n",
        "for i in range(K):\n",
        "\tpoints[str(centers[i])] = λ * rng.normal(centers[i], σ, (N // K, 2))\n",
        "\n",
        "X = np.array(list(points.values())).reshape(N, 2)[:,0]\n",
        "Y = np.array(list(points.values())).reshape(N, 2)[:,1]\n",
        "\n",
        "G = nx.Graph()\n",
        "for i in range(N):\n",
        "\tG.add_node(i, x = X[i], y = Y[i])\n",
        "\n",
        "C = np.empty((N,N))\n",
        "for a,b in itertools.product(range(N), range(N)):\n",
        "\tdX = (X[b]-X[a]) * (X[b]-X[a])\n",
        "\tdY = (Y[b]-Y[a]) * (Y[b]-Y[a])\n",
        "\tC[a,b] = np.sqrt(dX + dY)\n",
        "\n",
        "with open(f'pdp.dat', 'w') as f:\n",
        "\tf.write('set N :=')\n",
        "\tfor n in range(1, N + 1):\n",
        "\t\tf.write(f' {n}')\n",
        "\tf.write(';\\n')\n",
        "\tf.write('param C :=\\n')\n",
        "\tfor i,j in itertools.product(range(N), range(N)):\n",
        "\t\tf.write(f'{i+1} {j+1} {C[i,j]}\\n')\n",
        "\tf.write(';')\n",
        "\n",
        "plt.scatter(X,Y)\n",
        "plt.show()"
      ],
      "metadata": {
        "id": "kQ8rb5aVHAZY",
        "outputId": "3b59009d-96fe-425b-c08e-0c7a85c8ce49",
        "colab": {
          "base_uri": "https://localhost:8080/",
          "height": 265
        }
      },
      "execution_count": 16,
      "outputs": [
        {
          "output_type": "display_data",
          "data": {
            "text/plain": [
              "<Figure size 432x288 with 1 Axes>"
            ],
            "image/png": "[encoded data removed]"
          },
          "metadata": {
            "needs_background": "light"
          }
        }
      ]
    },
    {
      "cell_type": "code",
      "source": [
        "%%writefile pdp.run\n",
        "option solver kestrel;\n",
        "option kestrel_options 'solver=cplex';\n",
        "model pdp.mod;\n",
        "data pdp.dat;\n",
        "solve;"
      ],
      "metadata": {
        "id": "QHdFO60JJ7c7",
        "outputId": "4ef8672b-b106-4e9b-c62f-6e8953bc03ab",
        "colab": {
          "base_uri": "https://localhost:8080/"
        }
      },
      "execution_count": 18,
      "outputs": [
        {
          "output_type": "stream",
          "name": "stdout",
          "text": [
            "Overwriting pdp.run\n"
          ]
        }
      ]
    },
    {
      "cell_type": "code",
      "source": [
        "%%ampl_eval\n",
        "commands pdp.run;"
      ],
      "metadata": {
        "id": "DHxCy67NLCtq",
        "outputId": "e18ed3b6-a602-44ee-a9b3-3d5cc69440a3",
        "colab": {
          "base_uri": "https://localhost:8080/"
        }
      },
      "execution_count": 19,
      "outputs": [
        {
          "output_type": "stream",
          "name": "stdout",
          "text": [
            "Cannot find \"kestrel\"\n"
          ]
        }
      ]
    },
    {
      "cell_type": "code",
      "source": [],
      "metadata": {
        "id": "oiETfJOTLuMZ"
      },
      "execution_count": null,
      "outputs": []
    }
  ]
}