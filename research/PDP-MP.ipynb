{
  "nbformat": 4,
  "nbformat_minor": 0,
  "metadata": {
    "colab": {
      "provenance": []
    },
    "kernelspec": {
      "name": "python3",
      "display_name": "Python 3"
    },
    "language_info": {
      "name": "python"
    },
    "widgets": {
      "application/vnd.jupyter.widget-state+json": {
        "fda48353f5cb4b8795f209a4cf6b543f": {
          "model_module": "@jupyter-widgets/controls",
          "model_name": "BoxModel",
          "model_module_version": "2.0.0",
          "state": {
            "_dom_classes": [],
            "_model_module": "@jupyter-widgets/controls",
            "_model_module_version": "2.0.0",
            "_model_name": "BoxModel",
            "_view_count": null,
            "_view_module": "@jupyter-widgets/controls",
            "_view_module_version": "2.0.0",
            "_view_name": "BoxView",
            "box_style": "",
            "children": [
              "IPY_MODEL_967de37ae95343198cbda37dbe74992f",
              "IPY_MODEL_2d34813f52cc499191605427bdbba163",
              "IPY_MODEL_c5fcdae4a38a45eaa1995e272744b939",
              "IPY_MODEL_2a2f9d318c9e42ce8087b8f50211a961"
            ],
            "layout": "IPY_MODEL_dd42f94946394f2a9850c4280f1de7fd",
            "tabbable": null,
            "tooltip": null
          }
        },
        "967de37ae95343198cbda37dbe74992f": {
          "model_module": "@jupyter-widgets/controls",
          "model_name": "IntTextModel",
          "model_module_version": "2.0.0",
          "state": {
            "_dom_classes": [],
            "_model_module": "@jupyter-widgets/controls",
            "_model_module_version": "2.0.0",
            "_model_name": "IntTextModel",
            "_view_count": null,
            "_view_module": "@jupyter-widgets/controls",
            "_view_module_version": "2.0.0",
            "_view_name": "IntTextView",
            "continuous_update": false,
            "description": "Size",
            "description_allow_html": false,
            "disabled": false,
            "layout": "IPY_MODEL_15a41128eaa240c0bf84c78c0439f9d4",
            "step": 1,
            "style": "IPY_MODEL_c958b9a12e1e4d21b7f9bc59b33fbd50",
            "tabbable": null,
            "tooltip": null,
            "value": 9
          }
        },
        "2d34813f52cc499191605427bdbba163": {
          "model_module": "@jupyter-widgets/controls",
          "model_name": "IntTextModel",
          "model_module_version": "2.0.0",
          "state": {
            "_dom_classes": [],
            "_model_module": "@jupyter-widgets/controls",
            "_model_module_version": "2.0.0",
            "_model_name": "IntTextModel",
            "_view_count": null,
            "_view_module": "@jupyter-widgets/controls",
            "_view_module_version": "2.0.0",
            "_view_name": "IntTextView",
            "continuous_update": false,
            "description": "Clusters",
            "description_allow_html": false,
            "disabled": false,
            "layout": "IPY_MODEL_69edcf9de3de4b53a6e6fb234d796025",
            "step": 1,
            "style": "IPY_MODEL_7333198af83d47d59ee6d5b046cb1335",
            "tabbable": null,
            "tooltip": null,
            "value": 1
          }
        },
        "c5fcdae4a38a45eaa1995e272744b939": {
          "model_module": "@jupyter-widgets/controls",
          "model_name": "FloatTextModel",
          "model_module_version": "2.0.0",
          "state": {
            "_dom_classes": [],
            "_model_module": "@jupyter-widgets/controls",
            "_model_module_version": "2.0.0",
            "_model_name": "FloatTextModel",
            "_view_count": null,
            "_view_module": "@jupyter-widgets/controls",
            "_view_module_version": "2.0.0",
            "_view_name": "FloatTextView",
            "continuous_update": false,
            "description": "Deviation",
            "description_allow_html": false,
            "disabled": false,
            "layout": "IPY_MODEL_93a62e78836542ddb18adb94a754e3d2",
            "step": null,
            "style": "IPY_MODEL_f49eb06bd47d4a3b85f6d13e2ae7573a",
            "tabbable": null,
            "tooltip": null,
            "value": 1
          }
        },
        "2a2f9d318c9e42ce8087b8f50211a961": {
          "model_module": "@jupyter-widgets/controls",
          "model_name": "IntTextModel",
          "model_module_version": "2.0.0",
          "state": {
            "_dom_classes": [],
            "_model_module": "@jupyter-widgets/controls",
            "_model_module_version": "2.0.0",
            "_model_name": "IntTextModel",
            "_view_count": null,
            "_view_module": "@jupyter-widgets/controls",
            "_view_module_version": "2.0.0",
            "_view_name": "IntTextView",
            "continuous_update": false,
            "description": "Scaling",
            "description_allow_html": false,
            "disabled": false,
            "layout": "IPY_MODEL_94c6b2a338d3489dac79d36f3efde3d9",
            "step": 1,
            "style": "IPY_MODEL_95c4cffaeecb471cbc1bc2e5ab9ef91c",
            "tabbable": null,
            "tooltip": null,
            "value": 1
          }
        },
        "dd42f94946394f2a9850c4280f1de7fd": {
          "model_module": "@jupyter-widgets/base",
          "model_name": "LayoutModel",
          "model_module_version": "2.0.0",
          "state": {
            "_model_module": "@jupyter-widgets/base",
            "_model_module_version": "2.0.0",
            "_model_name": "LayoutModel",
            "_view_count": null,
            "_view_module": "@jupyter-widgets/base",
            "_view_module_version": "2.0.0",
            "_view_name": "LayoutView",
            "align_content": null,
            "align_items": null,
            "align_self": null,
            "border_bottom": null,
            "border_left": null,
            "border_right": null,
            "border_top": null,
            "bottom": null,
            "display": "flex",
            "flex": null,
            "flex_flow": "row",
            "grid_area": null,
            "grid_auto_columns": null,
            "grid_auto_flow": null,
            "grid_auto_rows": null,
            "grid_column": null,
            "grid_gap": null,
            "grid_row": null,
            "grid_template_areas": null,
            "grid_template_columns": null,
            "grid_template_rows": null,
            "height": null,
            "justify_content": null,
            "justify_items": null,
            "left": null,
            "margin": null,
            "max_height": null,
            "max_width": null,
            "min_height": null,
            "min_width": null,
            "object_fit": null,
            "object_position": null,
            "order": null,
            "overflow": null,
            "padding": null,
            "right": null,
            "top": null,
            "visibility": null,
            "width": null
          }
        },
        "15a41128eaa240c0bf84c78c0439f9d4": {
          "model_module": "@jupyter-widgets/base",
          "model_name": "LayoutModel",
          "model_module_version": "2.0.0",
          "state": {
            "_model_module": "@jupyter-widgets/base",
            "_model_module_version": "2.0.0",
            "_model_name": "LayoutModel",
            "_view_count": null,
            "_view_module": "@jupyter-widgets/base",
            "_view_module_version": "2.0.0",
            "_view_name": "LayoutView",
            "align_content": null,
            "align_items": null,
            "align_self": null,
            "border_bottom": null,
            "border_left": null,
            "border_right": null,
            "border_top": null,
            "bottom": null,
            "display": null,
            "flex": null,
            "flex_flow": null,
            "grid_area": null,
            "grid_auto_columns": null,
            "grid_auto_flow": null,
            "grid_auto_rows": null,
            "grid_column": null,
            "grid_gap": null,
            "grid_row": null,
            "grid_template_areas": null,
            "grid_template_columns": null,
            "grid_template_rows": null,
            "height": null,
            "justify_content": null,
            "justify_items": null,
            "left": null,
            "margin": null,
            "max_height": null,
            "max_width": null,
            "min_height": null,
            "min_width": null,
            "object_fit": null,
            "object_position": null,
            "order": null,
            "overflow": null,
            "padding": null,
            "right": null,
            "top": null,
            "visibility": null,
            "width": null
          }
        },
        "c958b9a12e1e4d21b7f9bc59b33fbd50": {
          "model_module": "@jupyter-widgets/controls",
          "model_name": "DescriptionStyleModel",
          "model_module_version": "2.0.0",
          "state": {
            "_model_module": "@jupyter-widgets/controls",
            "_model_module_version": "2.0.0",
            "_model_name": "DescriptionStyleModel",
            "_view_count": null,
            "_view_module": "@jupyter-widgets/base",
            "_view_module_version": "2.0.0",
            "_view_name": "StyleView",
            "description_width": ""
          }
        },
        "69edcf9de3de4b53a6e6fb234d796025": {
          "model_module": "@jupyter-widgets/base",
          "model_name": "LayoutModel",
          "model_module_version": "2.0.0",
          "state": {
            "_model_module": "@jupyter-widgets/base",
            "_model_module_version": "2.0.0",
            "_model_name": "LayoutModel",
            "_view_count": null,
            "_view_module": "@jupyter-widgets/base",
            "_view_module_version": "2.0.0",
            "_view_name": "LayoutView",
            "align_content": null,
            "align_items": null,
            "align_self": null,
            "border_bottom": null,
            "border_left": null,
            "border_right": null,
            "border_top": null,
            "bottom": null,
            "display": null,
            "flex": null,
            "flex_flow": null,
            "grid_area": null,
            "grid_auto_columns": null,
            "grid_auto_flow": null,
            "grid_auto_rows": null,
            "grid_column": null,
            "grid_gap": null,
            "grid_row": null,
            "grid_template_areas": null,
            "grid_template_columns": null,
            "grid_template_rows": null,
            "height": null,
            "justify_content": null,
            "justify_items": null,
            "left": null,
            "margin": null,
            "max_height": null,
            "max_width": null,
            "min_height": null,
            "min_width": null,
            "object_fit": null,
            "object_position": null,
            "order": null,
            "overflow": null,
            "padding": null,
            "right": null,
            "top": null,
            "visibility": null,
            "width": null
          }
        },
        "7333198af83d47d59ee6d5b046cb1335": {
          "model_module": "@jupyter-widgets/controls",
          "model_name": "DescriptionStyleModel",
          "model_module_version": "2.0.0",
          "state": {
            "_model_module": "@jupyter-widgets/controls",
            "_model_module_version": "2.0.0",
            "_model_name": "DescriptionStyleModel",
            "_view_count": null,
            "_view_module": "@jupyter-widgets/base",
            "_view_module_version": "2.0.0",
            "_view_name": "StyleView",
            "description_width": ""
          }
        },
        "93a62e78836542ddb18adb94a754e3d2": {
          "model_module": "@jupyter-widgets/base",
          "model_name": "LayoutModel",
          "model_module_version": "2.0.0",
          "state": {
            "_model_module": "@jupyter-widgets/base",
            "_model_module_version": "2.0.0",
            "_model_name": "LayoutModel",
            "_view_count": null,
            "_view_module": "@jupyter-widgets/base",
            "_view_module_version": "2.0.0",
            "_view_name": "LayoutView",
            "align_content": null,
            "align_items": null,
            "align_self": null,
            "border_bottom": null,
            "border_left": null,
            "border_right": null,
            "border_top": null,
            "bottom": null,
            "display": null,
            "flex": null,
            "flex_flow": null,
            "grid_area": null,
            "grid_auto_columns": null,
            "grid_auto_flow": null,
            "grid_auto_rows": null,
            "grid_column": null,
            "grid_gap": null,
            "grid_row": null,
            "grid_template_areas": null,
            "grid_template_columns": null,
            "grid_template_rows": null,
            "height": null,
            "justify_content": null,
            "justify_items": null,
            "left": null,
            "margin": null,
            "max_height": null,
            "max_width": null,
            "min_height": null,
            "min_width": null,
            "object_fit": null,
            "object_position": null,
            "order": null,
            "overflow": null,
            "padding": null,
            "right": null,
            "top": null,
            "visibility": null,
            "width": null
          }
        },
        "f49eb06bd47d4a3b85f6d13e2ae7573a": {
          "model_module": "@jupyter-widgets/controls",
          "model_name": "DescriptionStyleModel",
          "model_module_version": "2.0.0",
          "state": {
            "_model_module": "@jupyter-widgets/controls",
            "_model_module_version": "2.0.0",
            "_model_name": "DescriptionStyleModel",
            "_view_count": null,
            "_view_module": "@jupyter-widgets/base",
            "_view_module_version": "2.0.0",
            "_view_name": "StyleView",
            "description_width": ""
          }
        },
        "94c6b2a338d3489dac79d36f3efde3d9": {
          "model_module": "@jupyter-widgets/base",
          "model_name": "LayoutModel",
          "model_module_version": "2.0.0",
          "state": {
            "_model_module": "@jupyter-widgets/base",
            "_model_module_version": "2.0.0",
            "_model_name": "LayoutModel",
            "_view_count": null,
            "_view_module": "@jupyter-widgets/base",
            "_view_module_version": "2.0.0",
            "_view_name": "LayoutView",
            "align_content": null,
            "align_items": null,
            "align_self": null,
            "border_bottom": null,
            "border_left": null,
            "border_right": null,
            "border_top": null,
            "bottom": null,
            "display": null,
            "flex": null,
            "flex_flow": null,
            "grid_area": null,
            "grid_auto_columns": null,
            "grid_auto_flow": null,
            "grid_auto_rows": null,
            "grid_column": null,
            "grid_gap": null,
            "grid_row": null,
            "grid_template_areas": null,
            "grid_template_columns": null,
            "grid_template_rows": null,
            "height": null,
            "justify_content": null,
            "justify_items": null,
            "left": null,
            "margin": null,
            "max_height": null,
            "max_width": null,
            "min_height": null,
            "min_width": null,
            "object_fit": null,
            "object_position": null,
            "order": null,
            "overflow": null,
            "padding": null,
            "right": null,
            "top": null,
            "visibility": null,
            "width": null
          }
        },
        "95c4cffaeecb471cbc1bc2e5ab9ef91c": {
          "model_module": "@jupyter-widgets/controls",
          "model_name": "DescriptionStyleModel",
          "model_module_version": "2.0.0",
          "state": {
            "_model_module": "@jupyter-widgets/controls",
            "_model_module_version": "2.0.0",
            "_model_name": "DescriptionStyleModel",
            "_view_count": null,
            "_view_module": "@jupyter-widgets/base",
            "_view_module_version": "2.0.0",
            "_view_name": "StyleView",
            "description_width": ""
          }
        }
      }
    }
  },
  "cells": [
    {
      "cell_type": "markdown",
      "source": [
        "# Progressive Dinner Party Mathematical Program"
      ],
      "metadata": {
        "id": "HWTI2q7SjtOO"
      }
    },
    {
      "cell_type": "markdown",
      "source": [
        "# Setup"
      ],
      "metadata": {
        "id": "xJTzYuoQIXQU"
      }
    },
    {
      "cell_type": "markdown",
      "source": [
        "### AMPL"
      ],
      "metadata": {
        "id": "cCxrb2FGqXni"
      }
    },
    {
      "cell_type": "markdown",
      "source": [
        "Set up the AMPL modelling environment.\n",
        "\n",
        "Connect to NEOS Server with the Kestrel interface or use a locally installed solver by connecting this notebook to a local runtime:\n",
        "\n",
        "`jupyter notebook --NotebookApp.allow_origin='https://colab.research.google.com' --port=8888 --NotebookApp.port_retries=0`"
      ],
      "metadata": {
        "id": "VCpTQnVp98UL"
      }
    },
    {
      "cell_type": "code",
      "execution_count": null,
      "metadata": {
        "id": "kZHLv0z2jj6S"
      },
      "outputs": [],
      "source": [
        "!pip install -q amplpy"
      ]
    },
    {
      "cell_type": "markdown",
      "source": [
        "### Imports"
      ],
      "metadata": {
        "id": "27sAldKUqgPC"
      }
    },
    {
      "cell_type": "code",
      "source": [
        "import itertools\n",
        "import numpy as np\n",
        "import networkx as nx\n",
        "import ipywidgets as widgets\n",
        "import matplotlib.pyplot as plt\n",
        "\n",
        "from amplpy import AMPL"
      ],
      "metadata": {
        "id": "Yi3uS7D3pOld"
      },
      "execution_count": 19,
      "outputs": []
    },
    {
      "cell_type": "markdown",
      "source": [
        "# Model"
      ],
      "metadata": {
        "id": "n_C0pimuIVsF"
      }
    },
    {
      "cell_type": "code",
      "source": [
        "%%writefile pdp.mod\n",
        "problem progressive_dinner_party;\n",
        "#--------------------------------\n",
        "\n",
        "set N;\n",
        "set T = {N,N,N};\n",
        "param C{N,N};\n",
        "param o = 1/card(N);\n",
        "\n",
        "var s{N} binary;\n",
        "var m{N} binary;\n",
        "var d{N} binary;\n",
        "var e{N,N} binary;\n",
        "var t{(i,j,k) in T} = s[i]*m[j]*d[k];\n",
        "\n",
        "minimize objective:\n",
        "\tsum {i in N, j in N} C[i,j]*e[i,j];\n",
        "\n",
        "subject to classes {i in N}:\n",
        "\ts[i] + m[i] + d[i] = 1;\n",
        "\t\n",
        "subject to inflow_s {i in N}:\n",
        "\tsum {j in N} s[i] * e[j,i] = 0;\n",
        "\t\n",
        "subject to outflow_s {i in N}:\n",
        "\tsum {j in N} s[i] * e[i,j] = 3 * s[i];\n",
        "\t\n",
        "subject to inflow_m {i in N}:\n",
        "\tsum {j in N} m[i] * e[j,i] = 3 * m[i];\n",
        "\t\n",
        "subject to outflow_m {i in N}:\n",
        "\tsum {j in N} m[i] * e[i,j] = 3 * m[i];\n",
        "\t\n",
        "subject to inflow_d {i in N}:\n",
        "\tsum {j in N} d[i] * e[j,i] = 3 * d[i];\n",
        "\t\n",
        "subject to outflow_d {i in N}:\n",
        "\tsum {j in N} d[i] * e[i,j] = 0;\n",
        "\t\n",
        "subject to shortcut {i in N, j in N}:\n",
        "\ts[i] * e[i,j] + d[j] <= 1;\n",
        "\t\n",
        "subject to equipartition:\n",
        "\t3 * sum {i in N} m[i] = card(N);\n",
        "\n",
        "subject to encounters {(i,j,k) in T}:\n",
        "\tsum {(u,v,w) in T: i <> u and j <> v and k <> w} t[i,j,k]*t[u,v,w] * (3 - floor(abs(i-u)/(abs(i-u)-o)) - floor(abs(j-v)/(abs(j-v)-o)) - floor(abs(k-w)/(abs(k-w)-o))) <= t[i,j,k];"
      ],
      "metadata": {
        "id": "pgixlDm8G1xj",
        "outputId": "61067cdf-ac5c-4167-b7ad-5e873631ec7d",
        "colab": {
          "base_uri": "https://localhost:8080/"
        }
      },
      "execution_count": 20,
      "outputs": [
        {
          "output_type": "stream",
          "name": "stdout",
          "text": [
            "Overwriting pdp.mod\n"
          ]
        }
      ]
    },
    {
      "cell_type": "markdown",
      "source": [
        "# Data"
      ],
      "metadata": {
        "id": "XW2AURgzIavl"
      }
    },
    {
      "cell_type": "code",
      "source": [
        "w_size = widgets.IntText(description='Size', orientation='horizontal', value=9, min=9)\n",
        "w_cluster = widgets.IntText(description='Clusters', orientation='horizontal', value=1, min=1)\n",
        "w_deviation = widgets.FloatText(description='Deviation', orientation='horizontal', value=0.1, min=0)\n",
        "w_scale = widgets.IntText(description='Scaling', orientation='horizontal', value=1)\n",
        "display(widgets.Box([w_size, w_cluster,w_deviation, w_scale], layout=widgets.Layout(display='flex', flex_flow='row')))"
      ],
      "metadata": {
        "id": "ZbMtrzssIR8r",
        "outputId": "22903a0c-198e-46c6-e658-2f4379bab0b5",
        "colab": {
          "base_uri": "https://localhost:8080/",
          "height": 49,
          "referenced_widgets": [
            "fda48353f5cb4b8795f209a4cf6b543f",
            "967de37ae95343198cbda37dbe74992f",
            "2d34813f52cc499191605427bdbba163",
            "c5fcdae4a38a45eaa1995e272744b939",
            "2a2f9d318c9e42ce8087b8f50211a961",
            "dd42f94946394f2a9850c4280f1de7fd",
            "15a41128eaa240c0bf84c78c0439f9d4",
            "c958b9a12e1e4d21b7f9bc59b33fbd50",
            "69edcf9de3de4b53a6e6fb234d796025",
            "7333198af83d47d59ee6d5b046cb1335",
            "93a62e78836542ddb18adb94a754e3d2",
            "f49eb06bd47d4a3b85f6d13e2ae7573a",
            "94c6b2a338d3489dac79d36f3efde3d9",
            "95c4cffaeecb471cbc1bc2e5ab9ef91c"
          ]
        }
      },
      "execution_count": 33,
      "outputs": [
        {
          "output_type": "display_data",
          "data": {
            "text/plain": [
              "Box(children=(IntText(value=9, description='Size'), IntText(value=1, description='Clusters'), FloatText(value=…"
            ],
            "application/vnd.jupyter.widget-view+json": {
              "version_major": 2,
              "version_minor": 0,
              "model_id": "fda48353f5cb4b8795f209a4cf6b543f"
            }
          },
          "metadata": {}
        }
      ]
    },
    {
      "cell_type": "code",
      "source": [
        "rng = np.random.default_rng()\n",
        "\n",
        "N = w_size.value\n",
        "K = w_cluster.value\n",
        "σ = w_deviation.value\n",
        "λ = w_scale.value\n",
        "\n",
        "assert N >= 9\n",
        "assert K > 0\n",
        "assert N % K == 0\n",
        "assert N % 3 == 0\n",
        "assert σ >= 0\n",
        "assert λ > 0\n",
        "\n",
        "points = {}\n",
        "centers = rng.uniform(-1, 1, (K, 2))\n",
        "for i in range(K):\n",
        "\tpoints[str(centers[i])] = λ * rng.normal(centers[i], σ, (N // K, 2))\n",
        "\n",
        "X = np.array(list(points.values())).reshape(N, 2)[:,0]\n",
        "Y = np.array(list(points.values())).reshape(N, 2)[:,1]\n",
        "\n",
        "G = nx.DiGraph()\n",
        "for i in range(N):\n",
        "\tG.add_node(i, x = X[i], y = Y[i])\n",
        "\n",
        "C = np.empty((N,N))\n",
        "for a,b in itertools.product(range(N), range(N)):\n",
        "\tdX = (X[b]-X[a]) * (X[b]-X[a])\n",
        "\tdY = (Y[b]-Y[a]) * (Y[b]-Y[a])\n",
        "\tC[a,b] = np.sqrt(dX + dY)\n",
        "\n",
        "with open('pdp.dat', 'w') as f:\n",
        "\tf.write('set N :=')\n",
        "\tfor n in range(1, N + 1):\n",
        "\t\tf.write(f' {n}')\n",
        "\tf.write(';\\n')\n",
        "\tf.write('param C :=\\n')\n",
        "\tfor i,j in itertools.product(range(N), range(N)):\n",
        "\t\tf.write(f'{i+1} {j+1} {C[i,j]}\\n')\n",
        "\tf.write(';')\n",
        "\n",
        "plt.scatter(X,Y)\n",
        "plt.show()"
      ],
      "metadata": {
        "id": "kQ8rb5aVHAZY",
        "outputId": "ff83e86f-c070-48e7-bde4-931f22d6633e",
        "colab": {
          "base_uri": "https://localhost:8080/",
          "height": 430
        }
      },
      "execution_count": 58,
      "outputs": [
        {
          "output_type": "display_data",
          "data": {
            "text/plain": [
              "<Figure size 640x480 with 1 Axes>"
            ],
            "image/png": "[encoded data removed]"
          },
          "metadata": {}
        }
      ]
    },
    {
      "cell_type": "code",
      "source": [
        "ampl = AMPL()"
      ],
      "metadata": {
        "id": "H14-7NnWK30y"
      },
      "execution_count": 55,
      "outputs": []
    },
    {
      "cell_type": "code",
      "source": [
        "ampl.setOption('solver', 'gurobi')\n",
        "ampl.setOption('gurobi_options', 'outlev=1')\n",
        "ampl.setOption('solution_round', '0')"
      ],
      "metadata": {
        "id": "9OGh0qaXuEOw"
      },
      "execution_count": 59,
      "outputs": []
    },
    {
      "cell_type": "code",
      "source": [
        "ampl.read('pdp.mod')"
      ],
      "metadata": {
        "id": "l5vXsgkyE50Z"
      },
      "execution_count": 60,
      "outputs": []
    },
    {
      "cell_type": "code",
      "source": [
        "ampl.read_data('pdp.dat')"
      ],
      "metadata": {
        "id": "QLc6v2MVFCjy"
      },
      "execution_count": 61,
      "outputs": []
    },
    {
      "cell_type": "code",
      "source": [
        "ampl.solve()"
      ],
      "metadata": {
        "id": "zixDyTUCFI1H",
        "outputId": "415cf9f8-9d03-40e9-9535-1b1f506f18ba",
        "colab": {
          "base_uri": "https://localhost:8080/"
        }
      },
      "execution_count": 62,
      "outputs": [
        {
          "output_type": "stream",
          "name": "stdout",
          "text": [
            "x-Gurobi 10.0.0: Set parameter OutputFlag to value 1\r\n",
            "Set parameter InfUnbdInfo to value 1\r\n",
            "Gurobi Optimizer version 10.0.0 build v10.0.0rc2 (win64)\r\n",
            "\r\n",
            "CPU model: Intel(R) Core(TM) i7-1065G7 CPU @ 1.30GHz, instruction set [SSE2|AVX|AVX2|AVX512]\r\n",
            "Thread count: 4 physical cores, 8 logical processors, using up to 8 threads\r\n",
            "\r\n",
            "Optimize a model with 739 rows, 918 columns and 765 nonzeros\r\n",
            "Model fingerprint: 0x54ec29a4\r\n",
            "Model has 945 quadratic constraints\r\n",
            "Variable types: 0 continuous, 918 integer (0 binary)\r\n",
            "Coefficient statistics:\r\n",
            "  Matrix range     [1e+00, 3e+00]\r\n",
            "  QMatrix range    [1e+00, 1e+00]\r\n",
            "  QLMatrix range   [1e+00, 3e+00]\r\n",
            "  Objective range  [1e+00, 4e+00]\r\n",
            "  Bounds range     [1e+00, 1e+00]\r\n",
            "  RHS range        [1e+00, 9e+00]\r\n",
            "  QRHS range       [1e+00, 1e+00]\r\n",
            "\r\n",
            "User MIP start did not produce a new incumbent solution\r\n",
            "User MIP start violates constraint R729 by 1.000000000\r\n",
            "\r\n",
            "Presolve removed 504 rows and 810 columns\r\n",
            "Presolve time: 0.01s\r\n",
            "Presolved: 397 rows, 189 columns, 1431 nonzeros\r\n",
            "Variable types: 0 continuous, 189 integer (189 binary)\r\n",
            "Found heuristic solution: objective 42.5338855\r\n",
            "\r\n",
            "Root relaxation: objective 1.141682e+01, 89 iterations, 0.00 seconds (0.00 work units)\r\n",
            "\r\n",
            "    Nodes    |    Current Node    |     Objective Bounds      |     Work\r\n",
            " Expl Unexpl |  Obj  Depth IntInf | Incumbent    BestBd   Gap | It/Node Time\r\n",
            "\r\n",
            "     0     0   11.41682    0   49   42.53389   11.41682  73.2%     -    0s\r\n",
            "     0     0   14.72354    0   59   42.53389   14.72354  65.4%     -    0s\r\n",
            "H    0     0                      39.0975043   14.72354  62.3%     -    0s\r\n",
            "     0     0   16.68496    0   63   39.09750   16.68496  57.3%     -    0s\r\n",
            "     0     0   20.31948    0   64   39.09750   20.31948  48.0%     -    0s\r\n",
            "     0     0   20.87860    0   65   39.09750   20.87860  46.6%     -    0s\r\n",
            "     0     0   20.97605    0   62   39.09750   20.97605  46.3%     -    0s\r\n",
            "     0     0   21.19050    0   64   39.09750   21.19050  45.8%     -    0s\r\n",
            "     0     0   21.19508    0   66   39.09750   21.19508  45.8%     -    0s\r\n",
            "H    0     0                      38.4828234   21.19508  44.9%     -    0s\r\n",
            "     0     0   21.55848    0   63   38.48282   21.55848  44.0%     -    0s\r\n",
            "     0     0   21.55848    0   62   38.48282   21.55848  44.0%     -    0s\n",
            "     0     2   21.82763    0   61   38.48282   21.82763  43.3%     -    0s\n",
            "\n",
            "Cutting planes:\n",
            "  Gomory: 14\n",
            "  Cover: 50\n",
            "  MIR: 29\n",
            "  GUB cover: 1\n",
            "  Inf proof: 12\n",
            "  Zero half: 1\n",
            "  Mod-K: 7\n",
            "  RLT: 5\n",
            "\n",
            "Explored 3465 nodes (69256 simplex iterations) in 0.98 seconds (0.63 work units)\n",
            "Thread count was 8 (of 8 available processors)\n",
            "\n",
            "Solution count 3: 38.4828 39.0975 42.5339 \n",
            "\n",
            "Optimal solution found (tolerance 1.00e-04)\n",
            "Best objective 3.848282340494e+01, best bound 3.848282340494e+01, gap 0.0000%\n",
            "tech:outlev=1\n",
            "x-Gurobi 10.0.0: optimal solution; objective 38.4828234\n",
            "69256 simplex iterations\n",
            "3465 branching nodes\n"
          ]
        }
      ]
    },
    {
      "cell_type": "code",
      "source": [
        "s = ampl.get_variable('s').get_values()\n",
        "m = ampl.get_variable('m').get_values()\n",
        "d = ampl.get_variable('d').get_values()\n",
        "e = ampl.get_variable('e').get_values()\n",
        "\n",
        "S = np.array(s.get_column('s.val').to_list())\n",
        "M = np.array(m.get_column('m.val').to_list())\n",
        "D = np.array(d.get_column('d.val').to_list())\n",
        "E = np.reshape(e.get_column('e.val').to_list(), (N,N))"
      ],
      "metadata": {
        "id": "oiETfJOTLuMZ"
      },
      "execution_count": 63,
      "outputs": []
    },
    {
      "cell_type": "code",
      "source": [
        "plt.figure(1)\n",
        "idx_s = [idx for idx, val in enumerate(S) if val == 1]\n",
        "idx_m = [idx for idx, val in enumerate(M) if val == 1]\n",
        "idx_d = [idx for idx, val in enumerate(D) if val == 1]\n",
        "\n",
        "\n",
        "for i,j in itertools.product(range(N),range(N)):\n",
        "  if E[i,j] == 1: \n",
        "    G.add_edge(i, j, color=1)\n",
        "\n",
        "nodes = dict(G.nodes(data=True))\n",
        "pos = {k: list(v.values()) for k, v in nodes.items()}\n",
        "\n",
        "nx.draw(\n",
        "    G, pos,\n",
        "    edge_color = nx.get_edge_attributes(G,'color').values(),\n",
        "    edge_cmap = plt.cm.get_cmap('Set3'),\n",
        "    node_color = S + 2*M + 3*D,\n",
        "    width=3, node_size=50, connectionstyle='arc3,rad=0.1')\n",
        "plt.show()"
      ],
      "metadata": {
        "colab": {
          "base_uri": "https://localhost:8080/",
          "height": 516
        },
        "id": "F_czUjRzXV4d",
        "outputId": "a00513f6-84a1-4bc6-c73c-b52d0dabef1a"
      },
      "execution_count": 64,
      "outputs": [
        {
          "output_type": "display_data",
          "data": {
            "text/plain": [
              "<Figure size 640x480 with 1 Axes>"
            ],
            "image/png": "[encoded data removed]"
          },
          "metadata": {}
        }
      ]
    },
    {
      "cell_type": "code",
      "source": [],
      "metadata": {
        "id": "cE27QLr7JU3H"
      },
      "execution_count": null,
      "outputs": []
    }
  ]
}