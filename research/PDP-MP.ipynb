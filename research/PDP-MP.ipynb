{
  "nbformat": 4,
  "nbformat_minor": 0,
  "metadata": {
    "colab": {
      "provenance": []
    },
    "kernelspec": {
      "name": "python3",
      "display_name": "Python 3"
    },
    "language_info": {
      "name": "python"
    },
    "widgets": {
      "application/vnd.jupyter.widget-state+json": {
        "328caf29173d416f8e9c522860b89da2": {
          "model_module": "@jupyter-widgets/controls",
          "model_name": "BoxModel",
          "model_module_version": "2.0.0",
          "state": {
            "_dom_classes": [],
            "_model_module": "@jupyter-widgets/controls",
            "_model_module_version": "2.0.0",
            "_model_name": "BoxModel",
            "_view_count": null,
            "_view_module": "@jupyter-widgets/controls",
            "_view_module_version": "2.0.0",
            "_view_name": "BoxView",
            "box_style": "",
            "children": [
              "IPY_MODEL_83ffbb1c63674a20997bb248007a01ff",
              "IPY_MODEL_bdf638b9bf7f4693828ac0d3a861fce4",
              "IPY_MODEL_9e4a96e301a34ebd8d828c8e36901489",
              "IPY_MODEL_08e658a071274b49afcf67352a72358d"
            ],
            "layout": "IPY_MODEL_c4316b4d23044bf49c0534cdb2240d4c",
            "tabbable": null,
            "tooltip": null
          }
        },
        "83ffbb1c63674a20997bb248007a01ff": {
          "model_module": "@jupyter-widgets/controls",
          "model_name": "IntTextModel",
          "model_module_version": "2.0.0",
          "state": {
            "_dom_classes": [],
            "_model_module": "@jupyter-widgets/controls",
            "_model_module_version": "2.0.0",
            "_model_name": "IntTextModel",
            "_view_count": null,
            "_view_module": "@jupyter-widgets/controls",
            "_view_module_version": "2.0.0",
            "_view_name": "IntTextView",
            "continuous_update": false,
            "description": "Size",
            "description_allow_html": false,
            "disabled": false,
            "layout": "IPY_MODEL_e96f0ef4e3a645588ec5b8416576c63c",
            "step": 1,
            "style": "IPY_MODEL_403388fc8b8d45288e8fd1e6f80a417f",
            "tabbable": null,
            "tooltip": null,
            "value": 9
          }
        },
        "bdf638b9bf7f4693828ac0d3a861fce4": {
          "model_module": "@jupyter-widgets/controls",
          "model_name": "IntTextModel",
          "model_module_version": "2.0.0",
          "state": {
            "_dom_classes": [],
            "_model_module": "@jupyter-widgets/controls",
            "_model_module_version": "2.0.0",
            "_model_name": "IntTextModel",
            "_view_count": null,
            "_view_module": "@jupyter-widgets/controls",
            "_view_module_version": "2.0.0",
            "_view_name": "IntTextView",
            "continuous_update": false,
            "description": "Clusters",
            "description_allow_html": false,
            "disabled": false,
            "layout": "IPY_MODEL_0e03327ff39241538e16cb168cdefd5d",
            "step": 1,
            "style": "IPY_MODEL_6532d6589cc7446296721493e620835a",
            "tabbable": null,
            "tooltip": null,
            "value": 1
          }
        },
        "9e4a96e301a34ebd8d828c8e36901489": {
          "model_module": "@jupyter-widgets/controls",
          "model_name": "FloatTextModel",
          "model_module_version": "2.0.0",
          "state": {
            "_dom_classes": [],
            "_model_module": "@jupyter-widgets/controls",
            "_model_module_version": "2.0.0",
            "_model_name": "FloatTextModel",
            "_view_count": null,
            "_view_module": "@jupyter-widgets/controls",
            "_view_module_version": "2.0.0",
            "_view_name": "FloatTextView",
            "continuous_update": false,
            "description": "Deviation",
            "description_allow_html": false,
            "disabled": false,
            "layout": "IPY_MODEL_a00cbc682c8d4d56abb484fcdaa08aaa",
            "step": null,
            "style": "IPY_MODEL_0059122ff20344248a03b1bafece357d",
            "tabbable": null,
            "tooltip": null,
            "value": 1
          }
        },
        "08e658a071274b49afcf67352a72358d": {
          "model_module": "@jupyter-widgets/controls",
          "model_name": "IntTextModel",
          "model_module_version": "2.0.0",
          "state": {
            "_dom_classes": [],
            "_model_module": "@jupyter-widgets/controls",
            "_model_module_version": "2.0.0",
            "_model_name": "IntTextModel",
            "_view_count": null,
            "_view_module": "@jupyter-widgets/controls",
            "_view_module_version": "2.0.0",
            "_view_name": "IntTextView",
            "continuous_update": false,
            "description": "Scaling",
            "description_allow_html": false,
            "disabled": false,
            "layout": "IPY_MODEL_1821f4ba35e2414ea82959cdb1f46ade",
            "step": 1,
            "style": "IPY_MODEL_0af9afe511874cf2a733d82c89d82398",
            "tabbable": null,
            "tooltip": null,
            "value": 1
          }
        },
        "c4316b4d23044bf49c0534cdb2240d4c": {
          "model_module": "@jupyter-widgets/base",
          "model_name": "LayoutModel",
          "model_module_version": "2.0.0",
          "state": {
            "_model_module": "@jupyter-widgets/base",
            "_model_module_version": "2.0.0",
            "_model_name": "LayoutModel",
            "_view_count": null,
            "_view_module": "@jupyter-widgets/base",
            "_view_module_version": "2.0.0",
            "_view_name": "LayoutView",
            "align_content": null,
            "align_items": null,
            "align_self": null,
            "border_bottom": null,
            "border_left": null,
            "border_right": null,
            "border_top": null,
            "bottom": null,
            "display": "flex",
            "flex": null,
            "flex_flow": "row",
            "grid_area": null,
            "grid_auto_columns": null,
            "grid_auto_flow": null,
            "grid_auto_rows": null,
            "grid_column": null,
            "grid_gap": null,
            "grid_row": null,
            "grid_template_areas": null,
            "grid_template_columns": null,
            "grid_template_rows": null,
            "height": null,
            "justify_content": null,
            "justify_items": null,
            "left": null,
            "margin": null,
            "max_height": null,
            "max_width": null,
            "min_height": null,
            "min_width": null,
            "object_fit": null,
            "object_position": null,
            "order": null,
            "overflow": null,
            "padding": null,
            "right": null,
            "top": null,
            "visibility": null,
            "width": null
          }
        },
        "e96f0ef4e3a645588ec5b8416576c63c": {
          "model_module": "@jupyter-widgets/base",
          "model_name": "LayoutModel",
          "model_module_version": "2.0.0",
          "state": {
            "_model_module": "@jupyter-widgets/base",
            "_model_module_version": "2.0.0",
            "_model_name": "LayoutModel",
            "_view_count": null,
            "_view_module": "@jupyter-widgets/base",
            "_view_module_version": "2.0.0",
            "_view_name": "LayoutView",
            "align_content": null,
            "align_items": null,
            "align_self": null,
            "border_bottom": null,
            "border_left": null,
            "border_right": null,
            "border_top": null,
            "bottom": null,
            "display": null,
            "flex": null,
            "flex_flow": null,
            "grid_area": null,
            "grid_auto_columns": null,
            "grid_auto_flow": null,
            "grid_auto_rows": null,
            "grid_column": null,
            "grid_gap": null,
            "grid_row": null,
            "grid_template_areas": null,
            "grid_template_columns": null,
            "grid_template_rows": null,
            "height": null,
            "justify_content": null,
            "justify_items": null,
            "left": null,
            "margin": null,
            "max_height": null,
            "max_width": null,
            "min_height": null,
            "min_width": null,
            "object_fit": null,
            "object_position": null,
            "order": null,
            "overflow": null,
            "padding": null,
            "right": null,
            "top": null,
            "visibility": null,
            "width": null
          }
        },
        "403388fc8b8d45288e8fd1e6f80a417f": {
          "model_module": "@jupyter-widgets/controls",
          "model_name": "DescriptionStyleModel",
          "model_module_version": "2.0.0",
          "state": {
            "_model_module": "@jupyter-widgets/controls",
            "_model_module_version": "2.0.0",
            "_model_name": "DescriptionStyleModel",
            "_view_count": null,
            "_view_module": "@jupyter-widgets/base",
            "_view_module_version": "2.0.0",
            "_view_name": "StyleView",
            "description_width": ""
          }
        },
        "0e03327ff39241538e16cb168cdefd5d": {
          "model_module": "@jupyter-widgets/base",
          "model_name": "LayoutModel",
          "model_module_version": "2.0.0",
          "state": {
            "_model_module": "@jupyter-widgets/base",
            "_model_module_version": "2.0.0",
            "_model_name": "LayoutModel",
            "_view_count": null,
            "_view_module": "@jupyter-widgets/base",
            "_view_module_version": "2.0.0",
            "_view_name": "LayoutView",
            "align_content": null,
            "align_items": null,
            "align_self": null,
            "border_bottom": null,
            "border_left": null,
            "border_right": null,
            "border_top": null,
            "bottom": null,
            "display": null,
            "flex": null,
            "flex_flow": null,
            "grid_area": null,
            "grid_auto_columns": null,
            "grid_auto_flow": null,
            "grid_auto_rows": null,
            "grid_column": null,
            "grid_gap": null,
            "grid_row": null,
            "grid_template_areas": null,
            "grid_template_columns": null,
            "grid_template_rows": null,
            "height": null,
            "justify_content": null,
            "justify_items": null,
            "left": null,
            "margin": null,
            "max_height": null,
            "max_width": null,
            "min_height": null,
            "min_width": null,
            "object_fit": null,
            "object_position": null,
            "order": null,
            "overflow": null,
            "padding": null,
            "right": null,
            "top": null,
            "visibility": null,
            "width": null
          }
        },
        "6532d6589cc7446296721493e620835a": {
          "model_module": "@jupyter-widgets/controls",
          "model_name": "DescriptionStyleModel",
          "model_module_version": "2.0.0",
          "state": {
            "_model_module": "@jupyter-widgets/controls",
            "_model_module_version": "2.0.0",
            "_model_name": "DescriptionStyleModel",
            "_view_count": null,
            "_view_module": "@jupyter-widgets/base",
            "_view_module_version": "2.0.0",
            "_view_name": "StyleView",
            "description_width": ""
          }
        },
        "a00cbc682c8d4d56abb484fcdaa08aaa": {
          "model_module": "@jupyter-widgets/base",
          "model_name": "LayoutModel",
          "model_module_version": "2.0.0",
          "state": {
            "_model_module": "@jupyter-widgets/base",
            "_model_module_version": "2.0.0",
            "_model_name": "LayoutModel",
            "_view_count": null,
            "_view_module": "@jupyter-widgets/base",
            "_view_module_version": "2.0.0",
            "_view_name": "LayoutView",
            "align_content": null,
            "align_items": null,
            "align_self": null,
            "border_bottom": null,
            "border_left": null,
            "border_right": null,
            "border_top": null,
            "bottom": null,
            "display": null,
            "flex": null,
            "flex_flow": null,
            "grid_area": null,
            "grid_auto_columns": null,
            "grid_auto_flow": null,
            "grid_auto_rows": null,
            "grid_column": null,
            "grid_gap": null,
            "grid_row": null,
            "grid_template_areas": null,
            "grid_template_columns": null,
            "grid_template_rows": null,
            "height": null,
            "justify_content": null,
            "justify_items": null,
            "left": null,
            "margin": null,
            "max_height": null,
            "max_width": null,
            "min_height": null,
            "min_width": null,
            "object_fit": null,
            "object_position": null,
            "order": null,
            "overflow": null,
            "padding": null,
            "right": null,
            "top": null,
            "visibility": null,
            "width": null
          }
        },
        "0059122ff20344248a03b1bafece357d": {
          "model_module": "@jupyter-widgets/controls",
          "model_name": "DescriptionStyleModel",
          "model_module_version": "2.0.0",
          "state": {
            "_model_module": "@jupyter-widgets/controls",
            "_model_module_version": "2.0.0",
            "_model_name": "DescriptionStyleModel",
            "_view_count": null,
            "_view_module": "@jupyter-widgets/base",
            "_view_module_version": "2.0.0",
            "_view_name": "StyleView",
            "description_width": ""
          }
        },
        "1821f4ba35e2414ea82959cdb1f46ade": {
          "model_module": "@jupyter-widgets/base",
          "model_name": "LayoutModel",
          "model_module_version": "2.0.0",
          "state": {
            "_model_module": "@jupyter-widgets/base",
            "_model_module_version": "2.0.0",
            "_model_name": "LayoutModel",
            "_view_count": null,
            "_view_module": "@jupyter-widgets/base",
            "_view_module_version": "2.0.0",
            "_view_name": "LayoutView",
            "align_content": null,
            "align_items": null,
            "align_self": null,
            "border_bottom": null,
            "border_left": null,
            "border_right": null,
            "border_top": null,
            "bottom": null,
            "display": null,
            "flex": null,
            "flex_flow": null,
            "grid_area": null,
            "grid_auto_columns": null,
            "grid_auto_flow": null,
            "grid_auto_rows": null,
            "grid_column": null,
            "grid_gap": null,
            "grid_row": null,
            "grid_template_areas": null,
            "grid_template_columns": null,
            "grid_template_rows": null,
            "height": null,
            "justify_content": null,
            "justify_items": null,
            "left": null,
            "margin": null,
            "max_height": null,
            "max_width": null,
            "min_height": null,
            "min_width": null,
            "object_fit": null,
            "object_position": null,
            "order": null,
            "overflow": null,
            "padding": null,
            "right": null,
            "top": null,
            "visibility": null,
            "width": null
          }
        },
        "0af9afe511874cf2a733d82c89d82398": {
          "model_module": "@jupyter-widgets/controls",
          "model_name": "DescriptionStyleModel",
          "model_module_version": "2.0.0",
          "state": {
            "_model_module": "@jupyter-widgets/controls",
            "_model_module_version": "2.0.0",
            "_model_name": "DescriptionStyleModel",
            "_view_count": null,
            "_view_module": "@jupyter-widgets/base",
            "_view_module_version": "2.0.0",
            "_view_name": "StyleView",
            "description_width": ""
          }
        }
      }
    }
  },
  "cells": [
    {
      "cell_type": "markdown",
      "source": [
        "# Progressive Dinner Party Mathematical Program"
      ],
      "metadata": {
        "id": "HWTI2q7SjtOO"
      }
    },
    {
      "cell_type": "markdown",
      "source": [
        "# Setup"
      ],
      "metadata": {
        "id": "xJTzYuoQIXQU"
      }
    },
    {
      "cell_type": "markdown",
      "source": [
        "Connect to NEOS Server with the Kestrel interface or use a locally installed solver by connecting this notebook to a local runtime:\n",
        "\n",
        "`jupyter notebook --NotebookApp.allow_origin='https://colab.research.google.com' --port=8888 --NotebookApp.port_retries=0`"
      ],
      "metadata": {
        "id": "YKZcFW0oJvvQ"
      }
    },
    {
      "cell_type": "markdown",
      "source": [
        "Set up the AMPL modelling environment.\n",
        "\n"
      ],
      "metadata": {
        "id": "VCpTQnVp98UL"
      }
    },
    {
      "cell_type": "code",
      "execution_count": 7,
      "metadata": {
        "id": "kZHLv0z2jj6S"
      },
      "outputs": [],
      "source": [
        "!pip install -q amplpy"
      ]
    },
    {
      "cell_type": "markdown",
      "source": [
        "Set up the MiniZinc modelling environment."
      ],
      "metadata": {
        "id": "O45vPPXUJogu"
      }
    },
    {
      "cell_type": "code",
      "source": [
        "!pip install -q iminizinc"
      ],
      "metadata": {
        "id": "d9Mw221BLokS"
      },
      "execution_count": 2,
      "outputs": []
    },
    {
      "cell_type": "markdown",
      "source": [
        "### Imports"
      ],
      "metadata": {
        "id": "27sAldKUqgPC"
      }
    },
    {
      "cell_type": "code",
      "source": [
        "import itertools\n",
        "import numpy as np\n",
        "import pandas as pd\n",
        "import networkx as nx\n",
        "import ipywidgets as widgets\n",
        "import matplotlib.pyplot as plt\n",
        "\n",
        "from amplpy import AMPL"
      ],
      "metadata": {
        "id": "Yi3uS7D3pOld"
      },
      "execution_count": 6,
      "outputs": []
    },
    {
      "cell_type": "markdown",
      "source": [
        "# IP Formulation"
      ],
      "metadata": {
        "id": "n_C0pimuIVsF"
      }
    },
    {
      "cell_type": "markdown",
      "source": [
        "$ N\\in \\mathbb{N} $\n",
        "\n",
        "$i,j,k,l \\in \\mathbb{N}_{\\leq N}$"
      ],
      "metadata": {
        "id": "qeHX9ugQGNUw"
      }
    },
    {
      "cell_type": "markdown",
      "source": [
        "\\begin{array}{|c|c|}\n",
        "\\hline\n",
        "C_{ij} \\in \\mathbb{R}^2&  \\text{Costs of travelling from node i to node j}  \\\\[1em] \n",
        "\\hline\n",
        "e_{ij} \\in \\mathbb{B}^2 & \\text{Element of the adjacency matrix indicating if there should be link between node i and node j} \\\\[1em]\n",
        "\\hline\n",
        "s_i \\in \\mathbb{B} &  \\text{Indicator, if node i hosts starters course} \\\\[1em]\n",
        "\\hline\n",
        "m_i \\in \\mathbb{B} &  \\text{Indicator, if node i hosts main course } \\\\[1em]\n",
        "\\hline\n",
        "d_i \\in \\mathbb{B} &  \\text{Indicator, if node i hosts desert course} \\\\[1em]\n",
        "\\hline\n",
        "{}_{l}t_{ijk} \\in \\mathbb{B}^4& \\text{Element of Tour-Tensor, indicating if $(i,j,k)$ is the $l^{\\text{th}}$ tour}  \\\\[1em]\n",
        "\\hline\n",
        "\\end{array}"
      ],
      "metadata": {
        "id": "J032-NVNrop2"
      }
    },
    {
      "cell_type": "markdown",
      "source": [
        "\\begin{array}{|l|c|c|c|c|}\n",
        "\\hline\n",
        "\\textbf{Constraint} & \\textbf{Meaning} & \\textbf{Count} & \\textbf{Summands} \\\\[2em]\n",
        "\\hline\n",
        "∀ i:\\hspace{1em} s_i + m_i + d_i = 1 & \\text{unique node class} & N & 3 \\\\[2em]\n",
        "\\hline\n",
        "∀ i: \\sum\\limits_j s_i e_{ji} = 0 & \\text{no inbound links on starter node} & N & N \\\\[2em]\n",
        "\\hline\n",
        "∀ i: \\sum\\limits_j s_i e_{ij} = 3 s_i & \\text{three outbound links on starter node} & N & N \\\\[2em]\n",
        "\\hline\n",
        "∀ i: \\sum\\limits_j m_i e_{ji} = 3 m_i & \\text{three inbound links on main node} & N & N \\\\[2em]\n",
        "\\hline\n",
        "∀ i: \\sum\\limits_j m_i e_{ij} = 3 m_i & \\text{three outbound links on main node} & N & N \\\\[2em]\n",
        "\\hline\n",
        "∀ i: \\sum\\limits_j d_i e_{ji} = 3 d_i & \\text{three inbound links on desert node} & N & N \\\\[2em]\n",
        "\\hline\n",
        "∀ i: \\sum\\limits_j d_i e_{ij} = 0 & \\text{no outbound links on desert node} & N & N \\\\[2em]\n",
        "\\hline\n",
        "3 \\cdot \\sum\\limits_i m_i = N & \\text{equal class partitions} & 1 & 3N \\\\[2em]\n",
        "\\hline\n",
        "∀ l: \\sum\\limits_{i,j,k} {}_{l}t_{ijk} = 1 & \\text{unique tour per label} & N & N^3 \\\\[2em]\n",
        "\\hline\n",
        "∀ i,j:\\hspace{1em} s_i e_{ij} + d_j \\leq 1 & \\text{no shortcuts from $s$ to $d$} & N^2 & 2 \\\\[2em]\n",
        "\\hline\n",
        "∀ l: ∀ i,j,k:\\hspace{1em} {}_{l}t_{ijk} \\leq e_{ij}e_{jk} & \\text{valid tour} & N^4 & 1 \\\\[2em]\n",
        "\\hline\n",
        "\\begin{align*}\n",
        "\\forall p,q,p \\neq q:&\\hspace{1em}\n",
        "    \\sum_i \\left(\\sum_{j,k} {}_{p}t_{ijk} + \\sum_{j,k} {}_{q}t_{ijk}\\right)^2 \\\\\n",
        "    &+\\sum_j \\left(\\sum_{i,k} {}_{p}t_{ijk} + \\sum_{i,k} {}_{q}t_{ijk}\\right)^2\n",
        "    \\\\\n",
        "    &+\\sum_k \\left(\\sum_{i,j} {}_{p}t_{ijk} + \\sum_{i,j} {}_{q}t_{ijk}\\right)^2\n",
        "    \\leq 8\n",
        "\\end{align*}\n",
        "& \\text{limit encounters} & N^2-N & 12N^5 \\\\[2em]\n",
        "\\hline\n",
        "\\end{array}"
      ],
      "metadata": {
        "id": "RgdzgBhL-A4m"
      }
    },
    {
      "cell_type": "code",
      "source": [
        "%%writefile pdp.mod\n",
        "problem progressive_dinner_party;\n",
        "#--------------------------------\n",
        "\n",
        "set N;\n",
        "set T = {N,N,N};\n",
        "param C{N,N};\n",
        "\n",
        "var s{N} binary;\n",
        "var m{N} binary;\n",
        "var d{N} binary;\n",
        "var e{N,N} binary;\n",
        "var t{N,T} binary;\n",
        "\n",
        "minimize objective:\n",
        "\tsum {i in N, j in N} C[i,j]*e[i,j];\n",
        "\n",
        "subject to classes {i in N}:\n",
        "\ts[i] + m[i] + d[i] = 1;\n",
        "\t\n",
        "subject to inflow_s {i in N}:\n",
        "\tsum {j in N} s[i] * e[j,i] = 0;\n",
        "\t\n",
        "subject to outflow_s {i in N}:\n",
        "\tsum {j in N} s[i] * e[i,j] = 3 * s[i];\n",
        "\t\n",
        "subject to inflow_m {i in N}:\n",
        "\tsum {j in N} m[i] * e[j,i] = 3 * m[i];\n",
        "\t\n",
        "subject to outflow_m {i in N}:\n",
        "\tsum {j in N} m[i] * e[i,j] = 3 * m[i];\n",
        "\t\n",
        "subject to inflow_d {i in N}:\n",
        "\tsum {j in N} d[i] * e[j,i] = 3 * d[i];\n",
        "\t\n",
        "subject to outflow_d {i in N}:\n",
        "\tsum {j in N} d[i] * e[i,j] = 0;\n",
        "\t\n",
        "subject to shortcut {i in N, j in N}:\n",
        "\ts[i] * e[i,j] + d[j] <= 1;\n",
        "\t\n",
        "subject to equipartition:\n",
        "\t3 * sum {i in N} m[i] = card(N);\n",
        "\n",
        "subject to tour {label in N, (i,j,k) in T}:\n",
        "\tt[label, i,j,k] <= e[i,j]*e[j,k];\n",
        "\n",
        "subject to unique {label in N}:\n",
        "\tsum {(i,j,k) in T} t[label, i,j,k] = 1;\n",
        "\n",
        "subject to encounters {p in N, q in N: p <> q}:\n",
        "\t  sum {i in N} (sum {j in N, k in N} t[p, i,j,k] + sum {j in N, k in N} t[q, i,j,k])*(sum {j in N, k in N} t[p, i,j,k] + sum {j in N, k in N} t[q, i,j,k]) \n",
        "\t+ sum {j in N} (sum {i in N, k in N} t[p, i,j,k] + sum {i in N, k in N} t[q, i,j,k])*(sum {i in N, k in N} t[p, i,j,k] + sum {i in N, k in N} t[q, i,j,k])\n",
        "\t+ sum {k in N} (sum {i in N, j in N} t[p, i,j,k] + sum {i in N, j in N} t[q, i,j,k])*(sum {i in N, j in N} t[p, i,j,k] + sum {i in N, j in N} t[q, i,j,k])\n",
        "\t<= 8;"
      ],
      "metadata": {
        "id": "pgixlDm8G1xj",
        "outputId": "5338c7f8-354d-4db4-8a43-e0c54af46c0c",
        "colab": {
          "base_uri": "https://localhost:8080/"
        }
      },
      "execution_count": null,
      "outputs": [
        {
          "output_type": "stream",
          "name": "stdout",
          "text": [
            "Overwriting pdp.mod\n"
          ]
        }
      ]
    },
    {
      "cell_type": "markdown",
      "source": [
        "# Data"
      ],
      "metadata": {
        "id": "XW2AURgzIavl"
      }
    },
    {
      "cell_type": "code",
      "source": [
        "w_size = widgets.IntText(description='Size', orientation='horizontal', value=9, min=9)\n",
        "w_cluster = widgets.IntText(description='Clusters', orientation='horizontal', value=1, min=1)\n",
        "w_deviation = widgets.FloatText(description='Deviation', orientation='horizontal', value=0.1, min=0)\n",
        "w_scale = widgets.IntText(description='Scaling', orientation='horizontal', value=1)\n",
        "display(widgets.Box([w_size, w_cluster,w_deviation, w_scale], layout=widgets.Layout(display='flex', flex_flow='row')))"
      ],
      "metadata": {
        "id": "ZbMtrzssIR8r",
        "outputId": "e87197d4-e01f-4c6e-fdc6-1ad43d68cde0",
        "colab": {
          "base_uri": "https://localhost:8080/",
          "height": 49,
          "referenced_widgets": [
            "328caf29173d416f8e9c522860b89da2",
            "83ffbb1c63674a20997bb248007a01ff",
            "bdf638b9bf7f4693828ac0d3a861fce4",
            "9e4a96e301a34ebd8d828c8e36901489",
            "08e658a071274b49afcf67352a72358d",
            "c4316b4d23044bf49c0534cdb2240d4c",
            "e96f0ef4e3a645588ec5b8416576c63c",
            "403388fc8b8d45288e8fd1e6f80a417f",
            "0e03327ff39241538e16cb168cdefd5d",
            "6532d6589cc7446296721493e620835a",
            "a00cbc682c8d4d56abb484fcdaa08aaa",
            "0059122ff20344248a03b1bafece357d",
            "1821f4ba35e2414ea82959cdb1f46ade",
            "0af9afe511874cf2a733d82c89d82398"
          ]
        }
      },
      "execution_count": null,
      "outputs": [
        {
          "output_type": "display_data",
          "data": {
            "text/plain": [
              "Box(children=(IntText(value=9, description='Size'), IntText(value=1, description='Clusters'), FloatText(value=…"
            ],
            "application/vnd.jupyter.widget-view+json": {
              "version_major": 2,
              "version_minor": 0,
              "model_id": "328caf29173d416f8e9c522860b89da2"
            }
          },
          "metadata": {}
        }
      ]
    },
    {
      "cell_type": "code",
      "source": [
        "rng = np.random.default_rng()\n",
        "\n",
        "N = w_size.value\n",
        "K = w_cluster.value\n",
        "σ = w_deviation.value\n",
        "λ = w_scale.value\n",
        "\n",
        "assert N >= 9\n",
        "assert K > 0\n",
        "assert N % K == 0\n",
        "assert N % 3 == 0\n",
        "assert σ >= 0\n",
        "assert λ > 0\n",
        "\n",
        "points = {}\n",
        "centers = rng.uniform(-1, 1, (K, 2))\n",
        "for i in range(K):\n",
        "\tpoints[str(centers[i])] = λ * rng.normal(centers[i], σ, (N // K, 2))\n",
        "\n",
        "X = np.array(list(points.values())).reshape(N, 2)[:,0]\n",
        "Y = np.array(list(points.values())).reshape(N, 2)[:,1]\n",
        "\n",
        "G = nx.DiGraph()\n",
        "for i in range(N):\n",
        "\tG.add_node(i, x = X[i], y = Y[i])\n",
        "\n",
        "C = np.empty((N,N))\n",
        "for a,b in itertools.product(range(N), range(N)):\n",
        "\tdX = (X[b]-X[a]) * (X[b]-X[a])\n",
        "\tdY = (Y[b]-Y[a]) * (Y[b]-Y[a])\n",
        "\tC[a,b] = np.sqrt(dX + dY)\n",
        "\n",
        "with open('pdp.dat', 'w') as f:\n",
        "\tf.write('set N :=')\n",
        "\tfor n in range(1, N + 1):\n",
        "\t\tf.write(f' {n}')\n",
        "\tf.write(';\\n')\n",
        "\tf.write('param C :=\\n')\n",
        "\tfor i,j in itertools.product(range(N), range(N)):\n",
        "\t\tf.write(f'{i+1} {j+1} {C[i,j]}\\n')\n",
        "\tf.write(';')\n",
        "\n",
        "plt.scatter(X,Y)\n",
        "plt.show()"
      ],
      "metadata": {
        "id": "kQ8rb5aVHAZY",
        "outputId": "d1c88327-b923-4464-8a04-8a1f8c59f163",
        "colab": {
          "base_uri": "https://localhost:8080/",
          "height": 432
        }
      },
      "execution_count": null,
      "outputs": [
        {
          "output_type": "display_data",
          "data": {
            "text/plain": [
              "<Figure size 640x480 with 1 Axes>"
            ],
            "image/png": "[encoded data removed]"
          },
          "metadata": {}
        }
      ]
    },
    {
      "cell_type": "code",
      "source": [
        "ampl = AMPL()"
      ],
      "metadata": {
        "id": "H14-7NnWK30y"
      },
      "execution_count": null,
      "outputs": []
    },
    {
      "cell_type": "code",
      "source": [
        "ampl.setOption('solver', 'gurobi')\n",
        "ampl.setOption('gurobi_options', 'outlev=1 presolve=2 mipfocus=2 mipgap=0.2')\n",
        "ampl.setOption('solution_round', '0')"
      ],
      "metadata": {
        "id": "9OGh0qaXuEOw"
      },
      "execution_count": null,
      "outputs": []
    },
    {
      "cell_type": "code",
      "source": [
        "ampl.read('pdp.mod')"
      ],
      "metadata": {
        "id": "l5vXsgkyE50Z"
      },
      "execution_count": null,
      "outputs": []
    },
    {
      "cell_type": "code",
      "source": [
        "ampl.read_data('pdp.dat')"
      ],
      "metadata": {
        "id": "QLc6v2MVFCjy"
      },
      "execution_count": null,
      "outputs": []
    },
    {
      "cell_type": "code",
      "source": [
        "ampl.solve()"
      ],
      "metadata": {
        "id": "zixDyTUCFI1H",
        "outputId": "07fd8b2c-550b-44dd-f1a5-05a5b34f9694",
        "colab": {
          "base_uri": "https://localhost:8080/"
        }
      },
      "execution_count": null,
      "outputs": [
        {
          "output_type": "stream",
          "name": "stdout",
          "text": [
            "x-Gurobi 10.0.0: Set parameter OutputFlag to value 1\r\n",
            "Set parameter Presolve to value 2\r\n",
            "Set parameter MIPFocus to value 2\r\n",
            "Set parameter MIPGap to value 0.2\r\n",
            "Set parameter InfUnbdInfo to value 1\r\n",
            "Gurobi Optimizer version 10.0.0 build v10.0.0rc2 (win64)\r\n",
            "\r\n",
            "CPU model: Intel(R) Core(TM) i7-1065G7 CPU @ 1.30GHz, instruction set [SSE2|AVX|AVX2|AVX512]\r\n",
            "Thread count: 4 physical cores, 8 logical processors, using up to 8 threads\r\n",
            "\r\n",
            "Optimize a model with 19 rows, 6669 columns and 6597 nonzeros\r\n",
            "Model fingerprint: 0x5e6f33c5\r\n",
            "Model has 6768 quadratic constraints\r\n",
            "Variable types: 0 continuous, 6669 integer (0 binary)\r\n",
            "Coefficient statistics:\r\n",
            "  Matrix range     [1e+00, 3e+00]\r\n",
            "  QMatrix range    [1e+00, 6e+00]\r\n",
            "  QLMatrix range   [1e+00, 3e+00]\r\n",
            "  Objective range  [2e-01, 4e+00]\r\n",
            "  Bounds range     [1e+00, 1e+00]\r\n",
            "  RHS range        [1e+00, 9e+00]\r\n",
            "  QRHS range       [1e+00, 8e+00]\r\n",
            "\r\n",
            "User MIP start did not produce a new incumbent solution\r\n",
            "User MIP start violates constraint R0 by 1.000000000\r\n",
            "Processed MIP start in 1.91 seconds (0.55 work units)\r\n",
            "\n",
            "Presolve removed 0 rows and 0 columns (presolve time = 6s) ...\n",
            "Presolve removed 324 rows and 0 columns (presolve time = 10s) ...\n",
            "Presolve removed 324 rows and 0 columns (presolve time = 15s) ...\n",
            "Presolve removed 324 rows and 0 columns (presolve time = 20s) ...\n",
            "Presolve removed 324 rows and 0 columns (presolve time = 25s) ...\n",
            "Presolve removed 333 rows and 0 columns (presolve time = 31s) ...\n",
            "Presolve removed 333 rows and 0 columns (presolve time = 35s) ...\n",
            "Presolve removed 333 rows and 0 columns (presolve time = 40s) ...\n",
            "Presolve removed 333 rows and 0 columns (presolve time = 45s) ...\n",
            "Presolve removed 333 rows and 0 columns (presolve time = 50s) ...\n",
            "Presolve removed 333 rows and 0 columns (presolve time = 55s) ...\n",
            "Presolve removed 333 rows and 0 columns (presolve time = 60s) ...\n",
            "Presolve removed 333 rows and 0 columns (presolve time = 65s) ...\n",
            "Presolve removed 333 rows and 0 columns (presolve time = 70s) ...\n",
            "Presolve removed 435 rows and 0 columns (presolve time = 75s) ...\n",
            "Presolve removed 435 rows and 0 columns (presolve time = 80s) ...\n",
            "Presolve removed 435 rows and 0 columns (presolve time = 85s) ...\n",
            "Presolve removed 435 rows and 0 columns (presolve time = 90s) ...\n",
            "Presolve added 6360 rows and 684 columns\n",
            "Presolve time: 94.02s\n",
            "Presolved: 8593 rows, 8118 columns, 25984 nonzeros\n",
            "Presolved model has 36 quadratic constraint(s)\n",
            "Variable types: 684 continuous, 7434 integer (7434 binary)\n",
            "Root relaxation presolve removed 774 rows and 1080 columns\n",
            "Root relaxation presolved: 7819 rows, 7038 columns, 23793 nonzeros\n",
            "\n",
            "\n",
            "Root simplex log...\n",
            "\n",
            "Iteration    Objective       Primal Inf.    Dual Inf.      Time\n",
            "       0    0.0000000e+00   2.150000e+01   0.000000e+00     97s\n",
            "     355    7.5987914e+00   0.000000e+00   0.000000e+00     97s\n",
            "     355    7.5987914e+00   0.000000e+00   0.000000e+00     97s\n",
            "\n",
            "Use crossover to convert LP symmetric solution to basic solution...\n",
            "\n",
            "Root crossover log...\n",
            "\n",
            "      30 PPushes remaining with PInf 0.0000000e+00                97s\n",
            "       0 PPushes remaining with PInf 0.0000000e+00                97s\n",
            "\n",
            "  Push phase complete: Pinf 0.0000000e+00, Dinf 3.1641356e-15     97s\n",
            "\n",
            "\n",
            "Root simplex log...\n",
            "\n",
            "Iteration    Objective       Primal Inf.    Dual Inf.      Time\n",
            "     388    7.5987914e+00   0.000000e+00   0.000000e+00     97s\n",
            "     388    7.5987914e+00   0.000000e+00   0.000000e+00     97s\n",
            "\n",
            "Root relaxation: objective 7.598791e+00, 388 iterations, 0.05 seconds (0.05 work units)\n",
            "Another try with MIP start\n",
            "\n",
            "    Nodes    |    Current Node    |     Objective Bounds      |     Work\n",
            " Expl Unexpl |  Obj  Depth IntInf | Incumbent    BestBd   Gap | It/Node Time\n",
            "\n",
            "     0     0    7.59879    0   86          -    7.59879      -     -  113s\n",
            "     0     0   13.26622    0   95          -   13.26622      -     -  140s\n",
            "     0     0   14.62044    0  113          -   14.62044      -     -  170s\n",
            "     0     0   14.64379    0  117          -   14.64379      -     -  172s\n",
            "     0     0   15.75362    0  107          -   15.75362      -     -  180s\n",
            "     0     0   15.75699    0  110          -   15.75699      -     -  192s\n",
            "     0     0   16.28296    0  126          -   16.28296      -     -  198s\n",
            "     0     0   16.33937    0  114          -   16.33937      -     -  201s\n",
            "     0     0   16.57897    0  123          -   16.57897      -     -  206s\n",
            "     0     0   16.58898    0  120          -   16.58898      -     -  208s\n",
            "     0     0   16.71413    0  109          -   16.71413      -     -  214s\n",
            "     0     0   16.73711    0  120          -   16.73711      -     -  217s\n",
            "     0     0   16.78166    0  138          -   16.78166      -     -  224s\n",
            "     0     0   16.78826    0  137          -   16.78826      -     -  227s\n",
            "     0     0   16.82883    0  140          -   16.82883      -     -  236s\n",
            "     0     0   16.83532    0  149          -   16.83532      -     -  238s\n",
            "     0     0   17.01250    0  140          -   17.01250      -     -  246s\n",
            "H    0     0                      31.7082330   17.06064  46.2%     -  248s\n",
            "     0     0   17.06064    0  144   31.70823   17.06064  46.2%     -  249s\n",
            "     0     0   17.17354    0  126   31.70823   17.17354  45.8%     -  253s\n",
            "     0     0   17.17934    0  137   31.70823   17.17934  45.8%     -  257s\n",
            "     0     0   17.27318    0  127   31.70823   17.27318  45.5%     -  261s\n",
            "     0     0   17.29128    0  131   31.70823   17.29128  45.5%     -  267s\n",
            "     0     0   17.48070    0  149   31.70823   17.48070  44.9%     -  279s\n",
            "     0     0   17.52843    0  113   31.70823   17.52843  44.7%     -  285s\n",
            "     0     0   17.81963    0  126   31.70823   17.81963  43.8%     -  291s\n",
            "     0     0   17.83760    0  125   31.70823   17.83760  43.7%     -  294s\n",
            "H    0     0                      24.6239341   17.83760  27.6%     -  297s\n",
            "     0     0   17.95631    0  144   24.62393   17.95631  27.1%     -  298s\n",
            "     0     0   17.95838    0  146   24.62393   17.95838  27.1%     -  302s\n",
            "     0     0   17.96538    0  149   24.62393   17.96538  27.0%     -  314s\n",
            "     0     0   17.97823    0  148   24.62393   17.97823  27.0%     -  319s\n",
            "     0     0   18.09429    0  134   24.62393   18.09429  26.5%     -  327s\n",
            "     0     0   18.12882    0  146   24.62393   18.12882  26.4%     -  330s\n",
            "     0     0   18.22554    0  151   24.62393   18.22554  26.0%     -  341s\n",
            "     0     0   18.22730    0  150   24.62393   18.22730  26.0%     -  345s\n",
            "     0     0   18.23579    0  137   24.62393   18.23579  25.9%     -  350s\n",
            "     0     0   18.24878    0  136   24.62393   18.24878  25.9%     -  354s\n",
            "     0     0   18.43701    0  140   24.62393   18.43701  25.1%     -  360s\n",
            "     0     0   18.48936    0  130   24.62393   18.48936  24.9%     -  364s\n",
            "     0     0   18.54776    0  150   24.62393   18.54776  24.7%     -  369s\n",
            "     0     0   18.54776    0  151   24.62393   18.54776  24.7%     -  371s\n",
            "     0     0   18.61150    0  140   24.62393   18.61150  24.4%     -  377s\n",
            "     0     0   18.62071    0  157   24.62393   18.62071  24.4%     -  382s\n",
            "H    0     0                      24.6009197   18.62071  24.3%     -  385s\n",
            "     0     0   18.64737    0  151   24.60092   18.64737  24.2%     -  387s\n",
            "     0     0   18.64737    0  165   24.60092   18.64737  24.2%     -  392s\n",
            "     0     0   18.66282    0  172   24.60092   18.66282  24.1%     -  403s\n",
            "     0     0   18.66282    0  167   24.60092   18.66282  24.1%     -  407s\n",
            "     0     0   18.66282    0  170   24.60092   18.66282  24.1%     -  413s\n",
            "     0     0   18.66282    0  136   24.60092   18.66282  24.1%     -  415s\n",
            "     0     2   18.66282    0  113   24.60092   18.66282  24.1%     -  437s\n",
            "     1     4   18.66282    1  111   24.60092   18.66282  24.1%  2043  440s\n",
            "     7    12   18.88914    3  133   24.60092   18.70119  24.0%   586  447s\n",
            "    15    20   19.43424    5  110   24.60092   18.70119  24.0%   427  451s\n",
            "    29    34   19.48988    8   88   24.60092   18.70119  24.0%   368  459s\n",
            "    33    41   19.52320    9   84   24.60092   18.70119  24.0%   338  460s\n",
            "    65    63   20.43685   13   67   24.60092   18.70119  24.0%   225  466s\n",
            "    97    82     cutoff   17        24.60092   18.73502  23.8%   184  474s\n",
            "   102    87   18.78708    4   98   24.60092   18.74109  23.8%   181  476s\n",
            "   132    94   20.50504   11   87   24.60092   18.74109  23.8%   179  482s\n",
            "   168   113   20.66395   14   91   24.60092   18.74109  23.8%   155  488s\n",
            "   193   124   20.94306   18   86   24.60092   18.74109  23.8%   141  492s\n",
            "   215   127   21.41898   21   35   24.60092   18.74109  23.8%   143  496s\n",
            "   235   135     cutoff   25        24.60092   18.74109  23.8%   139  502s\n",
            "   247   136   22.84374   28   42   24.60092   18.74109  23.8%   135  507s\n",
            "   253   138   23.25883   31   25   24.60092   18.74109  23.8%   134  514s\n",
            "   261   153     cutoff   31        24.60092   18.74109  23.8%   132  520s\n",
            "   294   158   23.25883   38   12   24.60092   18.74109  23.8%   122  528s\n",
            "   299   157   23.25883   38    -   24.60092   18.74109  23.8%   122  536s\n",
            "   306   159   23.25883   38    4   24.60092   18.74109  23.8%   120  542s\n",
            "   317   163   23.25883   38   10   24.60092   18.74109  23.8%   117  547s\n",
            "   321   165   23.25883   38   17   24.60092   18.74109  23.8%   116  551s\n",
            "   325   166   23.25883   37   12   24.60092   18.74109  23.8%   116  555s\n",
            "   332   169   23.25883   39    -   24.60092   18.74109  23.8%   114  560s\n",
            "   343   170 infeasible   43        24.60092   18.74109  23.8%   111  565s\n",
            "   358   172   23.25883   45    -   24.60092   18.78235  23.7%   109  570s\n",
            "   372   182   18.79851    6  110   24.60092   18.79851  23.6%   108  580s\n",
            "   392   195   19.82859   12   99   24.60092   18.80317  23.6%   106  587s\n",
            "   406   200   20.40229   16  101   24.60092   18.80317  23.6%   106  597s\n",
            "   428   203   20.49994   18  100   24.60092   18.80317  23.6%   105  606s\n",
            "H  436   209                      23.2588335   18.80317  19.2%   104  611s\n",
            "\n",
            "Cutting planes:\n",
            "  Gomory: 22\n",
            "  Lift-and-project: 67\n",
            "  Implied bound: 136\n",
            "  Clique: 1\n",
            "  MIR: 62\n",
            "  StrongCG: 6\n",
            "  Flow cover: 111\n",
            "  Zero half: 98\n",
            "  RLT: 31\n",
            "\n",
            "Explored 453 nodes (77867 simplex iterations) in 611.71 seconds (276.62 work units)\n",
            "Thread count was 8 (of 8 available processors)\n",
            "\n",
            "Solution count 4: 23.2588 24.6009 24.6239 31.7082 \n",
            "\n",
            "Optimal solution found (tolerance 2.00e-01)\n",
            "Best objective 2.325883348259e+01, best bound 1.880316947164e+01, gap 19.1569%\n",
            "tech:outlev=1\n",
            "pre:solve=2\n",
            "mip:focus=2\n",
            "mip:gap=0.2\n",
            "x-Gurobi 10.0.0: optimal solution; objective 23.25883348\n",
            "77867 simplex iterations\n",
            "453 branching nodes\n",
            "absmipgap=4.45566, relmipgap=0.191569\n"
          ]
        }
      ]
    },
    {
      "cell_type": "code",
      "source": [
        "s = ampl.get_variable('s').get_values()\n",
        "m = ampl.get_variable('m').get_values()\n",
        "d = ampl.get_variable('d').get_values()\n",
        "e = ampl.get_variable('e').get_values()\n",
        "t = ampl.get_variable('t').get_values()\n",
        "\n",
        "S = np.array(s.get_column('s.val').to_list())\n",
        "M = np.array(m.get_column('m.val').to_list())\n",
        "D = np.array(d.get_column('d.val').to_list())\n",
        "E = np.reshape(e.get_column('e.val').to_list(), (N,N))\n",
        "T = np.reshape(t.get_column('t.val').to_list(), (N,N,N,N))"
      ],
      "metadata": {
        "id": "oiETfJOTLuMZ"
      },
      "execution_count": null,
      "outputs": []
    },
    {
      "cell_type": "code",
      "source": [
        "tours = [(l,i,j,k) for l in range(N) for i in range(N) for j in range(N) for k in range(N) if T[l, i,j,k] == 1]\n",
        "for (l,i,j,k) in tours:\n",
        "    G.add_edge(i, j, color=l)\n",
        "    G.add_edge(j, k, color=l)\n",
        "\n",
        "nodes = dict(G.nodes(data=True))\n",
        "pos = {k: list(v.values()) for k, v in nodes.items()}\n",
        "\n",
        "plt.figure(1)\n",
        "nx.draw(\n",
        "    G, pos,\n",
        "    edge_color = nx.get_edge_attributes(G,'color').values(),\n",
        "    edge_cmap = plt.cm.get_cmap('Set3'),\n",
        "    node_color = S + 2*M + 3*D,\n",
        "    width=3, node_size=50, connectionstyle='arc3,rad=0.1')\n",
        "plt.show()"
      ],
      "metadata": {
        "colab": {
          "base_uri": "https://localhost:8080/",
          "height": 516
        },
        "id": "F_czUjRzXV4d",
        "outputId": "168b0a68-61e0-400d-f647-906ed7b3cc4a"
      },
      "execution_count": null,
      "outputs": [
        {
          "output_type": "display_data",
          "data": {
            "text/plain": [
              "<Figure size 640x480 with 1 Axes>"
            ],
            "image/png": "[encoded data removed]"
          },
          "metadata": {}
        }
      ]
    },
    {
      "cell_type": "markdown",
      "source": [
        "The given QCBP is linerizable to a MILP.\n",
        "\n",
        "The decision variables' count scales to the order of four.\n",
        "\n",
        "The \"limit encounters\" constraint's amount of summands scales to the order of five.\n",
        "\n",
        "Therefore, this formulation scales poorly."
      ],
      "metadata": {
        "id": "l_QlXJKLHqe2"
      }
    },
    {
      "cell_type": "markdown",
      "source": [
        "# CSP Formulation"
      ],
      "metadata": {
        "id": "OxK_UNBzI8qg"
      }
    },
    {
      "cell_type": "code",
      "source": [
        "%load_ext iminizinc"
      ],
      "metadata": {
        "id": "TeQdpG7gK9JN",
        "outputId": "c302a28d-3bc1-482c-a691-09b18f99cf24",
        "colab": {
          "base_uri": "https://localhost:8080/",
          "height": 52
        }
      },
      "execution_count": 1,
      "outputs": [
        {
          "output_type": "display_data",
          "data": {
            "text/plain": [
              "<IPython.core.display.Javascript object>"
            ],
            "application/javascript": [
              "\"use strict\";\n",
              "\n",
              "CodeMirror.defineMode(\"text/minizinc\", function(config) {\n",
              "\n",
              "  var isOperatorChar = /[+\\-*=<>\\/]/;\n",
              "\n",
              "  var keywords = {\"array\":true,\n",
              "  \"bool\":true,\n",
              "  \"case\":true,\n",
              "  \"constraint\":true,\n",
              "  \"diff\":true,\n",
              "  \"div\":true,\n",
              "  \"else\":true,\n",
              "  \"elseif\":true,\n",
              "  \"endif\":true,\n",
              "  \"enum\":true,\n",
              "  \"false\":true,\n",
              "  \"float\":true,\n",
              "  \"function\":true,\n",
              "  \"if\":true,\n",
              "  \"in\":true,\n",
              "  \"include\":true,\n",
              "  \"int\":true,\n",
              "  \"intersect\":true,\n",
              "  \"let\":true,\n",
              "  \"list\":true,\n",
              "  \"maximize\":true,\n",
              "  \"minimize\":true,\n",
              "  \"mod\":true,\n",
              "  \"not\":true,\n",
              "  \"of\":true,\n",
              "  \"op\":true,\n",
              "  \"output\":true,\n",
              "  \"par\":true,\n",
              "  \"predicate\":true,\n",
              "  \"record\":true,\n",
              "  \"satisfy\":true,\n",
              "  \"set\":true,\n",
              "  \"solve\":true,\n",
              "  \"string\":true,\n",
              "  \"subset\":true,\n",
              "  \"superset\":true,\n",
              "  \"symdiff\":true,\n",
              "  \"test\":true,\n",
              "  \"then\":true,\n",
              "  \"true\":true,\n",
              "  \"tuple\":true,\n",
              "  \"type\":true,\n",
              "  \"union\":true,\n",
              "  \"var\":true,\n",
              "  \"where\":true,\n",
              "  \"xor\":true};\n",
              "\n",
              "  var punc = \":;,.(){}[]\";\n",
              "\n",
              "  function tokenBase(stream, state) {\n",
              "    var ch = stream.next();\n",
              "    if (ch == '\"') {\n",
              "      state.tokenize.push(tokenString);\n",
              "      return tokenString(stream, state);\n",
              "    }\n",
              "    if (/[\\d\\.]/.test(ch)) {\n",
              "      if (ch == \".\") {\n",
              "        stream.match(/^[0-9]+([eE][\\-+]?[0-9]+)?/);\n",
              "      } else if (ch == \"0\") {\n",
              "        stream.match(/^[xX][0-9a-fA-F]+/) || stream.match(/^0[0-7]+/);\n",
              "      } else {\n",
              "        stream.match(/^[0-9]*\\.?[0-9]*([eE][\\-+]?[0-9]+)?/);\n",
              "      }\n",
              "      return \"number\";\n",
              "    }\n",
              "    if (ch == \"/\") {\n",
              "      if (stream.eat(\"*\")) {\n",
              "        state.tokenize.push(tokenComment);\n",
              "        return tokenComment(stream, state);\n",
              "      }\n",
              "    }\n",
              "    if (ch == \"%\") {\n",
              "      stream.skipToEnd();\n",
              "      return \"comment\";\n",
              "    }\n",
              "    if (isOperatorChar.test(ch)) {\n",
              "      stream.eatWhile(isOperatorChar);\n",
              "      return \"operator\";\n",
              "    }\n",
              "    if (punc.indexOf(ch) > -1) {\n",
              "      return \"punctuation\";\n",
              "    }\n",
              "    stream.eatWhile(/[\\w\\$_\\xa1-\\uffff]/);\n",
              "    var cur = stream.current();\n",
              "    if (keywords.propertyIsEnumerable(cur)) {\n",
              "      return \"keyword\";\n",
              "    }\n",
              "    return \"variable\";\n",
              "  }\n",
              "\n",
              "  function tokenComment(stream, state) {\n",
              "    var maybeEnd = false, ch;\n",
              "    while (ch = stream.next()) {\n",
              "      if (ch == \"/\" && maybeEnd) {\n",
              "        state.tokenize.pop();\n",
              "        break;\n",
              "      }\n",
              "      maybeEnd = (ch == \"*\");\n",
              "    }\n",
              "    return \"comment\";\n",
              "  }\n",
              "\n",
              "  function tokenUntilClosingParen() {\n",
              "    var depth = 0;\n",
              "    return function(stream, state, prev) {\n",
              "      var inner = tokenBase(stream, state, prev);\n",
              "      console.log(\"untilClosing\",inner,stream.current());\n",
              "      if (inner == \"punctuation\") {\n",
              "        if (stream.current() == \"(\") {\n",
              "          ++depth;\n",
              "        } else if (stream.current() == \")\") {\n",
              "          if (depth == 0) {\n",
              "            stream.backUp(1)\n",
              "            state.tokenize.pop()\n",
              "            return state.tokenize[state.tokenize.length - 1](stream, state)\n",
              "          } else {\n",
              "            --depth;\n",
              "          }\n",
              "        }\n",
              "      }\n",
              "      return inner;\n",
              "    }\n",
              "  }\n",
              "\n",
              "  function tokenString(stream, state) {\n",
              "    var escaped = false, next, end = false;\n",
              "    while ((next = stream.next()) != null) {\n",
              "      if (next=='(' && escaped) {\n",
              "        state.tokenize.push(tokenUntilClosingParen());\n",
              "        return \"string\";\n",
              "      }\n",
              "      if (next == '\"' && !escaped) {end = true; break;}\n",
              "      escaped = !escaped && next == \"\\\\\";\n",
              "    }\n",
              "    if (end || !escaped)\n",
              "      state.tokenize.pop();\n",
              "    return \"string\";\n",
              "  }\n",
              "\n",
              "  return {\n",
              "    startState: function(basecolumn) {\n",
              "      return {\n",
              "        tokenize: []\n",
              "      };\n",
              "    },\n",
              "\n",
              "    token: function(stream, state) {\n",
              "      if (stream.eatSpace()) return null;\n",
              "      var style = (state.tokenize[state.tokenize.length - 1] || tokenBase)(stream, state);\n",
              "      console.log(\"token\",style);\n",
              "      return style;\n",
              "    },\n",
              "\n",
              "    blockCommentStart: \"/*\",\n",
              "    blockCommentEnd: \"*/\",\n",
              "    lineComment: \"%\"\n",
              "  };\n",
              "});\n",
              "\n",
              "CodeMirror.defineMIME(\"text/minizinc\", \"text/minizinc\");\n",
              "\n",
              "Jupyter.CodeCell.options_default.highlight_modes['magic_text/minizinc'] = {'reg':[/^%%minizinc/]} ;\n",
              "\n",
              "Jupyter.notebook.get_cells().map(function(cell){\n",
              "  if (cell.cell_type == 'code'){ cell.auto_highlight(); }\n",
              "}) ;\n"
            ]
          },
          "metadata": {}
        },
        {
          "output_type": "stream",
          "name": "stdout",
          "text": [
            "MiniZinc to FlatZinc converter, version 2.6.4, build 570825159\r\n",
            "Copyright (C) 2014-2022 Monash University, NICTA, Data61\n"
          ]
        }
      ]
    },
    {
      "cell_type": "code",
      "source": [
        "%%minizinc -m bind\n",
        "\n",
        "include \"alldifferent.mzn\";\n",
        "include \"all_disjoint.mzn\";\n",
        "include \"count.mzn\";\n",
        "\n",
        "int: n = 90;\n",
        "set of int: N = 1..n;\n",
        "\n",
        "array[1..3,N] of var 1..n: t;\n",
        "\n",
        "predicate once_per_column (array [$X] of var int: column) = alldifferent(column);\n",
        "predicate three_per_row (array [$X] of var $$E: row, var $$E: x) = count(row, x) = 3;\n",
        "predicate soft_disjoint_columns (var set of $$T: p, var set of $$T: q) = card(p intersect q) <= 1;\n",
        "\n",
        "constraint all_disjoint([array2set(t[i,N]) | i in 1..3]);\n",
        "constraint forall (j in N) (once_per_column( t[1..3, j] ));\n",
        "constraint forall (i in 1..3, x in t[i,N]) (three_per_row( t[i,N], x ));\n",
        "constraint forall (p in N, q in 1..(p - 1)) (soft_disjoint_columns( array2set(t[1..3,p]), array2set(t[1..3,q]) ));\n",
        "\n",
        "solve satisfy;"
      ],
      "metadata": {
        "id": "AQnGhfq5K-Zx"
      },
      "execution_count": 8,
      "outputs": []
    },
    {
      "cell_type": "code",
      "source": [
        "pd.DataFrame(t)"
      ],
      "metadata": {
        "id": "FMifTCPMOKGh",
        "outputId": "b677146d-c913-4c62-cf9b-a7a5ea883530",
        "colab": {
          "base_uri": "https://localhost:8080/",
          "height": 173
        }
      },
      "execution_count": 9,
      "outputs": [
        {
          "output_type": "execute_result",
          "data": {
            "text/plain": [
              "   0   1   2   3   4   5   6   7   8   9   ...  80  81  82  83  84  85  86  \\\n",
              "0  60  60  90  60  57  57  87  57  90  54  ...  63   6   6  63   6   3   3   \n",
              "1  58  89  58  56  86  56  58  89  56  52  ...   8   4  62   4   2  65   2   \n",
              "2  88  59  59  85  59  88  55  55  55  85  ...   7  61   5   5  64   5  61   \n",
              "\n",
              "   87  88  89  \n",
              "0  66   3  63  \n",
              "1   4  62   2  \n",
              "2   1   1   1  \n",
              "\n",
              "[3 rows x 90 columns]"
            ],
            "text/html": [
              "<div>\n",
              "<style scoped>\n",
              "    .dataframe tbody tr th:only-of-type {\n",
              "        vertical-align: middle;\n",
              "    }\n",
              "\n",
              "    .dataframe tbody tr th {\n",
              "        vertical-align: top;\n",
              "    }\n",
              "\n",
              "    .dataframe thead th {\n",
              "        text-align: right;\n",
              "    }\n",
              "</style>\n",
              "<table border=\"1\" class=\"dataframe\">\n",
              "  <thead>\n",
              "    <tr style=\"text-align: right;\">\n",
              "      <th></th>\n",
              "      <th>0</th>\n",
              "      <th>1</th>\n",
              "      <th>2</th>\n",
              "      <th>3</th>\n",
              "      <th>4</th>\n",
              "      <th>5</th>\n",
              "      <th>6</th>\n",
              "      <th>7</th>\n",
              "      <th>8</th>\n",
              "      <th>9</th>\n",
              "      <th>...</th>\n",
              "      <th>80</th>\n",
              "      <th>81</th>\n",
              "      <th>82</th>\n",
              "      <th>83</th>\n",
              "      <th>84</th>\n",
              "      <th>85</th>\n",
              "      <th>86</th>\n",
              "      <th>87</th>\n",
              "      <th>88</th>\n",
              "      <th>89</th>\n",
              "    </tr>\n",
              "  </thead>\n",
              "  <tbody>\n",
              "    <tr>\n",
              "      <th>0</th>\n",
              "      <td>60</td>\n",
              "      <td>60</td>\n",
              "      <td>90</td>\n",
              "      <td>60</td>\n",
              "      <td>57</td>\n",
              "      <td>57</td>\n",
              "      <td>87</td>\n",
              "      <td>57</td>\n",
              "      <td>90</td>\n",
              "      <td>54</td>\n",
              "      <td>...</td>\n",
              "      <td>63</td>\n",
              "      <td>6</td>\n",
              "      <td>6</td>\n",
              "      <td>63</td>\n",
              "      <td>6</td>\n",
              "      <td>3</td>\n",
              "      <td>3</td>\n",
              "      <td>66</td>\n",
              "      <td>3</td>\n",
              "      <td>63</td>\n",
              "    </tr>\n",
              "    <tr>\n",
              "      <th>1</th>\n",
              "      <td>58</td>\n",
              "      <td>89</td>\n",
              "      <td>58</td>\n",
              "      <td>56</td>\n",
              "      <td>86</td>\n",
              "      <td>56</td>\n",
              "      <td>58</td>\n",
              "      <td>89</td>\n",
              "      <td>56</td>\n",
              "      <td>52</td>\n",
              "      <td>...</td>\n",
              "      <td>8</td>\n",
              "      <td>4</td>\n",
              "      <td>62</td>\n",
              "      <td>4</td>\n",
              "      <td>2</td>\n",
              "      <td>65</td>\n",
              "      <td>2</td>\n",
              "      <td>4</td>\n",
              "      <td>62</td>\n",
              "      <td>2</td>\n",
              "    </tr>\n",
              "    <tr>\n",
              "      <th>2</th>\n",
              "      <td>88</td>\n",
              "      <td>59</td>\n",
              "      <td>59</td>\n",
              "      <td>85</td>\n",
              "      <td>59</td>\n",
              "      <td>88</td>\n",
              "      <td>55</td>\n",
              "      <td>55</td>\n",
              "      <td>55</td>\n",
              "      <td>85</td>\n",
              "      <td>...</td>\n",
              "      <td>7</td>\n",
              "      <td>61</td>\n",
              "      <td>5</td>\n",
              "      <td>5</td>\n",
              "      <td>64</td>\n",
              "      <td>5</td>\n",
              "      <td>61</td>\n",
              "      <td>1</td>\n",
              "      <td>1</td>\n",
              "      <td>1</td>\n",
              "    </tr>\n",
              "  </tbody>\n",
              "</table>\n",
              "<p>3 rows × 90 columns</p>\n",
              "</div>"
            ]
          },
          "metadata": {},
          "execution_count": 9
        }
      ]
    }
  ]
}