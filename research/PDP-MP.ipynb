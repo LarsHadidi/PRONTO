{
  "nbformat": 4,
  "nbformat_minor": 0,
  "metadata": {
    "colab": {
      "provenance": []
    },
    "kernelspec": {
      "name": "python3",
      "display_name": "Python 3"
    },
    "language_info": {
      "name": "python"
    },
    "widgets": {
      "application/vnd.jupyter.widget-state+json": {
        "5f60bded7b9b4713b5c98a33318239c9": {
          "model_module": "@jupyter-widgets/controls",
          "model_name": "BoxModel",
          "model_module_version": "2.0.0",
          "state": {
            "_dom_classes": [],
            "_model_module": "@jupyter-widgets/controls",
            "_model_module_version": "2.0.0",
            "_model_name": "BoxModel",
            "_view_count": null,
            "_view_module": "@jupyter-widgets/controls",
            "_view_module_version": "2.0.0",
            "_view_name": "BoxView",
            "box_style": "",
            "children": [
              "IPY_MODEL_0d8347173e8b40ada9d0511b1c929ef0",
              "IPY_MODEL_55aedd3b2c8e4078830ee24889e2e265",
              "IPY_MODEL_ebba13ffb37b433393cb20a4f40a779d",
              "IPY_MODEL_b532b1dab463477f9a095b372255f7d8"
            ],
            "layout": "IPY_MODEL_5cae352e2d8c433aaf3037d486666d2e",
            "tabbable": null,
            "tooltip": null
          }
        },
        "0d8347173e8b40ada9d0511b1c929ef0": {
          "model_module": "@jupyter-widgets/controls",
          "model_name": "IntTextModel",
          "model_module_version": "2.0.0",
          "state": {
            "_dom_classes": [],
            "_model_module": "@jupyter-widgets/controls",
            "_model_module_version": "2.0.0",
            "_model_name": "IntTextModel",
            "_view_count": null,
            "_view_module": "@jupyter-widgets/controls",
            "_view_module_version": "2.0.0",
            "_view_name": "IntTextView",
            "continuous_update": false,
            "description": "Size",
            "description_allow_html": false,
            "disabled": false,
            "layout": "IPY_MODEL_06a13b683c684aadb14edcecaf3527d3",
            "step": 1,
            "style": "IPY_MODEL_0292732168d048c7b30279da9b7f7802",
            "tabbable": null,
            "tooltip": null,
            "value": 9
          }
        },
        "55aedd3b2c8e4078830ee24889e2e265": {
          "model_module": "@jupyter-widgets/controls",
          "model_name": "IntTextModel",
          "model_module_version": "2.0.0",
          "state": {
            "_dom_classes": [],
            "_model_module": "@jupyter-widgets/controls",
            "_model_module_version": "2.0.0",
            "_model_name": "IntTextModel",
            "_view_count": null,
            "_view_module": "@jupyter-widgets/controls",
            "_view_module_version": "2.0.0",
            "_view_name": "IntTextView",
            "continuous_update": false,
            "description": "Clusters",
            "description_allow_html": false,
            "disabled": false,
            "layout": "IPY_MODEL_9690e1b8ad9744b583181eaeafa2cfb8",
            "step": 1,
            "style": "IPY_MODEL_af173b39684847bf84928e36380c7c3b",
            "tabbable": null,
            "tooltip": null,
            "value": 9
          }
        },
        "ebba13ffb37b433393cb20a4f40a779d": {
          "model_module": "@jupyter-widgets/controls",
          "model_name": "FloatTextModel",
          "model_module_version": "2.0.0",
          "state": {
            "_dom_classes": [],
            "_model_module": "@jupyter-widgets/controls",
            "_model_module_version": "2.0.0",
            "_model_name": "FloatTextModel",
            "_view_count": null,
            "_view_module": "@jupyter-widgets/controls",
            "_view_module_version": "2.0.0",
            "_view_name": "FloatTextView",
            "continuous_update": false,
            "description": "Deviation",
            "description_allow_html": false,
            "disabled": false,
            "layout": "IPY_MODEL_94cf39e7ab9145faa0accfdfc988981e",
            "step": null,
            "style": "IPY_MODEL_7ba28569ca2c4341b91b4cafb327af7b",
            "tabbable": null,
            "tooltip": null,
            "value": 0.1
          }
        },
        "b532b1dab463477f9a095b372255f7d8": {
          "model_module": "@jupyter-widgets/controls",
          "model_name": "IntTextModel",
          "model_module_version": "2.0.0",
          "state": {
            "_dom_classes": [],
            "_model_module": "@jupyter-widgets/controls",
            "_model_module_version": "2.0.0",
            "_model_name": "IntTextModel",
            "_view_count": null,
            "_view_module": "@jupyter-widgets/controls",
            "_view_module_version": "2.0.0",
            "_view_name": "IntTextView",
            "continuous_update": false,
            "description": "Scaling",
            "description_allow_html": false,
            "disabled": false,
            "layout": "IPY_MODEL_869a986aa440406c9b57917b6ef09231",
            "step": 1,
            "style": "IPY_MODEL_fdf74db7a030412aa4e9ecc4eff01b96",
            "tabbable": null,
            "tooltip": null,
            "value": 1
          }
        },
        "5cae352e2d8c433aaf3037d486666d2e": {
          "model_module": "@jupyter-widgets/base",
          "model_name": "LayoutModel",
          "model_module_version": "2.0.0",
          "state": {
            "_model_module": "@jupyter-widgets/base",
            "_model_module_version": "2.0.0",
            "_model_name": "LayoutModel",
            "_view_count": null,
            "_view_module": "@jupyter-widgets/base",
            "_view_module_version": "2.0.0",
            "_view_name": "LayoutView",
            "align_content": null,
            "align_items": null,
            "align_self": null,
            "border_bottom": null,
            "border_left": null,
            "border_right": null,
            "border_top": null,
            "bottom": null,
            "display": "flex",
            "flex": null,
            "flex_flow": "row",
            "grid_area": null,
            "grid_auto_columns": null,
            "grid_auto_flow": null,
            "grid_auto_rows": null,
            "grid_column": null,
            "grid_gap": null,
            "grid_row": null,
            "grid_template_areas": null,
            "grid_template_columns": null,
            "grid_template_rows": null,
            "height": null,
            "justify_content": null,
            "justify_items": null,
            "left": null,
            "margin": null,
            "max_height": null,
            "max_width": null,
            "min_height": null,
            "min_width": null,
            "object_fit": null,
            "object_position": null,
            "order": null,
            "overflow": null,
            "padding": null,
            "right": null,
            "top": null,
            "visibility": null,
            "width": null
          }
        },
        "06a13b683c684aadb14edcecaf3527d3": {
          "model_module": "@jupyter-widgets/base",
          "model_name": "LayoutModel",
          "model_module_version": "2.0.0",
          "state": {
            "_model_module": "@jupyter-widgets/base",
            "_model_module_version": "2.0.0",
            "_model_name": "LayoutModel",
            "_view_count": null,
            "_view_module": "@jupyter-widgets/base",
            "_view_module_version": "2.0.0",
            "_view_name": "LayoutView",
            "align_content": null,
            "align_items": null,
            "align_self": null,
            "border_bottom": null,
            "border_left": null,
            "border_right": null,
            "border_top": null,
            "bottom": null,
            "display": null,
            "flex": null,
            "flex_flow": null,
            "grid_area": null,
            "grid_auto_columns": null,
            "grid_auto_flow": null,
            "grid_auto_rows": null,
            "grid_column": null,
            "grid_gap": null,
            "grid_row": null,
            "grid_template_areas": null,
            "grid_template_columns": null,
            "grid_template_rows": null,
            "height": null,
            "justify_content": null,
            "justify_items": null,
            "left": null,
            "margin": null,
            "max_height": null,
            "max_width": null,
            "min_height": null,
            "min_width": null,
            "object_fit": null,
            "object_position": null,
            "order": null,
            "overflow": null,
            "padding": null,
            "right": null,
            "top": null,
            "visibility": null,
            "width": null
          }
        },
        "0292732168d048c7b30279da9b7f7802": {
          "model_module": "@jupyter-widgets/controls",
          "model_name": "DescriptionStyleModel",
          "model_module_version": "2.0.0",
          "state": {
            "_model_module": "@jupyter-widgets/controls",
            "_model_module_version": "2.0.0",
            "_model_name": "DescriptionStyleModel",
            "_view_count": null,
            "_view_module": "@jupyter-widgets/base",
            "_view_module_version": "2.0.0",
            "_view_name": "StyleView",
            "description_width": ""
          }
        },
        "9690e1b8ad9744b583181eaeafa2cfb8": {
          "model_module": "@jupyter-widgets/base",
          "model_name": "LayoutModel",
          "model_module_version": "2.0.0",
          "state": {
            "_model_module": "@jupyter-widgets/base",
            "_model_module_version": "2.0.0",
            "_model_name": "LayoutModel",
            "_view_count": null,
            "_view_module": "@jupyter-widgets/base",
            "_view_module_version": "2.0.0",
            "_view_name": "LayoutView",
            "align_content": null,
            "align_items": null,
            "align_self": null,
            "border_bottom": null,
            "border_left": null,
            "border_right": null,
            "border_top": null,
            "bottom": null,
            "display": null,
            "flex": null,
            "flex_flow": null,
            "grid_area": null,
            "grid_auto_columns": null,
            "grid_auto_flow": null,
            "grid_auto_rows": null,
            "grid_column": null,
            "grid_gap": null,
            "grid_row": null,
            "grid_template_areas": null,
            "grid_template_columns": null,
            "grid_template_rows": null,
            "height": null,
            "justify_content": null,
            "justify_items": null,
            "left": null,
            "margin": null,
            "max_height": null,
            "max_width": null,
            "min_height": null,
            "min_width": null,
            "object_fit": null,
            "object_position": null,
            "order": null,
            "overflow": null,
            "padding": null,
            "right": null,
            "top": null,
            "visibility": null,
            "width": null
          }
        },
        "af173b39684847bf84928e36380c7c3b": {
          "model_module": "@jupyter-widgets/controls",
          "model_name": "DescriptionStyleModel",
          "model_module_version": "2.0.0",
          "state": {
            "_model_module": "@jupyter-widgets/controls",
            "_model_module_version": "2.0.0",
            "_model_name": "DescriptionStyleModel",
            "_view_count": null,
            "_view_module": "@jupyter-widgets/base",
            "_view_module_version": "2.0.0",
            "_view_name": "StyleView",
            "description_width": ""
          }
        },
        "94cf39e7ab9145faa0accfdfc988981e": {
          "model_module": "@jupyter-widgets/base",
          "model_name": "LayoutModel",
          "model_module_version": "2.0.0",
          "state": {
            "_model_module": "@jupyter-widgets/base",
            "_model_module_version": "2.0.0",
            "_model_name": "LayoutModel",
            "_view_count": null,
            "_view_module": "@jupyter-widgets/base",
            "_view_module_version": "2.0.0",
            "_view_name": "LayoutView",
            "align_content": null,
            "align_items": null,
            "align_self": null,
            "border_bottom": null,
            "border_left": null,
            "border_right": null,
            "border_top": null,
            "bottom": null,
            "display": null,
            "flex": null,
            "flex_flow": null,
            "grid_area": null,
            "grid_auto_columns": null,
            "grid_auto_flow": null,
            "grid_auto_rows": null,
            "grid_column": null,
            "grid_gap": null,
            "grid_row": null,
            "grid_template_areas": null,
            "grid_template_columns": null,
            "grid_template_rows": null,
            "height": null,
            "justify_content": null,
            "justify_items": null,
            "left": null,
            "margin": null,
            "max_height": null,
            "max_width": null,
            "min_height": null,
            "min_width": null,
            "object_fit": null,
            "object_position": null,
            "order": null,
            "overflow": null,
            "padding": null,
            "right": null,
            "top": null,
            "visibility": null,
            "width": null
          }
        },
        "7ba28569ca2c4341b91b4cafb327af7b": {
          "model_module": "@jupyter-widgets/controls",
          "model_name": "DescriptionStyleModel",
          "model_module_version": "2.0.0",
          "state": {
            "_model_module": "@jupyter-widgets/controls",
            "_model_module_version": "2.0.0",
            "_model_name": "DescriptionStyleModel",
            "_view_count": null,
            "_view_module": "@jupyter-widgets/base",
            "_view_module_version": "2.0.0",
            "_view_name": "StyleView",
            "description_width": ""
          }
        },
        "869a986aa440406c9b57917b6ef09231": {
          "model_module": "@jupyter-widgets/base",
          "model_name": "LayoutModel",
          "model_module_version": "2.0.0",
          "state": {
            "_model_module": "@jupyter-widgets/base",
            "_model_module_version": "2.0.0",
            "_model_name": "LayoutModel",
            "_view_count": null,
            "_view_module": "@jupyter-widgets/base",
            "_view_module_version": "2.0.0",
            "_view_name": "LayoutView",
            "align_content": null,
            "align_items": null,
            "align_self": null,
            "border_bottom": null,
            "border_left": null,
            "border_right": null,
            "border_top": null,
            "bottom": null,
            "display": null,
            "flex": null,
            "flex_flow": null,
            "grid_area": null,
            "grid_auto_columns": null,
            "grid_auto_flow": null,
            "grid_auto_rows": null,
            "grid_column": null,
            "grid_gap": null,
            "grid_row": null,
            "grid_template_areas": null,
            "grid_template_columns": null,
            "grid_template_rows": null,
            "height": null,
            "justify_content": null,
            "justify_items": null,
            "left": null,
            "margin": null,
            "max_height": null,
            "max_width": null,
            "min_height": null,
            "min_width": null,
            "object_fit": null,
            "object_position": null,
            "order": null,
            "overflow": null,
            "padding": null,
            "right": null,
            "top": null,
            "visibility": null,
            "width": null
          }
        },
        "fdf74db7a030412aa4e9ecc4eff01b96": {
          "model_module": "@jupyter-widgets/controls",
          "model_name": "DescriptionStyleModel",
          "model_module_version": "2.0.0",
          "state": {
            "_model_module": "@jupyter-widgets/controls",
            "_model_module_version": "2.0.0",
            "_model_name": "DescriptionStyleModel",
            "_view_count": null,
            "_view_module": "@jupyter-widgets/base",
            "_view_module_version": "2.0.0",
            "_view_name": "StyleView",
            "description_width": ""
          }
        }
      }
    }
  },
  "cells": [
    {
      "cell_type": "markdown",
      "source": [
        "# Progressive Dinner Party Mathematical Program"
      ],
      "metadata": {
        "id": "HWTI2q7SjtOO"
      }
    },
    {
      "cell_type": "markdown",
      "source": [
        "# Setup"
      ],
      "metadata": {
        "id": "xJTzYuoQIXQU"
      }
    },
    {
      "cell_type": "markdown",
      "source": [
        "### AMPL"
      ],
      "metadata": {
        "id": "cCxrb2FGqXni"
      }
    },
    {
      "cell_type": "markdown",
      "source": [
        "Set up the AMPL modelling environment.\n",
        "\n",
        "Connect to NEOS Server with the Kestrel interface or use a locally installed solver by connecting this notebook to a local runtime:\n",
        "\n",
        "`jupyter notebook --NotebookApp.allow_origin='https://colab.research.google.com' --port=8888 --NotebookApp.port_retries=0`"
      ],
      "metadata": {
        "id": "VCpTQnVp98UL"
      }
    },
    {
      "cell_type": "code",
      "execution_count": null,
      "metadata": {
        "id": "kZHLv0z2jj6S"
      },
      "outputs": [],
      "source": [
        "!pip install -q amplpy"
      ]
    },
    {
      "cell_type": "markdown",
      "source": [
        "### Imports"
      ],
      "metadata": {
        "id": "27sAldKUqgPC"
      }
    },
    {
      "cell_type": "code",
      "source": [
        "import itertools\n",
        "import numpy as np\n",
        "import networkx as nx\n",
        "import ipywidgets as widgets\n",
        "import matplotlib.pyplot as plt\n",
        "\n",
        "from amplpy import AMPL"
      ],
      "metadata": {
        "id": "Yi3uS7D3pOld"
      },
      "execution_count": 19,
      "outputs": []
    },
    {
      "cell_type": "markdown",
      "source": [
        "# Model"
      ],
      "metadata": {
        "id": "n_C0pimuIVsF"
      }
    },
    {
      "cell_type": "code",
      "source": [
        "%%writefile pdp.mod\n",
        "problem progressive_dinner_party;\n",
        "#--------------------------------\n",
        "\n",
        "set N;\n",
        "set T = {N,N,N};\n",
        "param C{N,N};\n",
        "param o = 1/card(N);\n",
        "\n",
        "var s{N} binary;\n",
        "var m{N} binary;\n",
        "var d{N} binary;\n",
        "var e{N,N} binary;\n",
        "var t{(i,j,k) in T} = s[i]*m[j]*d[k];\n",
        "\n",
        "minimize objective:\n",
        "\tsum {i in N, j in N} C[i,j]*e[i,j];\n",
        "\n",
        "subject to classes {i in N}:\n",
        "\ts[i] + m[i] + d[i] = 1;\n",
        "\t\n",
        "subject to inflow_s {i in N}:\n",
        "\tsum {j in N} s[i] * e[j,i] = 0;\n",
        "\t\n",
        "subject to outflow_s {i in N}:\n",
        "\tsum {j in N} s[i] * e[i,j] = 3 * s[i];\n",
        "\t\n",
        "subject to inflow_m {i in N}:\n",
        "\tsum {j in N} m[i] * e[j,i] = 3 * m[i];\n",
        "\t\n",
        "subject to outflow_m {i in N}:\n",
        "\tsum {j in N} m[i] * e[i,j] = 3 * m[i];\n",
        "\t\n",
        "subject to inflow_d {i in N}:\n",
        "\tsum {j in N} d[i] * e[j,i] = 3 * d[i];\n",
        "\t\n",
        "subject to outflow_d {i in N}:\n",
        "\tsum {j in N} d[i] * e[i,j] = 0;\n",
        "\t\n",
        "subject to shortcut {i in N, j in N}:\n",
        "\ts[i] * e[i,j] + d[j] <= 1;\n",
        "\t\n",
        "subject to equipartition:\n",
        "\t3 * sum {i in N} m[i] = card(N);\n",
        "\n",
        "subject to encounters {(i,j,k) in T}:\n",
        "\tsum {(u,v,w) in T: i <> u and j <> v and k <> w} t[i,j,k]*t[u,v,w] * (3 - floor(abs(i-u)/(abs(i-u)-o)) - floor(abs(j-v)/(abs(j-v)-o)) - floor(abs(k-w)/(abs(k-w)-o))) <= t[i,j,k];"
      ],
      "metadata": {
        "id": "pgixlDm8G1xj",
        "outputId": "61067cdf-ac5c-4167-b7ad-5e873631ec7d",
        "colab": {
          "base_uri": "https://localhost:8080/"
        }
      },
      "execution_count": 20,
      "outputs": [
        {
          "output_type": "stream",
          "name": "stdout",
          "text": [
            "Overwriting pdp.mod\n"
          ]
        }
      ]
    },
    {
      "cell_type": "markdown",
      "source": [
        "# Data"
      ],
      "metadata": {
        "id": "XW2AURgzIavl"
      }
    },
    {
      "cell_type": "code",
      "source": [
        "w_size = widgets.IntText(description='Size', orientation='horizontal', value=9, min=9)\n",
        "w_cluster = widgets.IntText(description='Clusters', orientation='horizontal', value=9, min=1)\n",
        "w_deviation = widgets.FloatText(description='Deviation', orientation='horizontal', value=0.1, min=0)\n",
        "w_scale = widgets.IntText(description='Scaling', orientation='horizontal', value=1)\n",
        "display(widgets.Box([w_size, w_cluster,w_deviation, w_scale], layout=widgets.Layout(display='flex', flex_flow='row')))"
      ],
      "metadata": {
        "id": "ZbMtrzssIR8r",
        "outputId": "707d8939-9c83-413f-824c-181c51186b7e",
        "colab": {
          "base_uri": "https://localhost:8080/",
          "height": 49,
          "referenced_widgets": [
            "5f60bded7b9b4713b5c98a33318239c9",
            "0d8347173e8b40ada9d0511b1c929ef0",
            "55aedd3b2c8e4078830ee24889e2e265",
            "ebba13ffb37b433393cb20a4f40a779d",
            "b532b1dab463477f9a095b372255f7d8",
            "5cae352e2d8c433aaf3037d486666d2e",
            "06a13b683c684aadb14edcecaf3527d3",
            "0292732168d048c7b30279da9b7f7802",
            "9690e1b8ad9744b583181eaeafa2cfb8",
            "af173b39684847bf84928e36380c7c3b",
            "94cf39e7ab9145faa0accfdfc988981e",
            "7ba28569ca2c4341b91b4cafb327af7b",
            "869a986aa440406c9b57917b6ef09231",
            "fdf74db7a030412aa4e9ecc4eff01b96"
          ]
        }
      },
      "execution_count": 21,
      "outputs": [
        {
          "output_type": "display_data",
          "data": {
            "text/plain": [
              "Box(children=(IntText(value=9, description='Size'), IntText(value=9, description='Clusters'), FloatText(value=…"
            ],
            "application/vnd.jupyter.widget-view+json": {
              "version_major": 2,
              "version_minor": 0,
              "model_id": "5f60bded7b9b4713b5c98a33318239c9"
            }
          },
          "metadata": {}
        }
      ]
    },
    {
      "cell_type": "code",
      "source": [
        "rng = np.random.default_rng()\n",
        "\n",
        "N = w_size.value\n",
        "K = w_cluster.value\n",
        "σ = w_deviation.value\n",
        "λ = w_scale.value\n",
        "\n",
        "assert N >= 9\n",
        "assert K > 0\n",
        "assert N % K == 0\n",
        "assert N % 3 == 0\n",
        "assert σ >= 0\n",
        "assert λ > 0\n",
        "\n",
        "points = {}\n",
        "centers = rng.uniform(-1, 1, (K, 2))\n",
        "for i in range(K):\n",
        "\tpoints[str(centers[i])] = λ * rng.normal(centers[i], σ, (N // K, 2))\n",
        "\n",
        "X = np.array(list(points.values())).reshape(N, 2)[:,0]\n",
        "Y = np.array(list(points.values())).reshape(N, 2)[:,1]\n",
        "\n",
        "G = nx.DiGraph()\n",
        "for i in range(N):\n",
        "\tG.add_node(i, x = X[i], y = Y[i])\n",
        "\n",
        "C = np.empty((N,N))\n",
        "for a,b in itertools.product(range(N), range(N)):\n",
        "\tdX = (X[b]-X[a]) * (X[b]-X[a])\n",
        "\tdY = (Y[b]-Y[a]) * (Y[b]-Y[a])\n",
        "\tC[a,b] = np.sqrt(dX + dY)\n",
        "\n",
        "with open('pdp.dat', 'w') as f:\n",
        "\tf.write('set N :=')\n",
        "\tfor n in range(1, N + 1):\n",
        "\t\tf.write(f' {n}')\n",
        "\tf.write(';\\n')\n",
        "\tf.write('param C :=\\n')\n",
        "\tfor i,j in itertools.product(range(N), range(N)):\n",
        "\t\tf.write(f'{i+1} {j+1} {C[i,j]}\\n')\n",
        "\tf.write(';')\n",
        "\n",
        "plt.scatter(X,Y)\n",
        "plt.show()"
      ],
      "metadata": {
        "id": "kQ8rb5aVHAZY",
        "outputId": "22bdf839-b8e3-4be2-e06b-1a97918dd668",
        "colab": {
          "base_uri": "https://localhost:8080/",
          "height": 430
        }
      },
      "execution_count": 22,
      "outputs": [
        {
          "output_type": "display_data",
          "data": {
            "text/plain": [
              "<Figure size 640x480 with 1 Axes>"
            ],
            "image/png": "[encoded data removed]"
          },
          "metadata": {}
        }
      ]
    },
    {
      "cell_type": "code",
      "source": [
        "ampl = AMPL()"
      ],
      "metadata": {
        "id": "H14-7NnWK30y"
      },
      "execution_count": 23,
      "outputs": []
    },
    {
      "cell_type": "code",
      "source": [
        "ampl.setOption('solver', 'gurobi')\n",
        "ampl.setOption('gurobi_options', 'outlev=1')\n",
        "ampl.setOption('solution_round', '0')"
      ],
      "metadata": {
        "id": "9OGh0qaXuEOw"
      },
      "execution_count": 24,
      "outputs": []
    },
    {
      "cell_type": "code",
      "source": [
        "ampl.read('pdp.mod')"
      ],
      "metadata": {
        "id": "l5vXsgkyE50Z"
      },
      "execution_count": 25,
      "outputs": []
    },
    {
      "cell_type": "code",
      "source": [
        "ampl.read_data('pdp.dat')"
      ],
      "metadata": {
        "id": "QLc6v2MVFCjy"
      },
      "execution_count": 26,
      "outputs": []
    },
    {
      "cell_type": "code",
      "source": [
        "ampl.solve()"
      ],
      "metadata": {
        "id": "zixDyTUCFI1H",
        "outputId": "50a46ecf-4222-48a7-e5d1-7097fb6f78e4",
        "colab": {
          "base_uri": "https://localhost:8080/"
        }
      },
      "execution_count": 27,
      "outputs": [
        {
          "output_type": "stream",
          "name": "stdout",
          "text": [
            "x-Gurobi 10.0.0: Set parameter OutputFlag to value 1\r\n",
            "Set parameter InfUnbdInfo to value 1\r\n",
            "Gurobi Optimizer version 10.0.0 build v10.0.0rc2 (win64)\r\n",
            "\r\n",
            "CPU model: Intel(R) Core(TM) i7-1065G7 CPU @ 1.30GHz, instruction set [SSE2|AVX|AVX2|AVX512]\r\n",
            "Thread count: 4 physical cores, 8 logical processors, using up to 8 threads\r\n",
            "\r\n",
            "Optimize a model with 739 rows, 918 columns and 765 nonzeros\r\n",
            "Model fingerprint: 0xd72d053c\r\n",
            "Model has 945 quadratic constraints\r\n",
            "Variable types: 0 continuous, 918 integer (0 binary)\r\n",
            "Coefficient statistics:\r\n",
            "  Matrix range     [1e+00, 3e+00]\r\n",
            "  QMatrix range    [1e+00, 1e+00]\r\n",
            "  QLMatrix range   [1e+00, 3e+00]\r\n",
            "  Objective range  [9e-02, 2e+00]\r\n",
            "  Bounds range     [1e+00, 1e+00]\r\n",
            "  RHS range        [1e+00, 9e+00]\r\n",
            "  QRHS range       [1e+00, 1e+00]\r\n",
            "\r\n",
            "User MIP start did not produce a new incumbent solution\r\n",
            "User MIP start violates constraint R729 by 1.000000000\r\n",
            "\r\n",
            "Presolve removed 504 rows and 810 columns\r\n",
            "Presolve time: 0.00s\r\n",
            "Presolved: 397 rows, 189 columns, 1431 nonzeros\r\n",
            "Variable types: 0 continuous, 189 integer (189 binary)\r\n",
            "Found heuristic solution: objective 18.0892873\r\n",
            "\r\n",
            "Root relaxation: objective 4.300196e+00, 86 iterations, 0.00 seconds (0.00 work units)\r\n",
            "\r\n",
            "    Nodes    |    Current Node    |     Objective Bounds      |     Work\r\n",
            " Expl Unexpl |  Obj  Depth IntInf | Incumbent    BestBd   Gap | It/Node Time\r\n",
            "\r\n",
            "     0     0    4.30020    0   52   18.08929    4.30020  76.2%     -    0s\r\n",
            "     0     0    6.40991    0   60   18.08929    6.40991  64.6%     -    0s\r\n",
            "     0     0    7.52546    0   57   18.08929    7.52546  58.4%     -    0s\r\n",
            "     0     0    7.52546    0   59   18.08929    7.52546  58.4%     -    0s\r\n",
            "H    0     0                      17.9019556    7.52546  58.0%     -    0s\r\n",
            "     0     0    8.43478    0   59   17.90196    8.43478  52.9%     -    0s\r\n",
            "     0     0    8.43676    0   63   17.90196    8.43676  52.9%     -    0s\r\n",
            "     0     0    8.62454    0   60   17.90196    8.62454  51.8%     -    0s\r\n",
            "     0     0    8.67094    0   63   17.90196    8.67094  51.6%     -    0s\r\n",
            "     0     0    9.18947    0   61   17.90196    9.18947  48.7%     -    0s\r\n",
            "     0     0    9.18947    0   61   17.90196    9.18947  48.7%     -    0s\r\n",
            "     0     2    9.22388    0   61   17.90196    9.22388  48.5%     -    0s\n",
            "*   69    54               9      16.9374230   10.03046  40.8%  28.9    0s\n",
            "*  349   142              15      16.5340096   10.76538  34.9%  20.9    0s\n",
            "*  398   142              12      16.3858405   10.83228  33.9%  21.1    0s\n",
            "*  401   142              14      16.1804027   10.83228  33.1%  21.1    0s\n",
            "\n",
            "Cutting planes:\n",
            "  Gomory: 8\n",
            "  Cover: 26\n",
            "  MIR: 33\n",
            "  StrongCG: 1\n",
            "  GUB cover: 2\n",
            "  Inf proof: 12\n",
            "  Zero half: 6\n",
            "  Mod-K: 4\n",
            "  RLT: 8\n",
            "\n",
            "Explored 3010 nodes (56035 simplex iterations) in 0.81 seconds (0.52 work units)\n",
            "Thread count was 8 (of 8 available processors)\n",
            "\n",
            "Solution count 6: 16.1804 16.3858 16.534 ... 18.0893\n",
            "\n",
            "Optimal solution found (tolerance 1.00e-04)\n",
            "Best objective 1.618040267888e+01, best bound 1.618040267888e+01, gap 0.0000%\n",
            "tech:outlev=1\n",
            "x-Gurobi 10.0.0: optimal solution; objective 16.18040268\n",
            "56035 simplex iterations\n",
            "3010 branching nodes\n"
          ]
        }
      ]
    },
    {
      "cell_type": "code",
      "source": [
        "s = ampl.get_variable('s').get_values()\n",
        "m = ampl.get_variable('m').get_values()\n",
        "d = ampl.get_variable('d').get_values()\n",
        "e = ampl.get_variable('e').get_values()\n",
        "\n",
        "S = np.array(s.get_column('s.val').to_list())\n",
        "M = np.array(m.get_column('m.val').to_list())\n",
        "D = np.array(d.get_column('d.val').to_list())\n",
        "E = np.reshape(e.get_column('e.val').to_list(), (N,N))"
      ],
      "metadata": {
        "id": "oiETfJOTLuMZ"
      },
      "execution_count": 28,
      "outputs": []
    },
    {
      "cell_type": "code",
      "source": [
        "plt.figure(1)\n",
        "idx_s = [idx for idx, val in enumerate(S) if val == 1]\n",
        "idx_m = [idx for idx, val in enumerate(M) if val == 1]\n",
        "idx_d = [idx for idx, val in enumerate(D) if val == 1]\n",
        "\n",
        "color = list(np.random.permutation(N))\n",
        "for i in idx_s:\n",
        "    target = [j for j in range(N) if E[i,j] == 1]\n",
        "    for j in target:\n",
        "        G.add_edge(i, j, color=color.pop())\n",
        "\n",
        "for i in idx_m:\n",
        "    source = [j for j in range(N) if E[j,i] == 1]\n",
        "    target = [j for j in range(N) if E[i,j] == 1]\n",
        "    color = []\n",
        "    for j in source:\n",
        "        color.append(G[j][i]['color'])\n",
        "    for j in target:\n",
        "        G.add_edge(i, j, color=color.pop())\n",
        "\n",
        "nodes = dict(G.nodes(data=True))\n",
        "pos = {k: list(v.values()) for k, v in nodes.items()}\n",
        "\n",
        "nx.draw(\n",
        "    G, pos,\n",
        "    edge_color = nx.get_edge_attributes(G,'color').values(),\n",
        "    edge_cmap = plt.cm.get_cmap('Set3'),\n",
        "    node_color = S + 2*M + 3*D,\n",
        "    width=3, node_size=50, connectionstyle='arc3,rad=0.1')\n",
        "plt.show()"
      ],
      "metadata": {
        "colab": {
          "base_uri": "https://localhost:8080/",
          "height": 516
        },
        "id": "F_czUjRzXV4d",
        "outputId": "6e35ad2f-6d80-4bf5-f58d-74d34395db80"
      },
      "execution_count": 29,
      "outputs": [
        {
          "output_type": "display_data",
          "data": {
            "text/plain": [
              "<Figure size 640x480 with 1 Axes>"
            ],
            "image/png": "[encoded data removed]"
          },
          "metadata": {}
        }
      ]
    },
    {
      "cell_type": "code",
      "source": [],
      "metadata": {
        "id": "cE27QLr7JU3H"
      },
      "execution_count": null,
      "outputs": []
    }
  ]
}