{
  "nbformat": 4,
  "nbformat_minor": 0,
  "metadata": {
    "colab": {
      "provenance": []
    },
    "kernelspec": {
      "name": "python3",
      "display_name": "Python 3"
    },
    "language_info": {
      "name": "python"
    },
    "widgets": {
      "application/vnd.jupyter.widget-state+json": {
        "05c76e327de8492bb2cbefd01b49a8d4": {
          "model_module": "@jupyter-widgets/controls",
          "model_name": "BoxModel",
          "model_module_version": "2.0.0",
          "state": {
            "_dom_classes": [],
            "_model_module": "@jupyter-widgets/controls",
            "_model_module_version": "2.0.0",
            "_model_name": "BoxModel",
            "_view_count": null,
            "_view_module": "@jupyter-widgets/controls",
            "_view_module_version": "2.0.0",
            "_view_name": "BoxView",
            "box_style": "",
            "children": [
              "IPY_MODEL_ce45d43b68194dc2baf997d59deb872e",
              "IPY_MODEL_262fcfeef89f41539ea59216a36d1508",
              "IPY_MODEL_db5b9dc4b20f4aaf80ce212c12e43110",
              "IPY_MODEL_211047418cb44d679d780841aa6bb576"
            ],
            "layout": "IPY_MODEL_274df214c4804efdbc6d2b537ecc09bc",
            "tabbable": null,
            "tooltip": null
          }
        },
        "ce45d43b68194dc2baf997d59deb872e": {
          "model_module": "@jupyter-widgets/controls",
          "model_name": "IntTextModel",
          "model_module_version": "2.0.0",
          "state": {
            "_dom_classes": [],
            "_model_module": "@jupyter-widgets/controls",
            "_model_module_version": "2.0.0",
            "_model_name": "IntTextModel",
            "_view_count": null,
            "_view_module": "@jupyter-widgets/controls",
            "_view_module_version": "2.0.0",
            "_view_name": "IntTextView",
            "continuous_update": false,
            "description": "Size",
            "description_allow_html": false,
            "disabled": false,
            "layout": "IPY_MODEL_bc37169b768c45c5bb28ae182045db6f",
            "step": 1,
            "style": "IPY_MODEL_058cf48971f04b61b73e5068963adb1c",
            "tabbable": null,
            "tooltip": null,
            "value": 9
          }
        },
        "262fcfeef89f41539ea59216a36d1508": {
          "model_module": "@jupyter-widgets/controls",
          "model_name": "IntTextModel",
          "model_module_version": "2.0.0",
          "state": {
            "_dom_classes": [],
            "_model_module": "@jupyter-widgets/controls",
            "_model_module_version": "2.0.0",
            "_model_name": "IntTextModel",
            "_view_count": null,
            "_view_module": "@jupyter-widgets/controls",
            "_view_module_version": "2.0.0",
            "_view_name": "IntTextView",
            "continuous_update": false,
            "description": "Clusters",
            "description_allow_html": false,
            "disabled": false,
            "layout": "IPY_MODEL_041ecf0ce7064a6f99a3af521ba21210",
            "step": 1,
            "style": "IPY_MODEL_1936e9e463c94b75b15102814e30903b",
            "tabbable": null,
            "tooltip": null,
            "value": 1
          }
        },
        "db5b9dc4b20f4aaf80ce212c12e43110": {
          "model_module": "@jupyter-widgets/controls",
          "model_name": "FloatTextModel",
          "model_module_version": "2.0.0",
          "state": {
            "_dom_classes": [],
            "_model_module": "@jupyter-widgets/controls",
            "_model_module_version": "2.0.0",
            "_model_name": "FloatTextModel",
            "_view_count": null,
            "_view_module": "@jupyter-widgets/controls",
            "_view_module_version": "2.0.0",
            "_view_name": "FloatTextView",
            "continuous_update": false,
            "description": "Deviation",
            "description_allow_html": false,
            "disabled": false,
            "layout": "IPY_MODEL_fbfae277668f4fd0879cb4c6686a5823",
            "step": null,
            "style": "IPY_MODEL_be398dca3b394e02bcd48f4fb4afe51c",
            "tabbable": null,
            "tooltip": null,
            "value": 1
          }
        },
        "211047418cb44d679d780841aa6bb576": {
          "model_module": "@jupyter-widgets/controls",
          "model_name": "IntTextModel",
          "model_module_version": "2.0.0",
          "state": {
            "_dom_classes": [],
            "_model_module": "@jupyter-widgets/controls",
            "_model_module_version": "2.0.0",
            "_model_name": "IntTextModel",
            "_view_count": null,
            "_view_module": "@jupyter-widgets/controls",
            "_view_module_version": "2.0.0",
            "_view_name": "IntTextView",
            "continuous_update": false,
            "description": "Scaling",
            "description_allow_html": false,
            "disabled": false,
            "layout": "IPY_MODEL_07e3099dd60249439ef6bfc264865427",
            "step": 1,
            "style": "IPY_MODEL_e1c87eae4a1a4290a142bedc6bc08c37",
            "tabbable": null,
            "tooltip": null,
            "value": 1
          }
        },
        "274df214c4804efdbc6d2b537ecc09bc": {
          "model_module": "@jupyter-widgets/base",
          "model_name": "LayoutModel",
          "model_module_version": "2.0.0",
          "state": {
            "_model_module": "@jupyter-widgets/base",
            "_model_module_version": "2.0.0",
            "_model_name": "LayoutModel",
            "_view_count": null,
            "_view_module": "@jupyter-widgets/base",
            "_view_module_version": "2.0.0",
            "_view_name": "LayoutView",
            "align_content": null,
            "align_items": null,
            "align_self": null,
            "border_bottom": null,
            "border_left": null,
            "border_right": null,
            "border_top": null,
            "bottom": null,
            "display": "flex",
            "flex": null,
            "flex_flow": "row",
            "grid_area": null,
            "grid_auto_columns": null,
            "grid_auto_flow": null,
            "grid_auto_rows": null,
            "grid_column": null,
            "grid_gap": null,
            "grid_row": null,
            "grid_template_areas": null,
            "grid_template_columns": null,
            "grid_template_rows": null,
            "height": null,
            "justify_content": null,
            "justify_items": null,
            "left": null,
            "margin": null,
            "max_height": null,
            "max_width": null,
            "min_height": null,
            "min_width": null,
            "object_fit": null,
            "object_position": null,
            "order": null,
            "overflow": null,
            "padding": null,
            "right": null,
            "top": null,
            "visibility": null,
            "width": null
          }
        },
        "bc37169b768c45c5bb28ae182045db6f": {
          "model_module": "@jupyter-widgets/base",
          "model_name": "LayoutModel",
          "model_module_version": "2.0.0",
          "state": {
            "_model_module": "@jupyter-widgets/base",
            "_model_module_version": "2.0.0",
            "_model_name": "LayoutModel",
            "_view_count": null,
            "_view_module": "@jupyter-widgets/base",
            "_view_module_version": "2.0.0",
            "_view_name": "LayoutView",
            "align_content": null,
            "align_items": null,
            "align_self": null,
            "border_bottom": null,
            "border_left": null,
            "border_right": null,
            "border_top": null,
            "bottom": null,
            "display": null,
            "flex": null,
            "flex_flow": null,
            "grid_area": null,
            "grid_auto_columns": null,
            "grid_auto_flow": null,
            "grid_auto_rows": null,
            "grid_column": null,
            "grid_gap": null,
            "grid_row": null,
            "grid_template_areas": null,
            "grid_template_columns": null,
            "grid_template_rows": null,
            "height": null,
            "justify_content": null,
            "justify_items": null,
            "left": null,
            "margin": null,
            "max_height": null,
            "max_width": null,
            "min_height": null,
            "min_width": null,
            "object_fit": null,
            "object_position": null,
            "order": null,
            "overflow": null,
            "padding": null,
            "right": null,
            "top": null,
            "visibility": null,
            "width": null
          }
        },
        "058cf48971f04b61b73e5068963adb1c": {
          "model_module": "@jupyter-widgets/controls",
          "model_name": "DescriptionStyleModel",
          "model_module_version": "2.0.0",
          "state": {
            "_model_module": "@jupyter-widgets/controls",
            "_model_module_version": "2.0.0",
            "_model_name": "DescriptionStyleModel",
            "_view_count": null,
            "_view_module": "@jupyter-widgets/base",
            "_view_module_version": "2.0.0",
            "_view_name": "StyleView",
            "description_width": ""
          }
        },
        "041ecf0ce7064a6f99a3af521ba21210": {
          "model_module": "@jupyter-widgets/base",
          "model_name": "LayoutModel",
          "model_module_version": "2.0.0",
          "state": {
            "_model_module": "@jupyter-widgets/base",
            "_model_module_version": "2.0.0",
            "_model_name": "LayoutModel",
            "_view_count": null,
            "_view_module": "@jupyter-widgets/base",
            "_view_module_version": "2.0.0",
            "_view_name": "LayoutView",
            "align_content": null,
            "align_items": null,
            "align_self": null,
            "border_bottom": null,
            "border_left": null,
            "border_right": null,
            "border_top": null,
            "bottom": null,
            "display": null,
            "flex": null,
            "flex_flow": null,
            "grid_area": null,
            "grid_auto_columns": null,
            "grid_auto_flow": null,
            "grid_auto_rows": null,
            "grid_column": null,
            "grid_gap": null,
            "grid_row": null,
            "grid_template_areas": null,
            "grid_template_columns": null,
            "grid_template_rows": null,
            "height": null,
            "justify_content": null,
            "justify_items": null,
            "left": null,
            "margin": null,
            "max_height": null,
            "max_width": null,
            "min_height": null,
            "min_width": null,
            "object_fit": null,
            "object_position": null,
            "order": null,
            "overflow": null,
            "padding": null,
            "right": null,
            "top": null,
            "visibility": null,
            "width": null
          }
        },
        "1936e9e463c94b75b15102814e30903b": {
          "model_module": "@jupyter-widgets/controls",
          "model_name": "DescriptionStyleModel",
          "model_module_version": "2.0.0",
          "state": {
            "_model_module": "@jupyter-widgets/controls",
            "_model_module_version": "2.0.0",
            "_model_name": "DescriptionStyleModel",
            "_view_count": null,
            "_view_module": "@jupyter-widgets/base",
            "_view_module_version": "2.0.0",
            "_view_name": "StyleView",
            "description_width": ""
          }
        },
        "fbfae277668f4fd0879cb4c6686a5823": {
          "model_module": "@jupyter-widgets/base",
          "model_name": "LayoutModel",
          "model_module_version": "2.0.0",
          "state": {
            "_model_module": "@jupyter-widgets/base",
            "_model_module_version": "2.0.0",
            "_model_name": "LayoutModel",
            "_view_count": null,
            "_view_module": "@jupyter-widgets/base",
            "_view_module_version": "2.0.0",
            "_view_name": "LayoutView",
            "align_content": null,
            "align_items": null,
            "align_self": null,
            "border_bottom": null,
            "border_left": null,
            "border_right": null,
            "border_top": null,
            "bottom": null,
            "display": null,
            "flex": null,
            "flex_flow": null,
            "grid_area": null,
            "grid_auto_columns": null,
            "grid_auto_flow": null,
            "grid_auto_rows": null,
            "grid_column": null,
            "grid_gap": null,
            "grid_row": null,
            "grid_template_areas": null,
            "grid_template_columns": null,
            "grid_template_rows": null,
            "height": null,
            "justify_content": null,
            "justify_items": null,
            "left": null,
            "margin": null,
            "max_height": null,
            "max_width": null,
            "min_height": null,
            "min_width": null,
            "object_fit": null,
            "object_position": null,
            "order": null,
            "overflow": null,
            "padding": null,
            "right": null,
            "top": null,
            "visibility": null,
            "width": null
          }
        },
        "be398dca3b394e02bcd48f4fb4afe51c": {
          "model_module": "@jupyter-widgets/controls",
          "model_name": "DescriptionStyleModel",
          "model_module_version": "2.0.0",
          "state": {
            "_model_module": "@jupyter-widgets/controls",
            "_model_module_version": "2.0.0",
            "_model_name": "DescriptionStyleModel",
            "_view_count": null,
            "_view_module": "@jupyter-widgets/base",
            "_view_module_version": "2.0.0",
            "_view_name": "StyleView",
            "description_width": ""
          }
        },
        "07e3099dd60249439ef6bfc264865427": {
          "model_module": "@jupyter-widgets/base",
          "model_name": "LayoutModel",
          "model_module_version": "2.0.0",
          "state": {
            "_model_module": "@jupyter-widgets/base",
            "_model_module_version": "2.0.0",
            "_model_name": "LayoutModel",
            "_view_count": null,
            "_view_module": "@jupyter-widgets/base",
            "_view_module_version": "2.0.0",
            "_view_name": "LayoutView",
            "align_content": null,
            "align_items": null,
            "align_self": null,
            "border_bottom": null,
            "border_left": null,
            "border_right": null,
            "border_top": null,
            "bottom": null,
            "display": null,
            "flex": null,
            "flex_flow": null,
            "grid_area": null,
            "grid_auto_columns": null,
            "grid_auto_flow": null,
            "grid_auto_rows": null,
            "grid_column": null,
            "grid_gap": null,
            "grid_row": null,
            "grid_template_areas": null,
            "grid_template_columns": null,
            "grid_template_rows": null,
            "height": null,
            "justify_content": null,
            "justify_items": null,
            "left": null,
            "margin": null,
            "max_height": null,
            "max_width": null,
            "min_height": null,
            "min_width": null,
            "object_fit": null,
            "object_position": null,
            "order": null,
            "overflow": null,
            "padding": null,
            "right": null,
            "top": null,
            "visibility": null,
            "width": null
          }
        },
        "e1c87eae4a1a4290a142bedc6bc08c37": {
          "model_module": "@jupyter-widgets/controls",
          "model_name": "DescriptionStyleModel",
          "model_module_version": "2.0.0",
          "state": {
            "_model_module": "@jupyter-widgets/controls",
            "_model_module_version": "2.0.0",
            "_model_name": "DescriptionStyleModel",
            "_view_count": null,
            "_view_module": "@jupyter-widgets/base",
            "_view_module_version": "2.0.0",
            "_view_name": "StyleView",
            "description_width": ""
          }
        }
      }
    }
  },
  "cells": [
    {
      "cell_type": "markdown",
      "source": [
        "# Progressive Dinner Party Mathematical Program"
      ],
      "metadata": {
        "id": "HWTI2q7SjtOO"
      }
    },
    {
      "cell_type": "markdown",
      "source": [
        "# Setup"
      ],
      "metadata": {
        "id": "xJTzYuoQIXQU"
      }
    },
    {
      "cell_type": "markdown",
      "source": [
        "### AMPL"
      ],
      "metadata": {
        "id": "cCxrb2FGqXni"
      }
    },
    {
      "cell_type": "markdown",
      "source": [
        "Set up the AMPL modelling environment.\n",
        "\n",
        "Connect to NEOS Server with the Kestrel interface or use a locally installed solver by connecting this notebook to a local runtime:\n",
        "\n",
        "`jupyter notebook --NotebookApp.allow_origin='https://colab.research.google.com' --port=8888 --NotebookApp.port_retries=0`"
      ],
      "metadata": {
        "id": "VCpTQnVp98UL"
      }
    },
    {
      "cell_type": "code",
      "execution_count": null,
      "metadata": {
        "id": "kZHLv0z2jj6S"
      },
      "outputs": [],
      "source": [
        "!pip install -q amplpy"
      ]
    },
    {
      "cell_type": "markdown",
      "source": [
        "### Imports"
      ],
      "metadata": {
        "id": "27sAldKUqgPC"
      }
    },
    {
      "cell_type": "code",
      "source": [
        "import itertools\n",
        "import numpy as np\n",
        "import networkx as nx\n",
        "import ipywidgets as widgets\n",
        "import matplotlib.pyplot as plt\n",
        "\n",
        "from amplpy import AMPL"
      ],
      "metadata": {
        "id": "Yi3uS7D3pOld"
      },
      "execution_count": 33,
      "outputs": []
    },
    {
      "cell_type": "markdown",
      "source": [
        "# Model"
      ],
      "metadata": {
        "id": "n_C0pimuIVsF"
      }
    },
    {
      "cell_type": "markdown",
      "source": [
        "$$\\newcommand{\\floor}[1]{\\left \\lfloor #1 \\right \\rfloor}$$\n",
        "\\begin{align*}\n",
        "    \\forall i:&\\hspace{1em} s_i + m_i + d_i = 1\n",
        "    \\tag{unique class}\n",
        "    \\\\\n",
        "    \\\\\n",
        "    \\forall i:& \\sum_j s_i e_{ji} = 0\n",
        "    \\tag{no inbound links}\n",
        "    \\\\\n",
        "    \\forall i:& \\sum_j s_i e_{ij} = 3 s_i\n",
        "    \\tag{three outbound links}\n",
        "    \\\\\n",
        "    \\forall i:& \\sum_j m_i e_{ji} = 3 m_i\n",
        "    \\tag{three inbound links}\n",
        "    \\\\\n",
        "    \\forall i:& \\sum_j m_i e_{ij} = 3 m_i\n",
        "    \\tag{three outbound links}\n",
        "    \\\\\n",
        "    \\forall i:& \\sum_j d_i e_{ji} = 3 d_i\n",
        "    \\tag{three inbound links}\n",
        "    \\\\\n",
        "    \\forall i:& \\sum_j d_i e_{ij} = 0\n",
        "    \\tag{no outbound links}\n",
        "    \\\\\n",
        "    3 \\cdot& \\sum_i m_i = N\n",
        "    \\tag{equal partitions}\n",
        "    \\\\\n",
        "    \\\\\n",
        "    \\forall i,j:&\\hspace{1em} s_i e_{ij} + d_j \\leq 1\n",
        "    \\tag{no shortcuts}\n",
        "    \\\\\n",
        "    \\\\\n",
        "    \\forall i,j,k:&\\hspace{1em} t_{ijk} \\cdot \\sum_{\\substack{(p,q,r)\\\\\\neq\\\\(i,j,k)}} t_{pqr} \\left( 3 - \\floor{\\frac{|i-p|}{|i-p|-\\epsilon}} - \\floor{\\frac{|j-q|}{|j-q|-\\epsilon}} - \\floor{\\frac{|k-r|}{|k-r|-\\epsilon}}\\right) \\leq t_{ijk}\n",
        "    \\tag{limit encounters}\n",
        "\\end{align*}"
      ],
      "metadata": {
        "id": "PRJndzqyGjfU"
      }
    },
    {
      "cell_type": "code",
      "source": [
        "%%writefile pdp.mod\n",
        "problem progressive_dinner_party;\n",
        "#--------------------------------\n",
        "\n",
        "set N;\n",
        "set T = {N,N,N};\n",
        "param C{N,N};\n",
        "param o = 1/card(N);\n",
        "\n",
        "var s{N} binary;\n",
        "var m{N} binary;\n",
        "var d{N} binary;\n",
        "var e{N,N} binary;\n",
        "var t{(i,j,k) in T} = s[i]*m[j]*d[k];\n",
        "\n",
        "minimize objective:\n",
        "\tsum {i in N, j in N} C[i,j]*e[i,j];\n",
        "\n",
        "subject to classes {i in N}:\n",
        "\ts[i] + m[i] + d[i] = 1;\n",
        "\t\n",
        "subject to inflow_s {i in N}:\n",
        "\tsum {j in N} s[i] * e[j,i] = 0;\n",
        "\t\n",
        "subject to outflow_s {i in N}:\n",
        "\tsum {j in N} s[i] * e[i,j] = 3 * s[i];\n",
        "\t\n",
        "subject to inflow_m {i in N}:\n",
        "\tsum {j in N} m[i] * e[j,i] = 3 * m[i];\n",
        "\t\n",
        "subject to outflow_m {i in N}:\n",
        "\tsum {j in N} m[i] * e[i,j] = 3 * m[i];\n",
        "\t\n",
        "subject to inflow_d {i in N}:\n",
        "\tsum {j in N} d[i] * e[j,i] = 3 * d[i];\n",
        "\t\n",
        "subject to outflow_d {i in N}:\n",
        "\tsum {j in N} d[i] * e[i,j] = 0;\n",
        "\t\n",
        "subject to shortcut {i in N, j in N}:\n",
        "\ts[i] * e[i,j] + d[j] <= 1;\n",
        "\t\n",
        "subject to equipartition:\n",
        "\t3 * sum {i in N} m[i] = card(N);\n",
        "\n",
        "subject to encounters {(i,j,k) in T}:\n",
        "\tsum {(u,v,w) in T: i <> u and j <> v and k <> w} t[i,j,k]*t[u,v,w] * (3 - floor(abs(i-u)/(abs(i-u)-o)) - floor(abs(j-v)/(abs(j-v)-o)) - floor(abs(k-w)/(abs(k-w)-o))) <= t[i,j,k];"
      ],
      "metadata": {
        "id": "pgixlDm8G1xj",
        "outputId": "127d5bea-1214-4245-ab61-514b267655e3",
        "colab": {
          "base_uri": "https://localhost:8080/"
        }
      },
      "execution_count": 34,
      "outputs": [
        {
          "output_type": "stream",
          "name": "stdout",
          "text": [
            "Overwriting pdp.mod\n"
          ]
        }
      ]
    },
    {
      "cell_type": "markdown",
      "source": [
        "# Data"
      ],
      "metadata": {
        "id": "XW2AURgzIavl"
      }
    },
    {
      "cell_type": "code",
      "source": [
        "w_size = widgets.IntText(description='Size', orientation='horizontal', value=9, min=9)\n",
        "w_cluster = widgets.IntText(description='Clusters', orientation='horizontal', value=1, min=1)\n",
        "w_deviation = widgets.FloatText(description='Deviation', orientation='horizontal', value=0.1, min=0)\n",
        "w_scale = widgets.IntText(description='Scaling', orientation='horizontal', value=1)\n",
        "display(widgets.Box([w_size, w_cluster,w_deviation, w_scale], layout=widgets.Layout(display='flex', flex_flow='row')))"
      ],
      "metadata": {
        "id": "ZbMtrzssIR8r",
        "outputId": "bd057ebe-8140-4ebc-98ed-3e322a96122d",
        "colab": {
          "base_uri": "https://localhost:8080/",
          "height": 49,
          "referenced_widgets": [
            "05c76e327de8492bb2cbefd01b49a8d4",
            "ce45d43b68194dc2baf997d59deb872e",
            "262fcfeef89f41539ea59216a36d1508",
            "db5b9dc4b20f4aaf80ce212c12e43110",
            "211047418cb44d679d780841aa6bb576",
            "274df214c4804efdbc6d2b537ecc09bc",
            "bc37169b768c45c5bb28ae182045db6f",
            "058cf48971f04b61b73e5068963adb1c",
            "041ecf0ce7064a6f99a3af521ba21210",
            "1936e9e463c94b75b15102814e30903b",
            "fbfae277668f4fd0879cb4c6686a5823",
            "be398dca3b394e02bcd48f4fb4afe51c",
            "07e3099dd60249439ef6bfc264865427",
            "e1c87eae4a1a4290a142bedc6bc08c37"
          ]
        }
      },
      "execution_count": 35,
      "outputs": [
        {
          "output_type": "display_data",
          "data": {
            "text/plain": [
              "Box(children=(IntText(value=9, description='Size'), IntText(value=1, description='Clusters'), FloatText(value=…"
            ],
            "application/vnd.jupyter.widget-view+json": {
              "version_major": 2,
              "version_minor": 0,
              "model_id": "05c76e327de8492bb2cbefd01b49a8d4"
            }
          },
          "metadata": {}
        }
      ]
    },
    {
      "cell_type": "code",
      "source": [
        "rng = np.random.default_rng()\n",
        "\n",
        "N = w_size.value\n",
        "K = w_cluster.value\n",
        "σ = w_deviation.value\n",
        "λ = w_scale.value\n",
        "\n",
        "assert N >= 9\n",
        "assert K > 0\n",
        "assert N % K == 0\n",
        "assert N % 3 == 0\n",
        "assert σ >= 0\n",
        "assert λ > 0\n",
        "\n",
        "points = {}\n",
        "centers = rng.uniform(-1, 1, (K, 2))\n",
        "for i in range(K):\n",
        "\tpoints[str(centers[i])] = λ * rng.normal(centers[i], σ, (N // K, 2))\n",
        "\n",
        "X = np.array(list(points.values())).reshape(N, 2)[:,0]\n",
        "Y = np.array(list(points.values())).reshape(N, 2)[:,1]\n",
        "\n",
        "G = nx.DiGraph()\n",
        "for i in range(N):\n",
        "\tG.add_node(i, x = X[i], y = Y[i])\n",
        "\n",
        "C = np.empty((N,N))\n",
        "for a,b in itertools.product(range(N), range(N)):\n",
        "\tdX = (X[b]-X[a]) * (X[b]-X[a])\n",
        "\tdY = (Y[b]-Y[a]) * (Y[b]-Y[a])\n",
        "\tC[a,b] = np.sqrt(dX + dY)\n",
        "\n",
        "with open('pdp.dat', 'w') as f:\n",
        "\tf.write('set N :=')\n",
        "\tfor n in range(1, N + 1):\n",
        "\t\tf.write(f' {n}')\n",
        "\tf.write(';\\n')\n",
        "\tf.write('param C :=\\n')\n",
        "\tfor i,j in itertools.product(range(N), range(N)):\n",
        "\t\tf.write(f'{i+1} {j+1} {C[i,j]}\\n')\n",
        "\tf.write(';')\n",
        "\n",
        "plt.scatter(X,Y)\n",
        "plt.show()"
      ],
      "metadata": {
        "id": "kQ8rb5aVHAZY",
        "outputId": "7aac0dbe-0df4-4bd0-dc7a-9612afc38f43",
        "colab": {
          "base_uri": "https://localhost:8080/",
          "height": 430
        }
      },
      "execution_count": 56,
      "outputs": [
        {
          "output_type": "display_data",
          "data": {
            "text/plain": [
              "<Figure size 640x480 with 1 Axes>"
            ],
            "image/png": "[encoded data removed]"
          },
          "metadata": {}
        }
      ]
    },
    {
      "cell_type": "code",
      "source": [
        "ampl = AMPL()"
      ],
      "metadata": {
        "id": "H14-7NnWK30y"
      },
      "execution_count": 57,
      "outputs": []
    },
    {
      "cell_type": "code",
      "source": [
        "ampl.setOption('solver', 'gurobi')\n",
        "ampl.setOption('gurobi_options', 'outlev=1')\n",
        "ampl.setOption('solution_round', '0')"
      ],
      "metadata": {
        "id": "9OGh0qaXuEOw"
      },
      "execution_count": 58,
      "outputs": []
    },
    {
      "cell_type": "code",
      "source": [
        "ampl.read('pdp.mod')"
      ],
      "metadata": {
        "id": "l5vXsgkyE50Z"
      },
      "execution_count": 59,
      "outputs": []
    },
    {
      "cell_type": "code",
      "source": [
        "ampl.read_data('pdp.dat')"
      ],
      "metadata": {
        "id": "QLc6v2MVFCjy"
      },
      "execution_count": 60,
      "outputs": []
    },
    {
      "cell_type": "code",
      "source": [
        "ampl.solve()"
      ],
      "metadata": {
        "id": "zixDyTUCFI1H",
        "outputId": "8cea22ad-a532-4ecc-a772-0ecb9aff0d22",
        "colab": {
          "base_uri": "https://localhost:8080/"
        }
      },
      "execution_count": 61,
      "outputs": [
        {
          "output_type": "stream",
          "name": "stdout",
          "text": [
            "x-Gurobi 10.0.0: Set parameter OutputFlag to value 1\r\n",
            "Set parameter InfUnbdInfo to value 1\r\n",
            "Gurobi Optimizer version 10.0.0 build v10.0.0rc2 (win64)\r\n",
            "\r\n",
            "CPU model: Intel(R) Core(TM) i7-1065G7 CPU @ 1.30GHz, instruction set [SSE2|AVX|AVX2|AVX512]\r\n",
            "Thread count: 4 physical cores, 8 logical processors, using up to 8 threads\r\n",
            "\r\n",
            "Optimize a model with 739 rows, 918 columns and 765 nonzeros\r\n",
            "Model fingerprint: 0xe78cee60\r\n",
            "Model has 945 quadratic constraints\r\n",
            "Variable types: 0 continuous, 918 integer (0 binary)\r\n",
            "Coefficient statistics:\r\n",
            "  Matrix range     [1e+00, 3e+00]\r\n",
            "  QMatrix range    [1e+00, 1e+00]\r\n",
            "  QLMatrix range   [1e+00, 3e+00]\r\n",
            "  Objective range  [4e-01, 3e+00]\r\n",
            "  Bounds range     [1e+00, 1e+00]\r\n",
            "  RHS range        [1e+00, 9e+00]\r\n",
            "  QRHS range       [1e+00, 1e+00]\r\n",
            "\r\n",
            "User MIP start did not produce a new incumbent solution\r\n",
            "User MIP start violates constraint R729 by 1.000000000\r\n",
            "\r\n",
            "Presolve removed 504 rows and 810 columns\r\n",
            "Presolve time: 0.01s\r\n",
            "Presolved: 397 rows, 189 columns, 1431 nonzeros\r\n",
            "Variable types: 0 continuous, 189 integer (189 binary)\r\n",
            "Found heuristic solution: objective 31.1746518\r\n",
            "\r\n",
            "Root relaxation: objective 6.506808e+00, 87 iterations, 0.00 seconds (0.00 work units)\r\n",
            "\r\n",
            "    Nodes    |    Current Node    |     Objective Bounds      |     Work\r\n",
            " Expl Unexpl |  Obj  Depth IntInf | Incumbent    BestBd   Gap | It/Node Time\r\n",
            "\r\n",
            "     0     0    6.50681    0   53   31.17465    6.50681  79.1%     -    0s\r\n",
            "     0     0    9.59956    0   62   31.17465    9.59956  69.2%     -    0s\r\n",
            "     0     0   12.08866    0   61   31.17465   12.08866  61.2%     -    0s\r\n",
            "     0     0   12.09457    0   61   31.17465   12.09457  61.2%     -    0s\r\n",
            "H    0     0                      27.8834825   12.09457  56.6%     -    0s\r\n",
            "     0     0   13.30327    0   52   27.88348   13.30327  52.3%     -    0s\r\n",
            "     0     0   13.41014    0   60   27.88348   13.41014  51.9%     -    0s\r\n",
            "     0     0   13.77757    0   66   27.88348   13.77757  50.6%     -    0s\r\n",
            "     0     0   13.79945    0   66   27.88348   13.79945  50.5%     -    0s\r\n",
            "     0     0   14.13346    0   66   27.88348   14.13346  49.3%     -    0s\r\n",
            "     0     0   14.13346    0   63   27.88348   14.13346  49.3%     -    0s\r\n",
            "     0     2   14.35614    0   63   27.88348   14.35614  48.5%     -    0s\r\n",
            "H    9    12                      26.2707019   15.27203  41.9%  35.3    0s\n",
            "*   85    58              11      25.1920427   15.81652  37.2%  26.6    0s\n",
            "*  293   129              13      24.8780492   16.62505  33.2%  22.0    0s\n",
            "*  347   139              12      24.6586511   16.76381  32.0%  21.3    0s\n",
            "*  942   189              16      24.4124080   17.68689  27.5%  19.7    0s\n",
            "\n",
            "Cutting planes:\n",
            "  Gomory: 14\n",
            "  Cover: 27\n",
            "  MIR: 28\n",
            "  StrongCG: 1\n",
            "  GUB cover: 4\n",
            "  Inf proof: 6\n",
            "  Zero half: 5\n",
            "  RLT: 11\n",
            "\n",
            "Explored 2911 nodes (50426 simplex iterations) in 0.76 seconds (0.55 work units)\n",
            "Thread count was 8 (of 8 available processors)\n",
            "\n",
            "Solution count 7: 24.4124 24.6587 24.878 ... 31.1747\n",
            "\n",
            "Optimal solution found (tolerance 1.00e-04)\n",
            "Best objective 2.441240797703e+01, best bound 2.441240797703e+01, gap 0.0000%\n",
            "tech:outlev=1\n",
            "x-Gurobi 10.0.0: optimal solution; objective 24.41240798\n",
            "50426 simplex iterations\n",
            "2911 branching nodes\n",
            "absmipgap=3.55271e-15, relmipgap=0\n"
          ]
        }
      ]
    },
    {
      "cell_type": "code",
      "source": [
        "s = ampl.get_variable('s').get_values()\n",
        "m = ampl.get_variable('m').get_values()\n",
        "d = ampl.get_variable('d').get_values()\n",
        "e = ampl.get_variable('e').get_values()\n",
        "t = ampl.get_variable('t').get_values()\n",
        "\n",
        "S = np.array(s.get_column('s.val').to_list())\n",
        "M = np.array(m.get_column('m.val').to_list())\n",
        "D = np.array(d.get_column('d.val').to_list())\n",
        "E = np.reshape(e.get_column('e.val').to_list(), (N,N))\n",
        "T = np.reshape(t.get_column('t.val').to_list(), (N,N,N))"
      ],
      "metadata": {
        "id": "oiETfJOTLuMZ"
      },
      "execution_count": 62,
      "outputs": []
    },
    {
      "cell_type": "code",
      "source": [
        "[(i,j,k) for i in range(N) for j in range(N) for k in range(N) if T[i,j,k] == 1]"
      ],
      "metadata": {
        "id": "v9QjQKFLFz3O",
        "outputId": "167e8c55-7c67-41c2-a6e5-805cd184b3d3",
        "colab": {
          "base_uri": "https://localhost:8080/"
        }
      },
      "execution_count": 65,
      "outputs": [
        {
          "output_type": "execute_result",
          "data": {
            "text/plain": [
              "[(2, 0, 1),\n",
              " (2, 0, 5),\n",
              " (2, 0, 7),\n",
              " (2, 3, 1),\n",
              " (2, 3, 5),\n",
              " (2, 3, 7),\n",
              " (2, 6, 1),\n",
              " (2, 6, 5),\n",
              " (2, 6, 7),\n",
              " (4, 0, 1),\n",
              " (4, 0, 5),\n",
              " (4, 0, 7),\n",
              " (4, 3, 1),\n",
              " (4, 3, 5),\n",
              " (4, 3, 7),\n",
              " (4, 6, 1),\n",
              " (4, 6, 5),\n",
              " (4, 6, 7),\n",
              " (8, 0, 1),\n",
              " (8, 0, 5),\n",
              " (8, 0, 7),\n",
              " (8, 3, 1),\n",
              " (8, 3, 5),\n",
              " (8, 3, 7),\n",
              " (8, 6, 1),\n",
              " (8, 6, 5),\n",
              " (8, 6, 7)]"
            ]
          },
          "metadata": {},
          "execution_count": 65
        }
      ]
    },
    {
      "cell_type": "code",
      "source": [
        "plt.figure(1)\n",
        "idx_s = [idx for idx, val in enumerate(S) if val == 1]\n",
        "idx_m = [idx for idx, val in enumerate(M) if val == 1]\n",
        "idx_d = [idx for idx, val in enumerate(D) if val == 1]\n",
        "\n",
        "\n",
        "for i,j in itertools.product(range(N),range(N)):\n",
        "  if E[i,j] == 1: \n",
        "    G.add_edge(i, j, color=1)\n",
        "\n",
        "nodes = dict(G.nodes(data=True))\n",
        "pos = {k: list(v.values()) for k, v in nodes.items()}\n",
        "\n",
        "nx.draw(\n",
        "    G, pos,\n",
        "    edge_color = nx.get_edge_attributes(G,'color').values(),\n",
        "    edge_cmap = plt.cm.get_cmap('Set3'),\n",
        "    node_color = S + 2*M + 3*D,\n",
        "    width=3, node_size=50, connectionstyle='arc3,rad=0.1')\n",
        "plt.show()"
      ],
      "metadata": {
        "colab": {
          "base_uri": "https://localhost:8080/",
          "height": 516
        },
        "id": "F_czUjRzXV4d",
        "outputId": "a6025ec8-b9e9-4268-c046-4ae217d39729"
      },
      "execution_count": 66,
      "outputs": [
        {
          "output_type": "display_data",
          "data": {
            "text/plain": [
              "<Figure size 640x480 with 1 Axes>"
            ],
            "image/png": "[encoded data removed]"
          },
          "metadata": {}
        }
      ]
    },
    {
      "cell_type": "code",
      "source": [],
      "metadata": {
        "id": "cE27QLr7JU3H"
      },
      "execution_count": null,
      "outputs": []
    }
  ]
}