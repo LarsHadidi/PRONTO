{
  "nbformat": 4,
  "nbformat_minor": 0,
  "metadata": {
    "colab": {
      "provenance": []
    },
    "kernelspec": {
      "name": "python3",
      "display_name": "Python 3"
    },
    "language_info": {
      "name": "python"
    },
    "widgets": {
      "application/vnd.jupyter.widget-state+json": {
        "bea3bbf6a49b4bc2bb0ea0bcb5a660b0": {
          "model_module": "@jupyter-widgets/controls",
          "model_name": "BoxModel",
          "model_module_version": "2.0.0",
          "state": {
            "_dom_classes": [],
            "_model_module": "@jupyter-widgets/controls",
            "_model_module_version": "2.0.0",
            "_model_name": "BoxModel",
            "_view_count": null,
            "_view_module": "@jupyter-widgets/controls",
            "_view_module_version": "2.0.0",
            "_view_name": "BoxView",
            "box_style": "",
            "children": [
              "IPY_MODEL_590499e5a67b4f3080b25e91e3f7dd9e",
              "IPY_MODEL_36081e4716cb445080945f9aae436fd9",
              "IPY_MODEL_88bc4385560b43aa96e9c23618d384e4",
              "IPY_MODEL_b4eb366ef6304e4fbe43c062a052901f"
            ],
            "layout": "IPY_MODEL_0482846f493545a7afb1ef35fe410b7a",
            "tabbable": null,
            "tooltip": null
          }
        },
        "590499e5a67b4f3080b25e91e3f7dd9e": {
          "model_module": "@jupyter-widgets/controls",
          "model_name": "IntTextModel",
          "model_module_version": "2.0.0",
          "state": {
            "_dom_classes": [],
            "_model_module": "@jupyter-widgets/controls",
            "_model_module_version": "2.0.0",
            "_model_name": "IntTextModel",
            "_view_count": null,
            "_view_module": "@jupyter-widgets/controls",
            "_view_module_version": "2.0.0",
            "_view_name": "IntTextView",
            "continuous_update": false,
            "description": "Size",
            "description_allow_html": false,
            "disabled": false,
            "layout": "IPY_MODEL_5523e64a8f094446bf3813b994517d79",
            "step": 1,
            "style": "IPY_MODEL_78c8f422e8e34c5aa0a7a9e95ac7d84e",
            "tabbable": null,
            "tooltip": null,
            "value": 9
          }
        },
        "36081e4716cb445080945f9aae436fd9": {
          "model_module": "@jupyter-widgets/controls",
          "model_name": "IntTextModel",
          "model_module_version": "2.0.0",
          "state": {
            "_dom_classes": [],
            "_model_module": "@jupyter-widgets/controls",
            "_model_module_version": "2.0.0",
            "_model_name": "IntTextModel",
            "_view_count": null,
            "_view_module": "@jupyter-widgets/controls",
            "_view_module_version": "2.0.0",
            "_view_name": "IntTextView",
            "continuous_update": false,
            "description": "Clusters",
            "description_allow_html": false,
            "disabled": false,
            "layout": "IPY_MODEL_23e5361d00b24da4a041a862624bc98b",
            "step": 1,
            "style": "IPY_MODEL_e321c43e59564f378d20fee33491d135",
            "tabbable": null,
            "tooltip": null,
            "value": 9
          }
        },
        "88bc4385560b43aa96e9c23618d384e4": {
          "model_module": "@jupyter-widgets/controls",
          "model_name": "FloatTextModel",
          "model_module_version": "2.0.0",
          "state": {
            "_dom_classes": [],
            "_model_module": "@jupyter-widgets/controls",
            "_model_module_version": "2.0.0",
            "_model_name": "FloatTextModel",
            "_view_count": null,
            "_view_module": "@jupyter-widgets/controls",
            "_view_module_version": "2.0.0",
            "_view_name": "FloatTextView",
            "continuous_update": false,
            "description": "Deviation",
            "description_allow_html": false,
            "disabled": false,
            "layout": "IPY_MODEL_aeea900d0b274caaa4c849348d111dea",
            "step": null,
            "style": "IPY_MODEL_a9d4e5e4555942f6bc8245ff38f413d1",
            "tabbable": null,
            "tooltip": null,
            "value": 0.1
          }
        },
        "b4eb366ef6304e4fbe43c062a052901f": {
          "model_module": "@jupyter-widgets/controls",
          "model_name": "IntTextModel",
          "model_module_version": "2.0.0",
          "state": {
            "_dom_classes": [],
            "_model_module": "@jupyter-widgets/controls",
            "_model_module_version": "2.0.0",
            "_model_name": "IntTextModel",
            "_view_count": null,
            "_view_module": "@jupyter-widgets/controls",
            "_view_module_version": "2.0.0",
            "_view_name": "IntTextView",
            "continuous_update": false,
            "description": "Scaling",
            "description_allow_html": false,
            "disabled": false,
            "layout": "IPY_MODEL_62d1a7091684433ebb7fe5334deac2d4",
            "step": 1,
            "style": "IPY_MODEL_2298b604b45147df92335865ce58dc1c",
            "tabbable": null,
            "tooltip": null,
            "value": 1
          }
        },
        "0482846f493545a7afb1ef35fe410b7a": {
          "model_module": "@jupyter-widgets/base",
          "model_name": "LayoutModel",
          "model_module_version": "2.0.0",
          "state": {
            "_model_module": "@jupyter-widgets/base",
            "_model_module_version": "2.0.0",
            "_model_name": "LayoutModel",
            "_view_count": null,
            "_view_module": "@jupyter-widgets/base",
            "_view_module_version": "2.0.0",
            "_view_name": "LayoutView",
            "align_content": null,
            "align_items": null,
            "align_self": null,
            "border_bottom": null,
            "border_left": null,
            "border_right": null,
            "border_top": null,
            "bottom": null,
            "display": "flex",
            "flex": null,
            "flex_flow": "row",
            "grid_area": null,
            "grid_auto_columns": null,
            "grid_auto_flow": null,
            "grid_auto_rows": null,
            "grid_column": null,
            "grid_gap": null,
            "grid_row": null,
            "grid_template_areas": null,
            "grid_template_columns": null,
            "grid_template_rows": null,
            "height": null,
            "justify_content": null,
            "justify_items": null,
            "left": null,
            "margin": null,
            "max_height": null,
            "max_width": null,
            "min_height": null,
            "min_width": null,
            "object_fit": null,
            "object_position": null,
            "order": null,
            "overflow": null,
            "padding": null,
            "right": null,
            "top": null,
            "visibility": null,
            "width": null
          }
        },
        "5523e64a8f094446bf3813b994517d79": {
          "model_module": "@jupyter-widgets/base",
          "model_name": "LayoutModel",
          "model_module_version": "2.0.0",
          "state": {
            "_model_module": "@jupyter-widgets/base",
            "_model_module_version": "2.0.0",
            "_model_name": "LayoutModel",
            "_view_count": null,
            "_view_module": "@jupyter-widgets/base",
            "_view_module_version": "2.0.0",
            "_view_name": "LayoutView",
            "align_content": null,
            "align_items": null,
            "align_self": null,
            "border_bottom": null,
            "border_left": null,
            "border_right": null,
            "border_top": null,
            "bottom": null,
            "display": null,
            "flex": null,
            "flex_flow": null,
            "grid_area": null,
            "grid_auto_columns": null,
            "grid_auto_flow": null,
            "grid_auto_rows": null,
            "grid_column": null,
            "grid_gap": null,
            "grid_row": null,
            "grid_template_areas": null,
            "grid_template_columns": null,
            "grid_template_rows": null,
            "height": null,
            "justify_content": null,
            "justify_items": null,
            "left": null,
            "margin": null,
            "max_height": null,
            "max_width": null,
            "min_height": null,
            "min_width": null,
            "object_fit": null,
            "object_position": null,
            "order": null,
            "overflow": null,
            "padding": null,
            "right": null,
            "top": null,
            "visibility": null,
            "width": null
          }
        },
        "78c8f422e8e34c5aa0a7a9e95ac7d84e": {
          "model_module": "@jupyter-widgets/controls",
          "model_name": "DescriptionStyleModel",
          "model_module_version": "2.0.0",
          "state": {
            "_model_module": "@jupyter-widgets/controls",
            "_model_module_version": "2.0.0",
            "_model_name": "DescriptionStyleModel",
            "_view_count": null,
            "_view_module": "@jupyter-widgets/base",
            "_view_module_version": "2.0.0",
            "_view_name": "StyleView",
            "description_width": ""
          }
        },
        "23e5361d00b24da4a041a862624bc98b": {
          "model_module": "@jupyter-widgets/base",
          "model_name": "LayoutModel",
          "model_module_version": "2.0.0",
          "state": {
            "_model_module": "@jupyter-widgets/base",
            "_model_module_version": "2.0.0",
            "_model_name": "LayoutModel",
            "_view_count": null,
            "_view_module": "@jupyter-widgets/base",
            "_view_module_version": "2.0.0",
            "_view_name": "LayoutView",
            "align_content": null,
            "align_items": null,
            "align_self": null,
            "border_bottom": null,
            "border_left": null,
            "border_right": null,
            "border_top": null,
            "bottom": null,
            "display": null,
            "flex": null,
            "flex_flow": null,
            "grid_area": null,
            "grid_auto_columns": null,
            "grid_auto_flow": null,
            "grid_auto_rows": null,
            "grid_column": null,
            "grid_gap": null,
            "grid_row": null,
            "grid_template_areas": null,
            "grid_template_columns": null,
            "grid_template_rows": null,
            "height": null,
            "justify_content": null,
            "justify_items": null,
            "left": null,
            "margin": null,
            "max_height": null,
            "max_width": null,
            "min_height": null,
            "min_width": null,
            "object_fit": null,
            "object_position": null,
            "order": null,
            "overflow": null,
            "padding": null,
            "right": null,
            "top": null,
            "visibility": null,
            "width": null
          }
        },
        "e321c43e59564f378d20fee33491d135": {
          "model_module": "@jupyter-widgets/controls",
          "model_name": "DescriptionStyleModel",
          "model_module_version": "2.0.0",
          "state": {
            "_model_module": "@jupyter-widgets/controls",
            "_model_module_version": "2.0.0",
            "_model_name": "DescriptionStyleModel",
            "_view_count": null,
            "_view_module": "@jupyter-widgets/base",
            "_view_module_version": "2.0.0",
            "_view_name": "StyleView",
            "description_width": ""
          }
        },
        "aeea900d0b274caaa4c849348d111dea": {
          "model_module": "@jupyter-widgets/base",
          "model_name": "LayoutModel",
          "model_module_version": "2.0.0",
          "state": {
            "_model_module": "@jupyter-widgets/base",
            "_model_module_version": "2.0.0",
            "_model_name": "LayoutModel",
            "_view_count": null,
            "_view_module": "@jupyter-widgets/base",
            "_view_module_version": "2.0.0",
            "_view_name": "LayoutView",
            "align_content": null,
            "align_items": null,
            "align_self": null,
            "border_bottom": null,
            "border_left": null,
            "border_right": null,
            "border_top": null,
            "bottom": null,
            "display": null,
            "flex": null,
            "flex_flow": null,
            "grid_area": null,
            "grid_auto_columns": null,
            "grid_auto_flow": null,
            "grid_auto_rows": null,
            "grid_column": null,
            "grid_gap": null,
            "grid_row": null,
            "grid_template_areas": null,
            "grid_template_columns": null,
            "grid_template_rows": null,
            "height": null,
            "justify_content": null,
            "justify_items": null,
            "left": null,
            "margin": null,
            "max_height": null,
            "max_width": null,
            "min_height": null,
            "min_width": null,
            "object_fit": null,
            "object_position": null,
            "order": null,
            "overflow": null,
            "padding": null,
            "right": null,
            "top": null,
            "visibility": null,
            "width": null
          }
        },
        "a9d4e5e4555942f6bc8245ff38f413d1": {
          "model_module": "@jupyter-widgets/controls",
          "model_name": "DescriptionStyleModel",
          "model_module_version": "2.0.0",
          "state": {
            "_model_module": "@jupyter-widgets/controls",
            "_model_module_version": "2.0.0",
            "_model_name": "DescriptionStyleModel",
            "_view_count": null,
            "_view_module": "@jupyter-widgets/base",
            "_view_module_version": "2.0.0",
            "_view_name": "StyleView",
            "description_width": ""
          }
        },
        "62d1a7091684433ebb7fe5334deac2d4": {
          "model_module": "@jupyter-widgets/base",
          "model_name": "LayoutModel",
          "model_module_version": "2.0.0",
          "state": {
            "_model_module": "@jupyter-widgets/base",
            "_model_module_version": "2.0.0",
            "_model_name": "LayoutModel",
            "_view_count": null,
            "_view_module": "@jupyter-widgets/base",
            "_view_module_version": "2.0.0",
            "_view_name": "LayoutView",
            "align_content": null,
            "align_items": null,
            "align_self": null,
            "border_bottom": null,
            "border_left": null,
            "border_right": null,
            "border_top": null,
            "bottom": null,
            "display": null,
            "flex": null,
            "flex_flow": null,
            "grid_area": null,
            "grid_auto_columns": null,
            "grid_auto_flow": null,
            "grid_auto_rows": null,
            "grid_column": null,
            "grid_gap": null,
            "grid_row": null,
            "grid_template_areas": null,
            "grid_template_columns": null,
            "grid_template_rows": null,
            "height": null,
            "justify_content": null,
            "justify_items": null,
            "left": null,
            "margin": null,
            "max_height": null,
            "max_width": null,
            "min_height": null,
            "min_width": null,
            "object_fit": null,
            "object_position": null,
            "order": null,
            "overflow": null,
            "padding": null,
            "right": null,
            "top": null,
            "visibility": null,
            "width": null
          }
        },
        "2298b604b45147df92335865ce58dc1c": {
          "model_module": "@jupyter-widgets/controls",
          "model_name": "DescriptionStyleModel",
          "model_module_version": "2.0.0",
          "state": {
            "_model_module": "@jupyter-widgets/controls",
            "_model_module_version": "2.0.0",
            "_model_name": "DescriptionStyleModel",
            "_view_count": null,
            "_view_module": "@jupyter-widgets/base",
            "_view_module_version": "2.0.0",
            "_view_name": "StyleView",
            "description_width": ""
          }
        }
      }
    }
  },
  "cells": [
    {
      "cell_type": "markdown",
      "source": [
        "# Progressive Dinner Party Mathematical Program"
      ],
      "metadata": {
        "id": "HWTI2q7SjtOO"
      }
    },
    {
      "cell_type": "markdown",
      "source": [
        "# Setup"
      ],
      "metadata": {
        "id": "xJTzYuoQIXQU"
      }
    },
    {
      "cell_type": "markdown",
      "source": [
        "### AMPL"
      ],
      "metadata": {
        "id": "cCxrb2FGqXni"
      }
    },
    {
      "cell_type": "markdown",
      "source": [
        "Set up the AMPL modelling environment.\n",
        "\n",
        "Connect to NEOS Server with the Kestrel interface or use a locally installed solver by connecting this notebook to a local runtime:\n",
        "\n",
        "`jupyter notebook --NotebookApp.allow_origin='https://colab.research.google.com' --port=8888 --NotebookApp.port_retries=0`"
      ],
      "metadata": {
        "id": "VCpTQnVp98UL"
      }
    },
    {
      "cell_type": "code",
      "execution_count": 1,
      "metadata": {
        "id": "kZHLv0z2jj6S"
      },
      "outputs": [],
      "source": [
        "!pip install -q amplpy"
      ]
    },
    {
      "cell_type": "markdown",
      "source": [
        "### Imports"
      ],
      "metadata": {
        "id": "27sAldKUqgPC"
      }
    },
    {
      "cell_type": "code",
      "source": [
        "import itertools\n",
        "import numpy as np\n",
        "import networkx as nx\n",
        "import ipywidgets as widgets\n",
        "import matplotlib.pyplot as plt\n",
        "\n",
        "from amplpy import AMPL"
      ],
      "metadata": {
        "id": "Yi3uS7D3pOld"
      },
      "execution_count": 1,
      "outputs": []
    },
    {
      "cell_type": "markdown",
      "source": [
        "# Model"
      ],
      "metadata": {
        "id": "n_C0pimuIVsF"
      }
    },
    {
      "cell_type": "code",
      "source": [
        "%%writefile pdp.mod\n",
        "problem progressive_dinner_party;\n",
        "#--------------------------------\n",
        "\n",
        "set N;\n",
        "set T = {N,N,N};\n",
        "param C{N,N};\n",
        "param o = 1/card(N);\n",
        "\n",
        "var s{N} binary;\n",
        "var m{N} binary;\n",
        "var d{N} binary;\n",
        "var e{N,N} binary;\n",
        "var t{(i,j,k) in T} = s[i]*m[j]*d[k];\n",
        "\n",
        "minimize objective:\n",
        "\tsum {i in N, j in N} C[i,j]*e[i,j];\n",
        "\n",
        "subject to classes {i in N}:\n",
        "\ts[i] + m[i] + d[i] = 1;\n",
        "\t\n",
        "subject to inflow_s {i in N}:\n",
        "\tsum {j in N} s[i] * e[j,i] = 0;\n",
        "\t\n",
        "subject to outflow_s {i in N}:\n",
        "\tsum {j in N} s[i] * e[i,j] = 3 * s[i];\n",
        "\t\n",
        "subject to inflow_m {i in N}:\n",
        "\tsum {j in N} m[i] * e[j,i] = 3 * m[i];\n",
        "\t\n",
        "subject to outflow_m {i in N}:\n",
        "\tsum {j in N} m[i] * e[i,j] = 3 * m[i];\n",
        "\t\n",
        "subject to inflow_d {i in N}:\n",
        "\tsum {j in N} d[i] * e[j,i] = 3 * d[i];\n",
        "\t\n",
        "subject to outflow_d {i in N}:\n",
        "\tsum {j in N} d[i] * e[i,j] = 0;\n",
        "\t\n",
        "subject to shortcut {i in N, j in N}:\n",
        "\ts[i] * e[i,j] + d[j] <= 1;\n",
        "\t\n",
        "subject to equipartition:\n",
        "\t3 * sum {i in N} m[i] = card(N);\n",
        "\n",
        "subject to encounters {(i,j,k) in T}:\n",
        "\tsum {(u,v,w) in T: i <> u and j <> v and k <> w} t[i,j,k]*t[u,v,w] * (3 - floor(abs(i-u)/(abs(i-u)-o)) - floor(abs(j-v)/(abs(j-v)-o)) - floor(abs(k-w)/(abs(k-w)-o))) <= t[i,j,k];"
      ],
      "metadata": {
        "id": "pgixlDm8G1xj",
        "outputId": "0656ac86-8d39-420a-9ba8-d94a27705474",
        "colab": {
          "base_uri": "https://localhost:8080/"
        }
      },
      "execution_count": 2,
      "outputs": [
        {
          "output_type": "stream",
          "name": "stdout",
          "text": [
            "Overwriting pdp.mod\n"
          ]
        }
      ]
    },
    {
      "cell_type": "markdown",
      "source": [
        "# Data"
      ],
      "metadata": {
        "id": "XW2AURgzIavl"
      }
    },
    {
      "cell_type": "code",
      "source": [
        "w_size = widgets.IntText(description='Size', orientation='horizontal', value=9, min=9)\n",
        "w_cluster = widgets.IntText(description='Clusters', orientation='horizontal', value=9, min=1)\n",
        "w_deviation = widgets.FloatText(description='Deviation', orientation='horizontal', value=0.1, min=0)\n",
        "w_scale = widgets.IntText(description='Scaling', orientation='horizontal', value=1)\n",
        "display(widgets.Box([w_size, w_cluster,w_deviation, w_scale], layout=widgets.Layout(display='flex', flex_flow='row')))"
      ],
      "metadata": {
        "id": "ZbMtrzssIR8r",
        "outputId": "2b5e9d8a-1529-4157-af88-cf4a884e4b5d",
        "colab": {
          "base_uri": "https://localhost:8080/",
          "height": 49,
          "referenced_widgets": [
            "bea3bbf6a49b4bc2bb0ea0bcb5a660b0",
            "590499e5a67b4f3080b25e91e3f7dd9e",
            "36081e4716cb445080945f9aae436fd9",
            "88bc4385560b43aa96e9c23618d384e4",
            "b4eb366ef6304e4fbe43c062a052901f",
            "0482846f493545a7afb1ef35fe410b7a",
            "5523e64a8f094446bf3813b994517d79",
            "78c8f422e8e34c5aa0a7a9e95ac7d84e",
            "23e5361d00b24da4a041a862624bc98b",
            "e321c43e59564f378d20fee33491d135",
            "aeea900d0b274caaa4c849348d111dea",
            "a9d4e5e4555942f6bc8245ff38f413d1",
            "62d1a7091684433ebb7fe5334deac2d4",
            "2298b604b45147df92335865ce58dc1c"
          ]
        }
      },
      "execution_count": 3,
      "outputs": [
        {
          "output_type": "display_data",
          "data": {
            "text/plain": [
              "Box(children=(IntText(value=9, description='Size'), IntText(value=9, description='Clusters'), FloatText(value=…"
            ],
            "application/vnd.jupyter.widget-view+json": {
              "version_major": 2,
              "version_minor": 0,
              "model_id": "bea3bbf6a49b4bc2bb0ea0bcb5a660b0"
            }
          },
          "metadata": {}
        }
      ]
    },
    {
      "cell_type": "code",
      "source": [
        "rng = np.random.default_rng()\n",
        "\n",
        "N = w_size.value\n",
        "K = w_cluster.value\n",
        "σ = w_deviation.value\n",
        "λ = w_scale.value\n",
        "\n",
        "assert N >= 9\n",
        "assert K > 0\n",
        "assert N % K == 0\n",
        "assert N % 3 == 0\n",
        "assert σ >= 0\n",
        "assert λ > 0\n",
        "\n",
        "points = {}\n",
        "centers = rng.uniform(-1, 1, (K, 2))\n",
        "for i in range(K):\n",
        "\tpoints[str(centers[i])] = λ * rng.normal(centers[i], σ, (N // K, 2))\n",
        "\n",
        "X = np.array(list(points.values())).reshape(N, 2)[:,0]\n",
        "Y = np.array(list(points.values())).reshape(N, 2)[:,1]\n",
        "\n",
        "G = nx.DiGraph()\n",
        "for i in range(N):\n",
        "\tG.add_node(i, x = X[i], y = Y[i])\n",
        "\n",
        "C = np.empty((N,N))\n",
        "for a,b in itertools.product(range(N), range(N)):\n",
        "\tdX = (X[b]-X[a]) * (X[b]-X[a])\n",
        "\tdY = (Y[b]-Y[a]) * (Y[b]-Y[a])\n",
        "\tC[a,b] = np.sqrt(dX + dY)\n",
        "\n",
        "with open('pdp.dat', 'w') as f:\n",
        "\tf.write('set N :=')\n",
        "\tfor n in range(1, N + 1):\n",
        "\t\tf.write(f' {n}')\n",
        "\tf.write(';\\n')\n",
        "\tf.write('param C :=\\n')\n",
        "\tfor i,j in itertools.product(range(N), range(N)):\n",
        "\t\tf.write(f'{i+1} {j+1} {C[i,j]}\\n')\n",
        "\tf.write(';')\n",
        "\n",
        "plt.scatter(X,Y)\n",
        "plt.show()"
      ],
      "metadata": {
        "id": "kQ8rb5aVHAZY",
        "outputId": "3a41920a-7c9d-4de4-be20-f7c1317aa515",
        "colab": {
          "base_uri": "https://localhost:8080/",
          "height": 430
        }
      },
      "execution_count": 4,
      "outputs": [
        {
          "output_type": "display_data",
          "data": {
            "text/plain": [
              "<Figure size 640x480 with 1 Axes>"
            ],
            "image/png": "[encoded data removed]"
          },
          "metadata": {}
        }
      ]
    },
    {
      "cell_type": "code",
      "source": [
        "ampl = AMPL()\n",
        "ampl.setOption('solver', 'gurobi')\n",
        "ampl.setOption('gurobi_options', 'outlev=1')"
      ],
      "metadata": {
        "id": "9OGh0qaXuEOw"
      },
      "execution_count": 5,
      "outputs": []
    },
    {
      "cell_type": "code",
      "source": [
        "ampl.read('pdp.mod')"
      ],
      "metadata": {
        "id": "l5vXsgkyE50Z"
      },
      "execution_count": 6,
      "outputs": []
    },
    {
      "cell_type": "code",
      "source": [
        "ampl.read_data('pdp.dat')"
      ],
      "metadata": {
        "id": "QLc6v2MVFCjy"
      },
      "execution_count": 7,
      "outputs": []
    },
    {
      "cell_type": "code",
      "source": [
        "ampl.solve()"
      ],
      "metadata": {
        "id": "zixDyTUCFI1H",
        "outputId": "d1ae1e7c-e94b-4d28-9471-dfe38e3fb20a",
        "colab": {
          "base_uri": "https://localhost:8080/"
        }
      },
      "execution_count": 8,
      "outputs": [
        {
          "output_type": "stream",
          "name": "stdout",
          "text": [
            "x-Gurobi 10.0.0: Set parameter OutputFlag to value 1\r\n",
            "Set parameter InfUnbdInfo to value 1\r\n",
            "Gurobi Optimizer version 10.0.0 build v10.0.0rc2 (win64)\r\n",
            "\r\n",
            "CPU model: Intel(R) Core(TM) i7-1065G7 CPU @ 1.30GHz, instruction set [SSE2|AVX|AVX2|AVX512]\r\n",
            "Thread count: 4 physical cores, 8 logical processors, using up to 8 threads\r\n",
            "\r\n",
            "Optimize a model with 739 rows, 918 columns and 765 nonzeros\r\n",
            "Model fingerprint: 0x57d00032\r\n",
            "Model has 945 quadratic constraints\r\n",
            "Variable types: 0 continuous, 918 integer (0 binary)\r\n",
            "Coefficient statistics:\r\n",
            "  Matrix range     [1e+00, 3e+00]\r\n",
            "  QMatrix range    [1e+00, 1e+00]\r\n",
            "  QLMatrix range   [1e+00, 3e+00]\r\n",
            "  Objective range  [4e-02, 2e+00]\r\n",
            "  Bounds range     [1e+00, 1e+00]\r\n",
            "  RHS range        [1e+00, 9e+00]\r\n",
            "  QRHS range       [1e+00, 1e+00]\r\n",
            "\r\n",
            "User MIP start did not produce a new incumbent solution\r\n",
            "User MIP start violates constraint R729 by 1.000000000\r\n",
            "\r\n",
            "Presolve removed 504 rows and 810 columns\r\n",
            "Presolve time: 0.01s\r\n",
            "Presolved: 397 rows, 189 columns, 1431 nonzeros\r\n",
            "Variable types: 0 continuous, 189 integer (189 binary)\r\n",
            "Found heuristic solution: objective 21.0109698\r\n",
            "\r\n",
            "Root relaxation: objective 3.772155e+00, 84 iterations, 0.00 seconds (0.00 work units)\r\n",
            "\r\n",
            "    Nodes    |    Current Node    |     Objective Bounds      |     Work\r\n",
            " Expl Unexpl |  Obj  Depth IntInf | Incumbent    BestBd   Gap | It/Node Time\r\n",
            "\r\n",
            "     0     0    3.77216    0   50   21.01097    3.77216  82.0%     -    0s\r\n",
            "H    0     0                      20.8341889    3.77216  81.9%     -    0s\r\n",
            "     0     0    5.77005    0   66   20.83419    5.77005  72.3%     -    0s\r\n",
            "H    0     0                      18.5981682    5.77005  69.0%     -    0s\r\n",
            "     0     0    7.21263    0   61   18.59817    7.21263  61.2%     -    0s\r\n",
            "     0     0    7.21671    0   62   18.59817    7.21671  61.2%     -    0s\r\n",
            "     0     0    8.48389    0   63   18.59817    8.48389  54.4%     -    0s\r\n",
            "     0     0    8.49071    0   63   18.59817    8.49071  54.3%     -    0s\r\n",
            "     0     0    8.79685    0   68   18.59817    8.79685  52.7%     -    0s\r\n",
            "H    0     0                      18.4696820    8.79685  52.4%     -    0s\r\n",
            "     0     0    8.82589    0   69   18.46968    8.82589  52.2%     -    0s\r\n",
            "     0     0    9.09345    0   69   18.46968    9.09345  50.8%     -    0s\r\n",
            "     0     0    9.09345    0   68   18.46968    9.09345  50.8%     -    0s\r\n",
            "H    0     0                      18.1072419    9.09345  49.8%     -    0s\n",
            "     0     2    9.09427    0   68   18.10724    9.09427  49.8%     -    0s\n",
            "H  185   112                      17.6274112    9.82201  44.3%  28.2    0s\n",
            "*  196   120              13      17.4204231   10.19544  41.5%  27.5    0s\n",
            "*  207   120              15      17.1623271   10.19544  40.6%  27.0    0s\n",
            "\n",
            "Cutting planes:\n",
            "  Gomory: 12\n",
            "  Cover: 43\n",
            "  MIR: 40\n",
            "  StrongCG: 3\n",
            "  GUB cover: 4\n",
            "  Inf proof: 18\n",
            "  Zero half: 11\n",
            "  RLT: 8\n",
            "\n",
            "Explored 3254 nodes (64789 simplex iterations) in 0.80 seconds (0.62 work units)\n",
            "Thread count was 8 (of 8 available processors)\n",
            "\n",
            "Solution count 8: 17.1623 17.4204 17.6274 ... 21.011\n",
            "\n",
            "Optimal solution found (tolerance 1.00e-04)\n",
            "Best objective 1.716232714381e+01, best bound 1.716232714381e+01, gap 0.0000%\n",
            "tech:outlev=1\n",
            "x-Gurobi 10.0.0: optimal solution; objective 17.16232714\n",
            "64789 simplex iterations\n",
            "3254 branching nodes\n"
          ]
        }
      ]
    },
    {
      "cell_type": "code",
      "source": [
        "s = ampl.get_variable('s').get_values()\n",
        "m = ampl.get_variable('m').get_values()\n",
        "d = ampl.get_variable('d').get_values()\n",
        "e = ampl.get_variable('e').get_values()\n",
        "\n",
        "S = np.array(s.get_column('s.val').to_list())\n",
        "M = np.array(m.get_column('m.val').to_list())\n",
        "D = np.array(d.get_column('d.val').to_list())\n",
        "E = np.reshape(e.get_column('e.val').to_list(), (N,N))"
      ],
      "metadata": {
        "id": "oiETfJOTLuMZ"
      },
      "execution_count": 9,
      "outputs": []
    },
    {
      "cell_type": "code",
      "source": [
        "plt.figure(1)\n",
        "idx_s = [idx for idx, val in enumerate(S) if val == 1]\n",
        "idx_m = [idx for idx, val in enumerate(M) if val == 1]\n",
        "idx_d = [idx for idx, val in enumerate(D) if val == 1]\n",
        "\n",
        "color = list(np.random.permutation(N))\n",
        "for i in idx_s:\n",
        "    target = [j for j in range(N) if E[i,j] == 1]\n",
        "    for j in target:\n",
        "        G.add_edge(i, j, color=color.pop())\n",
        "\n",
        "for i in idx_m:\n",
        "    source = [j for j in range(N) if E[j,i] == 1]\n",
        "    target = [j for j in range(N) if E[i,j] == 1]\n",
        "    color = []\n",
        "    for j in source:\n",
        "        color.append(G[j][i]['color'])\n",
        "    for j in target:\n",
        "        G.add_edge(i, j, color=color.pop())\n",
        "\n",
        "nodes = dict(G.nodes(data=True))\n",
        "pos = {k: list(v.values()) for k, v in nodes.items()}\n",
        "\n",
        "nx.draw(\n",
        "    G, pos,\n",
        "    edge_color = nx.get_edge_attributes(G,'color').values(),\n",
        "    edge_cmap = plt.cm.get_cmap('Set3'),\n",
        "    node_color = S + 2*M + 3*D,\n",
        "    width=3, node_size=50, connectionstyle='arc3,rad=0.1')\n",
        "plt.show()"
      ],
      "metadata": {
        "colab": {
          "base_uri": "https://localhost:8080/",
          "height": 516
        },
        "id": "F_czUjRzXV4d",
        "outputId": "7ac770ed-a4bf-412b-adfd-24ecc78e0eef"
      },
      "execution_count": 10,
      "outputs": [
        {
          "output_type": "display_data",
          "data": {
            "text/plain": [
              "<Figure size 640x480 with 1 Axes>"
            ],
            "image/png": "[encoded data removed]"
          },
          "metadata": {}
        }
      ]
    },
    {
      "cell_type": "code",
      "source": [],
      "metadata": {
        "id": "cE27QLr7JU3H"
      },
      "execution_count": null,
      "outputs": []
    }
  ]
}