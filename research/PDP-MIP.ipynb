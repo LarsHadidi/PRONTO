{
  "nbformat": 4,
  "nbformat_minor": 0,
  "metadata": {
    "colab": {
      "provenance": [],
      "authorship_tag": "ABX9TyMoRKhWTlIu/UKB9wGpQi5j",
      "include_colab_link": true
    },
    "kernelspec": {
      "name": "python3",
      "display_name": "Python 3"
    },
    "language_info": {
      "name": "python"
    },
    "widgets": {
      "application/vnd.jupyter.widget-state+json": {
        "c1cb71268d354d1ea7c5c6a8bb1df2e0": {
          "model_module": "@jupyter-widgets/controls",
          "model_name": "BoxModel",
          "model_module_version": "2.0.0",
          "state": {
            "_dom_classes": [],
            "_model_module": "@jupyter-widgets/controls",
            "_model_module_version": "2.0.0",
            "_model_name": "BoxModel",
            "_view_count": null,
            "_view_module": "@jupyter-widgets/controls",
            "_view_module_version": "2.0.0",
            "_view_name": "BoxView",
            "box_style": "",
            "children": [
              "IPY_MODEL_4d331924ebf64866969c244385e8228f",
              "IPY_MODEL_4b78578adcf54bbf8836f82b1c94772c",
              "IPY_MODEL_c9ea50111f894b63babc81e333da522a",
              "IPY_MODEL_f01cc0545d86461da52e9d3afbea63db"
            ],
            "layout": "IPY_MODEL_421190dfe9b942eb8fb12966455e59bd",
            "tabbable": null,
            "tooltip": null
          }
        },
        "4d331924ebf64866969c244385e8228f": {
          "model_module": "@jupyter-widgets/controls",
          "model_name": "IntTextModel",
          "model_module_version": "2.0.0",
          "state": {
            "_dom_classes": [],
            "_model_module": "@jupyter-widgets/controls",
            "_model_module_version": "2.0.0",
            "_model_name": "IntTextModel",
            "_view_count": null,
            "_view_module": "@jupyter-widgets/controls",
            "_view_module_version": "2.0.0",
            "_view_name": "IntTextView",
            "continuous_update": false,
            "description": "Size",
            "description_allow_html": false,
            "disabled": false,
            "layout": "IPY_MODEL_98c809a704d74e02a4514787d7eaf1af",
            "step": 1,
            "style": "IPY_MODEL_dcf10f905b254b3f9768bc1c71bbd524",
            "tabbable": null,
            "tooltip": null,
            "value": 9
          }
        },
        "4b78578adcf54bbf8836f82b1c94772c": {
          "model_module": "@jupyter-widgets/controls",
          "model_name": "IntTextModel",
          "model_module_version": "2.0.0",
          "state": {
            "_dom_classes": [],
            "_model_module": "@jupyter-widgets/controls",
            "_model_module_version": "2.0.0",
            "_model_name": "IntTextModel",
            "_view_count": null,
            "_view_module": "@jupyter-widgets/controls",
            "_view_module_version": "2.0.0",
            "_view_name": "IntTextView",
            "continuous_update": false,
            "description": "Clusters",
            "description_allow_html": false,
            "disabled": false,
            "layout": "IPY_MODEL_ee08a57a344e4c8ba3d5364a0a7afaf6",
            "step": 1,
            "style": "IPY_MODEL_dc486d9541284056870bfd1b95309ac3",
            "tabbable": null,
            "tooltip": null,
            "value": 1
          }
        },
        "c9ea50111f894b63babc81e333da522a": {
          "model_module": "@jupyter-widgets/controls",
          "model_name": "FloatTextModel",
          "model_module_version": "2.0.0",
          "state": {
            "_dom_classes": [],
            "_model_module": "@jupyter-widgets/controls",
            "_model_module_version": "2.0.0",
            "_model_name": "FloatTextModel",
            "_view_count": null,
            "_view_module": "@jupyter-widgets/controls",
            "_view_module_version": "2.0.0",
            "_view_name": "FloatTextView",
            "continuous_update": false,
            "description": "Deviation",
            "description_allow_html": false,
            "disabled": false,
            "layout": "IPY_MODEL_50335e2bc19748c0b3489a3b6dd5fd9b",
            "step": null,
            "style": "IPY_MODEL_d5772e6b130c4f6dba7bd8b0d5102cd2",
            "tabbable": null,
            "tooltip": null,
            "value": 0.1
          }
        },
        "f01cc0545d86461da52e9d3afbea63db": {
          "model_module": "@jupyter-widgets/controls",
          "model_name": "IntTextModel",
          "model_module_version": "2.0.0",
          "state": {
            "_dom_classes": [],
            "_model_module": "@jupyter-widgets/controls",
            "_model_module_version": "2.0.0",
            "_model_name": "IntTextModel",
            "_view_count": null,
            "_view_module": "@jupyter-widgets/controls",
            "_view_module_version": "2.0.0",
            "_view_name": "IntTextView",
            "continuous_update": false,
            "description": "Scaling",
            "description_allow_html": false,
            "disabled": false,
            "layout": "IPY_MODEL_6d00705dd79f4f61973e026eafac4459",
            "step": 1,
            "style": "IPY_MODEL_6051b56d968e486e8fbc5d49bddcaee5",
            "tabbable": null,
            "tooltip": null,
            "value": 1
          }
        },
        "421190dfe9b942eb8fb12966455e59bd": {
          "model_module": "@jupyter-widgets/base",
          "model_name": "LayoutModel",
          "model_module_version": "2.0.0",
          "state": {
            "_model_module": "@jupyter-widgets/base",
            "_model_module_version": "2.0.0",
            "_model_name": "LayoutModel",
            "_view_count": null,
            "_view_module": "@jupyter-widgets/base",
            "_view_module_version": "2.0.0",
            "_view_name": "LayoutView",
            "align_content": null,
            "align_items": null,
            "align_self": null,
            "border_bottom": null,
            "border_left": null,
            "border_right": null,
            "border_top": null,
            "bottom": null,
            "display": "flex",
            "flex": null,
            "flex_flow": "row",
            "grid_area": null,
            "grid_auto_columns": null,
            "grid_auto_flow": null,
            "grid_auto_rows": null,
            "grid_column": null,
            "grid_gap": null,
            "grid_row": null,
            "grid_template_areas": null,
            "grid_template_columns": null,
            "grid_template_rows": null,
            "height": null,
            "justify_content": null,
            "justify_items": null,
            "left": null,
            "margin": null,
            "max_height": null,
            "max_width": null,
            "min_height": null,
            "min_width": null,
            "object_fit": null,
            "object_position": null,
            "order": null,
            "overflow": null,
            "padding": null,
            "right": null,
            "top": null,
            "visibility": null,
            "width": null
          }
        },
        "98c809a704d74e02a4514787d7eaf1af": {
          "model_module": "@jupyter-widgets/base",
          "model_name": "LayoutModel",
          "model_module_version": "2.0.0",
          "state": {
            "_model_module": "@jupyter-widgets/base",
            "_model_module_version": "2.0.0",
            "_model_name": "LayoutModel",
            "_view_count": null,
            "_view_module": "@jupyter-widgets/base",
            "_view_module_version": "2.0.0",
            "_view_name": "LayoutView",
            "align_content": null,
            "align_items": null,
            "align_self": null,
            "border_bottom": null,
            "border_left": null,
            "border_right": null,
            "border_top": null,
            "bottom": null,
            "display": null,
            "flex": null,
            "flex_flow": null,
            "grid_area": null,
            "grid_auto_columns": null,
            "grid_auto_flow": null,
            "grid_auto_rows": null,
            "grid_column": null,
            "grid_gap": null,
            "grid_row": null,
            "grid_template_areas": null,
            "grid_template_columns": null,
            "grid_template_rows": null,
            "height": null,
            "justify_content": null,
            "justify_items": null,
            "left": null,
            "margin": null,
            "max_height": null,
            "max_width": null,
            "min_height": null,
            "min_width": null,
            "object_fit": null,
            "object_position": null,
            "order": null,
            "overflow": null,
            "padding": null,
            "right": null,
            "top": null,
            "visibility": null,
            "width": null
          }
        },
        "dcf10f905b254b3f9768bc1c71bbd524": {
          "model_module": "@jupyter-widgets/controls",
          "model_name": "DescriptionStyleModel",
          "model_module_version": "2.0.0",
          "state": {
            "_model_module": "@jupyter-widgets/controls",
            "_model_module_version": "2.0.0",
            "_model_name": "DescriptionStyleModel",
            "_view_count": null,
            "_view_module": "@jupyter-widgets/base",
            "_view_module_version": "2.0.0",
            "_view_name": "StyleView",
            "description_width": ""
          }
        },
        "ee08a57a344e4c8ba3d5364a0a7afaf6": {
          "model_module": "@jupyter-widgets/base",
          "model_name": "LayoutModel",
          "model_module_version": "2.0.0",
          "state": {
            "_model_module": "@jupyter-widgets/base",
            "_model_module_version": "2.0.0",
            "_model_name": "LayoutModel",
            "_view_count": null,
            "_view_module": "@jupyter-widgets/base",
            "_view_module_version": "2.0.0",
            "_view_name": "LayoutView",
            "align_content": null,
            "align_items": null,
            "align_self": null,
            "border_bottom": null,
            "border_left": null,
            "border_right": null,
            "border_top": null,
            "bottom": null,
            "display": null,
            "flex": null,
            "flex_flow": null,
            "grid_area": null,
            "grid_auto_columns": null,
            "grid_auto_flow": null,
            "grid_auto_rows": null,
            "grid_column": null,
            "grid_gap": null,
            "grid_row": null,
            "grid_template_areas": null,
            "grid_template_columns": null,
            "grid_template_rows": null,
            "height": null,
            "justify_content": null,
            "justify_items": null,
            "left": null,
            "margin": null,
            "max_height": null,
            "max_width": null,
            "min_height": null,
            "min_width": null,
            "object_fit": null,
            "object_position": null,
            "order": null,
            "overflow": null,
            "padding": null,
            "right": null,
            "top": null,
            "visibility": null,
            "width": null
          }
        },
        "dc486d9541284056870bfd1b95309ac3": {
          "model_module": "@jupyter-widgets/controls",
          "model_name": "DescriptionStyleModel",
          "model_module_version": "2.0.0",
          "state": {
            "_model_module": "@jupyter-widgets/controls",
            "_model_module_version": "2.0.0",
            "_model_name": "DescriptionStyleModel",
            "_view_count": null,
            "_view_module": "@jupyter-widgets/base",
            "_view_module_version": "2.0.0",
            "_view_name": "StyleView",
            "description_width": ""
          }
        },
        "50335e2bc19748c0b3489a3b6dd5fd9b": {
          "model_module": "@jupyter-widgets/base",
          "model_name": "LayoutModel",
          "model_module_version": "2.0.0",
          "state": {
            "_model_module": "@jupyter-widgets/base",
            "_model_module_version": "2.0.0",
            "_model_name": "LayoutModel",
            "_view_count": null,
            "_view_module": "@jupyter-widgets/base",
            "_view_module_version": "2.0.0",
            "_view_name": "LayoutView",
            "align_content": null,
            "align_items": null,
            "align_self": null,
            "border_bottom": null,
            "border_left": null,
            "border_right": null,
            "border_top": null,
            "bottom": null,
            "display": null,
            "flex": null,
            "flex_flow": null,
            "grid_area": null,
            "grid_auto_columns": null,
            "grid_auto_flow": null,
            "grid_auto_rows": null,
            "grid_column": null,
            "grid_gap": null,
            "grid_row": null,
            "grid_template_areas": null,
            "grid_template_columns": null,
            "grid_template_rows": null,
            "height": null,
            "justify_content": null,
            "justify_items": null,
            "left": null,
            "margin": null,
            "max_height": null,
            "max_width": null,
            "min_height": null,
            "min_width": null,
            "object_fit": null,
            "object_position": null,
            "order": null,
            "overflow": null,
            "padding": null,
            "right": null,
            "top": null,
            "visibility": null,
            "width": null
          }
        },
        "d5772e6b130c4f6dba7bd8b0d5102cd2": {
          "model_module": "@jupyter-widgets/controls",
          "model_name": "DescriptionStyleModel",
          "model_module_version": "2.0.0",
          "state": {
            "_model_module": "@jupyter-widgets/controls",
            "_model_module_version": "2.0.0",
            "_model_name": "DescriptionStyleModel",
            "_view_count": null,
            "_view_module": "@jupyter-widgets/base",
            "_view_module_version": "2.0.0",
            "_view_name": "StyleView",
            "description_width": ""
          }
        },
        "6d00705dd79f4f61973e026eafac4459": {
          "model_module": "@jupyter-widgets/base",
          "model_name": "LayoutModel",
          "model_module_version": "2.0.0",
          "state": {
            "_model_module": "@jupyter-widgets/base",
            "_model_module_version": "2.0.0",
            "_model_name": "LayoutModel",
            "_view_count": null,
            "_view_module": "@jupyter-widgets/base",
            "_view_module_version": "2.0.0",
            "_view_name": "LayoutView",
            "align_content": null,
            "align_items": null,
            "align_self": null,
            "border_bottom": null,
            "border_left": null,
            "border_right": null,
            "border_top": null,
            "bottom": null,
            "display": null,
            "flex": null,
            "flex_flow": null,
            "grid_area": null,
            "grid_auto_columns": null,
            "grid_auto_flow": null,
            "grid_auto_rows": null,
            "grid_column": null,
            "grid_gap": null,
            "grid_row": null,
            "grid_template_areas": null,
            "grid_template_columns": null,
            "grid_template_rows": null,
            "height": null,
            "justify_content": null,
            "justify_items": null,
            "left": null,
            "margin": null,
            "max_height": null,
            "max_width": null,
            "min_height": null,
            "min_width": null,
            "object_fit": null,
            "object_position": null,
            "order": null,
            "overflow": null,
            "padding": null,
            "right": null,
            "top": null,
            "visibility": null,
            "width": null
          }
        },
        "6051b56d968e486e8fbc5d49bddcaee5": {
          "model_module": "@jupyter-widgets/controls",
          "model_name": "DescriptionStyleModel",
          "model_module_version": "2.0.0",
          "state": {
            "_model_module": "@jupyter-widgets/controls",
            "_model_module_version": "2.0.0",
            "_model_name": "DescriptionStyleModel",
            "_view_count": null,
            "_view_module": "@jupyter-widgets/base",
            "_view_module_version": "2.0.0",
            "_view_name": "StyleView",
            "description_width": ""
          }
        }
      }
    }
  },
  "cells": [
    {
      "cell_type": "markdown",
      "metadata": {
        "id": "view-in-github",
        "colab_type": "text"
      },
      "source": [
        "<a href=\"https://colab.research.google.com/github/LarsHadidi/PRONTO/blob/mathprogram/PDP-MIP.ipynb\" target=\"_parent\"><img src=\"https://colab.research.google.com/assets/colab-badge.svg\" alt=\"Open In Colab\"/></a>"
      ]
    },
    {
      "cell_type": "markdown",
      "source": [
        "# Progressive Dinner Party: Mixed Integer Program"
      ],
      "metadata": {
        "id": "nTFUMrhxYLmt"
      }
    },
    {
      "cell_type": "markdown",
      "source": [
        "## Hosted Runtime"
      ],
      "metadata": {
        "id": "FWES9P1qzCh-"
      }
    },
    {
      "cell_type": "markdown",
      "source": [
        "Connect to NEOS Server with the Kestrel interface."
      ],
      "metadata": {
        "id": "eoiM1Dc9zZPx"
      }
    },
    {
      "cell_type": "code",
      "source": [
        "!pip install -q amplpy\n",
        "from amplpy import AMPL"
      ],
      "metadata": {
        "id": "GSJ9T2DmzocM",
        "colab": {
          "base_uri": "https://localhost:8080/"
        },
        "outputId": "eb00a8ef-206b-4468-aa40-2b9fb0a5a4f1"
      },
      "execution_count": null,
      "outputs": [
        {
          "output_type": "stream",
          "name": "stdout",
          "text": [
            "\u001b[2K     \u001b[90m━━━━━━━━━━━━━━━━━━━━━━━━━━━━━━━━━━━━━━━━\u001b[0m \u001b[32m4.5/4.5 MB\u001b[0m \u001b[31m43.2 MB/s\u001b[0m eta \u001b[36m0:00:00\u001b[0m\n",
            "\u001b[2K     \u001b[90m━━━━━━━━━━━━━━━━━━━━━━━━━━━━━━━━━━━━━━━━\u001b[0m \u001b[32m62.8/62.8 KB\u001b[0m \u001b[31m7.8 MB/s\u001b[0m eta \u001b[36m0:00:00\u001b[0m\n",
            "\u001b[?25h"
          ]
        }
      ]
    },
    {
      "cell_type": "markdown",
      "source": [
        "## Local Runtime"
      ],
      "metadata": {
        "id": "CWRXPboRzHPs"
      }
    },
    {
      "cell_type": "markdown",
      "source": [
        "`jupyter notebook --NotebookApp.allow_origin='https://colab.research.google.com' --port=8888 --NotebookApp.port_retries=0`"
      ],
      "metadata": {
        "id": "fuNmChDszU_0"
      }
    },
    {
      "cell_type": "markdown",
      "source": [
        "## Imports"
      ],
      "metadata": {
        "id": "27sAldKUqgPC"
      }
    },
    {
      "cell_type": "code",
      "source": [
        "import itertools\n",
        "import numpy as np\n",
        "import pandas as pd\n",
        "import networkx as nx\n",
        "import ipywidgets as widgets\n",
        "import matplotlib.pyplot as plt"
      ],
      "metadata": {
        "id": "Yi3uS7D3pOld"
      },
      "execution_count": 1,
      "outputs": []
    },
    {
      "cell_type": "markdown",
      "source": [
        "## Formulation"
      ],
      "metadata": {
        "id": "n_C0pimuIVsF"
      }
    },
    {
      "cell_type": "markdown",
      "source": [
        "\\begin{array}{|c|c|}\n",
        "\\hline\n",
        "C_{ij} \\in \\mathbb{R}^2&  \\text{Costs of travelling from node i to node j}  \\\\[1em] \n",
        "\\hline\n",
        "e_{ij} \\in \\mathbb{B}^2 & \\text{Element of the adjacency matrix indicating if there should be link between node i and node j} \\\\[1em]\n",
        "\\hline\n",
        "s_i \\in \\mathbb{B} &  \\text{Indicator, if node i hosts starters course} \\\\[1em]\n",
        "\\hline\n",
        "m_i \\in \\mathbb{B} &  \\text{Indicator, if node i hosts main course } \\\\[1em]\n",
        "\\hline\n",
        "d_i \\in \\mathbb{B} &  \\text{Indicator, if node i hosts desert course} \\\\[1em]\n",
        "\\hline\n",
        "{}_{l}t_{ijk} \\in \\mathbb{B}^4& \\text{Element of Tour-Tensor, indicating if $(i,j,k)$ is the $l^{\\text{th}}$ tour}  \\\\[1em]\n",
        "\\hline\n",
        "\\end{array}"
      ],
      "metadata": {
        "id": "J032-NVNrop2"
      }
    },
    {
      "cell_type": "markdown",
      "source": [
        "\\begin{array}{|l|c|c|c|c|}\n",
        "\\hline\n",
        "\\textbf{Constraint} & \\textbf{Meaning} & \\textbf{Count} & \\textbf{Summands} \\\\[2em]\n",
        "\\hline\n",
        "∀ i:\\hspace{1em} s_i + m_i + d_i = 1 & \\text{unique node class} & N & 3 \\\\[2em]\n",
        "\\hline\n",
        "∀ i: \\sum\\limits_j s_i e_{ji} = 0 & \\text{no inbound links on starter node} & N & N \\\\[2em]\n",
        "\\hline\n",
        "∀ i: \\sum\\limits_j s_i e_{ij} = 3 s_i & \\text{three outbound links on starter node} & N & N \\\\[2em]\n",
        "\\hline\n",
        "∀ i: \\sum\\limits_j m_i e_{ji} = 3 m_i & \\text{three inbound links on main node} & N & N \\\\[2em]\n",
        "\\hline\n",
        "∀ i: \\sum\\limits_j m_i e_{ij} = 3 m_i & \\text{three outbound links on main node} & N & N \\\\[2em]\n",
        "\\hline\n",
        "∀ i: \\sum\\limits_j d_i e_{ji} = 3 d_i & \\text{three inbound links on desert node} & N & N \\\\[2em]\n",
        "\\hline\n",
        "∀ i: \\sum\\limits_j d_i e_{ij} = 0 & \\text{no outbound links on desert node} & N & N \\\\[2em]\n",
        "\\hline\n",
        "3 \\cdot \\sum\\limits_i m_i = N & \\text{equal class partitions} & 1 & 3N \\\\[2em]\n",
        "\\hline\n",
        "∀ l: \\sum\\limits_{i,j,k} {}_{l}t_{ijk} = 1 & \\text{unique tour per label} & N & N^3 \\\\[2em]\n",
        "\\hline\n",
        "∀ i,j:\\hspace{1em} s_i e_{ij} + d_j \\leq 1 & \\text{no shortcuts from $s$ to $d$} & N^2 & 2 \\\\[2em]\n",
        "\\hline\n",
        "∀ l: ∀ i,j,k:\\hspace{1em} {}_{l}t_{ijk} \\leq e_{ij}e_{jk} & \\text{valid tour} & N^4 & 1 \\\\[2em]\n",
        "\\hline\n",
        "\\begin{align*}\n",
        "\\forall p,q,p \\neq q:&\\hspace{1em}\n",
        "    \\sum_i \\left(\\sum_{j,k} {}_{p}t_{ijk} + \\sum_{j,k} {}_{q}t_{ijk}\\right)^2 \\\\\n",
        "    &+\\sum_j \\left(\\sum_{i,k} {}_{p}t_{ijk} + \\sum_{i,k} {}_{q}t_{ijk}\\right)^2\n",
        "    \\\\\n",
        "    &+\\sum_k \\left(\\sum_{i,j} {}_{p}t_{ijk} + \\sum_{i,j} {}_{q}t_{ijk}\\right)^2\n",
        "    \\leq 8\n",
        "\\end{align*}\n",
        "& \\text{limit encounters} & N^2-N & 12N^5 \\\\[2em]\n",
        "\\hline\n",
        "\\end{array}"
      ],
      "metadata": {
        "id": "RgdzgBhL-A4m"
      }
    },
    {
      "cell_type": "markdown",
      "source": [
        "## Implementation"
      ],
      "metadata": {
        "id": "LItdAULJYzSq"
      }
    },
    {
      "cell_type": "code",
      "source": [
        "%%writefile pdp.mod\n",
        "problem progressive_dinner_party;\n",
        "#--------------------------------\n",
        "\n",
        "set N;\n",
        "set T = {N,N,N};\n",
        "param C{N,N};\n",
        "\n",
        "var s{N} binary;\n",
        "var m{N} binary;\n",
        "var d{N} binary;\n",
        "var e{N,N} binary;\n",
        "var t{N,T} binary;\n",
        "\n",
        "minimize objective:\n",
        "\tsum {i in N, j in N} C[i,j]*e[i,j];\n",
        "\n",
        "subject to classes {i in N}:\n",
        "\ts[i] + m[i] + d[i] = 1;\n",
        "\t\n",
        "subject to inflow_s {i in N}:\n",
        "\tsum {j in N} s[i] * e[j,i] = 0;\n",
        "\t\n",
        "subject to outflow_s {i in N}:\n",
        "\tsum {j in N} s[i] * e[i,j] = 3 * s[i];\n",
        "\t\n",
        "subject to inflow_m {i in N}:\n",
        "\tsum {j in N} m[i] * e[j,i] = 3 * m[i];\n",
        "\t\n",
        "subject to outflow_m {i in N}:\n",
        "\tsum {j in N} m[i] * e[i,j] = 3 * m[i];\n",
        "\t\n",
        "subject to inflow_d {i in N}:\n",
        "\tsum {j in N} d[i] * e[j,i] = 3 * d[i];\n",
        "\t\n",
        "subject to outflow_d {i in N}:\n",
        "\tsum {j in N} d[i] * e[i,j] = 0;\n",
        "\t\n",
        "subject to shortcut {i in N, j in N}:\n",
        "\ts[i] * e[i,j] + d[j] <= 1;\n",
        "\t\n",
        "subject to equipartition:\n",
        "\t3 * sum {i in N} m[i] = card(N);\n",
        "\n",
        "subject to tour {label in N, (i,j,k) in T}:\n",
        "\tt[label, i,j,k] <= e[i,j]*e[j,k];\n",
        "\n",
        "subject to unique {label in N}:\n",
        "\tsum {(i,j,k) in T} t[label, i,j,k] = 1;\n",
        "\n",
        "subject to encounters {p in N, q in N: p <> q}:\n",
        "\t\tsum {i in N} (sum {j in N, k in N} t[p, i,j,k] + sum {j in N, k in N} t[q, i,j,k])*(sum {j in N, k in N} t[p, i,j,k] + sum {j in N, k in N} t[q, i,j,k]) \n",
        "\t+ sum {j in N} (sum {i in N, k in N} t[p, i,j,k] + sum {i in N, k in N} t[q, i,j,k])*(sum {i in N, k in N} t[p, i,j,k] + sum {i in N, k in N} t[q, i,j,k])\n",
        "\t+ sum {k in N} (sum {i in N, j in N} t[p, i,j,k] + sum {i in N, j in N} t[q, i,j,k])*(sum {i in N, j in N} t[p, i,j,k] + sum {i in N, j in N} t[q, i,j,k])\n",
        "\t<= 8;"
      ],
      "metadata": {
        "id": "pgixlDm8G1xj",
        "outputId": "ae548899-4da0-44d3-9235-04cd838731ce",
        "colab": {
          "base_uri": "https://localhost:8080/"
        }
      },
      "execution_count": 2,
      "outputs": [
        {
          "output_type": "stream",
          "name": "stdout",
          "text": [
            "Overwriting pdp.mod\n"
          ]
        }
      ]
    },
    {
      "cell_type": "markdown",
      "source": [
        "## Data"
      ],
      "metadata": {
        "id": "XW2AURgzIavl"
      }
    },
    {
      "cell_type": "code",
      "source": [
        "w_size = widgets.IntText(description='Size', orientation='horizontal', value=9, min=9)\n",
        "w_cluster = widgets.IntText(description='Clusters', orientation='horizontal', value=1, min=1)\n",
        "w_deviation = widgets.FloatText(description='Deviation', orientation='horizontal', value=0.1, min=0)\n",
        "w_scale = widgets.IntText(description='Scaling', orientation='horizontal', value=1)\n",
        "display(widgets.Box([w_size, w_cluster,w_deviation, w_scale], layout=widgets.Layout(display='flex', flex_flow='row')))"
      ],
      "metadata": {
        "id": "ZbMtrzssIR8r",
        "outputId": "2f6c4c6d-0e1d-47fc-958a-1ade5305ccec",
        "colab": {
          "base_uri": "https://localhost:8080/",
          "height": 49,
          "referenced_widgets": [
            "c1cb71268d354d1ea7c5c6a8bb1df2e0",
            "4d331924ebf64866969c244385e8228f",
            "4b78578adcf54bbf8836f82b1c94772c",
            "c9ea50111f894b63babc81e333da522a",
            "f01cc0545d86461da52e9d3afbea63db",
            "421190dfe9b942eb8fb12966455e59bd",
            "98c809a704d74e02a4514787d7eaf1af",
            "dcf10f905b254b3f9768bc1c71bbd524",
            "ee08a57a344e4c8ba3d5364a0a7afaf6",
            "dc486d9541284056870bfd1b95309ac3",
            "50335e2bc19748c0b3489a3b6dd5fd9b",
            "d5772e6b130c4f6dba7bd8b0d5102cd2",
            "6d00705dd79f4f61973e026eafac4459",
            "6051b56d968e486e8fbc5d49bddcaee5"
          ]
        }
      },
      "execution_count": 3,
      "outputs": [
        {
          "output_type": "display_data",
          "data": {
            "text/plain": [
              "Box(children=(IntText(value=9, description='Size'), IntText(value=1, description='Clusters'), FloatText(value=…"
            ],
            "application/vnd.jupyter.widget-view+json": {
              "version_major": 2,
              "version_minor": 0,
              "model_id": "c1cb71268d354d1ea7c5c6a8bb1df2e0"
            }
          },
          "metadata": {}
        }
      ]
    },
    {
      "cell_type": "code",
      "source": [
        "rng = np.random.default_rng()\n",
        "\n",
        "N = w_size.value\n",
        "K = w_cluster.value\n",
        "σ = w_deviation.value\n",
        "λ = w_scale.value\n",
        "\n",
        "assert N >= 9\n",
        "assert K > 0\n",
        "assert N % K == 0\n",
        "assert N % 3 == 0\n",
        "assert σ >= 0\n",
        "assert λ > 0\n",
        "\n",
        "points = {}\n",
        "centers = rng.uniform(-1, 1, (K, 2))\n",
        "for i in range(K):\n",
        "\tpoints[str(centers[i])] = λ * rng.normal(centers[i], σ, (N // K, 2))\n",
        "\n",
        "X = np.array(list(points.values())).reshape(N, 2)[:,0]\n",
        "Y = np.array(list(points.values())).reshape(N, 2)[:,1]\n",
        "\n",
        "G = nx.DiGraph()\n",
        "for i in range(N):\n",
        "\tG.add_node(i, x = X[i], y = Y[i])\n",
        "\n",
        "C = np.empty((N,N))\n",
        "for a,b in itertools.product(range(N), range(N)):\n",
        "\tdX = (X[b]-X[a]) * (X[b]-X[a])\n",
        "\tdY = (Y[b]-Y[a]) * (Y[b]-Y[a])\n",
        "\tC[a,b] = np.sqrt(dX + dY)\n",
        "\n",
        "plt.scatter(X,Y)\n",
        "plt.show()"
      ],
      "metadata": {
        "id": "kQ8rb5aVHAZY",
        "outputId": "74643875-64a1-48fd-e73f-e53b93338e7a",
        "colab": {
          "base_uri": "https://localhost:8080/",
          "height": 430
        }
      },
      "execution_count": 4,
      "outputs": [
        {
          "output_type": "display_data",
          "data": {
            "text/plain": [
              "<Figure size 640x480 with 1 Axes>"
            ],
            "image/png": "[encoded data removed]"
          },
          "metadata": {}
        }
      ]
    },
    {
      "cell_type": "code",
      "source": [
        "with open('pdp.dat', 'w') as f:\n",
        "\tf.write('set N :=')\n",
        "\tfor n in range(1, N + 1):\n",
        "\t\tf.write(f' {n}')\n",
        "\tf.write(';\\n')\n",
        "\tf.write('param C :=\\n')\n",
        "\tfor i,j in itertools.product(range(N), range(N)):\n",
        "\t\tf.write(f'{i+1} {j+1} {C[i,j]}\\n')\n",
        "\tf.write(';')"
      ],
      "metadata": {
        "id": "s_cF3yGTrA7q"
      },
      "execution_count": 5,
      "outputs": []
    },
    {
      "cell_type": "markdown",
      "source": [
        "## Solver"
      ],
      "metadata": {
        "id": "n3M7ikd-ZKDp"
      }
    },
    {
      "cell_type": "code",
      "source": [
        "from amplpy import AMPL"
      ],
      "metadata": {
        "id": "DG3zBu_Gq7W0"
      },
      "execution_count": 6,
      "outputs": []
    },
    {
      "cell_type": "code",
      "source": [
        "ampl = AMPL()"
      ],
      "metadata": {
        "id": "H14-7NnWK30y"
      },
      "execution_count": 7,
      "outputs": []
    },
    {
      "cell_type": "code",
      "source": [
        "ampl.setOption('solver', 'gurobi')\n",
        "ampl.setOption('gurobi_options', 'outlev=1 presolve=2 mipfocus=2 mipgap=0.2')\n",
        "ampl.setOption('solution_round', '0')"
      ],
      "metadata": {
        "id": "9OGh0qaXuEOw"
      },
      "execution_count": 8,
      "outputs": []
    },
    {
      "cell_type": "code",
      "source": [
        "ampl.read('pdp.mod')"
      ],
      "metadata": {
        "id": "l5vXsgkyE50Z"
      },
      "execution_count": 9,
      "outputs": []
    },
    {
      "cell_type": "code",
      "source": [
        "ampl.read_data('pdp.dat')"
      ],
      "metadata": {
        "id": "QLc6v2MVFCjy"
      },
      "execution_count": 10,
      "outputs": []
    },
    {
      "cell_type": "code",
      "source": [
        "ampl.solve()"
      ],
      "metadata": {
        "id": "zixDyTUCFI1H",
        "outputId": "8776f15a-6200-4035-99a7-26793f6da140",
        "colab": {
          "base_uri": "https://localhost:8080/"
        }
      },
      "execution_count": 11,
      "outputs": [
        {
          "output_type": "stream",
          "name": "stdout",
          "text": [
            "x-Gurobi 10.0.0: Set parameter OutputFlag to value 1\r\n",
            "Set parameter Presolve to value 2\r\n",
            "Set parameter MIPFocus to value 2\r\n",
            "Set parameter MIPGap to value 0.2\r\n",
            "Set parameter InfUnbdInfo to value 1\r\n",
            "Gurobi Optimizer version 10.0.0 build v10.0.0rc2 (win64)\r\n",
            "\r\n",
            "CPU model: Intel(R) Core(TM) i7-1065G7 CPU @ 1.30GHz, instruction set [SSE2|AVX|AVX2|AVX512]\r\n",
            "Thread count: 4 physical cores, 8 logical processors, using up to 8 threads\r\n",
            "\r\n",
            "Optimize a model with 19 rows, 6669 columns and 6597 nonzeros\r\n",
            "Model fingerprint: 0x9796dae9\r\n",
            "Model has 6768 quadratic constraints\r\n",
            "Variable types: 0 continuous, 6669 integer (0 binary)\r\n",
            "Coefficient statistics:\r\n",
            "  Matrix range     [1e+00, 3e+00]\r\n",
            "  QMatrix range    [1e+00, 6e+00]\r\n",
            "  QLMatrix range   [1e+00, 3e+00]\r\n",
            "  Objective range  [2e-02, 3e-01]\r\n",
            "  Bounds range     [1e+00, 1e+00]\r\n",
            "  RHS range        [1e+00, 9e+00]\r\n",
            "  QRHS range       [1e+00, 8e+00]\r\n",
            "\r\n",
            "User MIP start did not produce a new incumbent solution\r\n",
            "User MIP start violates constraint R0 by 1.000000000\r\n",
            "Processed MIP start in 4.28 seconds (0.55 work units)\r\n",
            "\n",
            "Presolve removed 0 rows and 0 columns (presolve time = 9s) ...\n",
            "Presolve removed 0 rows and 0 columns (presolve time = 10s) ...\n",
            "Presolve removed 0 rows and 0 columns (presolve time = 15s) ...\n",
            "Presolve removed 324 rows and 0 columns (presolve time = 20s) ...\n",
            "Presolve removed 324 rows and 0 columns (presolve time = 25s) ...\n",
            "Presolve removed 324 rows and 0 columns (presolve time = 30s) ...\n",
            "Presolve removed 324 rows and 0 columns (presolve time = 35s) ...\n",
            "Presolve removed 324 rows and 0 columns (presolve time = 40s) ...\n",
            "Presolve removed 324 rows and 0 columns (presolve time = 45s) ...\n",
            "Presolve removed 324 rows and 0 columns (presolve time = 50s) ...\n",
            "Presolve removed 324 rows and 0 columns (presolve time = 55s) ...\n",
            "Presolve removed 324 rows and 0 columns (presolve time = 60s) ...\n",
            "Presolve removed 324 rows and 0 columns (presolve time = 65s) ...\n",
            "Presolve removed 324 rows and 0 columns (presolve time = 70s) ...\n",
            "Presolve removed 333 rows and 0 columns (presolve time = 75s) ...\n",
            "Presolve removed 333 rows and 0 columns (presolve time = 80s) ...\n",
            "Presolve removed 333 rows and 0 columns (presolve time = 85s) ...\n",
            "Presolve removed 333 rows and 0 columns (presolve time = 90s) ...\n",
            "Presolve removed 333 rows and 0 columns (presolve time = 95s) ...\n",
            "Presolve removed 333 rows and 0 columns (presolve time = 100s) ...\n",
            "Presolve removed 333 rows and 0 columns (presolve time = 105s) ...\n",
            "Presolve removed 333 rows and 0 columns (presolve time = 110s) ...\n",
            "Presolve removed 333 rows and 0 columns (presolve time = 115s) ...\n",
            "Presolve removed 333 rows and 0 columns (presolve time = 120s) ...\n",
            "Presolve removed 333 rows and 0 columns (presolve time = 125s) ...\n",
            "Presolve removed 333 rows and 0 columns (presolve time = 130s) ...\n",
            "Presolve removed 333 rows and 0 columns (presolve time = 135s) ...\n",
            "Presolve removed 333 rows and 0 columns (presolve time = 140s) ...\n",
            "Presolve removed 333 rows and 0 columns (presolve time = 145s) ...\n",
            "Presolve removed 333 rows and 0 columns (presolve time = 150s) ...\n",
            "Presolve removed 333 rows and 0 columns (presolve time = 155s) ...\n",
            "Presolve removed 435 rows and 0 columns (presolve time = 160s) ...\n",
            "Presolve removed 435 rows and 0 columns (presolve time = 165s) ...\n",
            "Presolve removed 435 rows and 0 columns (presolve time = 170s) ...\n",
            "Presolve removed 435 rows and 0 columns (presolve time = 175s) ...\n",
            "Presolve removed 435 rows and 0 columns (presolve time = 180s) ...\n",
            "Presolve removed 435 rows and 0 columns (presolve time = 185s) ...\n",
            "Presolve removed 435 rows and 0 columns (presolve time = 190s) ...\n",
            "Presolve removed 435 rows and 0 columns (presolve time = 195s) ...\n",
            "Presolve removed 435 rows and 0 columns (presolve time = 207s) ...\n",
            "Presolve added 6360 rows and 684 columns\n",
            "Presolve time: 207.31s\n",
            "Presolved: 8593 rows, 8118 columns, 25984 nonzeros\n",
            "Presolved model has 36 quadratic constraint(s)\n",
            "Variable types: 684 continuous, 7434 integer (7434 binary)\n",
            "Root relaxation presolve removed 774 rows and 1080 columns\n",
            "Root relaxation presolved: 7819 rows, 7038 columns, 23793 nonzeros\n",
            "\n",
            "\n",
            "Root simplex log...\n",
            "\n",
            "Iteration    Objective       Primal Inf.    Dual Inf.      Time\n",
            "       0    0.0000000e+00   2.150000e+01   0.000000e+00    213s\n",
            "     567    8.1107794e-01   0.000000e+00   0.000000e+00    213s\n",
            "     567    8.1107794e-01   0.000000e+00   0.000000e+00    213s\n",
            "\n",
            "Use crossover to convert LP symmetric solution to basic solution...\n",
            "\n",
            "Root crossover log...\n",
            "\n",
            "      44 PPushes remaining with PInf 0.0000000e+00               213s\n",
            "       0 PPushes remaining with PInf 0.0000000e+00               213s\n",
            "\n",
            "  Push phase complete: Pinf 0.0000000e+00, Dinf 3.3653635e-16    213s\n",
            "\n",
            "\n",
            "Root simplex log...\n",
            "\n",
            "Iteration    Objective       Primal Inf.    Dual Inf.      Time\n",
            "     614    8.1107794e-01   0.000000e+00   0.000000e+00    213s\n",
            "     614    8.1107794e-01   0.000000e+00   0.000000e+00    213s\n",
            "\n",
            "Root relaxation: objective 8.110779e-01, 614 iterations, 0.11 seconds (0.05 work units)\n",
            "Another try with MIP start\n",
            "\n",
            "    Nodes    |    Current Node    |     Objective Bounds      |     Work\n",
            " Expl Unexpl |  Obj  Depth IntInf | Incumbent    BestBd   Gap | It/Node Time\n",
            "\n",
            "     0     0    0.81108    0   86          -    0.81108      -     -  247s\n",
            "     0     0    1.40421    0  119          -    1.40421      -     -  293s\n",
            "     0     0    1.40421    0  119          -    1.40421      -     -  319s\n",
            "     0     0    1.53577    0  111          -    1.53577      -     -  340s\n",
            "     0     0    1.53577    0  111          -    1.53577      -     -  349s\n",
            "     0     0    1.73924    0  145          -    1.73924      -     -  366s\n",
            "     0     0    1.74475    0  119          -    1.74475      -     -  386s\n",
            "     0     0    1.86434    0  135          -    1.86434      -     -  400s\n",
            "     0     0    1.86571    0  127          -    1.86571      -     -  405s\n",
            "     0     0    1.93225    0  131          -    1.93225      -     -  421s\n",
            "     0     0    1.93328    0  137          -    1.93328      -     -  425s\n",
            "     0     0    2.00666    0  140          -    2.00666      -     -  438s\n",
            "     0     0    2.00751    0  146          -    2.00751      -     -  442s\n",
            "     0     0    2.02549    0  138          -    2.02549      -     -  449s\n",
            "     0     0    2.02711    0  163          -    2.02711      -     -  456s\n",
            "     0     0    2.03582    0  150          -    2.03582      -     -  467s\n",
            "     0     0    2.04284    0  150          -    2.04284      -     -  470s\n",
            "     0     0    2.05104    0  172          -    2.05104      -     -  489s\n",
            "     0     0    2.05164    0  155          -    2.05164      -     -  491s\n",
            "     0     0    2.05771    0  167          -    2.05771      -     -  501s\n",
            "     0     0    2.05772    0  168          -    2.05772      -     -  504s\n",
            "     0     0    2.05772    0  169          -    2.05772      -     -  510s\n",
            "     0     0    2.05772    0  157          -    2.05772      -     -  512s\n",
            "     0     0    2.05830    0  158          -    2.05830      -     -  521s\n",
            "     0     0    2.05830    0  119          -    2.05830      -     -  523s\n",
            "H    0     0                       2.7899228    2.05830  26.2%     -  530s\n",
            "     0     2    2.07559    0  110    2.78992    2.07559  25.6%     -  566s\n",
            "     1     4    2.07559    1  112    2.78992    2.07559  25.6%  5002  571s\n",
            "     7    12    2.07559    3  112    2.78992    2.07559  25.6%   897  576s\n",
            "    15    20    2.10159    5   97    2.78992    2.07559  25.6%   617  581s\n",
            "    23    28    2.12921    7   77    2.78992    2.07559  25.6%   506  587s\n",
            "    28    32    2.13044    8   55    2.78992    2.07559  25.6%   444  593s\n",
            "    32    35    2.18842    9   71    2.78992    2.07559  25.6%   410  596s\n",
            "    49    48    2.30650   12   71    2.78992    2.07559  25.6%   303  602s\n",
            "    57    51    2.27121   13   51    2.78992    2.07559  25.6%   267  607s\n",
            "    61    52    2.73588   14   41    2.78992    2.07559  25.6%   257  610s\n",
            "    88    71    2.61790   20   37    2.78992    2.07559  25.6%   210  617s\n",
            "   102    72 infeasible   22         2.78992    2.07559  25.6%   198  624s\n",
            "   109    78    2.73990   23   65    2.78992    2.07559  25.6%   208  631s\n",
            "   122    81    2.73990   24   66    2.78992    2.07559  25.6%   204  637s\n",
            "   126    88    2.73990   25   67    2.78992    2.07559  25.6%   203  641s\n",
            "   144    99    2.73990   26   68    2.78992    2.07559  25.6%   196  646s\n",
            "   161   101    2.73990   27   66    2.78992    2.07559  25.6%   181  652s\n",
            "   166   103    2.73990   28   68    2.78992    2.07559  25.6%   182  659s\n",
            "   171   109    2.73990   29   72    2.78992    2.07559  25.6%   179  665s\n",
            "   193   111    2.73990   30   66    2.78992    2.07559  25.6%   190  680s\n",
            "   198   112    2.75557   31   92    2.78992    2.07559  25.6%   188  688s\n",
            "   213   117    2.76839   31   66    2.78992    2.07559  25.6%   178  695s\n",
            "   230   119    2.75557   32   81    2.78992    2.09044  25.1%   174  701s\n",
            "   237   129    2.22838    4  113    2.78992    2.09044  25.1%   179  710s\n",
            "   257   143    2.25066    6   99    2.78992    2.09044  25.1%   175  719s\n",
            "   278   153 infeasible   18         2.78992    2.11501  24.2%   166  725s\n",
            "   305   169    2.50547   11   81    2.78992    2.11501  24.2%   163  730s\n",
            "   327   180    2.53777   12   73    2.78992    2.11501  24.2%   164  736s\n",
            "   359   197    2.73092   15   83    2.78992    2.12995  23.7%   157  743s\n",
            "   398   219    2.60006   16   78    2.78992    2.13712  23.4%   154  748s\n",
            "   447   229    2.57193   19   72    2.78992    2.13712  23.4%   151  754s\n",
            "   503   243    2.72151   22   61    2.78992    2.13712  23.4%   145  762s\n",
            "   564   259    2.72480   23   62    2.78992    2.13712  23.4%   143  770s\n",
            "   630   263    2.78138   26    -    2.78992    2.16424  22.4%   148  784s\n",
            "   633   264    2.76238   28    -    2.78992    2.16424  22.4%   147  785s\n",
            "   645   277    2.26099    6   99    2.78992    2.16424  22.4%   147  794s\n",
            "   665   277    2.73934   15   72    2.78992    2.16424  22.4%   145  800s\n",
            "   678   276    2.73934   16   73    2.78992    2.19118  21.5%   144  810s\n",
            "   702   279    2.40981    7   95    2.78992    2.19230  21.4%   142  819s\n",
            "   718   285    2.29711    8  109    2.78992    2.19395  21.4%   141  829s\n",
            "   740   286    2.54919   14  119    2.78992    2.19395  21.4%   139  933s\n",
            "   742   287    2.73201   17   80    2.78992    2.19395  21.4%   139  972s\n",
            "   743   288    2.39022   14   85    2.78992    2.19395  21.4%   139 1011s\n",
            "   744   289    2.48200   17  105    2.78992    2.19395  21.4%   138 1022s\n",
            "   745   289    2.50002   17   94    2.78992    2.19395  21.4%   138 1038s\n",
            "   746   290    2.32293   11  118    2.78992    2.19395  21.4%   138 1054s\n",
            "   747   291    2.35897   10  108    2.78992    2.19395  21.4%   138 1072s\n",
            "   748   291    2.48200   17  110    2.78992    2.19395  21.4%   138 1080s\n",
            "   749   292    2.25035    9   99    2.78992    2.19395  21.4%   138 1097s\n",
            "   750   293    2.40219    8  110    2.78992    2.19395  21.4%   137 1106s\n",
            "   751   293    2.36279   12   86    2.78992    2.19395  21.4%   137 1121s\n",
            "   752   294    2.29538   10   95    2.78992    2.19395  21.4%   137 1128s\n",
            "   753   295    2.35897   10   94    2.78992    2.19395  21.4%   137 1142s\n",
            "   754   295    2.29630   10  102    2.78992    2.19395  21.4%   137 1151s\n",
            "   755   296    2.76238   28   88    2.78992    2.19395  21.4%   136 1161s\n",
            "   756   297    2.73201   17  103    2.78992    2.19395  21.4%   136 1169s\n",
            "   757   297    2.77517   17   90    2.78992    2.19461  21.3%   136 1178s\n",
            "   758   298    2.29425    8  120    2.78992    2.19517  21.3%   136 1191s\n",
            "   759   299    2.34185    9   86    2.78992    2.20144  21.1%   136 1206s\n",
            "   760   299    2.45643   14  120    2.78992    2.20161  21.1%   136 1217s\n",
            "   761   300    2.26604   10  101    2.78992    2.20170  21.1%   135 1232s\n",
            "   762   301    2.38080   14  103    2.78992    2.20171  21.1%   135 1236s\n",
            "   763   301    2.26955    6  100    2.78992    2.20171  21.1%   135 1244s\n",
            "   764   302    2.33857   10  105    2.78992    2.20171  21.1%   135 1249s\n",
            "   765   303    2.49921   11  114    2.78992    2.20171  21.1%   135 1263s\n",
            "   766   303    2.32293   11  123    2.78992    2.20171  21.1%   134 1269s\n",
            "   767   304    2.37598    8  104    2.78992    2.21908  20.5%   134 1280s\n",
            "   768   305    2.73201   17  107    2.78992    2.21908  20.5%   134 1285s\n",
            "   769   305    2.31938    9   98    2.78992    2.21908  20.5%   134 1290s\n",
            "   770   306    2.61380   12  115    2.78992    2.21908  20.5%   134 1300s\n",
            "   771   307    2.40538   10  101    2.78992    2.21908  20.5%   134 1312s\n",
            "   772   307    2.29708    9  110    2.78992    2.21908  20.5%   133 1316s\n",
            "   773   308    2.32419   10  113    2.78992    2.21908  20.5%   133 1331s\n",
            "   774   309    2.45651   13  110    2.78992    2.21908  20.5%   133 1335s\n",
            "   775   309    2.33975   12  102    2.78992    2.21908  20.5%   133 1346s\n",
            "   776   310    2.31938    9  112    2.78992    2.21908  20.5%   133 1351s\n",
            "   777   311    2.55311   22   98    2.78992    2.21908  20.5%   133 1361s\n",
            "   778   311    2.42135   14  111    2.78992    2.21908  20.5%   132 1367s\n",
            "   779   312    2.22721    7   98    2.78992    2.22721  20.2%   132 1382s\n",
            "\n",
            "Cutting planes:\n",
            "  Gomory: 13\n",
            "  Lift-and-project: 9\n",
            "  Implied bound: 4\n",
            "  Clique: 6\n",
            "  MIR: 3\n",
            "  StrongCG: 1\n",
            "  Flow cover: 37\n",
            "  Zero half: 6\n",
            "  RLT: 4\n",
            "\n",
            "Explored 779 nodes (372801 simplex iterations) in 1384.14 seconds (399.29 work units)\n",
            "Thread count was 8 (of 8 available processors)\n",
            "\n",
            "Solution count 1: 2.78992 \n",
            "\n",
            "Optimal solution found (tolerance 2.00e-01)\n",
            "Best objective 2.789922831667e+00, best bound 2.239024528495e+00, gap 19.7460%\n",
            "tech:outlev=1\n",
            "pre:solve=2\n",
            "mip:focus=2\n",
            "mip:gap=0.2\n",
            "x-Gurobi 10.0.0: optimal solution; objective 2.789922832\n",
            "372801 simplex iterations\n",
            "779 branching nodes\n",
            "absmipgap=0.550898, relmipgap=0.19746\n"
          ]
        }
      ]
    },
    {
      "cell_type": "code",
      "source": [
        "s = ampl.get_variable('s').get_values()\n",
        "m = ampl.get_variable('m').get_values()\n",
        "d = ampl.get_variable('d').get_values()\n",
        "e = ampl.get_variable('e').get_values()\n",
        "t = ampl.get_variable('t').get_values()\n",
        "\n",
        "S = np.array(s.get_column('s.val').to_list())\n",
        "M = np.array(m.get_column('m.val').to_list())\n",
        "D = np.array(d.get_column('d.val').to_list())\n",
        "E = np.reshape(e.get_column('e.val').to_list(), (N,N))\n",
        "T = np.reshape(t.get_column('t.val').to_list(), (N,N,N,N))"
      ],
      "metadata": {
        "id": "oiETfJOTLuMZ"
      },
      "execution_count": 12,
      "outputs": []
    },
    {
      "cell_type": "markdown",
      "source": [
        "## Results"
      ],
      "metadata": {
        "id": "VOFU6pabZND7"
      }
    },
    {
      "cell_type": "code",
      "source": [
        "def draw_graph(nodes: dict, edges: list[tuple]):\n",
        "\tG = nx.DiGraph()\n",
        "\tG.add_nodes_from(nodes)\n",
        "\tG.add_edges_from(edges)\n",
        "\tpos = {k: list(v.values()) for k, v in nodes.items()}\n",
        "\tedge_colors = nx.get_edge_attributes(G,'color').values()\n",
        "\tnode_colors = np.array(list(dict(G.in_degree(G.nodes)).values())) - np.array(list(dict(G.out_degree(G.nodes)).values()))\n",
        "  \n",
        "\n",
        "\tnx.draw(\n",
        "\t\t\tG, pos,\n",
        "\t\t\tedge_color = edge_colors,\n",
        "\t\t\tedge_cmap = plt.cm.get_cmap('Set3'),\n",
        "\t\t\tnode_color = node_colors,\n",
        "\t\t\twidth=3, node_size=50, connectionstyle='arc3,rad=0.1')\n",
        "\tplt.show()"
      ],
      "metadata": {
        "id": "ilc5wpkkUWGG"
      },
      "execution_count": 14,
      "outputs": []
    },
    {
      "cell_type": "code",
      "source": [
        "tours = [(l,i,j,k) for l in range(N) for i in range(N) for j in range(N) for k in range(N) if T[l, i,j,k] == 1]\n",
        "edges = []\n",
        "for (l,i,j,k) in tours:\n",
        "\tedges.append((i, j, {'color':l}))\n",
        "\tedges.append((j, k, {'color':l}))\n",
        "\n",
        "nodes = dict(G.nodes(data=True))\n",
        "\n",
        "draw_graph(nodes, edges)"
      ],
      "metadata": {
        "colab": {
          "base_uri": "https://localhost:8080/",
          "height": 516
        },
        "id": "F_czUjRzXV4d",
        "outputId": "b6fcec61-9b9a-47c6-893c-792654d09fbb"
      },
      "execution_count": 16,
      "outputs": [
        {
          "output_type": "display_data",
          "data": {
            "text/plain": [
              "<Figure size 640x480 with 1 Axes>"
            ],
            "image/png": "[encoded data removed]"
          },
          "metadata": {}
        }
      ]
    },
    {
      "cell_type": "markdown",
      "source": [
        "The given QCBP is linerizable to a MILP.\n",
        "\n",
        "The decision variables' count scales to the order of four.\n",
        "\n",
        "The \"limit encounters\" constraint's amount of summands scales to the order of five.\n",
        "\n",
        "Therefore, this formulation scales poorly."
      ],
      "metadata": {
        "id": "l_QlXJKLHqe2"
      }
    }
  ]
}