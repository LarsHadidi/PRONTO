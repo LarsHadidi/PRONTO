{
  "nbformat": 4,
  "nbformat_minor": 0,
  "metadata": {
    "colab": {
      "provenance": [],
      "authorship_tag": "ABX9TyNVsl7P00/vYwP+i95DMrE2",
      "include_colab_link": true
    },
    "kernelspec": {
      "name": "python3",
      "display_name": "Python 3"
    },
    "language_info": {
      "name": "python"
    },
    "widgets": {
      "application/vnd.jupyter.widget-state+json": {
        "e4366d6173cb4a468b14ec3157faf694": {
          "model_module": "@jupyter-widgets/controls",
          "model_name": "BoxModel",
          "model_module_version": "1.5.0",
          "state": {
            "_dom_classes": [],
            "_model_module": "@jupyter-widgets/controls",
            "_model_module_version": "1.5.0",
            "_model_name": "BoxModel",
            "_view_count": null,
            "_view_module": "@jupyter-widgets/controls",
            "_view_module_version": "1.5.0",
            "_view_name": "BoxView",
            "box_style": "",
            "children": [
              "IPY_MODEL_16de4d5c2762417fb12d9df3d2d4bfaa",
              "IPY_MODEL_3b5c226148fe4e65a7cfdceb2da37388",
              "IPY_MODEL_8c4dd8ffd0a24e7f904a0ce97b64fa3a",
              "IPY_MODEL_2dfbae9a402f4f578ad538a46e2ae68f"
            ],
            "layout": "IPY_MODEL_73fccc6e54dc4c1c84296160a3518289"
          }
        },
        "16de4d5c2762417fb12d9df3d2d4bfaa": {
          "model_module": "@jupyter-widgets/controls",
          "model_name": "IntTextModel",
          "model_module_version": "1.5.0",
          "state": {
            "_dom_classes": [],
            "_model_module": "@jupyter-widgets/controls",
            "_model_module_version": "1.5.0",
            "_model_name": "IntTextModel",
            "_view_count": null,
            "_view_module": "@jupyter-widgets/controls",
            "_view_module_version": "1.5.0",
            "_view_name": "IntTextView",
            "continuous_update": false,
            "description": "Size",
            "description_tooltip": null,
            "disabled": false,
            "layout": "IPY_MODEL_f98522f1da584bf6a24329fe11c81ed0",
            "step": 1,
            "style": "IPY_MODEL_68fbb0e487ac4fb89aae8fc6d47b4a7b",
            "value": 9
          }
        },
        "3b5c226148fe4e65a7cfdceb2da37388": {
          "model_module": "@jupyter-widgets/controls",
          "model_name": "IntTextModel",
          "model_module_version": "1.5.0",
          "state": {
            "_dom_classes": [],
            "_model_module": "@jupyter-widgets/controls",
            "_model_module_version": "1.5.0",
            "_model_name": "IntTextModel",
            "_view_count": null,
            "_view_module": "@jupyter-widgets/controls",
            "_view_module_version": "1.5.0",
            "_view_name": "IntTextView",
            "continuous_update": false,
            "description": "Clusters",
            "description_tooltip": null,
            "disabled": false,
            "layout": "IPY_MODEL_f45be5f372754fb0aa116e29e9fd440d",
            "step": 1,
            "style": "IPY_MODEL_4f2235376f73418c91d49fe38b28d150",
            "value": 1
          }
        },
        "8c4dd8ffd0a24e7f904a0ce97b64fa3a": {
          "model_module": "@jupyter-widgets/controls",
          "model_name": "FloatTextModel",
          "model_module_version": "1.5.0",
          "state": {
            "_dom_classes": [],
            "_model_module": "@jupyter-widgets/controls",
            "_model_module_version": "1.5.0",
            "_model_name": "FloatTextModel",
            "_view_count": null,
            "_view_module": "@jupyter-widgets/controls",
            "_view_module_version": "1.5.0",
            "_view_name": "FloatTextView",
            "continuous_update": false,
            "description": "Deviation",
            "description_tooltip": null,
            "disabled": false,
            "layout": "IPY_MODEL_52cb1e9a1acf45cf9a249e714fa456de",
            "step": null,
            "style": "IPY_MODEL_f5da0a0b5d0b476ab1926b976183feea",
            "value": 0.1
          }
        },
        "2dfbae9a402f4f578ad538a46e2ae68f": {
          "model_module": "@jupyter-widgets/controls",
          "model_name": "IntTextModel",
          "model_module_version": "1.5.0",
          "state": {
            "_dom_classes": [],
            "_model_module": "@jupyter-widgets/controls",
            "_model_module_version": "1.5.0",
            "_model_name": "IntTextModel",
            "_view_count": null,
            "_view_module": "@jupyter-widgets/controls",
            "_view_module_version": "1.5.0",
            "_view_name": "IntTextView",
            "continuous_update": false,
            "description": "Scaling",
            "description_tooltip": null,
            "disabled": false,
            "layout": "IPY_MODEL_34228f9c922848d2bf106ce1d45220df",
            "step": 1,
            "style": "IPY_MODEL_c3741e1f64584801b614985811939f3d",
            "value": 1
          }
        },
        "73fccc6e54dc4c1c84296160a3518289": {
          "model_module": "@jupyter-widgets/base",
          "model_name": "LayoutModel",
          "model_module_version": "1.2.0",
          "state": {
            "_model_module": "@jupyter-widgets/base",
            "_model_module_version": "1.2.0",
            "_model_name": "LayoutModel",
            "_view_count": null,
            "_view_module": "@jupyter-widgets/base",
            "_view_module_version": "1.2.0",
            "_view_name": "LayoutView",
            "align_content": null,
            "align_items": null,
            "align_self": null,
            "border": null,
            "bottom": null,
            "display": "flex",
            "flex": null,
            "flex_flow": "row",
            "grid_area": null,
            "grid_auto_columns": null,
            "grid_auto_flow": null,
            "grid_auto_rows": null,
            "grid_column": null,
            "grid_gap": null,
            "grid_row": null,
            "grid_template_areas": null,
            "grid_template_columns": null,
            "grid_template_rows": null,
            "height": null,
            "justify_content": null,
            "justify_items": null,
            "left": null,
            "margin": null,
            "max_height": null,
            "max_width": null,
            "min_height": null,
            "min_width": null,
            "object_fit": null,
            "object_position": null,
            "order": null,
            "overflow": null,
            "overflow_x": null,
            "overflow_y": null,
            "padding": null,
            "right": null,
            "top": null,
            "visibility": null,
            "width": null
          }
        },
        "f98522f1da584bf6a24329fe11c81ed0": {
          "model_module": "@jupyter-widgets/base",
          "model_name": "LayoutModel",
          "model_module_version": "1.2.0",
          "state": {
            "_model_module": "@jupyter-widgets/base",
            "_model_module_version": "1.2.0",
            "_model_name": "LayoutModel",
            "_view_count": null,
            "_view_module": "@jupyter-widgets/base",
            "_view_module_version": "1.2.0",
            "_view_name": "LayoutView",
            "align_content": null,
            "align_items": null,
            "align_self": null,
            "border": null,
            "bottom": null,
            "display": null,
            "flex": null,
            "flex_flow": null,
            "grid_area": null,
            "grid_auto_columns": null,
            "grid_auto_flow": null,
            "grid_auto_rows": null,
            "grid_column": null,
            "grid_gap": null,
            "grid_row": null,
            "grid_template_areas": null,
            "grid_template_columns": null,
            "grid_template_rows": null,
            "height": null,
            "justify_content": null,
            "justify_items": null,
            "left": null,
            "margin": null,
            "max_height": null,
            "max_width": null,
            "min_height": null,
            "min_width": null,
            "object_fit": null,
            "object_position": null,
            "order": null,
            "overflow": null,
            "overflow_x": null,
            "overflow_y": null,
            "padding": null,
            "right": null,
            "top": null,
            "visibility": null,
            "width": null
          }
        },
        "68fbb0e487ac4fb89aae8fc6d47b4a7b": {
          "model_module": "@jupyter-widgets/controls",
          "model_name": "DescriptionStyleModel",
          "model_module_version": "1.5.0",
          "state": {
            "_model_module": "@jupyter-widgets/controls",
            "_model_module_version": "1.5.0",
            "_model_name": "DescriptionStyleModel",
            "_view_count": null,
            "_view_module": "@jupyter-widgets/base",
            "_view_module_version": "1.2.0",
            "_view_name": "StyleView",
            "description_width": ""
          }
        },
        "f45be5f372754fb0aa116e29e9fd440d": {
          "model_module": "@jupyter-widgets/base",
          "model_name": "LayoutModel",
          "model_module_version": "1.2.0",
          "state": {
            "_model_module": "@jupyter-widgets/base",
            "_model_module_version": "1.2.0",
            "_model_name": "LayoutModel",
            "_view_count": null,
            "_view_module": "@jupyter-widgets/base",
            "_view_module_version": "1.2.0",
            "_view_name": "LayoutView",
            "align_content": null,
            "align_items": null,
            "align_self": null,
            "border": null,
            "bottom": null,
            "display": null,
            "flex": null,
            "flex_flow": null,
            "grid_area": null,
            "grid_auto_columns": null,
            "grid_auto_flow": null,
            "grid_auto_rows": null,
            "grid_column": null,
            "grid_gap": null,
            "grid_row": null,
            "grid_template_areas": null,
            "grid_template_columns": null,
            "grid_template_rows": null,
            "height": null,
            "justify_content": null,
            "justify_items": null,
            "left": null,
            "margin": null,
            "max_height": null,
            "max_width": null,
            "min_height": null,
            "min_width": null,
            "object_fit": null,
            "object_position": null,
            "order": null,
            "overflow": null,
            "overflow_x": null,
            "overflow_y": null,
            "padding": null,
            "right": null,
            "top": null,
            "visibility": null,
            "width": null
          }
        },
        "4f2235376f73418c91d49fe38b28d150": {
          "model_module": "@jupyter-widgets/controls",
          "model_name": "DescriptionStyleModel",
          "model_module_version": "1.5.0",
          "state": {
            "_model_module": "@jupyter-widgets/controls",
            "_model_module_version": "1.5.0",
            "_model_name": "DescriptionStyleModel",
            "_view_count": null,
            "_view_module": "@jupyter-widgets/base",
            "_view_module_version": "1.2.0",
            "_view_name": "StyleView",
            "description_width": ""
          }
        },
        "52cb1e9a1acf45cf9a249e714fa456de": {
          "model_module": "@jupyter-widgets/base",
          "model_name": "LayoutModel",
          "model_module_version": "1.2.0",
          "state": {
            "_model_module": "@jupyter-widgets/base",
            "_model_module_version": "1.2.0",
            "_model_name": "LayoutModel",
            "_view_count": null,
            "_view_module": "@jupyter-widgets/base",
            "_view_module_version": "1.2.0",
            "_view_name": "LayoutView",
            "align_content": null,
            "align_items": null,
            "align_self": null,
            "border": null,
            "bottom": null,
            "display": null,
            "flex": null,
            "flex_flow": null,
            "grid_area": null,
            "grid_auto_columns": null,
            "grid_auto_flow": null,
            "grid_auto_rows": null,
            "grid_column": null,
            "grid_gap": null,
            "grid_row": null,
            "grid_template_areas": null,
            "grid_template_columns": null,
            "grid_template_rows": null,
            "height": null,
            "justify_content": null,
            "justify_items": null,
            "left": null,
            "margin": null,
            "max_height": null,
            "max_width": null,
            "min_height": null,
            "min_width": null,
            "object_fit": null,
            "object_position": null,
            "order": null,
            "overflow": null,
            "overflow_x": null,
            "overflow_y": null,
            "padding": null,
            "right": null,
            "top": null,
            "visibility": null,
            "width": null
          }
        },
        "f5da0a0b5d0b476ab1926b976183feea": {
          "model_module": "@jupyter-widgets/controls",
          "model_name": "DescriptionStyleModel",
          "model_module_version": "1.5.0",
          "state": {
            "_model_module": "@jupyter-widgets/controls",
            "_model_module_version": "1.5.0",
            "_model_name": "DescriptionStyleModel",
            "_view_count": null,
            "_view_module": "@jupyter-widgets/base",
            "_view_module_version": "1.2.0",
            "_view_name": "StyleView",
            "description_width": ""
          }
        },
        "34228f9c922848d2bf106ce1d45220df": {
          "model_module": "@jupyter-widgets/base",
          "model_name": "LayoutModel",
          "model_module_version": "1.2.0",
          "state": {
            "_model_module": "@jupyter-widgets/base",
            "_model_module_version": "1.2.0",
            "_model_name": "LayoutModel",
            "_view_count": null,
            "_view_module": "@jupyter-widgets/base",
            "_view_module_version": "1.2.0",
            "_view_name": "LayoutView",
            "align_content": null,
            "align_items": null,
            "align_self": null,
            "border": null,
            "bottom": null,
            "display": null,
            "flex": null,
            "flex_flow": null,
            "grid_area": null,
            "grid_auto_columns": null,
            "grid_auto_flow": null,
            "grid_auto_rows": null,
            "grid_column": null,
            "grid_gap": null,
            "grid_row": null,
            "grid_template_areas": null,
            "grid_template_columns": null,
            "grid_template_rows": null,
            "height": null,
            "justify_content": null,
            "justify_items": null,
            "left": null,
            "margin": null,
            "max_height": null,
            "max_width": null,
            "min_height": null,
            "min_width": null,
            "object_fit": null,
            "object_position": null,
            "order": null,
            "overflow": null,
            "overflow_x": null,
            "overflow_y": null,
            "padding": null,
            "right": null,
            "top": null,
            "visibility": null,
            "width": null
          }
        },
        "c3741e1f64584801b614985811939f3d": {
          "model_module": "@jupyter-widgets/controls",
          "model_name": "DescriptionStyleModel",
          "model_module_version": "1.5.0",
          "state": {
            "_model_module": "@jupyter-widgets/controls",
            "_model_module_version": "1.5.0",
            "_model_name": "DescriptionStyleModel",
            "_view_count": null,
            "_view_module": "@jupyter-widgets/base",
            "_view_module_version": "1.2.0",
            "_view_name": "StyleView",
            "description_width": ""
          }
        }
      }
    }
  },
  "cells": [
    {
      "cell_type": "markdown",
      "metadata": {
        "id": "view-in-github",
        "colab_type": "text"
      },
      "source": [
        "<a href=\"https://colab.research.google.com/github/LarsHadidi/PRONTO/blob/mathprogram/mp/PDP-AQC.ipynb\" target=\"_parent\"><img src=\"https://colab.research.google.com/assets/colab-badge.svg\" alt=\"Open In Colab\"/></a>"
      ]
    },
    {
      "cell_type": "markdown",
      "source": [
        "# Progressive Dinner Party: Adiabatic Quantum Computation"
      ],
      "metadata": {
        "id": "O6owoLXSjUf5"
      }
    },
    {
      "cell_type": "markdown",
      "source": [
        "## Hosted Runtime"
      ],
      "metadata": {
        "id": "XP6puXPktDC1"
      }
    },
    {
      "cell_type": "code",
      "source": [
        "!pip install -q dwave-ocean-sdk"
      ],
      "metadata": {
        "id": "2xpZQG15sjrv",
        "outputId": "7b162fe7-ff56-4531-9ac3-0e02fd5a8b88",
        "colab": {
          "base_uri": "https://localhost:8080/"
        }
      },
      "execution_count": 1,
      "outputs": [
        {
          "output_type": "stream",
          "name": "stdout",
          "text": [
            "\u001b[2K     \u001b[90m━━━━━━━━━━━━━━━━━━━━━━━━━━━━━━━━━━━━━━━━\u001b[0m \u001b[32m3.6/3.6 MB\u001b[0m \u001b[31m9.9 MB/s\u001b[0m eta \u001b[36m0:00:00\u001b[0m\n",
            "\u001b[2K     \u001b[90m━━━━━━━━━━━━━━━━━━━━━━━━━━━━━━━━━━━━━━\u001b[0m \u001b[32m244.8/244.8 KB\u001b[0m \u001b[31m11.0 MB/s\u001b[0m eta \u001b[36m0:00:00\u001b[0m\n",
            "\u001b[2K     \u001b[90m━━━━━━━━━━━━━━━━━━━━━━━━━━━━━━━━━━━━━━━━\u001b[0m \u001b[32m15.9/15.9 MB\u001b[0m \u001b[31m22.8 MB/s\u001b[0m eta \u001b[36m0:00:00\u001b[0m\n",
            "\u001b[2K     \u001b[90m━━━━━━━━━━━━━━━━━━━━━━━━━━━━━━━━━━━━━━━\u001b[0m \u001b[32m102.4/102.4 KB\u001b[0m \u001b[31m5.6 MB/s\u001b[0m eta \u001b[36m0:00:00\u001b[0m\n",
            "\u001b[2K     \u001b[90m━━━━━━━━━━━━━━━━━━━━━━━━━━━━━━━━━━━━━━━\u001b[0m \u001b[32m103.5/103.5 KB\u001b[0m \u001b[31m4.1 MB/s\u001b[0m eta \u001b[36m0:00:00\u001b[0m\n",
            "\u001b[2K     \u001b[90m━━━━━━━━━━━━━━━━━━━━━━━━━━━━━━━━━━━━━━━━\u001b[0m \u001b[32m74.8/74.8 KB\u001b[0m \u001b[31m2.3 MB/s\u001b[0m eta \u001b[36m0:00:00\u001b[0m\n",
            "\u001b[2K     \u001b[90m━━━━━━━━━━━━━━━━━━━━━━━━━━━━━━━━━━━━━━━\u001b[0m \u001b[32m111.4/111.4 KB\u001b[0m \u001b[31m6.2 MB/s\u001b[0m eta \u001b[36m0:00:00\u001b[0m\n",
            "\u001b[2K     \u001b[90m━━━━━━━━━━━━━━━━━━━━━━━━━━━━━━━━━━━━━━━━\u001b[0m \u001b[32m6.1/6.1 MB\u001b[0m \u001b[31m42.9 MB/s\u001b[0m eta \u001b[36m0:00:00\u001b[0m\n",
            "\u001b[2K     \u001b[90m━━━━━━━━━━━━━━━━━━━━━━━━━━━━━━━━━━━━━━━━\u001b[0m \u001b[32m6.1/6.1 MB\u001b[0m \u001b[31m19.8 MB/s\u001b[0m eta \u001b[36m0:00:00\u001b[0m\n",
            "\u001b[2K     \u001b[90m━━━━━━━━━━━━━━━━━━━━━━━━━━━━━━━━━━━━━━━━\u001b[0m \u001b[32m45.0/45.0 KB\u001b[0m \u001b[31m2.0 MB/s\u001b[0m eta \u001b[36m0:00:00\u001b[0m\n",
            "\u001b[2K     \u001b[90m━━━━━━━━━━━━━━━━━━━━━━━━━━━━━━━━━━━━━━\u001b[0m \u001b[32m101.5/101.5 KB\u001b[0m \u001b[31m11.6 MB/s\u001b[0m eta \u001b[36m0:00:00\u001b[0m\n",
            "\u001b[2K     \u001b[90m━━━━━━━━━━━━━━━━━━━━━━━━━━━━━━━━━━━━━━━━\u001b[0m \u001b[32m2.0/2.0 MB\u001b[0m \u001b[31m69.5 MB/s\u001b[0m eta \u001b[36m0:00:00\u001b[0m\n",
            "\u001b[2K     \u001b[90m━━━━━━━━━━━━━━━━━━━━━━━━━━━━━━━━━━━━━━\u001b[0m \u001b[32m302.6/302.6 KB\u001b[0m \u001b[31m27.1 MB/s\u001b[0m eta \u001b[36m0:00:00\u001b[0m\n",
            "\u001b[2K     \u001b[90m━━━━━━━━━━━━━━━━━━━━━━━━━━━━━━━━━━━━━━\u001b[0m \u001b[32m133.1/133.1 KB\u001b[0m \u001b[31m15.3 MB/s\u001b[0m eta \u001b[36m0:00:00\u001b[0m\n",
            "\u001b[2K     \u001b[90m━━━━━━━━━━━━━━━━━━━━━━━━━━━━━━━━━━━━━━\u001b[0m \u001b[32m232.7/232.7 KB\u001b[0m \u001b[31m15.8 MB/s\u001b[0m eta \u001b[36m0:00:00\u001b[0m\n",
            "\u001b[2K     \u001b[90m━━━━━━━━━━━━━━━━━━━━━━━━━━━━━━━━━━━━━━━━\u001b[0m \u001b[32m96.6/96.6 KB\u001b[0m \u001b[31m10.6 MB/s\u001b[0m eta \u001b[36m0:00:00\u001b[0m\n",
            "\u001b[?25h\u001b[31mERROR: pip's dependency resolver does not currently take into account all the packages that are installed. This behaviour is the source of the following dependency conflicts.\n",
            "notebook 5.7.16 requires jinja2<=3.0.0, but you have jinja2 3.1.2 which is incompatible.\u001b[0m\u001b[31m\n",
            "\u001b[0m"
          ]
        }
      ]
    },
    {
      "cell_type": "markdown",
      "source": [
        "## Imports"
      ],
      "metadata": {
        "id": "IQqqb34eu5pz"
      }
    },
    {
      "cell_type": "code",
      "execution_count": 31,
      "metadata": {
        "id": "WhwIu5g4jMCK"
      },
      "outputs": [],
      "source": [
        "import dimod\n",
        "import getpass\n",
        "import itertools\n",
        "import numpy as np\n",
        "import networkx as nx\n",
        "import ipywidgets as widgets\n",
        "import matplotlib.pyplot as plt\n",
        "from dwave.system import LeapHybridCQMSampler "
      ]
    },
    {
      "cell_type": "markdown",
      "source": [
        "## Data"
      ],
      "metadata": {
        "id": "XW2AURgzIavl"
      }
    },
    {
      "cell_type": "code",
      "source": [
        "w_size = widgets.IntText(description='Size', orientation='horizontal', value=9, min=9)\n",
        "w_cluster = widgets.IntText(description='Clusters', orientation='horizontal', value=1, min=1)\n",
        "w_deviation = widgets.FloatText(description='Deviation', orientation='horizontal', value=0.1, min=0)\n",
        "w_scale = widgets.IntText(description='Scaling', orientation='horizontal', value=1)\n",
        "display(widgets.Box([w_size, w_cluster,w_deviation, w_scale], layout=widgets.Layout(display='flex', flex_flow='row')))"
      ],
      "metadata": {
        "id": "ZbMtrzssIR8r",
        "outputId": "1fbe6bf6-d909-4a39-de90-5812e0666f94",
        "colab": {
          "base_uri": "https://localhost:8080/",
          "height": 49,
          "referenced_widgets": [
            "e4366d6173cb4a468b14ec3157faf694",
            "16de4d5c2762417fb12d9df3d2d4bfaa",
            "3b5c226148fe4e65a7cfdceb2da37388",
            "8c4dd8ffd0a24e7f904a0ce97b64fa3a",
            "2dfbae9a402f4f578ad538a46e2ae68f",
            "73fccc6e54dc4c1c84296160a3518289",
            "f98522f1da584bf6a24329fe11c81ed0",
            "68fbb0e487ac4fb89aae8fc6d47b4a7b",
            "f45be5f372754fb0aa116e29e9fd440d",
            "4f2235376f73418c91d49fe38b28d150",
            "52cb1e9a1acf45cf9a249e714fa456de",
            "f5da0a0b5d0b476ab1926b976183feea",
            "34228f9c922848d2bf106ce1d45220df",
            "c3741e1f64584801b614985811939f3d"
          ]
        }
      },
      "execution_count": 15,
      "outputs": [
        {
          "output_type": "display_data",
          "data": {
            "text/plain": [
              "Box(children=(IntText(value=9, description='Size'), IntText(value=1, description='Clusters'), FloatText(value=…"
            ],
            "application/vnd.jupyter.widget-view+json": {
              "version_major": 2,
              "version_minor": 0,
              "model_id": "e4366d6173cb4a468b14ec3157faf694"
            }
          },
          "metadata": {}
        }
      ]
    },
    {
      "cell_type": "code",
      "source": [
        "rng = np.random.default_rng()\n",
        "\n",
        "N = w_size.value\n",
        "K = w_cluster.value\n",
        "σ = w_deviation.value\n",
        "λ = w_scale.value\n",
        "\n",
        "assert N >= 9\n",
        "assert K > 0\n",
        "assert N % K == 0\n",
        "assert N % 3 == 0\n",
        "assert σ >= 0\n",
        "assert λ > 0\n",
        "\n",
        "points = {}\n",
        "centers = rng.uniform(-1, 1, (K, 2))\n",
        "for i in range(K):\n",
        "\tpoints[str(centers[i])] = λ * rng.normal(centers[i], σ, (N // K, 2))\n",
        "\n",
        "X = np.array(list(points.values())).reshape(N, 2)[:,0]\n",
        "Y = np.array(list(points.values())).reshape(N, 2)[:,1]\n",
        "\n",
        "G = nx.DiGraph()\n",
        "for i in range(N):\n",
        "\tG.add_node(i, x = X[i], y = Y[i])\n",
        "\n",
        "C = np.empty((N,N))\n",
        "for a,b in itertools.product(range(N), range(N)):\n",
        "\tdX = (X[b]-X[a]) * (X[b]-X[a])\n",
        "\tdY = (Y[b]-Y[a]) * (Y[b]-Y[a])\n",
        "\tC[a,b] = np.sqrt(dX + dY)\n",
        "\n",
        "plt.scatter(X,Y)\n",
        "plt.show()"
      ],
      "metadata": {
        "id": "kQ8rb5aVHAZY",
        "outputId": "7480f8d1-e37d-436e-be75-7ebe31d0e9d3",
        "colab": {
          "base_uri": "https://localhost:8080/",
          "height": 265
        }
      },
      "execution_count": 18,
      "outputs": [
        {
          "output_type": "display_data",
          "data": {
            "text/plain": [
              "<Figure size 432x288 with 1 Axes>"
            ],
            "image/png": "[encoded data removed]"
          },
          "metadata": {
            "needs_background": "light"
          }
        }
      ]
    },
    {
      "cell_type": "markdown",
      "source": [
        "## Draft"
      ],
      "metadata": {
        "id": "4S8KCEfEvAW1"
      }
    },
    {
      "cell_type": "code",
      "source": [
        "cqm = dimod.ConstrainedQuadraticModel()"
      ],
      "metadata": {
        "id": "T8k8ygiks4y0"
      },
      "execution_count": 26,
      "outputs": []
    },
    {
      "cell_type": "code",
      "source": [
        "N = 9\n",
        "\n",
        "e = [[dimod.Binary(f'e_{i}_{j}') for j in range(N)] for i in range(N)]\n",
        "s = [dimod.Binary(f's_{i}') for i in range(N)]\n",
        "m = [dimod.Binary(f'm_{i}') for i in range(N)]\n",
        "d = [dimod.Binary(f'd_{i}') for i in range(N)]\n",
        "\n",
        "cqm.set_objective(dimod.quicksum(C[i,j] * e[i][j] for i,j in itertools.product(range(N), range(N))))\n",
        "\n",
        "for i in range(N):\n",
        "  cqm.add_constraint(s[i] + m[i] + d[i] == 1)\n",
        "  \n",
        "  cqm.add_constraint(dimod.quicksum( s[i] * e[j][i] for j in range(N) ) == 0)\n",
        "  cqm.add_constraint(dimod.quicksum( s[i] * e[i][j] for j in range(N) ) - 3 * s[i] == 0)\n",
        "\n",
        "  cqm.add_constraint(dimod.quicksum( m[i] * e[j][i] for j in range(N) ) - 3 * m[i] == 0)\n",
        "  cqm.add_constraint(dimod.quicksum( m[i] * e[i][j] for j in range(N) ) - 3 * m[i] == 0)\n",
        "\n",
        "  cqm.add_constraint(dimod.quicksum( d[i] * e[j][i] for j in range(N) ) - 3 * d[i] == 0)\n",
        "  cqm.add_constraint(dimod.quicksum( d[i] * e[i][j] for j in range(N) ) == 0)\n",
        "\n",
        "  cqm.add_constraint(dimod.quicksum(m) * 3 == N)\n",
        "\n",
        "for i,j in itertools.product(range(N), range(N)):\n",
        "  cqm.add_constraint(s[i] * e[i][j] + d[j] <= 1)"
      ],
      "metadata": {
        "id": "k4xPnCZRvKZw"
      },
      "execution_count": 27,
      "outputs": []
    },
    {
      "cell_type": "code",
      "source": [
        "sampler = LeapHybridCQMSampler(token=getpass.getpass())\n",
        "sampleset = sampler.sample_cqm(cqm, label=\"PDP Optimization\")\n",
        "print(sampleset)"
      ],
      "metadata": {
        "id": "yEPK5CSv6OGZ",
        "outputId": "b843f7b0-cda3-4382-c6ff-f1e8573d5515",
        "colab": {
          "base_uri": "https://localhost:8080/"
        }
      },
      "execution_count": 34,
      "outputs": [
        {
          "output_type": "stream",
          "name": "stdout",
          "text": [
            "··········\n",
            "   d_0 d_1 d_2 d_3 d_4 d_5 d_6 d_7 d_8 e_0_0 e_0_1 ... s_8   energy num_oc. ...\n",
            "10 0.0 0.0 0.0 0.0 0.0 0.0 0.0 1.0 0.0   0.0   0.0 ... 0.0 0.718107       1 ...\n",
            "67 0.0 1.0 0.0 1.0 0.0 0.0 0.0 1.0 0.0   0.0   0.0 ... 0.0 1.195938       1 ...\n",
            "15 0.0 0.0 0.0 1.0 0.0 0.0 0.0 0.0 0.0   0.0   0.0 ... 0.0 1.727093       1 ...\n",
            "68 0.0 0.0 0.0 0.0 0.0 1.0 1.0 0.0 0.0   0.0   0.0 ... 0.0  1.73892       1 ...\n",
            "69 0.0 1.0 0.0 0.0 0.0 0.0 0.0 0.0 0.0   0.0   0.0 ... 0.0 1.979577       1 ...\n",
            "70 0.0 0.0 0.0 0.0 0.0 0.0 0.0 1.0 0.0   0.0   0.0 ... 0.0 2.163351       1 ...\n",
            "7  0.0 1.0 0.0 0.0 0.0 0.0 0.0 1.0 0.0   0.0   0.0 ... 1.0 2.191805       1 ...\n",
            "71 0.0 0.0 1.0 1.0 0.0 0.0 1.0 1.0 0.0   1.0   0.0 ... 0.0 2.210831       1 ...\n",
            "72 0.0 0.0 0.0 1.0 1.0 0.0 0.0 0.0 1.0   0.0   1.0 ... 0.0 2.218309       1 ...\n",
            "73 0.0 1.0 0.0 1.0 1.0 0.0 0.0 0.0 0.0   0.0   0.0 ... 0.0 2.319349       1 ...\n",
            "20 0.0 0.0 0.0 1.0 0.0 0.0 0.0 0.0 0.0   1.0   1.0 ... 0.0 2.332469       1 ...\n",
            "74 0.0 0.0 0.0 1.0 0.0 1.0 0.0 1.0 0.0   0.0   0.0 ... 1.0 2.345278       1 ...\n",
            "1  1.0 0.0 0.0 0.0 0.0 0.0 1.0 1.0 0.0   0.0   0.0 ... 0.0 2.470003       1 ...\n",
            "2  1.0 1.0 0.0 0.0 0.0 0.0 1.0 0.0 0.0   0.0   0.0 ... 0.0 2.470003       1 ...\n",
            "5  1.0 1.0 0.0 0.0 0.0 0.0 1.0 0.0 0.0   0.0   0.0 ... 0.0 2.470003       1 ...\n",
            "6  1.0 0.0 0.0 0.0 1.0 0.0 0.0 1.0 0.0   0.0   0.0 ... 0.0 2.470003       1 ...\n",
            "9  0.0 0.0 0.0 0.0 1.0 0.0 1.0 1.0 0.0   0.0   0.0 ... 0.0 2.470003       1 ...\n",
            "11 0.0 0.0 0.0 0.0 1.0 0.0 1.0 1.0 0.0   0.0   0.0 ... 0.0 2.470003       1 ...\n",
            "13 1.0 1.0 0.0 0.0 0.0 0.0 1.0 0.0 0.0   0.0   0.0 ... 0.0 2.470003       1 ...\n",
            "18 0.0 0.0 0.0 0.0 1.0 0.0 1.0 1.0 0.0   0.0   0.0 ... 0.0 2.470003       1 ...\n",
            "19 0.0 0.0 0.0 0.0 1.0 0.0 1.0 1.0 0.0   0.0   0.0 ... 0.0 2.470003       1 ...\n",
            "21 0.0 0.0 0.0 0.0 1.0 0.0 1.0 1.0 0.0   0.0   0.0 ... 0.0 2.470003       1 ...\n",
            "22 0.0 0.0 0.0 0.0 1.0 0.0 1.0 1.0 0.0   0.0   0.0 ... 0.0 2.470003       1 ...\n",
            "23 1.0 1.0 0.0 0.0 0.0 0.0 1.0 0.0 0.0   0.0   0.0 ... 0.0 2.470003       1 ...\n",
            "25 0.0 0.0 0.0 0.0 1.0 0.0 1.0 1.0 0.0   0.0   0.0 ... 0.0 2.470003       1 ...\n",
            "27 1.0 0.0 0.0 0.0 1.0 0.0 0.0 1.0 0.0   0.0   0.0 ... 0.0 2.470003       1 ...\n",
            "28 1.0 1.0 0.0 0.0 0.0 0.0 1.0 0.0 0.0   0.0   0.0 ... 0.0 2.470003       1 ...\n",
            "0  0.0 1.0 1.0 0.0 0.0 0.0 1.0 0.0 0.0   0.0   0.0 ... 0.0 2.470003       1 ...\n",
            "4  1.0 1.0 0.0 0.0 0.0 0.0 0.0 1.0 0.0   0.0   0.0 ... 0.0 2.470003       1 ...\n",
            "8  1.0 1.0 0.0 0.0 0.0 0.0 0.0 1.0 0.0   0.0   0.0 ... 0.0 2.470003       1 ...\n",
            "12 0.0 1.0 1.0 0.0 0.0 0.0 1.0 0.0 0.0   0.0   0.0 ... 0.0 2.470003       1 ...\n",
            "14 0.0 1.0 1.0 0.0 0.0 0.0 1.0 0.0 0.0   0.0   0.0 ... 0.0 2.470003       1 ...\n",
            "16 1.0 1.0 0.0 0.0 0.0 0.0 0.0 1.0 0.0   0.0   0.0 ... 0.0 2.470003       1 ...\n",
            "17 0.0 0.0 1.0 0.0 1.0 0.0 1.0 0.0 0.0   0.0   0.0 ... 0.0 2.470003       1 ...\n",
            "24 1.0 1.0 0.0 0.0 0.0 0.0 0.0 1.0 0.0   0.0   0.0 ... 0.0 2.470003       1 ...\n",
            "26 0.0 1.0 1.0 0.0 0.0 0.0 1.0 0.0 0.0   0.0   0.0 ... 0.0 2.470003       1 ...\n",
            "75 1.0 0.0 0.0 0.0 0.0 0.0 0.0 1.0 0.0   0.0   0.0 ... 0.0 2.484888       1 ...\n",
            "76 1.0 1.0 0.0 0.0 0.0 0.0 0.0 0.0 0.0   0.0   0.0 ... 0.0 2.490025       1 ...\n",
            "33 0.0 0.0 1.0 0.0 1.0 0.0 0.0 0.0 1.0   0.0   0.0 ... 0.0  2.49238       1 ...\n",
            "29 0.0 0.0 1.0 0.0 1.0 0.0 0.0 1.0 0.0   0.0   0.0 ... 1.0  2.49238       1 ...\n",
            "30 0.0 1.0 1.0 0.0 0.0 0.0 1.0 0.0 0.0   0.0   1.0 ... 1.0  2.49238       1 ...\n",
            "31 0.0 0.0 1.0 0.0 1.0 0.0 0.0 1.0 0.0   0.0   0.0 ... 1.0  2.49238       1 ...\n",
            "32 0.0 1.0 0.0 0.0 0.0 0.0 1.0 0.0 1.0   0.0   1.0 ... 0.0  2.49238       1 ...\n",
            "34 0.0 0.0 1.0 0.0 1.0 0.0 0.0 0.0 1.0   0.0   0.0 ... 0.0 2.498411       1 ...\n",
            "77 1.0 0.0 0.0 0.0 0.0 0.0 1.0 0.0 1.0   0.0   0.0 ... 0.0 2.507853       1 ...\n",
            "35 0.0 1.0 1.0 0.0 0.0 1.0 0.0 0.0 0.0   0.0   0.0 ... 0.0   2.5128       1 ...\n",
            "36 0.0 1.0 1.0 0.0 0.0 1.0 0.0 0.0 0.0   0.0   0.0 ... 0.0   2.5128       1 ...\n",
            "37 0.0 1.0 0.0 0.0 0.0 1.0 0.0 1.0 0.0   0.0   0.0 ... 0.0   2.5128       1 ...\n",
            "38 0.0 1.0 0.0 0.0 0.0 1.0 0.0 1.0 0.0   0.0   0.0 ... 0.0   2.5128       1 ...\n",
            "78 1.0 0.0 0.0 0.0 1.0 0.0 1.0 0.0 0.0   0.0   0.0 ... 0.0 2.526838       1 ...\n",
            "39 0.0 0.0 1.0 0.0 1.0 1.0 0.0 0.0 0.0   0.0   0.0 ... 0.0 2.535249       1 ...\n",
            "79 1.0 0.0 0.0 1.0 0.0 1.0 0.0 0.0 0.0   1.0   0.0 ... 1.0  2.54019       1 ...\n",
            "40 0.0 1.0 0.0 0.0 1.0 0.0 0.0 1.0 0.0   0.0   1.0 ... 1.0 2.551014       1 ...\n",
            "41 1.0 0.0 0.0 0.0 0.0 1.0 0.0 0.0 1.0   0.0   0.0 ... 0.0 2.564412       1 ...\n",
            "80 0.0 1.0 0.0 0.0 1.0 0.0 1.0 0.0 1.0   0.0   0.0 ... 0.0 2.597693       1 ...\n",
            "42 1.0 1.0 0.0 1.0 0.0 0.0 0.0 0.0 0.0   0.0   0.0 ... 1.0 2.604337       1 ...\n",
            "43 1.0 1.0 0.0 1.0 0.0 0.0 0.0 0.0 0.0   0.0   0.0 ... 1.0 2.604337       1 ...\n",
            "81 0.0 0.0 0.0 0.0 0.0 0.0 1.0 0.0 0.0   0.0   0.0 ... 1.0 2.616022       1 ...\n",
            "44 1.0 0.0 1.0 0.0 0.0 0.0 0.0 1.0 0.0   0.0   0.0 ... 0.0 2.637317       1 ...\n",
            "45 1.0 0.0 1.0 0.0 0.0 0.0 0.0 1.0 0.0   0.0   0.0 ... 0.0 2.637317       1 ...\n",
            "46 1.0 0.0 0.0 0.0 0.0 0.0 0.0 1.0 1.0   0.0   0.0 ... 0.0 2.649288       1 ...\n",
            "47 1.0 0.0 0.0 0.0 0.0 0.0 0.0 1.0 1.0   0.0   0.0 ... 0.0 2.649288       1 ...\n",
            "82 0.0 1.0 0.0 0.0 1.0 1.0 0.0 0.0 0.0   0.0   0.0 ... 0.0 2.657271       1 ...\n",
            "48 1.0 0.0 0.0 0.0 0.0 0.0 0.0 1.0 1.0   0.0   0.0 ... 0.0 2.678799       1 ...\n",
            "49 1.0 0.0 0.0 0.0 0.0 0.0 0.0 1.0 1.0   0.0   0.0 ... 0.0 2.678799       1 ...\n",
            "50 0.0 1.0 0.0 1.0 1.0 0.0 0.0 0.0 0.0   0.0   0.0 ... 0.0  2.68378       1 ...\n",
            "83 1.0 1.0 1.0 0.0 0.0 0.0 0.0 0.0 0.0   0.0   0.0 ... 0.0 2.688962       1 ...\n",
            "51 0.0 0.0 0.0 1.0 1.0 0.0 0.0 1.0 0.0   0.0   0.0 ... 0.0 2.692493       1 ...\n",
            "52 1.0 0.0 0.0 1.0 0.0 0.0 0.0 0.0 1.0   0.0   0.0 ... 0.0 2.700247       1 ...\n",
            "53 1.0 0.0 0.0 1.0 0.0 0.0 0.0 0.0 1.0   0.0   0.0 ... 0.0 2.700247       1 ...\n",
            "54 0.0 1.0 1.0 1.0 0.0 0.0 0.0 0.0 0.0   0.0   1.0 ... 1.0  2.71605       1 ...\n",
            "55 0.0 1.0 1.0 1.0 0.0 0.0 0.0 0.0 0.0   0.0   1.0 ... 1.0  2.71605       1 ...\n",
            "84 1.0 0.0 1.0 0.0 0.0 0.0 0.0 1.0 1.0   0.0   0.0 ... 0.0 2.734194       1 ...\n",
            "85 0.0 0.0 1.0 1.0 0.0 0.0 0.0 0.0 0.0   1.0   1.0 ... 0.0 2.820793       1 ...\n",
            "86 1.0 0.0 0.0 0.0 0.0 1.0 0.0 0.0 1.0   1.0   0.0 ... 0.0 2.911965       1 ...\n",
            "87 0.0 1.0 0.0 0.0 0.0 0.0 0.0 0.0 0.0   1.0   0.0 ... 0.0 2.948133       1 ...\n",
            "58 0.0 1.0 0.0 1.0 0.0 1.0 0.0 0.0 0.0   0.0   1.0 ... 1.0 2.949448       1 ...\n",
            "59 0.0 1.0 0.0 1.0 0.0 1.0 0.0 0.0 0.0   0.0   1.0 ... 1.0 2.949448       1 ...\n",
            "56 0.0 0.0 0.0 1.0 0.0 0.0 1.0 1.0 0.0   0.0   0.0 ... 1.0 2.949448       1 ...\n",
            "57 0.0 0.0 0.0 1.0 0.0 0.0 1.0 1.0 0.0   0.0   0.0 ... 1.0 2.949448       1 ...\n",
            "88 1.0 0.0 0.0 0.0 0.0 0.0 1.0 0.0 0.0   0.0   0.0 ... 0.0 2.970124       1 ...\n",
            "3  0.0 1.0 0.0 1.0 0.0 0.0 1.0 0.0 0.0   0.0   1.0 ... 1.0 2.983648       1 ...\n",
            "60 0.0 1.0 0.0 1.0 0.0 0.0 1.0 0.0 0.0   0.0   1.0 ... 1.0 2.983648       1 ...\n",
            "61 0.0 0.0 0.0 1.0 0.0 0.0 1.0 0.0 1.0   0.0   0.0 ... 0.0 2.983648       1 ...\n",
            "89 0.0 0.0 1.0 0.0 0.0 0.0 1.0 1.0 0.0   0.0   0.0 ... 1.0 2.999113       1 ...\n",
            "90 0.0 0.0 1.0 0.0 0.0 1.0 0.0 0.0 0.0   0.0   1.0 ... 1.0 3.029754       1 ...\n",
            "91 0.0 1.0 0.0 0.0 0.0 1.0 0.0 0.0 1.0   1.0   0.0 ... 0.0 3.085337       1 ...\n",
            "62 0.0 1.0 0.0 1.0 0.0 1.0 0.0 0.0 0.0   0.0   1.0 ... 0.0 3.097446       1 ...\n",
            "63 1.0 0.0 0.0 0.0 0.0 1.0 0.0 1.0 0.0   0.0   0.0 ... 1.0 3.111022       1 ...\n",
            "64 1.0 0.0 0.0 0.0 0.0 1.0 0.0 1.0 0.0   0.0   0.0 ... 1.0 3.111022       1 ...\n",
            "92 1.0 0.0 0.0 1.0 1.0 1.0 0.0 0.0 1.0   0.0   0.0 ... 0.0 3.129074       1 ...\n",
            "93 0.0 1.0 0.0 1.0 1.0 0.0 1.0 0.0 0.0   1.0   0.0 ... 0.0 3.146232       1 ...\n",
            "65 0.0 0.0 0.0 1.0 0.0 0.0 0.0 1.0 1.0   0.0   1.0 ... 0.0 3.228707       1 ...\n",
            "66 0.0 0.0 0.0 1.0 0.0 0.0 0.0 1.0 1.0   0.0   1.0 ... 0.0 3.228707       1 ...\n",
            "94 0.0 1.0 0.0 1.0 0.0 0.0 0.0 0.0 0.0   1.0   1.0 ... 1.0 3.425322       1 ...\n",
            "95 0.0 0.0 0.0 1.0 0.0 1.0 0.0 0.0 0.0   0.0   1.0 ... 1.0 3.470112       1 ...\n",
            "96 0.0 0.0 0.0 1.0 0.0 0.0 0.0 1.0 0.0   0.0   0.0 ... 0.0 3.571136       1 ...\n",
            "97 0.0 0.0 0.0 0.0 1.0 1.0 0.0 0.0 1.0   0.0   0.0 ... 0.0 3.605037       1 ...\n",
            "98 0.0 0.0 0.0 0.0 0.0 1.0 1.0 0.0 0.0   0.0   1.0 ... 0.0 3.752173       1 ...\n",
            "['INTEGER', 99 rows, 99 samples, 108 variables]\n"
          ]
        }
      ]
    },
    {
      "cell_type": "code",
      "source": [],
      "metadata": {
        "id": "Ih3qwI18EJqy"
      },
      "execution_count": null,
      "outputs": []
    }
  ]
}