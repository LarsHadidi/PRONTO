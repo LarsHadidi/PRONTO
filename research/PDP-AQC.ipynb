{
  "nbformat": 4,
  "nbformat_minor": 0,
  "metadata": {
    "colab": {
      "provenance": [],
      "authorship_tag": "ABX9TyOD3rPQjX3yQhQ3n+5a0HQS",
      "include_colab_link": true
    },
    "kernelspec": {
      "name": "python3",
      "display_name": "Python 3"
    },
    "language_info": {
      "name": "python"
    }
  },
  "cells": [
    {
      "cell_type": "markdown",
      "metadata": {
        "id": "view-in-github",
        "colab_type": "text"
      },
      "source": [
        "<a href=\"https://colab.research.google.com/github/LarsHadidi/PRONTO/blob/mathprogram/PDP-AQC.ipynb\" target=\"_parent\"><img src=\"https://colab.research.google.com/assets/colab-badge.svg\" alt=\"Open In Colab\"/></a>"
      ]
    },
    {
      "cell_type": "markdown",
      "source": [
        "# Progressive Dinner Party: Adiabatic Quantum Computation"
      ],
      "metadata": {
        "id": "O6owoLXSjUf5"
      }
    },
    {
      "cell_type": "code",
      "execution_count": null,
      "metadata": {
        "id": "WhwIu5g4jMCK"
      },
      "outputs": [],
      "source": [
        "from dimod import ConstrainedQuadraticModel, Integer"
      ]
    }
  ]
}