{
  "nbformat": 4,
  "nbformat_minor": 0,
  "metadata": {
    "colab": {
      "provenance": [],
      "authorship_tag": "ABX9TyMtGx0GRuh4i7XVVQeNFLUN",
      "include_colab_link": true
    },
    "kernelspec": {
      "name": "python3",
      "display_name": "Python 3"
    },
    "language_info": {
      "name": "python"
    },
    "widgets": {
      "application/vnd.jupyter.widget-state+json": {
        "5d2ce1251d7c48da8f958493a1eba90d": {
          "model_module": "@jupyter-widgets/controls",
          "model_name": "BoxModel",
          "model_module_version": "1.5.0",
          "state": {
            "_dom_classes": [],
            "_model_module": "@jupyter-widgets/controls",
            "_model_module_version": "1.5.0",
            "_model_name": "BoxModel",
            "_view_count": null,
            "_view_module": "@jupyter-widgets/controls",
            "_view_module_version": "1.5.0",
            "_view_name": "BoxView",
            "box_style": "",
            "children": [
              "IPY_MODEL_d31f30ded1044d3284e7e1820f777eba",
              "IPY_MODEL_91d55bb3519147d9a4d00b1a16c14076",
              "IPY_MODEL_48060b9c58ab465b89a13f674da8888c",
              "IPY_MODEL_d6e599739bc1401fa03fb473fcf42e38"
            ],
            "layout": "IPY_MODEL_abb4ab87614047d1bbee15dfe6625490"
          }
        },
        "d31f30ded1044d3284e7e1820f777eba": {
          "model_module": "@jupyter-widgets/controls",
          "model_name": "IntTextModel",
          "model_module_version": "1.5.0",
          "state": {
            "_dom_classes": [],
            "_model_module": "@jupyter-widgets/controls",
            "_model_module_version": "1.5.0",
            "_model_name": "IntTextModel",
            "_view_count": null,
            "_view_module": "@jupyter-widgets/controls",
            "_view_module_version": "1.5.0",
            "_view_name": "IntTextView",
            "continuous_update": false,
            "description": "Size",
            "description_tooltip": null,
            "disabled": false,
            "layout": "IPY_MODEL_c73d07d826ad4a408378ca6ebd03e6bd",
            "step": 1,
            "style": "IPY_MODEL_488359b6de514080bca1075444d03375",
            "value": 9
          }
        },
        "91d55bb3519147d9a4d00b1a16c14076": {
          "model_module": "@jupyter-widgets/controls",
          "model_name": "IntTextModel",
          "model_module_version": "1.5.0",
          "state": {
            "_dom_classes": [],
            "_model_module": "@jupyter-widgets/controls",
            "_model_module_version": "1.5.0",
            "_model_name": "IntTextModel",
            "_view_count": null,
            "_view_module": "@jupyter-widgets/controls",
            "_view_module_version": "1.5.0",
            "_view_name": "IntTextView",
            "continuous_update": false,
            "description": "Clusters",
            "description_tooltip": null,
            "disabled": false,
            "layout": "IPY_MODEL_4749a5f2c9764dbcaeb079e87fc386d9",
            "step": 1,
            "style": "IPY_MODEL_e1a2056ba78a46e2ab3a0cb95d54903e",
            "value": 1
          }
        },
        "48060b9c58ab465b89a13f674da8888c": {
          "model_module": "@jupyter-widgets/controls",
          "model_name": "FloatTextModel",
          "model_module_version": "1.5.0",
          "state": {
            "_dom_classes": [],
            "_model_module": "@jupyter-widgets/controls",
            "_model_module_version": "1.5.0",
            "_model_name": "FloatTextModel",
            "_view_count": null,
            "_view_module": "@jupyter-widgets/controls",
            "_view_module_version": "1.5.0",
            "_view_name": "FloatTextView",
            "continuous_update": false,
            "description": "Deviation",
            "description_tooltip": null,
            "disabled": false,
            "layout": "IPY_MODEL_256465019b9242d6ae4d2268d6162a36",
            "step": null,
            "style": "IPY_MODEL_6eaa7a28b95b4247920743ea6f6269fd",
            "value": 0.1
          }
        },
        "d6e599739bc1401fa03fb473fcf42e38": {
          "model_module": "@jupyter-widgets/controls",
          "model_name": "IntTextModel",
          "model_module_version": "1.5.0",
          "state": {
            "_dom_classes": [],
            "_model_module": "@jupyter-widgets/controls",
            "_model_module_version": "1.5.0",
            "_model_name": "IntTextModel",
            "_view_count": null,
            "_view_module": "@jupyter-widgets/controls",
            "_view_module_version": "1.5.0",
            "_view_name": "IntTextView",
            "continuous_update": false,
            "description": "Scaling",
            "description_tooltip": null,
            "disabled": false,
            "layout": "IPY_MODEL_7a44e97b26ab45918c84ba56943c7e3d",
            "step": 1,
            "style": "IPY_MODEL_a5e63ac4b65c4239b4b9452768bb5e5c",
            "value": 1
          }
        },
        "abb4ab87614047d1bbee15dfe6625490": {
          "model_module": "@jupyter-widgets/base",
          "model_name": "LayoutModel",
          "model_module_version": "1.2.0",
          "state": {
            "_model_module": "@jupyter-widgets/base",
            "_model_module_version": "1.2.0",
            "_model_name": "LayoutModel",
            "_view_count": null,
            "_view_module": "@jupyter-widgets/base",
            "_view_module_version": "1.2.0",
            "_view_name": "LayoutView",
            "align_content": null,
            "align_items": null,
            "align_self": null,
            "border": null,
            "bottom": null,
            "display": "flex",
            "flex": null,
            "flex_flow": "row",
            "grid_area": null,
            "grid_auto_columns": null,
            "grid_auto_flow": null,
            "grid_auto_rows": null,
            "grid_column": null,
            "grid_gap": null,
            "grid_row": null,
            "grid_template_areas": null,
            "grid_template_columns": null,
            "grid_template_rows": null,
            "height": null,
            "justify_content": null,
            "justify_items": null,
            "left": null,
            "margin": null,
            "max_height": null,
            "max_width": null,
            "min_height": null,
            "min_width": null,
            "object_fit": null,
            "object_position": null,
            "order": null,
            "overflow": null,
            "overflow_x": null,
            "overflow_y": null,
            "padding": null,
            "right": null,
            "top": null,
            "visibility": null,
            "width": null
          }
        },
        "c73d07d826ad4a408378ca6ebd03e6bd": {
          "model_module": "@jupyter-widgets/base",
          "model_name": "LayoutModel",
          "model_module_version": "1.2.0",
          "state": {
            "_model_module": "@jupyter-widgets/base",
            "_model_module_version": "1.2.0",
            "_model_name": "LayoutModel",
            "_view_count": null,
            "_view_module": "@jupyter-widgets/base",
            "_view_module_version": "1.2.0",
            "_view_name": "LayoutView",
            "align_content": null,
            "align_items": null,
            "align_self": null,
            "border": null,
            "bottom": null,
            "display": null,
            "flex": null,
            "flex_flow": null,
            "grid_area": null,
            "grid_auto_columns": null,
            "grid_auto_flow": null,
            "grid_auto_rows": null,
            "grid_column": null,
            "grid_gap": null,
            "grid_row": null,
            "grid_template_areas": null,
            "grid_template_columns": null,
            "grid_template_rows": null,
            "height": null,
            "justify_content": null,
            "justify_items": null,
            "left": null,
            "margin": null,
            "max_height": null,
            "max_width": null,
            "min_height": null,
            "min_width": null,
            "object_fit": null,
            "object_position": null,
            "order": null,
            "overflow": null,
            "overflow_x": null,
            "overflow_y": null,
            "padding": null,
            "right": null,
            "top": null,
            "visibility": null,
            "width": null
          }
        },
        "488359b6de514080bca1075444d03375": {
          "model_module": "@jupyter-widgets/controls",
          "model_name": "DescriptionStyleModel",
          "model_module_version": "1.5.0",
          "state": {
            "_model_module": "@jupyter-widgets/controls",
            "_model_module_version": "1.5.0",
            "_model_name": "DescriptionStyleModel",
            "_view_count": null,
            "_view_module": "@jupyter-widgets/base",
            "_view_module_version": "1.2.0",
            "_view_name": "StyleView",
            "description_width": ""
          }
        },
        "4749a5f2c9764dbcaeb079e87fc386d9": {
          "model_module": "@jupyter-widgets/base",
          "model_name": "LayoutModel",
          "model_module_version": "1.2.0",
          "state": {
            "_model_module": "@jupyter-widgets/base",
            "_model_module_version": "1.2.0",
            "_model_name": "LayoutModel",
            "_view_count": null,
            "_view_module": "@jupyter-widgets/base",
            "_view_module_version": "1.2.0",
            "_view_name": "LayoutView",
            "align_content": null,
            "align_items": null,
            "align_self": null,
            "border": null,
            "bottom": null,
            "display": null,
            "flex": null,
            "flex_flow": null,
            "grid_area": null,
            "grid_auto_columns": null,
            "grid_auto_flow": null,
            "grid_auto_rows": null,
            "grid_column": null,
            "grid_gap": null,
            "grid_row": null,
            "grid_template_areas": null,
            "grid_template_columns": null,
            "grid_template_rows": null,
            "height": null,
            "justify_content": null,
            "justify_items": null,
            "left": null,
            "margin": null,
            "max_height": null,
            "max_width": null,
            "min_height": null,
            "min_width": null,
            "object_fit": null,
            "object_position": null,
            "order": null,
            "overflow": null,
            "overflow_x": null,
            "overflow_y": null,
            "padding": null,
            "right": null,
            "top": null,
            "visibility": null,
            "width": null
          }
        },
        "e1a2056ba78a46e2ab3a0cb95d54903e": {
          "model_module": "@jupyter-widgets/controls",
          "model_name": "DescriptionStyleModel",
          "model_module_version": "1.5.0",
          "state": {
            "_model_module": "@jupyter-widgets/controls",
            "_model_module_version": "1.5.0",
            "_model_name": "DescriptionStyleModel",
            "_view_count": null,
            "_view_module": "@jupyter-widgets/base",
            "_view_module_version": "1.2.0",
            "_view_name": "StyleView",
            "description_width": ""
          }
        },
        "256465019b9242d6ae4d2268d6162a36": {
          "model_module": "@jupyter-widgets/base",
          "model_name": "LayoutModel",
          "model_module_version": "1.2.0",
          "state": {
            "_model_module": "@jupyter-widgets/base",
            "_model_module_version": "1.2.0",
            "_model_name": "LayoutModel",
            "_view_count": null,
            "_view_module": "@jupyter-widgets/base",
            "_view_module_version": "1.2.0",
            "_view_name": "LayoutView",
            "align_content": null,
            "align_items": null,
            "align_self": null,
            "border": null,
            "bottom": null,
            "display": null,
            "flex": null,
            "flex_flow": null,
            "grid_area": null,
            "grid_auto_columns": null,
            "grid_auto_flow": null,
            "grid_auto_rows": null,
            "grid_column": null,
            "grid_gap": null,
            "grid_row": null,
            "grid_template_areas": null,
            "grid_template_columns": null,
            "grid_template_rows": null,
            "height": null,
            "justify_content": null,
            "justify_items": null,
            "left": null,
            "margin": null,
            "max_height": null,
            "max_width": null,
            "min_height": null,
            "min_width": null,
            "object_fit": null,
            "object_position": null,
            "order": null,
            "overflow": null,
            "overflow_x": null,
            "overflow_y": null,
            "padding": null,
            "right": null,
            "top": null,
            "visibility": null,
            "width": null
          }
        },
        "6eaa7a28b95b4247920743ea6f6269fd": {
          "model_module": "@jupyter-widgets/controls",
          "model_name": "DescriptionStyleModel",
          "model_module_version": "1.5.0",
          "state": {
            "_model_module": "@jupyter-widgets/controls",
            "_model_module_version": "1.5.0",
            "_model_name": "DescriptionStyleModel",
            "_view_count": null,
            "_view_module": "@jupyter-widgets/base",
            "_view_module_version": "1.2.0",
            "_view_name": "StyleView",
            "description_width": ""
          }
        },
        "7a44e97b26ab45918c84ba56943c7e3d": {
          "model_module": "@jupyter-widgets/base",
          "model_name": "LayoutModel",
          "model_module_version": "1.2.0",
          "state": {
            "_model_module": "@jupyter-widgets/base",
            "_model_module_version": "1.2.0",
            "_model_name": "LayoutModel",
            "_view_count": null,
            "_view_module": "@jupyter-widgets/base",
            "_view_module_version": "1.2.0",
            "_view_name": "LayoutView",
            "align_content": null,
            "align_items": null,
            "align_self": null,
            "border": null,
            "bottom": null,
            "display": null,
            "flex": null,
            "flex_flow": null,
            "grid_area": null,
            "grid_auto_columns": null,
            "grid_auto_flow": null,
            "grid_auto_rows": null,
            "grid_column": null,
            "grid_gap": null,
            "grid_row": null,
            "grid_template_areas": null,
            "grid_template_columns": null,
            "grid_template_rows": null,
            "height": null,
            "justify_content": null,
            "justify_items": null,
            "left": null,
            "margin": null,
            "max_height": null,
            "max_width": null,
            "min_height": null,
            "min_width": null,
            "object_fit": null,
            "object_position": null,
            "order": null,
            "overflow": null,
            "overflow_x": null,
            "overflow_y": null,
            "padding": null,
            "right": null,
            "top": null,
            "visibility": null,
            "width": null
          }
        },
        "a5e63ac4b65c4239b4b9452768bb5e5c": {
          "model_module": "@jupyter-widgets/controls",
          "model_name": "DescriptionStyleModel",
          "model_module_version": "1.5.0",
          "state": {
            "_model_module": "@jupyter-widgets/controls",
            "_model_module_version": "1.5.0",
            "_model_name": "DescriptionStyleModel",
            "_view_count": null,
            "_view_module": "@jupyter-widgets/base",
            "_view_module_version": "1.2.0",
            "_view_name": "StyleView",
            "description_width": ""
          }
        }
      }
    }
  },
  "cells": [
    {
      "cell_type": "markdown",
      "metadata": {
        "id": "view-in-github",
        "colab_type": "text"
      },
      "source": [
        "<a href=\"https://colab.research.google.com/github/LarsHadidi/PRONTO/blob/mathprogram/mp/PDP-AQC.ipynb\" target=\"_parent\"><img src=\"https://colab.research.google.com/assets/colab-badge.svg\" alt=\"Open In Colab\"/></a>"
      ]
    },
    {
      "cell_type": "markdown",
      "source": [
        "# Progressive Dinner Party: Constrained Quadratic Model"
      ],
      "metadata": {
        "id": "O6owoLXSjUf5"
      }
    },
    {
      "cell_type": "markdown",
      "source": [
        "# Method: Adiabatic Quantum Computing\n",
        "\n",
        "**Using the D-Wave Quantum Annealer**\n",
        "\n",
        "D-Wave Systems' hybrid solver can handle optimization problems with up to 1 million variables (including continuous variables) and 100,000 constraints. In addition, D-Wave has introduced a new pre-solver set of fast classical algorithms that reduces the size of the problem and allows for larger models to be submitted to the hybrid solver.\n",
        "\n",
        "[https://www.dwavesys.com/media/rldh2ghw/14-1055a-a_hybrid_solver_for_constrained_quadratic_models.pdf](https://www.dwavesys.com/media/rldh2ghw/14-1055a-a_hybrid_solver_for_constrained_quadratic_models.pdf)\n",
        "\n",
        "<img src=\"https://www.hpcwire.com/wp-content/uploads/2022/11/D_Wave_CQM-Graphic_v5.jpg\" alt=\"DWave\" width=\"50%\"/>"
      ],
      "metadata": {
        "id": "aZ1MrOzAOrLY"
      }
    },
    {
      "cell_type": "markdown",
      "source": [
        "## Hosted Runtime"
      ],
      "metadata": {
        "id": "XP6puXPktDC1"
      }
    },
    {
      "cell_type": "code",
      "source": [
        "!pip install -q dwave-ocean-sdk"
      ],
      "metadata": {
        "id": "2xpZQG15sjrv"
      },
      "execution_count": 17,
      "outputs": []
    },
    {
      "cell_type": "markdown",
      "source": [
        "## Imports"
      ],
      "metadata": {
        "id": "IQqqb34eu5pz"
      }
    },
    {
      "cell_type": "code",
      "execution_count": 18,
      "metadata": {
        "id": "WhwIu5g4jMCK"
      },
      "outputs": [],
      "source": [
        "import dimod\n",
        "import pickle\n",
        "import getpass\n",
        "import itertools\n",
        "import numpy as np\n",
        "import networkx as nx\n",
        "import ipywidgets as widgets\n",
        "from google.colab import files\n",
        "import matplotlib.pyplot as plt\n",
        "from dwave.system import LeapHybridCQMSampler "
      ]
    },
    {
      "cell_type": "markdown",
      "source": [
        "## Data"
      ],
      "metadata": {
        "id": "XW2AURgzIavl"
      }
    },
    {
      "cell_type": "code",
      "source": [
        "w_size = widgets.IntText(description='Size', orientation='horizontal', value=9, min=9)\n",
        "w_cluster = widgets.IntText(description='Clusters', orientation='horizontal', value=1, min=1)\n",
        "w_deviation = widgets.FloatText(description='Deviation', orientation='horizontal', value=0.1, min=0)\n",
        "w_scale = widgets.IntText(description='Scaling', orientation='horizontal', value=1)\n",
        "display(widgets.Box([w_size, w_cluster,w_deviation, w_scale], layout=widgets.Layout(display='flex', flex_flow='row')))"
      ],
      "metadata": {
        "id": "ZbMtrzssIR8r",
        "outputId": "b9de60e3-fb50-4562-96c0-84605d22ff74",
        "colab": {
          "base_uri": "https://localhost:8080/",
          "height": 49,
          "referenced_widgets": [
            "5d2ce1251d7c48da8f958493a1eba90d",
            "d31f30ded1044d3284e7e1820f777eba",
            "91d55bb3519147d9a4d00b1a16c14076",
            "48060b9c58ab465b89a13f674da8888c",
            "d6e599739bc1401fa03fb473fcf42e38",
            "abb4ab87614047d1bbee15dfe6625490",
            "c73d07d826ad4a408378ca6ebd03e6bd",
            "488359b6de514080bca1075444d03375",
            "4749a5f2c9764dbcaeb079e87fc386d9",
            "e1a2056ba78a46e2ab3a0cb95d54903e",
            "256465019b9242d6ae4d2268d6162a36",
            "6eaa7a28b95b4247920743ea6f6269fd",
            "7a44e97b26ab45918c84ba56943c7e3d",
            "a5e63ac4b65c4239b4b9452768bb5e5c"
          ]
        }
      },
      "execution_count": 19,
      "outputs": [
        {
          "output_type": "display_data",
          "data": {
            "text/plain": [
              "Box(children=(IntText(value=9, description='Size'), IntText(value=1, description='Clusters'), FloatText(value=…"
            ],
            "application/vnd.jupyter.widget-view+json": {
              "version_major": 2,
              "version_minor": 0,
              "model_id": "5d2ce1251d7c48da8f958493a1eba90d"
            }
          },
          "metadata": {}
        }
      ]
    },
    {
      "cell_type": "code",
      "source": [
        "rng = np.random.default_rng()\n",
        "\n",
        "N = w_size.value\n",
        "K = w_cluster.value\n",
        "σ = w_deviation.value\n",
        "λ = w_scale.value\n",
        "\n",
        "assert N >= 9\n",
        "assert K > 0\n",
        "assert N % K == 0\n",
        "assert N % 3 == 0\n",
        "assert σ >= 0\n",
        "assert λ > 0\n",
        "\n",
        "points = {}\n",
        "centers = rng.uniform(-1, 1, (K, 2))\n",
        "for i in range(K):\n",
        "\tpoints[str(centers[i])] = λ * rng.normal(centers[i], σ, (N // K, 2))\n",
        "\n",
        "X = np.array(list(points.values())).reshape(N, 2)[:,0]\n",
        "Y = np.array(list(points.values())).reshape(N, 2)[:,1]\n",
        "\n",
        "G = nx.DiGraph()\n",
        "for i in range(N):\n",
        "\tG.add_node(i, x = X[i], y = Y[i])\n",
        "\n",
        "C = np.empty((N,N))\n",
        "for a,b in itertools.product(range(N), range(N)):\n",
        "\tdX = (X[b]-X[a]) * (X[b]-X[a])\n",
        "\tdY = (Y[b]-Y[a]) * (Y[b]-Y[a])\n",
        "\tC[a,b] = np.sqrt(dX + dY)\n",
        "\n",
        "plt.scatter(X,Y)\n",
        "plt.show()"
      ],
      "metadata": {
        "id": "kQ8rb5aVHAZY",
        "outputId": "46eccd71-2bd3-4323-f039-d455a0e15263",
        "colab": {
          "base_uri": "https://localhost:8080/",
          "height": 265
        }
      },
      "execution_count": 21,
      "outputs": [
        {
          "output_type": "display_data",
          "data": {
            "text/plain": [
              "<Figure size 432x288 with 1 Axes>"
            ],
            "image/png": "[encoded data removed]"
          },
          "metadata": {
            "needs_background": "light"
          }
        }
      ]
    },
    {
      "cell_type": "markdown",
      "source": [
        "## Implementation"
      ],
      "metadata": {
        "id": "4S8KCEfEvAW1"
      }
    },
    {
      "cell_type": "code",
      "source": [
        "cqm = dimod.ConstrainedQuadraticModel()"
      ],
      "metadata": {
        "id": "T8k8ygiks4y0"
      },
      "execution_count": 22,
      "outputs": []
    },
    {
      "cell_type": "code",
      "source": [
        "t = np.array([[[[dimod.Binary(f't_{i}_{j}_{k}_{l}') for l in range(N)] for k in range(N)] for j in range(N)] for i in range(N)])\n",
        "e = np.array([[dimod.Binary(f'e_{i}_{j}') for j in range(N)] for i in range(N)])\n",
        "s = np.array([dimod.Binary(f's_{i}') for i in range(N)])\n",
        "m = np.array([dimod.Binary(f'm_{i}') for i in range(N)])\n",
        "d = np.array([dimod.Binary(f'd_{i}') for i in range(N)])\n",
        "\n",
        "cqm.set_objective(dimod.quicksum(C[i,j] * e[i][j] for i,j in itertools.product(range(N), range(N))))\n",
        "\n",
        "for i in range(N):\n",
        "  cqm.add_constraint(s[i] + m[i] + d[i] == 1)\n",
        "  \n",
        "  cqm.add_constraint(dimod.quicksum( s[i] * e[:,i] ) == 0)\n",
        "  cqm.add_constraint(dimod.quicksum( s[i] * e[i,:] ) - 3 * s[i] == 0)\n",
        "\n",
        "  cqm.add_constraint(dimod.quicksum( m[i] * e[:,i] ) - 3 * m[i] == 0)\n",
        "  cqm.add_constraint(dimod.quicksum( m[i] * e[i,:] ) - 3 * m[i] == 0)\n",
        "\n",
        "  cqm.add_constraint(dimod.quicksum( d[i] * e[:,i] ) - 3 * d[i] == 0)\n",
        "  cqm.add_constraint(dimod.quicksum( d[i] * e[i,:] ) == 0)\n",
        "\n",
        "  cqm.add_constraint(dimod.quicksum(m) * 3 == N)\n",
        "  cqm.add_constraint(dimod.quicksum( t[i,u,v,w] for u,v,w in itertools.product(range(N), repeat=3)) == 1)\n",
        "\n",
        "for i,j in itertools.product(range(N), range(N)):\n",
        "  cqm.add_constraint(s[i] * e[i][j] + d[j] <= 1)\n",
        "  if i != j:\n",
        "    cqm.add_constraint(dimod.quicksum((dimod.quicksum(t[i, u,v,w] for v in range(N) for w in range(N)) + dimod.quicksum(t[j, u,v,w] for v in range(N) for w in range(N))) * (dimod.quicksum(t[i, u,v,w] for v in range(N) for w in range(N)) + dimod.quicksum(t[j, u,v,w] for v in range(N) for w in range(N))) for u in range(N)) + dimod.quicksum((dimod.quicksum(t[i, u,v,w] for u in range(N) for w in range(N)) + dimod.quicksum(t[j, u,v,w] for u in range(N) for w in range(N))) * (dimod.quicksum(t[i, u,v,w] for u in range(N) for w in range(N)) + dimod.quicksum(t[j, u,v,w] for u in range(N) for w in range(N))) for v in range(N)) + dimod.quicksum((dimod.quicksum(t[i, u,v,w] for u in range(N) for v in range(N)) + dimod.quicksum(t[j, u,v,w] for u in range(N) for v in range(N))) * (dimod.quicksum(t[i, u,v,w] for u in range(N) for v in range(N)) + dimod.quicksum(t[j, u,v,w] for u in range(N) for v in range(N))) for w in range(N)) <= 8)\n",
        "\n",
        "for l,i,j,k in itertools.product(range(N), repeat=4):\n",
        "  cqm.add_constraint(t[l][i][j][k] - e[i][j]*e[j][k] <= 0)"
      ],
      "metadata": {
        "id": "k4xPnCZRvKZw"
      },
      "execution_count": 35,
      "outputs": []
    },
    {
      "cell_type": "code",
      "source": [
        "sampler = LeapHybridCQMSampler(token=getpass.getpass())\n",
        "sampleset = sampler.sample_cqm(cqm, label=\"PDP Optimization\")"
      ],
      "metadata": {
        "id": "yEPK5CSv6OGZ",
        "outputId": "64d3dcb8-3a64-4c2a-f2cb-aa1c308cc8b3",
        "colab": {
          "base_uri": "https://localhost:8080/"
        }
      },
      "execution_count": 36,
      "outputs": [
        {
          "name": "stdout",
          "output_type": "stream",
          "text": [
            "··········\n"
          ]
        }
      ]
    },
    {
      "cell_type": "code",
      "source": [
        "print(f\"QPU Time: {sampleset.info['qpu_access_time'] / 1e6:06.3f}s\")"
      ],
      "metadata": {
        "id": "Ih3qwI18EJqy",
        "outputId": "79254c58-c259-44c3-e1f0-e4eb9438065e",
        "colab": {
          "base_uri": "https://localhost:8080/"
        }
      },
      "execution_count": 38,
      "outputs": [
        {
          "output_type": "stream",
          "name": "stdout",
          "text": [
            "QPU Time: 00.016s\n"
          ]
        }
      ]
    },
    {
      "cell_type": "code",
      "source": [
        "sol = sampleset.filter(lambda sample: sample.is_feasible).lowest().to_pandas_dataframe(sample_column=True)\n",
        "print(len(sol))"
      ],
      "metadata": {
        "id": "Qc7GniH-VXpC",
        "outputId": "1ab1569d-9c06-4e30-8ab1-b26853033566",
        "colab": {
          "base_uri": "https://localhost:8080/"
        }
      },
      "execution_count": 40,
      "outputs": [
        {
          "output_type": "stream",
          "name": "stdout",
          "text": [
            "1\n"
          ]
        }
      ]
    },
    {
      "cell_type": "code",
      "source": [
        "with open('solution', 'wb') as f:\n",
        "  pickle.dump(sol, f)\n",
        "\n",
        "files.download('solution')"
      ],
      "metadata": {
        "id": "_SddeRyKXEow",
        "outputId": "d42b673a-8488-437d-9e42-169be4bdf64d",
        "colab": {
          "base_uri": "https://localhost:8080/",
          "height": 17
        }
      },
      "execution_count": 41,
      "outputs": [
        {
          "output_type": "display_data",
          "data": {
            "text/plain": [
              "<IPython.core.display.Javascript object>"
            ],
            "application/javascript": [
              "\n",
              "    async function download(id, filename, size) {\n",
              "      if (!google.colab.kernel.accessAllowed) {\n",
              "        return;\n",
              "      }\n",
              "      const div = document.createElement('div');\n",
              "      const label = document.createElement('label');\n",
              "      label.textContent = `Downloading \"${filename}\": `;\n",
              "      div.appendChild(label);\n",
              "      const progress = document.createElement('progress');\n",
              "      progress.max = size;\n",
              "      div.appendChild(progress);\n",
              "      document.body.appendChild(div);\n",
              "\n",
              "      const buffers = [];\n",
              "      let downloaded = 0;\n",
              "\n",
              "      const channel = await google.colab.kernel.comms.open(id);\n",
              "      // Send a message to notify the kernel that we're ready.\n",
              "      channel.send({})\n",
              "\n",
              "      for await (const message of channel.messages) {\n",
              "        // Send a message to notify the kernel that we're ready.\n",
              "        channel.send({})\n",
              "        if (message.buffers) {\n",
              "          for (const buffer of message.buffers) {\n",
              "            buffers.push(buffer);\n",
              "            downloaded += buffer.byteLength;\n",
              "            progress.value = downloaded;\n",
              "          }\n",
              "        }\n",
              "      }\n",
              "      const blob = new Blob(buffers, {type: 'application/binary'});\n",
              "      const a = document.createElement('a');\n",
              "      a.href = window.URL.createObjectURL(blob);\n",
              "      a.download = filename;\n",
              "      div.appendChild(a);\n",
              "      a.click();\n",
              "      div.remove();\n",
              "    }\n",
              "  "
            ]
          },
          "metadata": {}
        },
        {
          "output_type": "display_data",
          "data": {
            "text/plain": [
              "<IPython.core.display.Javascript object>"
            ],
            "application/javascript": [
              "download(\"download_95658471-b006-492b-a845-0ee65c1bdbc1\", \"solution\", 221061)"
            ]
          },
          "metadata": {}
        }
      ]
    },
    {
      "cell_type": "code",
      "source": [
        "with open('solution', 'rb') as f:\n",
        "  sol = pickle.load(f)"
      ],
      "metadata": {
        "id": "JImjPjEahvaq"
      },
      "execution_count": null,
      "outputs": []
    },
    {
      "cell_type": "code",
      "source": [
        "sol"
      ],
      "metadata": {
        "id": "DmFxPjXBisYJ",
        "outputId": "1f7cf4a0-552b-4cb2-f54f-244a453472ca",
        "colab": {
          "base_uri": "https://localhost:8080/",
          "height": 81
        }
      },
      "execution_count": 42,
      "outputs": [
        {
          "output_type": "execute_result",
          "data": {
            "text/plain": [
              "                                              sample    energy  \\\n",
              "0  {'d_0': 0.0, 'd_1': 0.0, 'd_2': 0.0, 'd_3': 1....  3.355916   \n",
              "\n",
              "   num_occurrences                                       is_satisfied  \\\n",
              "0                1  [True, True, True, True, True, True, True, Tru...   \n",
              "\n",
              "   is_feasible  \n",
              "0         True  "
            ],
            "text/html": [
              "\n",
              "  <div id=\"df-c3af5071-2006-43e1-bda8-89cbb9fecc3f\">\n",
              "    <div class=\"colab-df-container\">\n",
              "      <div>\n",
              "<style scoped>\n",
              "    .dataframe tbody tr th:only-of-type {\n",
              "        vertical-align: middle;\n",
              "    }\n",
              "\n",
              "    .dataframe tbody tr th {\n",
              "        vertical-align: top;\n",
              "    }\n",
              "\n",
              "    .dataframe thead th {\n",
              "        text-align: right;\n",
              "    }\n",
              "</style>\n",
              "<table border=\"1\" class=\"dataframe\">\n",
              "  <thead>\n",
              "    <tr style=\"text-align: right;\">\n",
              "      <th></th>\n",
              "      <th>sample</th>\n",
              "      <th>energy</th>\n",
              "      <th>num_occurrences</th>\n",
              "      <th>is_satisfied</th>\n",
              "      <th>is_feasible</th>\n",
              "    </tr>\n",
              "  </thead>\n",
              "  <tbody>\n",
              "    <tr>\n",
              "      <th>0</th>\n",
              "      <td>{'d_0': 0.0, 'd_1': 0.0, 'd_2': 0.0, 'd_3': 1....</td>\n",
              "      <td>3.355916</td>\n",
              "      <td>1</td>\n",
              "      <td>[True, True, True, True, True, True, True, Tru...</td>\n",
              "      <td>True</td>\n",
              "    </tr>\n",
              "  </tbody>\n",
              "</table>\n",
              "</div>\n",
              "      <button class=\"colab-df-convert\" onclick=\"convertToInteractive('df-c3af5071-2006-43e1-bda8-89cbb9fecc3f')\"\n",
              "              title=\"Convert this dataframe to an interactive table.\"\n",
              "              style=\"display:none;\">\n",
              "        \n",
              "  <svg xmlns=\"http://www.w3.org/2000/svg\" height=\"24px\"viewBox=\"0 0 24 24\"\n",
              "       width=\"24px\">\n",
              "    <path d=\"M0 0h24v24H0V0z\" fill=\"none\"/>\n",
              "    <path d=\"M18.56 5.44l.94 2.06.94-2.06 2.06-.94-2.06-.94-.94-2.06-.94 2.06-2.06.94zm-11 1L8.5 8.5l.94-2.06 2.06-.94-2.06-.94L8.5 2.5l-.94 2.06-2.06.94zm10 10l.94 2.06.94-2.06 2.06-.94-2.06-.94-.94-2.06-.94 2.06-2.06.94z\"/><path d=\"M17.41 7.96l-1.37-1.37c-.4-.4-.92-.59-1.43-.59-.52 0-1.04.2-1.43.59L10.3 9.45l-7.72 7.72c-.78.78-.78 2.05 0 2.83L4 21.41c.39.39.9.59 1.41.59.51 0 1.02-.2 1.41-.59l7.78-7.78 2.81-2.81c.8-.78.8-2.07 0-2.86zM5.41 20L4 18.59l7.72-7.72 1.47 1.35L5.41 20z\"/>\n",
              "  </svg>\n",
              "      </button>\n",
              "      \n",
              "  <style>\n",
              "    .colab-df-container {\n",
              "      display:flex;\n",
              "      flex-wrap:wrap;\n",
              "      gap: 12px;\n",
              "    }\n",
              "\n",
              "    .colab-df-convert {\n",
              "      background-color: #E8F0FE;\n",
              "      border: none;\n",
              "      border-radius: 50%;\n",
              "      cursor: pointer;\n",
              "      display: none;\n",
              "      fill: #1967D2;\n",
              "      height: 32px;\n",
              "      padding: 0 0 0 0;\n",
              "      width: 32px;\n",
              "    }\n",
              "\n",
              "    .colab-df-convert:hover {\n",
              "      background-color: #E2EBFA;\n",
              "      box-shadow: 0px 1px 2px rgba(60, 64, 67, 0.3), 0px 1px 3px 1px rgba(60, 64, 67, 0.15);\n",
              "      fill: #174EA6;\n",
              "    }\n",
              "\n",
              "    [theme=dark] .colab-df-convert {\n",
              "      background-color: #3B4455;\n",
              "      fill: #D2E3FC;\n",
              "    }\n",
              "\n",
              "    [theme=dark] .colab-df-convert:hover {\n",
              "      background-color: #434B5C;\n",
              "      box-shadow: 0px 1px 3px 1px rgba(0, 0, 0, 0.15);\n",
              "      filter: drop-shadow(0px 1px 2px rgba(0, 0, 0, 0.3));\n",
              "      fill: #FFFFFF;\n",
              "    }\n",
              "  </style>\n",
              "\n",
              "      <script>\n",
              "        const buttonEl =\n",
              "          document.querySelector('#df-c3af5071-2006-43e1-bda8-89cbb9fecc3f button.colab-df-convert');\n",
              "        buttonEl.style.display =\n",
              "          google.colab.kernel.accessAllowed ? 'block' : 'none';\n",
              "\n",
              "        async function convertToInteractive(key) {\n",
              "          const element = document.querySelector('#df-c3af5071-2006-43e1-bda8-89cbb9fecc3f');\n",
              "          const dataTable =\n",
              "            await google.colab.kernel.invokeFunction('convertToInteractive',\n",
              "                                                     [key], {});\n",
              "          if (!dataTable) return;\n",
              "\n",
              "          const docLinkHtml = 'Like what you see? Visit the ' +\n",
              "            '<a target=\"_blank\" href=https://colab.research.google.com/notebooks/data_table.ipynb>data table notebook</a>'\n",
              "            + ' to learn more about interactive tables.';\n",
              "          element.innerHTML = '';\n",
              "          dataTable['output_type'] = 'display_data';\n",
              "          await google.colab.output.renderOutput(dataTable, element);\n",
              "          const docLink = document.createElement('div');\n",
              "          docLink.innerHTML = docLinkHtml;\n",
              "          element.appendChild(docLink);\n",
              "        }\n",
              "      </script>\n",
              "    </div>\n",
              "  </div>\n",
              "  "
            ]
          },
          "metadata": {},
          "execution_count": 42
        }
      ]
    },
    {
      "cell_type": "code",
      "source": [
        "smp = sol.iloc[0]['sample']"
      ],
      "metadata": {
        "id": "K6sWdt5pi1Zp"
      },
      "execution_count": 43,
      "outputs": []
    },
    {
      "cell_type": "code",
      "source": [
        "s = np.array([smp[f's_{i}'] for i in range(N)])\n",
        "m = np.array([smp[f'm_{i}'] for i in range(N)])\n",
        "d = np.array([smp[f'd_{i}'] for i in range(N)])\n",
        "e = np.array([[smp[f'e_{i}_{j}'] for j in range(N)] for i in range(N)])\n",
        "t = np.array([[[[smp[f't_{i}_{j}_{k}_{l}'] for l in range(N)] for k in range(N)] for j in range(N)] for i in range(N)])"
      ],
      "metadata": {
        "id": "Y5TjqHJ5i5pj"
      },
      "execution_count": 44,
      "outputs": []
    },
    {
      "cell_type": "markdown",
      "source": [
        "## Results"
      ],
      "metadata": {
        "id": "2vAIs5D8p73m"
      }
    },
    {
      "cell_type": "code",
      "source": [
        "def draw_graph(nodes: dict, edges: list):\n",
        "\tG = nx.DiGraph()\n",
        "\tG.add_nodes_from(nodes)\n",
        "\tG.add_edges_from(edges)\n",
        "\tpos = {k: list(v.values()) for k, v in nodes.items()}\n",
        "\tedge_colors = nx.get_edge_attributes(G,'color').values()\n",
        "\tnode_colors = np.array(list(dict(G.in_degree(G.nodes)).values())) - np.array(list(dict(G.out_degree(G.nodes)).values()))\n",
        "  \n",
        "\n",
        "\tnx.draw(\n",
        "\t\t\tG, pos,\n",
        "\t\t\tedge_color = edge_colors,\n",
        "\t\t\tedge_cmap = plt.cm.get_cmap('Set3'),\n",
        "\t\t\tnode_color = node_colors,\n",
        "\t\t\twidth=3, node_size=50, connectionstyle='arc3,rad=0.1')\n",
        "\tplt.show()"
      ],
      "metadata": {
        "id": "ubaRcDjCpgn2"
      },
      "execution_count": 45,
      "outputs": []
    },
    {
      "cell_type": "code",
      "source": [
        "tours = [(l,i,j,k) for l in range(N) for i in range(N) for j in range(N) for k in range(N) if t[l, i,j,k] == 1]\n",
        "edges = []\n",
        "for (l,i,j,k) in tours:\n",
        "\tedges.append((i, j, {'color':l}))\n",
        "\tedges.append((j, k, {'color':l}))\n",
        "\n",
        "nodes = dict(G.nodes(data=True))\n",
        "\n",
        "draw_graph(nodes, edges)"
      ],
      "metadata": {
        "id": "p9dQXni2p9mQ",
        "outputId": "aff158b9-850b-4ec4-be9d-df71e7d24a3a",
        "colab": {
          "base_uri": "https://localhost:8080/",
          "height": 319
        }
      },
      "execution_count": 47,
      "outputs": [
        {
          "output_type": "display_data",
          "data": {
            "text/plain": [
              "<Figure size 432x288 with 1 Axes>"
            ],
            "image/png": "[encoded data removed]"
          },
          "metadata": {}
        }
      ]
    },
    {
      "cell_type": "code",
      "source": [],
      "metadata": {
        "id": "tkmO_SB4pGj7"
      },
      "execution_count": null,
      "outputs": []
    }
  ]
}