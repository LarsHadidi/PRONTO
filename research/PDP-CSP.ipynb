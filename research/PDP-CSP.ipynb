{
  "nbformat": 4,
  "nbformat_minor": 0,
  "metadata": {
    "colab": {
      "provenance": [],
      "include_colab_link": true
    },
    "kernelspec": {
      "name": "python3",
      "display_name": "Python 3"
    },
    "language_info": {
      "name": "python"
    },
    "widgets": {
      "application/vnd.jupyter.widget-state+json": {
        "ebaf0780fb4a49b59685422d0bfacd7b": {
          "model_module": "@jupyter-widgets/controls",
          "model_name": "BoxModel",
          "model_module_version": "1.5.0",
          "state": {
            "_dom_classes": [],
            "_model_module": "@jupyter-widgets/controls",
            "_model_module_version": "1.5.0",
            "_model_name": "BoxModel",
            "_view_count": null,
            "_view_module": "@jupyter-widgets/controls",
            "_view_module_version": "1.5.0",
            "_view_name": "BoxView",
            "box_style": "",
            "children": [
              "IPY_MODEL_466fbe39083f4f3287685d4c49707a05",
              "IPY_MODEL_ce4a6dc11ea44e1ca58bade5552a42e9",
              "IPY_MODEL_c6b85bf42c6d481da6dcc20b0b5e6ab3",
              "IPY_MODEL_cac123a757a94184a9360a5ae08578bb"
            ],
            "layout": "IPY_MODEL_e79ceceac85c40e289a9bc6eacbb1852"
          }
        },
        "466fbe39083f4f3287685d4c49707a05": {
          "model_module": "@jupyter-widgets/controls",
          "model_name": "IntTextModel",
          "model_module_version": "1.5.0",
          "state": {
            "_dom_classes": [],
            "_model_module": "@jupyter-widgets/controls",
            "_model_module_version": "1.5.0",
            "_model_name": "IntTextModel",
            "_view_count": null,
            "_view_module": "@jupyter-widgets/controls",
            "_view_module_version": "1.5.0",
            "_view_name": "IntTextView",
            "continuous_update": false,
            "description": "Size",
            "description_tooltip": null,
            "disabled": false,
            "layout": "IPY_MODEL_52d1caf8283f4b48b56482b74bf339cc",
            "step": 1,
            "style": "IPY_MODEL_7d583a3911ab4d6e84642ffd12f4eb0f",
            "value": 27
          }
        },
        "ce4a6dc11ea44e1ca58bade5552a42e9": {
          "model_module": "@jupyter-widgets/controls",
          "model_name": "IntTextModel",
          "model_module_version": "1.5.0",
          "state": {
            "_dom_classes": [],
            "_model_module": "@jupyter-widgets/controls",
            "_model_module_version": "1.5.0",
            "_model_name": "IntTextModel",
            "_view_count": null,
            "_view_module": "@jupyter-widgets/controls",
            "_view_module_version": "1.5.0",
            "_view_name": "IntTextView",
            "continuous_update": false,
            "description": "Clusters",
            "description_tooltip": null,
            "disabled": false,
            "layout": "IPY_MODEL_3294d92f201542bcaf39fa03132a2b47",
            "step": 1,
            "style": "IPY_MODEL_b771ea07c2a64f3a8d4d1d97ab84b03d",
            "value": 1
          }
        },
        "c6b85bf42c6d481da6dcc20b0b5e6ab3": {
          "model_module": "@jupyter-widgets/controls",
          "model_name": "FloatTextModel",
          "model_module_version": "1.5.0",
          "state": {
            "_dom_classes": [],
            "_model_module": "@jupyter-widgets/controls",
            "_model_module_version": "1.5.0",
            "_model_name": "FloatTextModel",
            "_view_count": null,
            "_view_module": "@jupyter-widgets/controls",
            "_view_module_version": "1.5.0",
            "_view_name": "FloatTextView",
            "continuous_update": false,
            "description": "Deviation",
            "description_tooltip": null,
            "disabled": false,
            "layout": "IPY_MODEL_6a627b7677b74438a6b5b2015b431ecc",
            "step": null,
            "style": "IPY_MODEL_9954d4f9bd574766a4633e798d23826a",
            "value": 0.1
          }
        },
        "cac123a757a94184a9360a5ae08578bb": {
          "model_module": "@jupyter-widgets/controls",
          "model_name": "IntTextModel",
          "model_module_version": "1.5.0",
          "state": {
            "_dom_classes": [],
            "_model_module": "@jupyter-widgets/controls",
            "_model_module_version": "1.5.0",
            "_model_name": "IntTextModel",
            "_view_count": null,
            "_view_module": "@jupyter-widgets/controls",
            "_view_module_version": "1.5.0",
            "_view_name": "IntTextView",
            "continuous_update": false,
            "description": "Scaling",
            "description_tooltip": null,
            "disabled": false,
            "layout": "IPY_MODEL_dc7cf9b37dfb4cebb337130dc68460ed",
            "step": 1,
            "style": "IPY_MODEL_ab5cfbaca3a7419d8cb00d5e174d26a8",
            "value": 1
          }
        },
        "e79ceceac85c40e289a9bc6eacbb1852": {
          "model_module": "@jupyter-widgets/base",
          "model_name": "LayoutModel",
          "model_module_version": "1.2.0",
          "state": {
            "_model_module": "@jupyter-widgets/base",
            "_model_module_version": "1.2.0",
            "_model_name": "LayoutModel",
            "_view_count": null,
            "_view_module": "@jupyter-widgets/base",
            "_view_module_version": "1.2.0",
            "_view_name": "LayoutView",
            "align_content": null,
            "align_items": null,
            "align_self": null,
            "border": null,
            "bottom": null,
            "display": "flex",
            "flex": null,
            "flex_flow": "row",
            "grid_area": null,
            "grid_auto_columns": null,
            "grid_auto_flow": null,
            "grid_auto_rows": null,
            "grid_column": null,
            "grid_gap": null,
            "grid_row": null,
            "grid_template_areas": null,
            "grid_template_columns": null,
            "grid_template_rows": null,
            "height": null,
            "justify_content": null,
            "justify_items": null,
            "left": null,
            "margin": null,
            "max_height": null,
            "max_width": null,
            "min_height": null,
            "min_width": null,
            "object_fit": null,
            "object_position": null,
            "order": null,
            "overflow": null,
            "overflow_x": null,
            "overflow_y": null,
            "padding": null,
            "right": null,
            "top": null,
            "visibility": null,
            "width": null
          }
        },
        "52d1caf8283f4b48b56482b74bf339cc": {
          "model_module": "@jupyter-widgets/base",
          "model_name": "LayoutModel",
          "model_module_version": "1.2.0",
          "state": {
            "_model_module": "@jupyter-widgets/base",
            "_model_module_version": "1.2.0",
            "_model_name": "LayoutModel",
            "_view_count": null,
            "_view_module": "@jupyter-widgets/base",
            "_view_module_version": "1.2.0",
            "_view_name": "LayoutView",
            "align_content": null,
            "align_items": null,
            "align_self": null,
            "border": null,
            "bottom": null,
            "display": null,
            "flex": null,
            "flex_flow": null,
            "grid_area": null,
            "grid_auto_columns": null,
            "grid_auto_flow": null,
            "grid_auto_rows": null,
            "grid_column": null,
            "grid_gap": null,
            "grid_row": null,
            "grid_template_areas": null,
            "grid_template_columns": null,
            "grid_template_rows": null,
            "height": null,
            "justify_content": null,
            "justify_items": null,
            "left": null,
            "margin": null,
            "max_height": null,
            "max_width": null,
            "min_height": null,
            "min_width": null,
            "object_fit": null,
            "object_position": null,
            "order": null,
            "overflow": null,
            "overflow_x": null,
            "overflow_y": null,
            "padding": null,
            "right": null,
            "top": null,
            "visibility": null,
            "width": null
          }
        },
        "7d583a3911ab4d6e84642ffd12f4eb0f": {
          "model_module": "@jupyter-widgets/controls",
          "model_name": "DescriptionStyleModel",
          "model_module_version": "1.5.0",
          "state": {
            "_model_module": "@jupyter-widgets/controls",
            "_model_module_version": "1.5.0",
            "_model_name": "DescriptionStyleModel",
            "_view_count": null,
            "_view_module": "@jupyter-widgets/base",
            "_view_module_version": "1.2.0",
            "_view_name": "StyleView",
            "description_width": ""
          }
        },
        "3294d92f201542bcaf39fa03132a2b47": {
          "model_module": "@jupyter-widgets/base",
          "model_name": "LayoutModel",
          "model_module_version": "1.2.0",
          "state": {
            "_model_module": "@jupyter-widgets/base",
            "_model_module_version": "1.2.0",
            "_model_name": "LayoutModel",
            "_view_count": null,
            "_view_module": "@jupyter-widgets/base",
            "_view_module_version": "1.2.0",
            "_view_name": "LayoutView",
            "align_content": null,
            "align_items": null,
            "align_self": null,
            "border": null,
            "bottom": null,
            "display": null,
            "flex": null,
            "flex_flow": null,
            "grid_area": null,
            "grid_auto_columns": null,
            "grid_auto_flow": null,
            "grid_auto_rows": null,
            "grid_column": null,
            "grid_gap": null,
            "grid_row": null,
            "grid_template_areas": null,
            "grid_template_columns": null,
            "grid_template_rows": null,
            "height": null,
            "justify_content": null,
            "justify_items": null,
            "left": null,
            "margin": null,
            "max_height": null,
            "max_width": null,
            "min_height": null,
            "min_width": null,
            "object_fit": null,
            "object_position": null,
            "order": null,
            "overflow": null,
            "overflow_x": null,
            "overflow_y": null,
            "padding": null,
            "right": null,
            "top": null,
            "visibility": null,
            "width": null
          }
        },
        "b771ea07c2a64f3a8d4d1d97ab84b03d": {
          "model_module": "@jupyter-widgets/controls",
          "model_name": "DescriptionStyleModel",
          "model_module_version": "1.5.0",
          "state": {
            "_model_module": "@jupyter-widgets/controls",
            "_model_module_version": "1.5.0",
            "_model_name": "DescriptionStyleModel",
            "_view_count": null,
            "_view_module": "@jupyter-widgets/base",
            "_view_module_version": "1.2.0",
            "_view_name": "StyleView",
            "description_width": ""
          }
        },
        "6a627b7677b74438a6b5b2015b431ecc": {
          "model_module": "@jupyter-widgets/base",
          "model_name": "LayoutModel",
          "model_module_version": "1.2.0",
          "state": {
            "_model_module": "@jupyter-widgets/base",
            "_model_module_version": "1.2.0",
            "_model_name": "LayoutModel",
            "_view_count": null,
            "_view_module": "@jupyter-widgets/base",
            "_view_module_version": "1.2.0",
            "_view_name": "LayoutView",
            "align_content": null,
            "align_items": null,
            "align_self": null,
            "border": null,
            "bottom": null,
            "display": null,
            "flex": null,
            "flex_flow": null,
            "grid_area": null,
            "grid_auto_columns": null,
            "grid_auto_flow": null,
            "grid_auto_rows": null,
            "grid_column": null,
            "grid_gap": null,
            "grid_row": null,
            "grid_template_areas": null,
            "grid_template_columns": null,
            "grid_template_rows": null,
            "height": null,
            "justify_content": null,
            "justify_items": null,
            "left": null,
            "margin": null,
            "max_height": null,
            "max_width": null,
            "min_height": null,
            "min_width": null,
            "object_fit": null,
            "object_position": null,
            "order": null,
            "overflow": null,
            "overflow_x": null,
            "overflow_y": null,
            "padding": null,
            "right": null,
            "top": null,
            "visibility": null,
            "width": null
          }
        },
        "9954d4f9bd574766a4633e798d23826a": {
          "model_module": "@jupyter-widgets/controls",
          "model_name": "DescriptionStyleModel",
          "model_module_version": "1.5.0",
          "state": {
            "_model_module": "@jupyter-widgets/controls",
            "_model_module_version": "1.5.0",
            "_model_name": "DescriptionStyleModel",
            "_view_count": null,
            "_view_module": "@jupyter-widgets/base",
            "_view_module_version": "1.2.0",
            "_view_name": "StyleView",
            "description_width": ""
          }
        },
        "dc7cf9b37dfb4cebb337130dc68460ed": {
          "model_module": "@jupyter-widgets/base",
          "model_name": "LayoutModel",
          "model_module_version": "1.2.0",
          "state": {
            "_model_module": "@jupyter-widgets/base",
            "_model_module_version": "1.2.0",
            "_model_name": "LayoutModel",
            "_view_count": null,
            "_view_module": "@jupyter-widgets/base",
            "_view_module_version": "1.2.0",
            "_view_name": "LayoutView",
            "align_content": null,
            "align_items": null,
            "align_self": null,
            "border": null,
            "bottom": null,
            "display": null,
            "flex": null,
            "flex_flow": null,
            "grid_area": null,
            "grid_auto_columns": null,
            "grid_auto_flow": null,
            "grid_auto_rows": null,
            "grid_column": null,
            "grid_gap": null,
            "grid_row": null,
            "grid_template_areas": null,
            "grid_template_columns": null,
            "grid_template_rows": null,
            "height": null,
            "justify_content": null,
            "justify_items": null,
            "left": null,
            "margin": null,
            "max_height": null,
            "max_width": null,
            "min_height": null,
            "min_width": null,
            "object_fit": null,
            "object_position": null,
            "order": null,
            "overflow": null,
            "overflow_x": null,
            "overflow_y": null,
            "padding": null,
            "right": null,
            "top": null,
            "visibility": null,
            "width": null
          }
        },
        "ab5cfbaca3a7419d8cb00d5e174d26a8": {
          "model_module": "@jupyter-widgets/controls",
          "model_name": "DescriptionStyleModel",
          "model_module_version": "1.5.0",
          "state": {
            "_model_module": "@jupyter-widgets/controls",
            "_model_module_version": "1.5.0",
            "_model_name": "DescriptionStyleModel",
            "_view_count": null,
            "_view_module": "@jupyter-widgets/base",
            "_view_module_version": "1.2.0",
            "_view_name": "StyleView",
            "description_width": ""
          }
        }
      }
    }
  },
  "cells": [
    {
      "cell_type": "markdown",
      "metadata": {
        "id": "view-in-github",
        "colab_type": "text"
      },
      "source": [
        "<a href=\"https://colab.research.google.com/github/LarsHadidi/PRONTO/blob/mathprogram/mp/PDP-CSP.ipynb\" target=\"_parent\"><img src=\"https://colab.research.google.com/assets/colab-badge.svg\" alt=\"Open In Colab\"/></a>"
      ]
    },
    {
      "cell_type": "markdown",
      "source": [
        "# Progressive Dinner Party: Constraint Satisfaction Program"
      ],
      "metadata": {
        "id": "HWTI2q7SjtOO"
      }
    },
    {
      "cell_type": "markdown",
      "source": [
        "# Method: Finding one CSP Solution\n",
        "\n",
        "Constraint programming is an embedding of constraints in a host language.\n",
        "\n",
        "Constraint satisfaction problems are mathematical questions defined as a set of objects whose state must satisfy a number of constraints.\n",
        "\n",
        "The [MiniZinc](https://www.minizinc.org/) modelling language supports the decomposition of CSP formulations into MIP formulations as well as different backends. The [Gecode](https://www.gecode.org/) Solver System uses advanced branching heuristics and propagation techniques to quickly find a feasible solution.\n",
        "\n",
        "![MZN](https://acp.sdu.dk/images/posts/jm_minizinc.png)"
      ],
      "metadata": {
        "id": "1LiQ5cknXTpa"
      }
    },
    {
      "cell_type": "markdown",
      "source": [
        "## Hosted Runtime"
      ],
      "metadata": {
        "id": "FWES9P1qzCh-"
      }
    },
    {
      "cell_type": "code",
      "source": [
        "!mkdir /opt/minizinc\n",
        "!wget -q https://github.com/MiniZinc/MiniZincIDE/releases/download/2.6.4/MiniZincIDE-2.6.4-bundle-linux-x86_64.tgz -P /opt/minizinc\n",
        "!tar -xf /opt/minizinc/MiniZincIDE-2.6.4-bundle-linux-x86_64.tgz -C /opt/minizinc\n",
        "!mv /opt/minizinc/MiniZincIDE-2.6.4-bundle-linux-x86_64/* /opt/minizinc\n",
        "!cp /opt/minizinc/bin/minizinc /bin\n",
        "!cp -R /opt/minizinc/share/* /usr/local/share\n",
        "%env MZN_STDLIB_DIR=/opt/minizinc/share/minizinc\n",
        "%env LD_LIBRARY_PATH=/opt/minizinc/lib:/usr/local/nvidia/lib:/usr/local/nvidia/lib64\n",
        "!pip install -q iminizinc\n",
        "%load_ext iminizinc"
      ],
      "metadata": {
        "id": "v2n1uk4lzL2G",
        "outputId": "2fcf2236-2fa7-43cb-dfa0-3614128b9a2d",
        "colab": {
          "base_uri": "https://localhost:8080/",
          "height": 108
        }
      },
      "execution_count": null,
      "outputs": [
        {
          "output_type": "stream",
          "name": "stdout",
          "text": [
            "env: MZN_STDLIB_DIR=/opt/minizinc/share/minizinc\n",
            "env: LD_LIBRARY_PATH=/opt/minizinc/lib:/usr/local/nvidia/lib:/usr/local/nvidia/lib64\n",
            "\u001b[2K     \u001b[90m━━━━━━━━━━━━━━━━━━━━━━━━━━━━━━━━━━━━━━━━\u001b[0m \u001b[32m1.6/1.6 MB\u001b[0m \u001b[31m15.2 MB/s\u001b[0m eta \u001b[36m0:00:00\u001b[0m\n",
            "\u001b[?25h"
          ]
        },
        {
          "output_type": "display_data",
          "data": {
            "text/plain": [
              "<IPython.core.display.Javascript object>"
            ],
            "application/javascript": [
              "\"use strict\";\n",
              "\n",
              "CodeMirror.defineMode(\"text/minizinc\", function(config) {\n",
              "\n",
              "  var isOperatorChar = /[+\\-*=<>\\/]/;\n",
              "\n",
              "  var keywords = {\"array\":true,\n",
              "  \"bool\":true,\n",
              "  \"case\":true,\n",
              "  \"constraint\":true,\n",
              "  \"diff\":true,\n",
              "  \"div\":true,\n",
              "  \"else\":true,\n",
              "  \"elseif\":true,\n",
              "  \"endif\":true,\n",
              "  \"enum\":true,\n",
              "  \"false\":true,\n",
              "  \"float\":true,\n",
              "  \"function\":true,\n",
              "  \"if\":true,\n",
              "  \"in\":true,\n",
              "  \"include\":true,\n",
              "  \"int\":true,\n",
              "  \"intersect\":true,\n",
              "  \"let\":true,\n",
              "  \"list\":true,\n",
              "  \"maximize\":true,\n",
              "  \"minimize\":true,\n",
              "  \"mod\":true,\n",
              "  \"not\":true,\n",
              "  \"of\":true,\n",
              "  \"op\":true,\n",
              "  \"output\":true,\n",
              "  \"par\":true,\n",
              "  \"predicate\":true,\n",
              "  \"record\":true,\n",
              "  \"satisfy\":true,\n",
              "  \"set\":true,\n",
              "  \"solve\":true,\n",
              "  \"string\":true,\n",
              "  \"subset\":true,\n",
              "  \"superset\":true,\n",
              "  \"symdiff\":true,\n",
              "  \"test\":true,\n",
              "  \"then\":true,\n",
              "  \"true\":true,\n",
              "  \"tuple\":true,\n",
              "  \"type\":true,\n",
              "  \"union\":true,\n",
              "  \"var\":true,\n",
              "  \"where\":true,\n",
              "  \"xor\":true};\n",
              "\n",
              "  var punc = \":;,.(){}[]\";\n",
              "\n",
              "  function tokenBase(stream, state) {\n",
              "    var ch = stream.next();\n",
              "    if (ch == '\"') {\n",
              "      state.tokenize.push(tokenString);\n",
              "      return tokenString(stream, state);\n",
              "    }\n",
              "    if (/[\\d\\.]/.test(ch)) {\n",
              "      if (ch == \".\") {\n",
              "        stream.match(/^[0-9]+([eE][\\-+]?[0-9]+)?/);\n",
              "      } else if (ch == \"0\") {\n",
              "        stream.match(/^[xX][0-9a-fA-F]+/) || stream.match(/^0[0-7]+/);\n",
              "      } else {\n",
              "        stream.match(/^[0-9]*\\.?[0-9]*([eE][\\-+]?[0-9]+)?/);\n",
              "      }\n",
              "      return \"number\";\n",
              "    }\n",
              "    if (ch == \"/\") {\n",
              "      if (stream.eat(\"*\")) {\n",
              "        state.tokenize.push(tokenComment);\n",
              "        return tokenComment(stream, state);\n",
              "      }\n",
              "    }\n",
              "    if (ch == \"%\") {\n",
              "      stream.skipToEnd();\n",
              "      return \"comment\";\n",
              "    }\n",
              "    if (isOperatorChar.test(ch)) {\n",
              "      stream.eatWhile(isOperatorChar);\n",
              "      return \"operator\";\n",
              "    }\n",
              "    if (punc.indexOf(ch) > -1) {\n",
              "      return \"punctuation\";\n",
              "    }\n",
              "    stream.eatWhile(/[\\w\\$_\\xa1-\\uffff]/);\n",
              "    var cur = stream.current();\n",
              "    if (keywords.propertyIsEnumerable(cur)) {\n",
              "      return \"keyword\";\n",
              "    }\n",
              "    return \"variable\";\n",
              "  }\n",
              "\n",
              "  function tokenComment(stream, state) {\n",
              "    var maybeEnd = false, ch;\n",
              "    while (ch = stream.next()) {\n",
              "      if (ch == \"/\" && maybeEnd) {\n",
              "        state.tokenize.pop();\n",
              "        break;\n",
              "      }\n",
              "      maybeEnd = (ch == \"*\");\n",
              "    }\n",
              "    return \"comment\";\n",
              "  }\n",
              "\n",
              "  function tokenUntilClosingParen() {\n",
              "    var depth = 0;\n",
              "    return function(stream, state, prev) {\n",
              "      var inner = tokenBase(stream, state, prev);\n",
              "      console.log(\"untilClosing\",inner,stream.current());\n",
              "      if (inner == \"punctuation\") {\n",
              "        if (stream.current() == \"(\") {\n",
              "          ++depth;\n",
              "        } else if (stream.current() == \")\") {\n",
              "          if (depth == 0) {\n",
              "            stream.backUp(1)\n",
              "            state.tokenize.pop()\n",
              "            return state.tokenize[state.tokenize.length - 1](stream, state)\n",
              "          } else {\n",
              "            --depth;\n",
              "          }\n",
              "        }\n",
              "      }\n",
              "      return inner;\n",
              "    }\n",
              "  }\n",
              "\n",
              "  function tokenString(stream, state) {\n",
              "    var escaped = false, next, end = false;\n",
              "    while ((next = stream.next()) != null) {\n",
              "      if (next=='(' && escaped) {\n",
              "        state.tokenize.push(tokenUntilClosingParen());\n",
              "        return \"string\";\n",
              "      }\n",
              "      if (next == '\"' && !escaped) {end = true; break;}\n",
              "      escaped = !escaped && next == \"\\\\\";\n",
              "    }\n",
              "    if (end || !escaped)\n",
              "      state.tokenize.pop();\n",
              "    return \"string\";\n",
              "  }\n",
              "\n",
              "  return {\n",
              "    startState: function(basecolumn) {\n",
              "      return {\n",
              "        tokenize: []\n",
              "      };\n",
              "    },\n",
              "\n",
              "    token: function(stream, state) {\n",
              "      if (stream.eatSpace()) return null;\n",
              "      var style = (state.tokenize[state.tokenize.length - 1] || tokenBase)(stream, state);\n",
              "      console.log(\"token\",style);\n",
              "      return style;\n",
              "    },\n",
              "\n",
              "    blockCommentStart: \"/*\",\n",
              "    blockCommentEnd: \"*/\",\n",
              "    lineComment: \"%\"\n",
              "  };\n",
              "});\n",
              "\n",
              "CodeMirror.defineMIME(\"text/minizinc\", \"text/minizinc\");\n",
              "\n",
              "Jupyter.CodeCell.options_default.highlight_modes['magic_text/minizinc'] = {'reg':[/^%%minizinc/]} ;\n",
              "\n",
              "Jupyter.notebook.get_cells().map(function(cell){\n",
              "  if (cell.cell_type == 'code'){ cell.auto_highlight(); }\n",
              "}) ;\n"
            ]
          },
          "metadata": {}
        },
        {
          "output_type": "stream",
          "name": "stdout",
          "text": [
            "MiniZinc to FlatZinc converter, version 2.6.4, build 570825159\n",
            "Copyright (C) 2014-2022 Monash University, NICTA, Data61\n"
          ]
        }
      ]
    },
    {
      "cell_type": "markdown",
      "source": [
        "## Local Runtime"
      ],
      "metadata": {
        "id": "CWRXPboRzHPs"
      }
    },
    {
      "cell_type": "markdown",
      "source": [
        "`jupyter notebook --NotebookApp.allow_origin='https://colab.research.google.com' --port=8888 --NotebookApp.port_retries=0`"
      ],
      "metadata": {
        "id": "fuNmChDszU_0"
      }
    },
    {
      "cell_type": "markdown",
      "source": [
        "## Imports"
      ],
      "metadata": {
        "id": "27sAldKUqgPC"
      }
    },
    {
      "cell_type": "code",
      "source": [
        "import sys\n",
        "import pickle\n",
        "import itertools\n",
        "import numpy as np\n",
        "import pandas as pd\n",
        "import networkx as nx\n",
        "import ipywidgets as widgets\n",
        "import matplotlib.pyplot as plt"
      ],
      "metadata": {
        "id": "Yi3uS7D3pOld"
      },
      "execution_count": null,
      "outputs": []
    },
    {
      "cell_type": "markdown",
      "source": [
        "## Formulation"
      ],
      "metadata": {
        "id": "OxK_UNBzI8qg"
      }
    },
    {
      "cell_type": "markdown",
      "source": [
        "\\begin{array}{|c|c|}\n",
        "\\hline\n",
        "N := \\{1,..,n\\}&  \\text{Set of integers from one to $n$}  \\\\[1em] \n",
        "\\hline\n",
        "t_{ij} \\in \\mathbb{N}^{3\\times N}&  \\text{Element of $j^{th}$ tour, where\n",
        "$t_{1j}$=starters node, $t_{2j}$=main node, $t_{3j}$=desert node}  \\\\[1em] \n",
        "\\hline\n",
        "t^{i[J]}:=\\{t_{ij}|j=J\\},\\hspace{1em}t^{[I]j}:=\\{t_{ij}|i=I\\}&  \\text{Set of all $t_{ij}$ where one of the indices is fixed}  \\\\[1em] \n",
        "\\hline\n",
        "\\end{array}"
      ],
      "metadata": {
        "id": "J28rg-yEa4iZ"
      }
    },
    {
      "cell_type": "markdown",
      "source": [
        "\\begin{array}{|l|c|c|c|}\n",
        "\\hline\n",
        "\\textbf{Constraint} & \\textbf{Meaning} & \\textbf{Count} \\\\[2em]\n",
        "\\hline\n",
        "∀ j:\\hspace{1em} t_{1j}\\neq t_{2j}\\neq t_{3j} & \\text{Each course at a different location} & N \\\\[2em]\n",
        "\\hline\n",
        "∀ i:\\hspace{1em}∀ r \\in t^{i[N]}:\\hspace{1em} \\left|\\{x\\in t^{i[N]}|x=r\\}\\right|=3& \\text{Three tours intersect at each course} & 3N \\\\[2em]\n",
        "\\hline\n",
        "\\bigcap\\limits_{i=1}^3 t^{i[N]} = \\varnothing& \\text{Each location hosts one course} & 1 \\\\[2em]\n",
        "\\hline\n",
        "∀ p\\in N, q\\in N, q<p: \\hspace{1em} \\left|t^{i[p]} \\cap t^{i[q]}\\right| \\leq 1& \\text{Two tours intersect at most once} & N^2-N \\\\[2em]\n",
        "\\hline\n",
        "\\end{array}"
      ],
      "metadata": {
        "id": "-IB3PgAmccuS"
      }
    },
    {
      "cell_type": "markdown",
      "source": [
        "## Data"
      ],
      "metadata": {
        "id": "XW2AURgzIavl"
      }
    },
    {
      "cell_type": "code",
      "source": [
        "w_size = widgets.IntText(description='Size', orientation='horizontal', value=9, min=9)\n",
        "w_cluster = widgets.IntText(description='Clusters', orientation='horizontal', value=1, min=1)\n",
        "w_deviation = widgets.FloatText(description='Deviation', orientation='horizontal', value=0.1, min=0)\n",
        "w_scale = widgets.IntText(description='Scaling', orientation='horizontal', value=1)\n",
        "display(widgets.Box([w_size, w_cluster,w_deviation, w_scale], layout=widgets.Layout(display='flex', flex_flow='row')))"
      ],
      "metadata": {
        "id": "ZbMtrzssIR8r",
        "outputId": "32083f8e-b719-46f3-888a-adb014d952f3",
        "colab": {
          "base_uri": "https://localhost:8080/",
          "height": 49,
          "referenced_widgets": [
            "ebaf0780fb4a49b59685422d0bfacd7b",
            "466fbe39083f4f3287685d4c49707a05",
            "ce4a6dc11ea44e1ca58bade5552a42e9",
            "c6b85bf42c6d481da6dcc20b0b5e6ab3",
            "cac123a757a94184a9360a5ae08578bb",
            "e79ceceac85c40e289a9bc6eacbb1852",
            "52d1caf8283f4b48b56482b74bf339cc",
            "7d583a3911ab4d6e84642ffd12f4eb0f",
            "3294d92f201542bcaf39fa03132a2b47",
            "b771ea07c2a64f3a8d4d1d97ab84b03d",
            "6a627b7677b74438a6b5b2015b431ecc",
            "9954d4f9bd574766a4633e798d23826a",
            "dc7cf9b37dfb4cebb337130dc68460ed",
            "ab5cfbaca3a7419d8cb00d5e174d26a8"
          ]
        }
      },
      "execution_count": null,
      "outputs": [
        {
          "output_type": "display_data",
          "data": {
            "text/plain": [
              "Box(children=(IntText(value=9, description='Size'), IntText(value=1, description='Clusters'), FloatText(value=…"
            ],
            "application/vnd.jupyter.widget-view+json": {
              "version_major": 2,
              "version_minor": 0,
              "model_id": "ebaf0780fb4a49b59685422d0bfacd7b"
            }
          },
          "metadata": {}
        }
      ]
    },
    {
      "cell_type": "code",
      "source": [
        "rng = np.random.default_rng()\n",
        "\n",
        "n = w_size.value\n",
        "K = w_cluster.value\n",
        "σ = w_deviation.value\n",
        "λ = w_scale.value\n",
        "\n",
        "assert n >= 9\n",
        "assert K > 0\n",
        "assert n % K == 0\n",
        "assert n % 3 == 0\n",
        "assert σ >= 0\n",
        "assert λ > 0\n",
        "\n",
        "points = {}\n",
        "centers = rng.uniform(-1, 1, (K, 2))\n",
        "for i in range(K):\n",
        "\tpoints[str(centers[i])] = λ * rng.normal(centers[i], σ, (n // K, 2))\n",
        "\n",
        "X = np.array(list(points.values())).reshape(n, 2)[:,0]\n",
        "Y = np.array(list(points.values())).reshape(n, 2)[:,1]\n",
        "\n",
        "G = nx.DiGraph()\n",
        "for i in range(n):\n",
        "\tG.add_node(i, x = X[i], y = Y[i])\n",
        "\n",
        "C = np.empty((n,n))\n",
        "for a,b in itertools.product(range(n), range(n)):\n",
        "\tdX = (X[b]-X[a]) * (X[b]-X[a])\n",
        "\tdY = (Y[b]-Y[a]) * (Y[b]-Y[a])\n",
        "\tC[a,b] = np.sqrt(dX + dY)\n",
        "\n",
        "plt.scatter(X,Y)\n",
        "plt.show()"
      ],
      "metadata": {
        "id": "kQ8rb5aVHAZY",
        "outputId": "2113892e-2937-4b5e-85da-55f063298447",
        "colab": {
          "base_uri": "https://localhost:8080/",
          "height": 265
        }
      },
      "execution_count": null,
      "outputs": [
        {
          "output_type": "display_data",
          "data": {
            "text/plain": [
              "<Figure size 432x288 with 1 Axes>"
            ],
            "image/png": "[encoded data removed]"
          },
          "metadata": {
            "needs_background": "light"
          }
        }
      ]
    },
    {
      "cell_type": "markdown",
      "source": [
        "## Implementation"
      ],
      "metadata": {
        "id": "jZn5QnkfaUbs"
      }
    },
    {
      "cell_type": "code",
      "source": [
        "%%minizinc -m bind\n",
        "\n",
        "include \"alldifferent.mzn\";\n",
        "include \"all_disjoint.mzn\";\n",
        "include \"count.mzn\";\n",
        "\n",
        "int: n;\n",
        "set of int: N = 1..n;\n",
        "\n",
        "array[1..3,N] of var N: t;\n",
        "\n",
        "predicate soft_disjoint_columns (var set of $$T: p, var set of $$T: q, int: m) = card(p intersect q) <= m;\n",
        "\n",
        "constraint all_disjoint([array2set(t[i,N]) | i in 1..3]);\n",
        "constraint forall (j in N) (alldifferent(t[1..3, j])) :: \"once_per_column\";\n",
        "constraint forall (i in 1..3, x in t[i,N]) (count(t[i,N], x) = 3) :: \"three_per_row\";\n",
        "constraint forall (p in N, q in 1..(p - 1)) (soft_disjoint_columns( array2set(t[1..3,p]), array2set(t[1..3,q]), 1 )) :: \"limit_encounters\";\n",
        "\n",
        "solve satisfy;"
      ],
      "metadata": {
        "id": "AQnGhfq5K-Zx"
      },
      "execution_count": null,
      "outputs": []
    },
    {
      "cell_type": "code",
      "source": [
        "pd.DataFrame(t).to_csv('csp-solution.csv')\n",
        "with open('G.p', 'wb') as f:\n",
        "    pickle.dump(G, f)"
      ],
      "metadata": {
        "id": "cANHUxbH0fGV"
      },
      "execution_count": null,
      "outputs": []
    },
    {
      "cell_type": "markdown",
      "source": [
        "## Results"
      ],
      "metadata": {
        "id": "yIUwafUbalm1"
      }
    },
    {
      "cell_type": "code",
      "source": [
        "def draw_graph(nodes: dict, edges: list):\n",
        "\tG = nx.DiGraph()\n",
        "\tG.add_nodes_from(nodes)\n",
        "\tG.add_edges_from(edges)\n",
        "\tpos = {k: list(v.values()) for k, v in nodes.items()}\n",
        "\tedge_colors = nx.get_edge_attributes(G,'color').values()\n",
        "\tnode_colors = np.array(list(dict(G.in_degree(G.nodes)).values())) - np.array(list(dict(G.out_degree(G.nodes)).values()))\n",
        "  \n",
        "\n",
        "\tnx.draw(\n",
        "\t\t\tG, pos,\n",
        "\t\t\tedge_color = edge_colors,\n",
        "\t\t\tedge_cmap = plt.cm.get_cmap('Set3'),\n",
        "\t\t\tnode_color = node_colors,\n",
        "\t\t\twidth=3, node_size=50, connectionstyle='arc3,rad=0.1')\n",
        "\tplt.show()"
      ],
      "metadata": {
        "id": "ap5AWyabn-Sx"
      },
      "execution_count": null,
      "outputs": []
    },
    {
      "cell_type": "code",
      "source": [
        "T = np.array(t)\n",
        "nodes = dict(G.nodes(data=True))\n",
        "edges = []\n",
        "for m in range(n):\n",
        "    edges.append((T[0,m]-1, T[1,m]-1, {'color':m}))\n",
        "    edges.append((T[1,m]-1, T[2,m]-1, {'color':m}))\n",
        "node_colors = np.array(list(dict(G.in_degree(G.nodes)).values()))-np.array(list(dict(G.out_degree(G.nodes)).values()))\n",
        "draw_graph(nodes, edges)"
      ],
      "metadata": {
        "id": "YP1gHDHJtzbq",
        "outputId": "4c1755a5-5f50-4817-8d23-5af362c18939",
        "colab": {
          "base_uri": "https://localhost:8080/",
          "height": 319
        }
      },
      "execution_count": null,
      "outputs": [
        {
          "output_type": "display_data",
          "data": {
            "text/plain": [
              "<Figure size 432x288 with 1 Axes>"
            ],
            "image/png": "[encoded data removed]"
          },
          "metadata": {}
        }
      ]
    }
  ]
}