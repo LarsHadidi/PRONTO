{
  "nbformat": 4,
  "nbformat_minor": 0,
  "metadata": {
    "colab": {
      "provenance": [],
      "include_colab_link": true
    },
    "kernelspec": {
      "name": "python3",
      "display_name": "Python 3"
    },
    "language_info": {
      "name": "python"
    },
    "widgets": {
      "application/vnd.jupyter.widget-state+json": {
        "1f52b30e67eb4c8aa2fb35792ce9211c": {
          "model_module": "@jupyter-widgets/controls",
          "model_name": "BoxModel",
          "model_module_version": "1.5.0",
          "state": {
            "_dom_classes": [],
            "_model_module": "@jupyter-widgets/controls",
            "_model_module_version": "1.5.0",
            "_model_name": "BoxModel",
            "_view_count": null,
            "_view_module": "@jupyter-widgets/controls",
            "_view_module_version": "1.5.0",
            "_view_name": "BoxView",
            "box_style": "",
            "children": [
              "IPY_MODEL_ba577c9ee8624e0c8c9c4167299bca3b",
              "IPY_MODEL_32411e37a84d43719cde75e6f9ca82c4",
              "IPY_MODEL_55a99d1af8a64e079b211b393bb766eb",
              "IPY_MODEL_774e21e202064efd839f8e39bcdb438d"
            ],
            "layout": "IPY_MODEL_d34d78531c46491ba282cd89d3e698fc"
          }
        },
        "ba577c9ee8624e0c8c9c4167299bca3b": {
          "model_module": "@jupyter-widgets/controls",
          "model_name": "IntTextModel",
          "model_module_version": "1.5.0",
          "state": {
            "_dom_classes": [],
            "_model_module": "@jupyter-widgets/controls",
            "_model_module_version": "1.5.0",
            "_model_name": "IntTextModel",
            "_view_count": null,
            "_view_module": "@jupyter-widgets/controls",
            "_view_module_version": "1.5.0",
            "_view_name": "IntTextView",
            "continuous_update": false,
            "description": "Size",
            "description_tooltip": null,
            "disabled": false,
            "layout": "IPY_MODEL_0fbd15bf40ec428e8f3b3439380b43ea",
            "step": 1,
            "style": "IPY_MODEL_918e6b6bada644ee8f8f0da31a6030f4",
            "value": 45
          }
        },
        "32411e37a84d43719cde75e6f9ca82c4": {
          "model_module": "@jupyter-widgets/controls",
          "model_name": "IntTextModel",
          "model_module_version": "1.5.0",
          "state": {
            "_dom_classes": [],
            "_model_module": "@jupyter-widgets/controls",
            "_model_module_version": "1.5.0",
            "_model_name": "IntTextModel",
            "_view_count": null,
            "_view_module": "@jupyter-widgets/controls",
            "_view_module_version": "1.5.0",
            "_view_name": "IntTextView",
            "continuous_update": false,
            "description": "Clusters",
            "description_tooltip": null,
            "disabled": false,
            "layout": "IPY_MODEL_49e345f7394c41b98f9bd5a8b19c795b",
            "step": 1,
            "style": "IPY_MODEL_233d72318aaf44be994453f645ad89b9",
            "value": 5
          }
        },
        "55a99d1af8a64e079b211b393bb766eb": {
          "model_module": "@jupyter-widgets/controls",
          "model_name": "FloatTextModel",
          "model_module_version": "1.5.0",
          "state": {
            "_dom_classes": [],
            "_model_module": "@jupyter-widgets/controls",
            "_model_module_version": "1.5.0",
            "_model_name": "FloatTextModel",
            "_view_count": null,
            "_view_module": "@jupyter-widgets/controls",
            "_view_module_version": "1.5.0",
            "_view_name": "FloatTextView",
            "continuous_update": false,
            "description": "Deviation",
            "description_tooltip": null,
            "disabled": false,
            "layout": "IPY_MODEL_ed0bde24e32b498a9f5e9e7ffe1fe996",
            "step": null,
            "style": "IPY_MODEL_94581d2bebc248bfa7985ffb79e90883",
            "value": 0.075
          }
        },
        "774e21e202064efd839f8e39bcdb438d": {
          "model_module": "@jupyter-widgets/controls",
          "model_name": "IntTextModel",
          "model_module_version": "1.5.0",
          "state": {
            "_dom_classes": [],
            "_model_module": "@jupyter-widgets/controls",
            "_model_module_version": "1.5.0",
            "_model_name": "IntTextModel",
            "_view_count": null,
            "_view_module": "@jupyter-widgets/controls",
            "_view_module_version": "1.5.0",
            "_view_name": "IntTextView",
            "continuous_update": false,
            "description": "Scaling",
            "description_tooltip": null,
            "disabled": false,
            "layout": "IPY_MODEL_9cb6c71ec8464460b4e44e0b30095798",
            "step": 1,
            "style": "IPY_MODEL_25e59cb570f54080a518783ba118b318",
            "value": 10
          }
        },
        "d34d78531c46491ba282cd89d3e698fc": {
          "model_module": "@jupyter-widgets/base",
          "model_name": "LayoutModel",
          "model_module_version": "1.2.0",
          "state": {
            "_model_module": "@jupyter-widgets/base",
            "_model_module_version": "1.2.0",
            "_model_name": "LayoutModel",
            "_view_count": null,
            "_view_module": "@jupyter-widgets/base",
            "_view_module_version": "1.2.0",
            "_view_name": "LayoutView",
            "align_content": null,
            "align_items": null,
            "align_self": null,
            "border": null,
            "bottom": null,
            "display": "flex",
            "flex": null,
            "flex_flow": "row",
            "grid_area": null,
            "grid_auto_columns": null,
            "grid_auto_flow": null,
            "grid_auto_rows": null,
            "grid_column": null,
            "grid_gap": null,
            "grid_row": null,
            "grid_template_areas": null,
            "grid_template_columns": null,
            "grid_template_rows": null,
            "height": null,
            "justify_content": null,
            "justify_items": null,
            "left": null,
            "margin": null,
            "max_height": null,
            "max_width": null,
            "min_height": null,
            "min_width": null,
            "object_fit": null,
            "object_position": null,
            "order": null,
            "overflow": null,
            "overflow_x": null,
            "overflow_y": null,
            "padding": null,
            "right": null,
            "top": null,
            "visibility": null,
            "width": null
          }
        },
        "0fbd15bf40ec428e8f3b3439380b43ea": {
          "model_module": "@jupyter-widgets/base",
          "model_name": "LayoutModel",
          "model_module_version": "1.2.0",
          "state": {
            "_model_module": "@jupyter-widgets/base",
            "_model_module_version": "1.2.0",
            "_model_name": "LayoutModel",
            "_view_count": null,
            "_view_module": "@jupyter-widgets/base",
            "_view_module_version": "1.2.0",
            "_view_name": "LayoutView",
            "align_content": null,
            "align_items": null,
            "align_self": null,
            "border": null,
            "bottom": null,
            "display": null,
            "flex": null,
            "flex_flow": null,
            "grid_area": null,
            "grid_auto_columns": null,
            "grid_auto_flow": null,
            "grid_auto_rows": null,
            "grid_column": null,
            "grid_gap": null,
            "grid_row": null,
            "grid_template_areas": null,
            "grid_template_columns": null,
            "grid_template_rows": null,
            "height": null,
            "justify_content": null,
            "justify_items": null,
            "left": null,
            "margin": null,
            "max_height": null,
            "max_width": null,
            "min_height": null,
            "min_width": null,
            "object_fit": null,
            "object_position": null,
            "order": null,
            "overflow": null,
            "overflow_x": null,
            "overflow_y": null,
            "padding": null,
            "right": null,
            "top": null,
            "visibility": null,
            "width": null
          }
        },
        "918e6b6bada644ee8f8f0da31a6030f4": {
          "model_module": "@jupyter-widgets/controls",
          "model_name": "DescriptionStyleModel",
          "model_module_version": "1.5.0",
          "state": {
            "_model_module": "@jupyter-widgets/controls",
            "_model_module_version": "1.5.0",
            "_model_name": "DescriptionStyleModel",
            "_view_count": null,
            "_view_module": "@jupyter-widgets/base",
            "_view_module_version": "1.2.0",
            "_view_name": "StyleView",
            "description_width": ""
          }
        },
        "49e345f7394c41b98f9bd5a8b19c795b": {
          "model_module": "@jupyter-widgets/base",
          "model_name": "LayoutModel",
          "model_module_version": "1.2.0",
          "state": {
            "_model_module": "@jupyter-widgets/base",
            "_model_module_version": "1.2.0",
            "_model_name": "LayoutModel",
            "_view_count": null,
            "_view_module": "@jupyter-widgets/base",
            "_view_module_version": "1.2.0",
            "_view_name": "LayoutView",
            "align_content": null,
            "align_items": null,
            "align_self": null,
            "border": null,
            "bottom": null,
            "display": null,
            "flex": null,
            "flex_flow": null,
            "grid_area": null,
            "grid_auto_columns": null,
            "grid_auto_flow": null,
            "grid_auto_rows": null,
            "grid_column": null,
            "grid_gap": null,
            "grid_row": null,
            "grid_template_areas": null,
            "grid_template_columns": null,
            "grid_template_rows": null,
            "height": null,
            "justify_content": null,
            "justify_items": null,
            "left": null,
            "margin": null,
            "max_height": null,
            "max_width": null,
            "min_height": null,
            "min_width": null,
            "object_fit": null,
            "object_position": null,
            "order": null,
            "overflow": null,
            "overflow_x": null,
            "overflow_y": null,
            "padding": null,
            "right": null,
            "top": null,
            "visibility": null,
            "width": null
          }
        },
        "233d72318aaf44be994453f645ad89b9": {
          "model_module": "@jupyter-widgets/controls",
          "model_name": "DescriptionStyleModel",
          "model_module_version": "1.5.0",
          "state": {
            "_model_module": "@jupyter-widgets/controls",
            "_model_module_version": "1.5.0",
            "_model_name": "DescriptionStyleModel",
            "_view_count": null,
            "_view_module": "@jupyter-widgets/base",
            "_view_module_version": "1.2.0",
            "_view_name": "StyleView",
            "description_width": ""
          }
        },
        "ed0bde24e32b498a9f5e9e7ffe1fe996": {
          "model_module": "@jupyter-widgets/base",
          "model_name": "LayoutModel",
          "model_module_version": "1.2.0",
          "state": {
            "_model_module": "@jupyter-widgets/base",
            "_model_module_version": "1.2.0",
            "_model_name": "LayoutModel",
            "_view_count": null,
            "_view_module": "@jupyter-widgets/base",
            "_view_module_version": "1.2.0",
            "_view_name": "LayoutView",
            "align_content": null,
            "align_items": null,
            "align_self": null,
            "border": null,
            "bottom": null,
            "display": null,
            "flex": null,
            "flex_flow": null,
            "grid_area": null,
            "grid_auto_columns": null,
            "grid_auto_flow": null,
            "grid_auto_rows": null,
            "grid_column": null,
            "grid_gap": null,
            "grid_row": null,
            "grid_template_areas": null,
            "grid_template_columns": null,
            "grid_template_rows": null,
            "height": null,
            "justify_content": null,
            "justify_items": null,
            "left": null,
            "margin": null,
            "max_height": null,
            "max_width": null,
            "min_height": null,
            "min_width": null,
            "object_fit": null,
            "object_position": null,
            "order": null,
            "overflow": null,
            "overflow_x": null,
            "overflow_y": null,
            "padding": null,
            "right": null,
            "top": null,
            "visibility": null,
            "width": null
          }
        },
        "94581d2bebc248bfa7985ffb79e90883": {
          "model_module": "@jupyter-widgets/controls",
          "model_name": "DescriptionStyleModel",
          "model_module_version": "1.5.0",
          "state": {
            "_model_module": "@jupyter-widgets/controls",
            "_model_module_version": "1.5.0",
            "_model_name": "DescriptionStyleModel",
            "_view_count": null,
            "_view_module": "@jupyter-widgets/base",
            "_view_module_version": "1.2.0",
            "_view_name": "StyleView",
            "description_width": ""
          }
        },
        "9cb6c71ec8464460b4e44e0b30095798": {
          "model_module": "@jupyter-widgets/base",
          "model_name": "LayoutModel",
          "model_module_version": "1.2.0",
          "state": {
            "_model_module": "@jupyter-widgets/base",
            "_model_module_version": "1.2.0",
            "_model_name": "LayoutModel",
            "_view_count": null,
            "_view_module": "@jupyter-widgets/base",
            "_view_module_version": "1.2.0",
            "_view_name": "LayoutView",
            "align_content": null,
            "align_items": null,
            "align_self": null,
            "border": null,
            "bottom": null,
            "display": null,
            "flex": null,
            "flex_flow": null,
            "grid_area": null,
            "grid_auto_columns": null,
            "grid_auto_flow": null,
            "grid_auto_rows": null,
            "grid_column": null,
            "grid_gap": null,
            "grid_row": null,
            "grid_template_areas": null,
            "grid_template_columns": null,
            "grid_template_rows": null,
            "height": null,
            "justify_content": null,
            "justify_items": null,
            "left": null,
            "margin": null,
            "max_height": null,
            "max_width": null,
            "min_height": null,
            "min_width": null,
            "object_fit": null,
            "object_position": null,
            "order": null,
            "overflow": null,
            "overflow_x": null,
            "overflow_y": null,
            "padding": null,
            "right": null,
            "top": null,
            "visibility": null,
            "width": null
          }
        },
        "25e59cb570f54080a518783ba118b318": {
          "model_module": "@jupyter-widgets/controls",
          "model_name": "DescriptionStyleModel",
          "model_module_version": "1.5.0",
          "state": {
            "_model_module": "@jupyter-widgets/controls",
            "_model_module_version": "1.5.0",
            "_model_name": "DescriptionStyleModel",
            "_view_count": null,
            "_view_module": "@jupyter-widgets/base",
            "_view_module_version": "1.2.0",
            "_view_name": "StyleView",
            "description_width": ""
          }
        }
      }
    }
  },
  "cells": [
    {
      "cell_type": "markdown",
      "metadata": {
        "id": "view-in-github",
        "colab_type": "text"
      },
      "source": [
        "<a href=\"https://colab.research.google.com/github/LarsHadidi/PRONTO/blob/mathprogram/mp/PDP-CSP.ipynb\" target=\"_parent\"><img src=\"https://colab.research.google.com/assets/colab-badge.svg\" alt=\"Open In Colab\"/></a>"
      ]
    },
    {
      "cell_type": "markdown",
      "source": [
        "# Progressive Dinner Party: Constraint Satisfaction Program"
      ],
      "metadata": {
        "id": "HWTI2q7SjtOO"
      }
    },
    {
      "cell_type": "markdown",
      "source": [
        "## Hosted Runtime"
      ],
      "metadata": {
        "id": "FWES9P1qzCh-"
      }
    },
    {
      "cell_type": "code",
      "source": [
        "!mkdir /opt/minizinc\n",
        "!wget -q https://github.com/MiniZinc/MiniZincIDE/releases/download/2.6.4/MiniZincIDE-2.6.4-bundle-linux-x86_64.tgz -P /opt/minizinc\n",
        "!tar -xf /opt/minizinc/MiniZincIDE-2.6.4-bundle-linux-x86_64.tgz -C /opt/minizinc\n",
        "!mv /opt/minizinc/MiniZincIDE-2.6.4-bundle-linux-x86_64/* /opt/minizinc\n",
        "!cp /opt/minizinc/bin/minizinc /bin\n",
        "!cp -R /opt/minizinc/share/* /usr/local/share\n",
        "%env MZN_STDLIB_DIR=/opt/minizinc/share/minizinc\n",
        "%env LD_LIBRARY_PATH=/opt/minizinc/lib:/usr/local/nvidia/lib:/usr/local/nvidia/lib64\n",
        "!pip install -q iminizinc\n",
        "%load_ext iminizinc"
      ],
      "metadata": {
        "id": "v2n1uk4lzL2G"
      },
      "execution_count": null,
      "outputs": []
    },
    {
      "cell_type": "markdown",
      "source": [
        "## Local Runtime"
      ],
      "metadata": {
        "id": "CWRXPboRzHPs"
      }
    },
    {
      "cell_type": "markdown",
      "source": [
        "`jupyter notebook --NotebookApp.allow_origin='https://colab.research.google.com' --port=8888 --NotebookApp.port_retries=0`"
      ],
      "metadata": {
        "id": "fuNmChDszU_0"
      }
    },
    {
      "cell_type": "markdown",
      "source": [
        "## Imports"
      ],
      "metadata": {
        "id": "27sAldKUqgPC"
      }
    },
    {
      "cell_type": "code",
      "source": [
        "import sys\n",
        "import itertools\n",
        "import numpy as np\n",
        "import pandas as pd\n",
        "import networkx as nx\n",
        "import ipywidgets as widgets\n",
        "import matplotlib.pyplot as plt"
      ],
      "metadata": {
        "id": "Yi3uS7D3pOld"
      },
      "execution_count": 54,
      "outputs": []
    },
    {
      "cell_type": "markdown",
      "source": [
        "## Formulation"
      ],
      "metadata": {
        "id": "OxK_UNBzI8qg"
      }
    },
    {
      "cell_type": "markdown",
      "source": [
        "\\begin{array}{|c|c|}\n",
        "\\hline\n",
        "N := \\{1,..,n\\}&  \\text{Set of integers from one to $n$}  \\\\[1em] \n",
        "\\hline\n",
        "t_{ij} \\in \\mathbb{N}^{3\\times N}&  \\text{Element of $j^{th}$ tour, where\n",
        "$t_{1j}$=starters node, $t_{2j}$=main node, $t_{3j}$=desert node}  \\\\[1em] \n",
        "\\hline\n",
        "t^{i[J]}:=\\{t_{ij}|j=J\\},\\hspace{1em}t^{[I]j}:=\\{t_{ij}|i=I\\}&  \\text{Set of all $t_{ij}$ where one of the indices is fixed}  \\\\[1em] \n",
        "\\hline\n",
        "\\end{array}"
      ],
      "metadata": {
        "id": "J28rg-yEa4iZ"
      }
    },
    {
      "cell_type": "markdown",
      "source": [
        "\\begin{array}{|l|c|c|c|}\n",
        "\\hline\n",
        "\\textbf{Constraint} & \\textbf{Meaning} & \\textbf{Count} \\\\[2em]\n",
        "\\hline\n",
        "∀ j:\\hspace{1em} t_{1j}\\neq t_{2j}\\neq t_{3j} & \\text{Each course at a different location} & N \\\\[2em]\n",
        "\\hline\n",
        "∀ i:\\hspace{1em}∀ r \\in t^{i[N]}:\\hspace{1em} \\left|\\{x\\in t^{i[N]}|x=r\\}\\right|=3& \\text{Three tours intersect at each course} & 3N \\\\[2em]\n",
        "\\hline\n",
        "\\bigcap\\limits_{i=1}^3 t^{i[N]} = \\varnothing& \\text{Each location hosts one course} & 1 \\\\[2em]\n",
        "\\hline\n",
        "∀ p\\in N, q\\in N, q<p: \\hspace{1em} \\left|t^{i[p]} \\cap t^{i[q]}\\right| \\leq 1& \\text{Two tours intersect at most once} & N^2-N \\\\[2em]\n",
        "\\hline\n",
        "\\end{array}"
      ],
      "metadata": {
        "id": "-IB3PgAmccuS"
      }
    },
    {
      "cell_type": "markdown",
      "source": [
        "# Data"
      ],
      "metadata": {
        "id": "XW2AURgzIavl"
      }
    },
    {
      "cell_type": "code",
      "source": [
        "w_size = widgets.IntText(description='Size', orientation='horizontal', value=9, min=9)\n",
        "w_cluster = widgets.IntText(description='Clusters', orientation='horizontal', value=1, min=1)\n",
        "w_deviation = widgets.FloatText(description='Deviation', orientation='horizontal', value=0.1, min=0)\n",
        "w_scale = widgets.IntText(description='Scaling', orientation='horizontal', value=1)\n",
        "display(widgets.Box([w_size, w_cluster,w_deviation, w_scale], layout=widgets.Layout(display='flex', flex_flow='row')))"
      ],
      "metadata": {
        "id": "ZbMtrzssIR8r",
        "outputId": "ab0f187c-ecc1-4014-dc63-ecf0344e31a0",
        "colab": {
          "base_uri": "https://localhost:8080/",
          "height": 49,
          "referenced_widgets": [
            "1f52b30e67eb4c8aa2fb35792ce9211c",
            "ba577c9ee8624e0c8c9c4167299bca3b",
            "32411e37a84d43719cde75e6f9ca82c4",
            "55a99d1af8a64e079b211b393bb766eb",
            "774e21e202064efd839f8e39bcdb438d",
            "d34d78531c46491ba282cd89d3e698fc",
            "0fbd15bf40ec428e8f3b3439380b43ea",
            "918e6b6bada644ee8f8f0da31a6030f4",
            "49e345f7394c41b98f9bd5a8b19c795b",
            "233d72318aaf44be994453f645ad89b9",
            "ed0bde24e32b498a9f5e9e7ffe1fe996",
            "94581d2bebc248bfa7985ffb79e90883",
            "9cb6c71ec8464460b4e44e0b30095798",
            "25e59cb570f54080a518783ba118b318"
          ]
        }
      },
      "execution_count": 4,
      "outputs": [
        {
          "output_type": "display_data",
          "data": {
            "text/plain": [
              "Box(children=(IntText(value=9, description='Size'), IntText(value=1, description='Clusters'), FloatText(value=…"
            ],
            "application/vnd.jupyter.widget-view+json": {
              "version_major": 2,
              "version_minor": 0,
              "model_id": "1f52b30e67eb4c8aa2fb35792ce9211c"
            }
          },
          "metadata": {}
        }
      ]
    },
    {
      "cell_type": "code",
      "source": [
        "rng = np.random.default_rng()\n",
        "\n",
        "n = w_size.value\n",
        "K = w_cluster.value\n",
        "σ = w_deviation.value\n",
        "λ = w_scale.value\n",
        "\n",
        "assert n >= 9\n",
        "assert K > 0\n",
        "assert n % K == 0\n",
        "assert n % 3 == 0\n",
        "assert σ >= 0\n",
        "assert λ > 0\n",
        "\n",
        "points = {}\n",
        "centers = rng.uniform(-1, 1, (K, 2))\n",
        "for i in range(K):\n",
        "\tpoints[str(centers[i])] = λ * rng.normal(centers[i], σ, (n // K, 2))\n",
        "\n",
        "X = np.array(list(points.values())).reshape(n, 2)[:,0]\n",
        "Y = np.array(list(points.values())).reshape(n, 2)[:,1]\n",
        "\n",
        "G = nx.DiGraph()\n",
        "for i in range(n):\n",
        "\tG.add_node(i, x = X[i], y = Y[i])\n",
        "\n",
        "C = np.empty((n,n))\n",
        "for a,b in itertools.product(range(n), range(n)):\n",
        "\tdX = (X[b]-X[a]) * (X[b]-X[a])\n",
        "\tdY = (Y[b]-Y[a]) * (Y[b]-Y[a])\n",
        "\tC[a,b] = np.sqrt(dX + dY)\n",
        "\n",
        "plt.scatter(X,Y)\n",
        "plt.show()"
      ],
      "metadata": {
        "id": "kQ8rb5aVHAZY",
        "outputId": "a346d0c0-1587-41ec-daf6-ea4ca0a6e7e6",
        "colab": {
          "base_uri": "https://localhost:8080/",
          "height": 265
        }
      },
      "execution_count": 20,
      "outputs": [
        {
          "output_type": "display_data",
          "data": {
            "text/plain": [
              "<Figure size 432x288 with 1 Axes>"
            ],
            "image/png": "[encoded data removed]"
          },
          "metadata": {
            "needs_background": "light"
          }
        }
      ]
    },
    {
      "cell_type": "markdown",
      "source": [
        "## Implementation"
      ],
      "metadata": {
        "id": "jZn5QnkfaUbs"
      }
    },
    {
      "cell_type": "code",
      "source": [
        "%%minizinc -m bind\n",
        "\n",
        "include \"alldifferent.mzn\";\n",
        "include \"all_disjoint.mzn\";\n",
        "include \"count.mzn\";\n",
        "\n",
        "int: n;\n",
        "set of int: N = 1..n;\n",
        "\n",
        "array[1..3,N] of var N: t;\n",
        "\n",
        "predicate soft_disjoint_columns (var set of $$T: p, var set of $$T: q, int: m) = card(p intersect q) <= m;\n",
        "\n",
        "constraint all_disjoint([array2set(t[i,N]) | i in 1..3]);\n",
        "constraint forall (j in N) (alldifferent(t[1..3, j])) :: \"once_per_column\";\n",
        "constraint forall (i in 1..3, x in t[i,N]) (count(t[i,N], x) = 3) :: \"three_per_row\";\n",
        "constraint forall (p in N, q in 1..(p - 1)) (soft_disjoint_columns( array2set(t[1..3,p]), array2set(t[1..3,q]), 1 )) :: \"limit_encounters\";\n",
        "\n",
        "solve satisfy;"
      ],
      "metadata": {
        "id": "AQnGhfq5K-Zx"
      },
      "execution_count": 87,
      "outputs": []
    },
    {
      "cell_type": "code",
      "source": [
        "pd.DataFrame(t)"
      ],
      "metadata": {
        "id": "cANHUxbH0fGV",
        "outputId": "224f9293-e8cd-4731-a2c9-bd2616b2a60e",
        "colab": {
          "base_uri": "https://localhost:8080/",
          "height": 173
        }
      },
      "execution_count": 88,
      "outputs": [
        {
          "output_type": "execute_result",
          "data": {
            "text/plain": [
              "   0   1   2   3   4   5   6   7   8   9   ...  35  36  37  38  39  40  41  \\\n",
              "0  30  30  45  30  27  27  42  27  45  24  ...  33   6   6  33   6   3   3   \n",
              "1  28  44  28  26  41  26  28  44  26  22  ...   8   4  32   4   2  35   2   \n",
              "2  43  29  29  40  29  43  25  25  25  43  ...   7  31   5   5  34   5  31   \n",
              "\n",
              "   42  43  44  \n",
              "0  36   3  33  \n",
              "1   4  32   2  \n",
              "2   1   1   1  \n",
              "\n",
              "[3 rows x 45 columns]"
            ],
            "text/html": [
              "\n",
              "  <div id=\"df-d4a2a71b-8938-47d6-b1e3-adf65039d483\">\n",
              "    <div class=\"colab-df-container\">\n",
              "      <div>\n",
              "<style scoped>\n",
              "    .dataframe tbody tr th:only-of-type {\n",
              "        vertical-align: middle;\n",
              "    }\n",
              "\n",
              "    .dataframe tbody tr th {\n",
              "        vertical-align: top;\n",
              "    }\n",
              "\n",
              "    .dataframe thead th {\n",
              "        text-align: right;\n",
              "    }\n",
              "</style>\n",
              "<table border=\"1\" class=\"dataframe\">\n",
              "  <thead>\n",
              "    <tr style=\"text-align: right;\">\n",
              "      <th></th>\n",
              "      <th>0</th>\n",
              "      <th>1</th>\n",
              "      <th>2</th>\n",
              "      <th>3</th>\n",
              "      <th>4</th>\n",
              "      <th>5</th>\n",
              "      <th>6</th>\n",
              "      <th>7</th>\n",
              "      <th>8</th>\n",
              "      <th>9</th>\n",
              "      <th>...</th>\n",
              "      <th>35</th>\n",
              "      <th>36</th>\n",
              "      <th>37</th>\n",
              "      <th>38</th>\n",
              "      <th>39</th>\n",
              "      <th>40</th>\n",
              "      <th>41</th>\n",
              "      <th>42</th>\n",
              "      <th>43</th>\n",
              "      <th>44</th>\n",
              "    </tr>\n",
              "  </thead>\n",
              "  <tbody>\n",
              "    <tr>\n",
              "      <th>0</th>\n",
              "      <td>30</td>\n",
              "      <td>30</td>\n",
              "      <td>45</td>\n",
              "      <td>30</td>\n",
              "      <td>27</td>\n",
              "      <td>27</td>\n",
              "      <td>42</td>\n",
              "      <td>27</td>\n",
              "      <td>45</td>\n",
              "      <td>24</td>\n",
              "      <td>...</td>\n",
              "      <td>33</td>\n",
              "      <td>6</td>\n",
              "      <td>6</td>\n",
              "      <td>33</td>\n",
              "      <td>6</td>\n",
              "      <td>3</td>\n",
              "      <td>3</td>\n",
              "      <td>36</td>\n",
              "      <td>3</td>\n",
              "      <td>33</td>\n",
              "    </tr>\n",
              "    <tr>\n",
              "      <th>1</th>\n",
              "      <td>28</td>\n",
              "      <td>44</td>\n",
              "      <td>28</td>\n",
              "      <td>26</td>\n",
              "      <td>41</td>\n",
              "      <td>26</td>\n",
              "      <td>28</td>\n",
              "      <td>44</td>\n",
              "      <td>26</td>\n",
              "      <td>22</td>\n",
              "      <td>...</td>\n",
              "      <td>8</td>\n",
              "      <td>4</td>\n",
              "      <td>32</td>\n",
              "      <td>4</td>\n",
              "      <td>2</td>\n",
              "      <td>35</td>\n",
              "      <td>2</td>\n",
              "      <td>4</td>\n",
              "      <td>32</td>\n",
              "      <td>2</td>\n",
              "    </tr>\n",
              "    <tr>\n",
              "      <th>2</th>\n",
              "      <td>43</td>\n",
              "      <td>29</td>\n",
              "      <td>29</td>\n",
              "      <td>40</td>\n",
              "      <td>29</td>\n",
              "      <td>43</td>\n",
              "      <td>25</td>\n",
              "      <td>25</td>\n",
              "      <td>25</td>\n",
              "      <td>43</td>\n",
              "      <td>...</td>\n",
              "      <td>7</td>\n",
              "      <td>31</td>\n",
              "      <td>5</td>\n",
              "      <td>5</td>\n",
              "      <td>34</td>\n",
              "      <td>5</td>\n",
              "      <td>31</td>\n",
              "      <td>1</td>\n",
              "      <td>1</td>\n",
              "      <td>1</td>\n",
              "    </tr>\n",
              "  </tbody>\n",
              "</table>\n",
              "<p>3 rows × 45 columns</p>\n",
              "</div>\n",
              "      <button class=\"colab-df-convert\" onclick=\"convertToInteractive('df-d4a2a71b-8938-47d6-b1e3-adf65039d483')\"\n",
              "              title=\"Convert this dataframe to an interactive table.\"\n",
              "              style=\"display:none;\">\n",
              "        \n",
              "  <svg xmlns=\"http://www.w3.org/2000/svg\" height=\"24px\"viewBox=\"0 0 24 24\"\n",
              "       width=\"24px\">\n",
              "    <path d=\"M0 0h24v24H0V0z\" fill=\"none\"/>\n",
              "    <path d=\"M18.56 5.44l.94 2.06.94-2.06 2.06-.94-2.06-.94-.94-2.06-.94 2.06-2.06.94zm-11 1L8.5 8.5l.94-2.06 2.06-.94-2.06-.94L8.5 2.5l-.94 2.06-2.06.94zm10 10l.94 2.06.94-2.06 2.06-.94-2.06-.94-.94-2.06-.94 2.06-2.06.94z\"/><path d=\"M17.41 7.96l-1.37-1.37c-.4-.4-.92-.59-1.43-.59-.52 0-1.04.2-1.43.59L10.3 9.45l-7.72 7.72c-.78.78-.78 2.05 0 2.83L4 21.41c.39.39.9.59 1.41.59.51 0 1.02-.2 1.41-.59l7.78-7.78 2.81-2.81c.8-.78.8-2.07 0-2.86zM5.41 20L4 18.59l7.72-7.72 1.47 1.35L5.41 20z\"/>\n",
              "  </svg>\n",
              "      </button>\n",
              "      \n",
              "  <style>\n",
              "    .colab-df-container {\n",
              "      display:flex;\n",
              "      flex-wrap:wrap;\n",
              "      gap: 12px;\n",
              "    }\n",
              "\n",
              "    .colab-df-convert {\n",
              "      background-color: #E8F0FE;\n",
              "      border: none;\n",
              "      border-radius: 50%;\n",
              "      cursor: pointer;\n",
              "      display: none;\n",
              "      fill: #1967D2;\n",
              "      height: 32px;\n",
              "      padding: 0 0 0 0;\n",
              "      width: 32px;\n",
              "    }\n",
              "\n",
              "    .colab-df-convert:hover {\n",
              "      background-color: #E2EBFA;\n",
              "      box-shadow: 0px 1px 2px rgba(60, 64, 67, 0.3), 0px 1px 3px 1px rgba(60, 64, 67, 0.15);\n",
              "      fill: #174EA6;\n",
              "    }\n",
              "\n",
              "    [theme=dark] .colab-df-convert {\n",
              "      background-color: #3B4455;\n",
              "      fill: #D2E3FC;\n",
              "    }\n",
              "\n",
              "    [theme=dark] .colab-df-convert:hover {\n",
              "      background-color: #434B5C;\n",
              "      box-shadow: 0px 1px 3px 1px rgba(0, 0, 0, 0.15);\n",
              "      filter: drop-shadow(0px 1px 2px rgba(0, 0, 0, 0.3));\n",
              "      fill: #FFFFFF;\n",
              "    }\n",
              "  </style>\n",
              "\n",
              "      <script>\n",
              "        const buttonEl =\n",
              "          document.querySelector('#df-d4a2a71b-8938-47d6-b1e3-adf65039d483 button.colab-df-convert');\n",
              "        buttonEl.style.display =\n",
              "          google.colab.kernel.accessAllowed ? 'block' : 'none';\n",
              "\n",
              "        async function convertToInteractive(key) {\n",
              "          const element = document.querySelector('#df-d4a2a71b-8938-47d6-b1e3-adf65039d483');\n",
              "          const dataTable =\n",
              "            await google.colab.kernel.invokeFunction('convertToInteractive',\n",
              "                                                     [key], {});\n",
              "          if (!dataTable) return;\n",
              "\n",
              "          const docLinkHtml = 'Like what you see? Visit the ' +\n",
              "            '<a target=\"_blank\" href=https://colab.research.google.com/notebooks/data_table.ipynb>data table notebook</a>'\n",
              "            + ' to learn more about interactive tables.';\n",
              "          element.innerHTML = '';\n",
              "          dataTable['output_type'] = 'display_data';\n",
              "          await google.colab.output.renderOutput(dataTable, element);\n",
              "          const docLink = document.createElement('div');\n",
              "          docLink.innerHTML = docLinkHtml;\n",
              "          element.appendChild(docLink);\n",
              "        }\n",
              "      </script>\n",
              "    </div>\n",
              "  </div>\n",
              "  "
            ]
          },
          "metadata": {},
          "execution_count": 88
        }
      ]
    },
    {
      "cell_type": "code",
      "source": [
        "def objective(𝚷: list, T: np.array, C: np.array):\n",
        "  N = len(C)\n",
        "  \n",
        "  S = T[0,:]\n",
        "  M = T[1,:]\n",
        "  D = T[2,:]\n",
        "\n",
        "  p_S = [𝚷[T[0,i]-1] for i in range(N)]\n",
        "  p_M = [𝚷[T[1,i]-1] for i in range(N)]\n",
        "  p_D = [𝚷[T[2,i]-1] for i in range(N)]\n",
        "\n",
        "  return sum([C[p_S[i],p_M[i]] + C[p_M[i],p_D[i]] for i in range(N)])"
      ],
      "metadata": {
        "id": "FMifTCPMOKGh"
      },
      "execution_count": 89,
      "outputs": []
    },
    {
      "cell_type": "code",
      "source": [
        "T = np.array(t)\n",
        "print(f'Current objective value: {objective(list(range(n)), T, C)}')"
      ],
      "metadata": {
        "id": "ouL7IesXGOSt",
        "outputId": "1d31df8e-7117-4a0d-b256-e634f438a018",
        "colab": {
          "base_uri": "https://localhost:8080/"
        }
      },
      "execution_count": 90,
      "outputs": [
        {
          "output_type": "stream",
          "name": "stderr",
          "text": [
            "Current objective value: 934.7615057974565\n"
          ]
        }
      ]
    },
    {
      "cell_type": "code",
      "source": [
        "!pip install -q simanneal\n",
        "from simanneal import Annealer"
      ],
      "metadata": {
        "id": "nafRLQri119A"
      },
      "execution_count": 25,
      "outputs": []
    },
    {
      "cell_type": "code",
      "source": [
        "class Permutation(Annealer):\n",
        "  def __init__(self, state: list, C: np.array, T: np.array):\n",
        "    self.C = C\n",
        "    self.T = T\n",
        "    super(Permutation, self).__init__(state)\n",
        "  \n",
        "  def move(self):\n",
        "    a = np.random.randint(0, len(self.state) - 1)\n",
        "    b = np.random.randint(0, len(self.state) - 1)\n",
        "    self.state[a], self.state[b] = self.state[b], self.state[a]\n",
        "  \n",
        "  def energy(self):\n",
        "    energy = objective(self.state, T, C)\n",
        "    return energy"
      ],
      "metadata": {
        "id": "QYNERPAB14Nd"
      },
      "execution_count": 91,
      "outputs": []
    },
    {
      "cell_type": "code",
      "source": [
        "permutation = Permutation(list(range(n)), C, T)"
      ],
      "metadata": {
        "id": "zkviYelO3Da7"
      },
      "execution_count": 92,
      "outputs": []
    },
    {
      "cell_type": "code",
      "source": [
        "permutation.Tmax = 500\n",
        "permutation.Tmin = 0.01\n",
        "permutation.steps = 1e6\n",
        "permutation.copy_strategy = 'slice'\n",
        "permutation.updates = 10\n",
        "permutation.update = lambda step, T, E, A, I: print(f'{T:12.5f}\\t{E:12.2f}\\t{float(A or 0)*100.0:7.2f}\\t{float(I or 0)*100.0:7.2f}')"
      ],
      "metadata": {
        "id": "A4TSprxk6WFO"
      },
      "execution_count": 111,
      "outputs": []
    },
    {
      "cell_type": "code",
      "source": [
        "print(f'{\"Temperature\": >12}\\t{\"Energy\": >12}\\t{\"Accept\": >7}\\t{\"Improve\": >7}')\n",
        "𝚷, y = permutation.anneal()\n",
        "print(f'Annealed objective value: {y}')"
      ],
      "metadata": {
        "colab": {
          "base_uri": "https://localhost:8080/"
        },
        "id": "URqk3Qti3W6D",
        "outputId": "609be0f3-ecf5-48c9-954f-f3ae66e05023"
      },
      "execution_count": 112,
      "outputs": [
        {
          "output_type": "stream",
          "name": "stderr",
          "text": [
            " Temperature\t      Energy\t Accept\tImprove\n",
            "   500.00000\t      333.17\t   0.00\t   0.00\n",
            "   169.46226\t     1007.89\t  97.47\t  47.63\n",
            "    57.43492\t      794.80\t  92.27\t  45.01\n",
            "    19.46610\t      772.43\t  77.44\t  37.52\n",
            "     6.59754\t      428.49\t  43.41\t  20.54\n",
            "     2.23607\t      295.12\t  20.58\t   9.11\n",
            "     0.75786\t      293.42\t  12.95\t   5.21\n",
            "     0.25686\t      282.93\t   7.35\t   2.52\n",
            "     0.08706\t      279.19\t   4.23\t   0.87\n",
            "     0.02951\t      278.76\t   3.11\t   0.32\n",
            "     0.01000\t      278.74\t   2.80\t   0.17\n",
            "Annealed objective value: 278.7423471981088\n"
          ]
        }
      ]
    },
    {
      "cell_type": "markdown",
      "source": [
        "## Results"
      ],
      "metadata": {
        "id": "yIUwafUbalm1"
      }
    },
    {
      "cell_type": "code",
      "source": [
        "def draw_graph(nodes: dict, edges: list):\n",
        "\tG = nx.DiGraph()\n",
        "\tG.add_nodes_from(nodes)\n",
        "\tG.add_edges_from(edges)\n",
        "\tpos = {k: list(v.values()) for k, v in nodes.items()}\n",
        "\tedge_colors = nx.get_edge_attributes(G,'color').values()\n",
        "\tnode_colors = np.array(list(dict(G.in_degree(G.nodes)).values())) - np.array(list(dict(G.out_degree(G.nodes)).values()))\n",
        "  \n",
        "\n",
        "\tnx.draw(\n",
        "\t\t\tG, pos,\n",
        "\t\t\tedge_color = edge_colors,\n",
        "\t\t\tedge_cmap = plt.cm.get_cmap('Set3'),\n",
        "\t\t\tnode_color = node_colors,\n",
        "\t\t\twidth=3, node_size=50, connectionstyle='arc3,rad=0.1')\n",
        "\tplt.show()"
      ],
      "metadata": {
        "id": "ap5AWyabn-Sx"
      },
      "execution_count": 108,
      "outputs": []
    },
    {
      "cell_type": "code",
      "source": [
        "nodes = dict(G.nodes(data=True))\n",
        "edges = []\n",
        "for m in range(n):\n",
        "    edges.append((𝚷[T[0,m]-1], 𝚷[T[1,m]-1], {'color':m}))\n",
        "    edges.append((𝚷[T[1,m]-1], 𝚷[T[2,m]-1], {'color':m}))\n",
        "node_colors = np.array(list(dict(G.in_degree(G.nodes)).values()))-np.array(list(dict(G.out_degree(G.nodes)).values()))\n",
        "draw_graph(nodes, edges)"
      ],
      "metadata": {
        "id": "KBgCJYlN2k7L",
        "outputId": "ade39446-c2c2-435b-b72a-c6e30858040c",
        "colab": {
          "base_uri": "https://localhost:8080/",
          "height": 319
        }
      },
      "execution_count": 113,
      "outputs": [
        {
          "output_type": "display_data",
          "data": {
            "text/plain": [
              "<Figure size 432x288 with 1 Axes>"
            ],
            "image/png": "[encoded data removed]"
          },
          "metadata": {}
        }
      ]
    }
  ]
}