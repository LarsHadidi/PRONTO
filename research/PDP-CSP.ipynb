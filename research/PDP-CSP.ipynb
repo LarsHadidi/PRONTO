{
  "nbformat": 4,
  "nbformat_minor": 0,
  "metadata": {
    "colab": {
      "provenance": [],
      "include_colab_link": true
    },
    "kernelspec": {
      "name": "python3",
      "display_name": "Python 3"
    },
    "language_info": {
      "name": "python"
    },
    "widgets": {
      "application/vnd.jupyter.widget-state+json": {
        "973955369b434f5ca6b12eff1d048cd9": {
          "model_module": "@jupyter-widgets/controls",
          "model_name": "BoxModel",
          "model_module_version": "1.5.0",
          "state": {
            "_dom_classes": [],
            "_model_module": "@jupyter-widgets/controls",
            "_model_module_version": "1.5.0",
            "_model_name": "BoxModel",
            "_view_count": null,
            "_view_module": "@jupyter-widgets/controls",
            "_view_module_version": "1.5.0",
            "_view_name": "BoxView",
            "box_style": "",
            "children": [
              "IPY_MODEL_94910b6c74c74527ba05653e685e2c85",
              "IPY_MODEL_dd02a400dea64fb8bec4c72825b478f2",
              "IPY_MODEL_aa129350096548bcb1113743d15c4608",
              "IPY_MODEL_da8165eaf2c44900bfc94fc9c97b1e7c"
            ],
            "layout": "IPY_MODEL_d491fced424542a5a7adcf8e485962c8"
          }
        },
        "94910b6c74c74527ba05653e685e2c85": {
          "model_module": "@jupyter-widgets/controls",
          "model_name": "IntTextModel",
          "model_module_version": "1.5.0",
          "state": {
            "_dom_classes": [],
            "_model_module": "@jupyter-widgets/controls",
            "_model_module_version": "1.5.0",
            "_model_name": "IntTextModel",
            "_view_count": null,
            "_view_module": "@jupyter-widgets/controls",
            "_view_module_version": "1.5.0",
            "_view_name": "IntTextView",
            "continuous_update": false,
            "description": "Size",
            "description_tooltip": null,
            "disabled": false,
            "layout": "IPY_MODEL_eaed74e6d5e845b7bca1ef935c014abc",
            "step": 1,
            "style": "IPY_MODEL_c09cab9b34cf46a5bbe674baa1da293f",
            "value": 27
          }
        },
        "dd02a400dea64fb8bec4c72825b478f2": {
          "model_module": "@jupyter-widgets/controls",
          "model_name": "IntTextModel",
          "model_module_version": "1.5.0",
          "state": {
            "_dom_classes": [],
            "_model_module": "@jupyter-widgets/controls",
            "_model_module_version": "1.5.0",
            "_model_name": "IntTextModel",
            "_view_count": null,
            "_view_module": "@jupyter-widgets/controls",
            "_view_module_version": "1.5.0",
            "_view_name": "IntTextView",
            "continuous_update": false,
            "description": "Clusters",
            "description_tooltip": null,
            "disabled": false,
            "layout": "IPY_MODEL_94827d85c2d040e9917505fae7a3d44a",
            "step": 1,
            "style": "IPY_MODEL_447f770920ee40e9b404114372633ce3",
            "value": 3
          }
        },
        "aa129350096548bcb1113743d15c4608": {
          "model_module": "@jupyter-widgets/controls",
          "model_name": "FloatTextModel",
          "model_module_version": "1.5.0",
          "state": {
            "_dom_classes": [],
            "_model_module": "@jupyter-widgets/controls",
            "_model_module_version": "1.5.0",
            "_model_name": "FloatTextModel",
            "_view_count": null,
            "_view_module": "@jupyter-widgets/controls",
            "_view_module_version": "1.5.0",
            "_view_name": "FloatTextView",
            "continuous_update": false,
            "description": "Deviation",
            "description_tooltip": null,
            "disabled": false,
            "layout": "IPY_MODEL_f284c4ea5c344ae39020b4f69a81f43d",
            "step": null,
            "style": "IPY_MODEL_9ef1e707ab384fb5a470c943dc666266",
            "value": 0.1
          }
        },
        "da8165eaf2c44900bfc94fc9c97b1e7c": {
          "model_module": "@jupyter-widgets/controls",
          "model_name": "IntTextModel",
          "model_module_version": "1.5.0",
          "state": {
            "_dom_classes": [],
            "_model_module": "@jupyter-widgets/controls",
            "_model_module_version": "1.5.0",
            "_model_name": "IntTextModel",
            "_view_count": null,
            "_view_module": "@jupyter-widgets/controls",
            "_view_module_version": "1.5.0",
            "_view_name": "IntTextView",
            "continuous_update": false,
            "description": "Scaling",
            "description_tooltip": null,
            "disabled": false,
            "layout": "IPY_MODEL_7b592b6c0f714938b466a23f7aac15f5",
            "step": 1,
            "style": "IPY_MODEL_945a37ae018e4f569330a4a0635d4fa8",
            "value": 10
          }
        },
        "d491fced424542a5a7adcf8e485962c8": {
          "model_module": "@jupyter-widgets/base",
          "model_name": "LayoutModel",
          "model_module_version": "1.2.0",
          "state": {
            "_model_module": "@jupyter-widgets/base",
            "_model_module_version": "1.2.0",
            "_model_name": "LayoutModel",
            "_view_count": null,
            "_view_module": "@jupyter-widgets/base",
            "_view_module_version": "1.2.0",
            "_view_name": "LayoutView",
            "align_content": null,
            "align_items": null,
            "align_self": null,
            "border": null,
            "bottom": null,
            "display": "flex",
            "flex": null,
            "flex_flow": "row",
            "grid_area": null,
            "grid_auto_columns": null,
            "grid_auto_flow": null,
            "grid_auto_rows": null,
            "grid_column": null,
            "grid_gap": null,
            "grid_row": null,
            "grid_template_areas": null,
            "grid_template_columns": null,
            "grid_template_rows": null,
            "height": null,
            "justify_content": null,
            "justify_items": null,
            "left": null,
            "margin": null,
            "max_height": null,
            "max_width": null,
            "min_height": null,
            "min_width": null,
            "object_fit": null,
            "object_position": null,
            "order": null,
            "overflow": null,
            "overflow_x": null,
            "overflow_y": null,
            "padding": null,
            "right": null,
            "top": null,
            "visibility": null,
            "width": null
          }
        },
        "eaed74e6d5e845b7bca1ef935c014abc": {
          "model_module": "@jupyter-widgets/base",
          "model_name": "LayoutModel",
          "model_module_version": "1.2.0",
          "state": {
            "_model_module": "@jupyter-widgets/base",
            "_model_module_version": "1.2.0",
            "_model_name": "LayoutModel",
            "_view_count": null,
            "_view_module": "@jupyter-widgets/base",
            "_view_module_version": "1.2.0",
            "_view_name": "LayoutView",
            "align_content": null,
            "align_items": null,
            "align_self": null,
            "border": null,
            "bottom": null,
            "display": null,
            "flex": null,
            "flex_flow": null,
            "grid_area": null,
            "grid_auto_columns": null,
            "grid_auto_flow": null,
            "grid_auto_rows": null,
            "grid_column": null,
            "grid_gap": null,
            "grid_row": null,
            "grid_template_areas": null,
            "grid_template_columns": null,
            "grid_template_rows": null,
            "height": null,
            "justify_content": null,
            "justify_items": null,
            "left": null,
            "margin": null,
            "max_height": null,
            "max_width": null,
            "min_height": null,
            "min_width": null,
            "object_fit": null,
            "object_position": null,
            "order": null,
            "overflow": null,
            "overflow_x": null,
            "overflow_y": null,
            "padding": null,
            "right": null,
            "top": null,
            "visibility": null,
            "width": null
          }
        },
        "c09cab9b34cf46a5bbe674baa1da293f": {
          "model_module": "@jupyter-widgets/controls",
          "model_name": "DescriptionStyleModel",
          "model_module_version": "1.5.0",
          "state": {
            "_model_module": "@jupyter-widgets/controls",
            "_model_module_version": "1.5.0",
            "_model_name": "DescriptionStyleModel",
            "_view_count": null,
            "_view_module": "@jupyter-widgets/base",
            "_view_module_version": "1.2.0",
            "_view_name": "StyleView",
            "description_width": ""
          }
        },
        "94827d85c2d040e9917505fae7a3d44a": {
          "model_module": "@jupyter-widgets/base",
          "model_name": "LayoutModel",
          "model_module_version": "1.2.0",
          "state": {
            "_model_module": "@jupyter-widgets/base",
            "_model_module_version": "1.2.0",
            "_model_name": "LayoutModel",
            "_view_count": null,
            "_view_module": "@jupyter-widgets/base",
            "_view_module_version": "1.2.0",
            "_view_name": "LayoutView",
            "align_content": null,
            "align_items": null,
            "align_self": null,
            "border": null,
            "bottom": null,
            "display": null,
            "flex": null,
            "flex_flow": null,
            "grid_area": null,
            "grid_auto_columns": null,
            "grid_auto_flow": null,
            "grid_auto_rows": null,
            "grid_column": null,
            "grid_gap": null,
            "grid_row": null,
            "grid_template_areas": null,
            "grid_template_columns": null,
            "grid_template_rows": null,
            "height": null,
            "justify_content": null,
            "justify_items": null,
            "left": null,
            "margin": null,
            "max_height": null,
            "max_width": null,
            "min_height": null,
            "min_width": null,
            "object_fit": null,
            "object_position": null,
            "order": null,
            "overflow": null,
            "overflow_x": null,
            "overflow_y": null,
            "padding": null,
            "right": null,
            "top": null,
            "visibility": null,
            "width": null
          }
        },
        "447f770920ee40e9b404114372633ce3": {
          "model_module": "@jupyter-widgets/controls",
          "model_name": "DescriptionStyleModel",
          "model_module_version": "1.5.0",
          "state": {
            "_model_module": "@jupyter-widgets/controls",
            "_model_module_version": "1.5.0",
            "_model_name": "DescriptionStyleModel",
            "_view_count": null,
            "_view_module": "@jupyter-widgets/base",
            "_view_module_version": "1.2.0",
            "_view_name": "StyleView",
            "description_width": ""
          }
        },
        "f284c4ea5c344ae39020b4f69a81f43d": {
          "model_module": "@jupyter-widgets/base",
          "model_name": "LayoutModel",
          "model_module_version": "1.2.0",
          "state": {
            "_model_module": "@jupyter-widgets/base",
            "_model_module_version": "1.2.0",
            "_model_name": "LayoutModel",
            "_view_count": null,
            "_view_module": "@jupyter-widgets/base",
            "_view_module_version": "1.2.0",
            "_view_name": "LayoutView",
            "align_content": null,
            "align_items": null,
            "align_self": null,
            "border": null,
            "bottom": null,
            "display": null,
            "flex": null,
            "flex_flow": null,
            "grid_area": null,
            "grid_auto_columns": null,
            "grid_auto_flow": null,
            "grid_auto_rows": null,
            "grid_column": null,
            "grid_gap": null,
            "grid_row": null,
            "grid_template_areas": null,
            "grid_template_columns": null,
            "grid_template_rows": null,
            "height": null,
            "justify_content": null,
            "justify_items": null,
            "left": null,
            "margin": null,
            "max_height": null,
            "max_width": null,
            "min_height": null,
            "min_width": null,
            "object_fit": null,
            "object_position": null,
            "order": null,
            "overflow": null,
            "overflow_x": null,
            "overflow_y": null,
            "padding": null,
            "right": null,
            "top": null,
            "visibility": null,
            "width": null
          }
        },
        "9ef1e707ab384fb5a470c943dc666266": {
          "model_module": "@jupyter-widgets/controls",
          "model_name": "DescriptionStyleModel",
          "model_module_version": "1.5.0",
          "state": {
            "_model_module": "@jupyter-widgets/controls",
            "_model_module_version": "1.5.0",
            "_model_name": "DescriptionStyleModel",
            "_view_count": null,
            "_view_module": "@jupyter-widgets/base",
            "_view_module_version": "1.2.0",
            "_view_name": "StyleView",
            "description_width": ""
          }
        },
        "7b592b6c0f714938b466a23f7aac15f5": {
          "model_module": "@jupyter-widgets/base",
          "model_name": "LayoutModel",
          "model_module_version": "1.2.0",
          "state": {
            "_model_module": "@jupyter-widgets/base",
            "_model_module_version": "1.2.0",
            "_model_name": "LayoutModel",
            "_view_count": null,
            "_view_module": "@jupyter-widgets/base",
            "_view_module_version": "1.2.0",
            "_view_name": "LayoutView",
            "align_content": null,
            "align_items": null,
            "align_self": null,
            "border": null,
            "bottom": null,
            "display": null,
            "flex": null,
            "flex_flow": null,
            "grid_area": null,
            "grid_auto_columns": null,
            "grid_auto_flow": null,
            "grid_auto_rows": null,
            "grid_column": null,
            "grid_gap": null,
            "grid_row": null,
            "grid_template_areas": null,
            "grid_template_columns": null,
            "grid_template_rows": null,
            "height": null,
            "justify_content": null,
            "justify_items": null,
            "left": null,
            "margin": null,
            "max_height": null,
            "max_width": null,
            "min_height": null,
            "min_width": null,
            "object_fit": null,
            "object_position": null,
            "order": null,
            "overflow": null,
            "overflow_x": null,
            "overflow_y": null,
            "padding": null,
            "right": null,
            "top": null,
            "visibility": null,
            "width": null
          }
        },
        "945a37ae018e4f569330a4a0635d4fa8": {
          "model_module": "@jupyter-widgets/controls",
          "model_name": "DescriptionStyleModel",
          "model_module_version": "1.5.0",
          "state": {
            "_model_module": "@jupyter-widgets/controls",
            "_model_module_version": "1.5.0",
            "_model_name": "DescriptionStyleModel",
            "_view_count": null,
            "_view_module": "@jupyter-widgets/base",
            "_view_module_version": "1.2.0",
            "_view_name": "StyleView",
            "description_width": ""
          }
        }
      }
    }
  },
  "cells": [
    {
      "cell_type": "markdown",
      "metadata": {
        "id": "view-in-github",
        "colab_type": "text"
      },
      "source": [
        "<a href=\"https://colab.research.google.com/github/LarsHadidi/PRONTO/blob/mathprogram/mp/PDP-CSP.ipynb\" target=\"_parent\"><img src=\"https://colab.research.google.com/assets/colab-badge.svg\" alt=\"Open In Colab\"/></a>"
      ]
    },
    {
      "cell_type": "markdown",
      "source": [
        "# Progressive Dinner Party: Constraint Satisfaction Program"
      ],
      "metadata": {
        "id": "HWTI2q7SjtOO"
      }
    },
    {
      "cell_type": "markdown",
      "source": [
        "## Hosted Runtime"
      ],
      "metadata": {
        "id": "FWES9P1qzCh-"
      }
    },
    {
      "cell_type": "code",
      "source": [
        "!mkdir /opt/minizinc\n",
        "!wget -q https://github.com/MiniZinc/MiniZincIDE/releases/download/2.6.4/MiniZincIDE-2.6.4-bundle-linux-x86_64.tgz -P /opt/minizinc\n",
        "!tar -xf /opt/minizinc/MiniZincIDE-2.6.4-bundle-linux-x86_64.tgz -C /opt/minizinc\n",
        "!mv /opt/minizinc/MiniZincIDE-2.6.4-bundle-linux-x86_64/* /opt/minizinc\n",
        "!cp /opt/minizinc/bin/minizinc /bin\n",
        "!cp -R /opt/minizinc/share/* /usr/local/share\n",
        "%env MZN_STDLIB_DIR=/opt/minizinc/share/minizinc\n",
        "%env LD_LIBRARY_PATH=/opt/minizinc/lib:/usr/local/nvidia/lib:/usr/local/nvidia/lib64\n",
        "!pip install -q iminizinc\n",
        "%load_ext iminizinc"
      ],
      "metadata": {
        "id": "v2n1uk4lzL2G",
        "outputId": "803d6666-61b7-46cc-e750-474db6745191",
        "colab": {
          "base_uri": "https://localhost:8080/",
          "height": 104
        }
      },
      "execution_count": 1,
      "outputs": [
        {
          "output_type": "stream",
          "name": "stdout",
          "text": [
            "env: MZN_STDLIB_DIR=/opt/minizinc/share/minizinc\n",
            "env: LD_LIBRARY_PATH=/opt/minizinc/lib:/usr/local/nvidia/lib:/usr/local/nvidia/lib64\n",
            "\u001b[2K     \u001b[90m━━━━━━━━━━━━━━━━━━━━━━━━━━━━━━━━━━━━━━━━\u001b[0m \u001b[32m1.6/1.6 MB\u001b[0m \u001b[31m14.4 MB/s\u001b[0m eta \u001b[36m0:00:00\u001b[0m\n",
            "\u001b[?25h"
          ]
        },
        {
          "output_type": "display_data",
          "data": {
            "text/plain": [
              "<IPython.core.display.Javascript object>"
            ],
            "application/javascript": [
              "\"use strict\";\n",
              "\n",
              "CodeMirror.defineMode(\"text/minizinc\", function(config) {\n",
              "\n",
              "  var isOperatorChar = /[+\\-*=<>\\/]/;\n",
              "\n",
              "  var keywords = {\"array\":true,\n",
              "  \"bool\":true,\n",
              "  \"case\":true,\n",
              "  \"constraint\":true,\n",
              "  \"diff\":true,\n",
              "  \"div\":true,\n",
              "  \"else\":true,\n",
              "  \"elseif\":true,\n",
              "  \"endif\":true,\n",
              "  \"enum\":true,\n",
              "  \"false\":true,\n",
              "  \"float\":true,\n",
              "  \"function\":true,\n",
              "  \"if\":true,\n",
              "  \"in\":true,\n",
              "  \"include\":true,\n",
              "  \"int\":true,\n",
              "  \"intersect\":true,\n",
              "  \"let\":true,\n",
              "  \"list\":true,\n",
              "  \"maximize\":true,\n",
              "  \"minimize\":true,\n",
              "  \"mod\":true,\n",
              "  \"not\":true,\n",
              "  \"of\":true,\n",
              "  \"op\":true,\n",
              "  \"output\":true,\n",
              "  \"par\":true,\n",
              "  \"predicate\":true,\n",
              "  \"record\":true,\n",
              "  \"satisfy\":true,\n",
              "  \"set\":true,\n",
              "  \"solve\":true,\n",
              "  \"string\":true,\n",
              "  \"subset\":true,\n",
              "  \"superset\":true,\n",
              "  \"symdiff\":true,\n",
              "  \"test\":true,\n",
              "  \"then\":true,\n",
              "  \"true\":true,\n",
              "  \"tuple\":true,\n",
              "  \"type\":true,\n",
              "  \"union\":true,\n",
              "  \"var\":true,\n",
              "  \"where\":true,\n",
              "  \"xor\":true};\n",
              "\n",
              "  var punc = \":;,.(){}[]\";\n",
              "\n",
              "  function tokenBase(stream, state) {\n",
              "    var ch = stream.next();\n",
              "    if (ch == '\"') {\n",
              "      state.tokenize.push(tokenString);\n",
              "      return tokenString(stream, state);\n",
              "    }\n",
              "    if (/[\\d\\.]/.test(ch)) {\n",
              "      if (ch == \".\") {\n",
              "        stream.match(/^[0-9]+([eE][\\-+]?[0-9]+)?/);\n",
              "      } else if (ch == \"0\") {\n",
              "        stream.match(/^[xX][0-9a-fA-F]+/) || stream.match(/^0[0-7]+/);\n",
              "      } else {\n",
              "        stream.match(/^[0-9]*\\.?[0-9]*([eE][\\-+]?[0-9]+)?/);\n",
              "      }\n",
              "      return \"number\";\n",
              "    }\n",
              "    if (ch == \"/\") {\n",
              "      if (stream.eat(\"*\")) {\n",
              "        state.tokenize.push(tokenComment);\n",
              "        return tokenComment(stream, state);\n",
              "      }\n",
              "    }\n",
              "    if (ch == \"%\") {\n",
              "      stream.skipToEnd();\n",
              "      return \"comment\";\n",
              "    }\n",
              "    if (isOperatorChar.test(ch)) {\n",
              "      stream.eatWhile(isOperatorChar);\n",
              "      return \"operator\";\n",
              "    }\n",
              "    if (punc.indexOf(ch) > -1) {\n",
              "      return \"punctuation\";\n",
              "    }\n",
              "    stream.eatWhile(/[\\w\\$_\\xa1-\\uffff]/);\n",
              "    var cur = stream.current();\n",
              "    if (keywords.propertyIsEnumerable(cur)) {\n",
              "      return \"keyword\";\n",
              "    }\n",
              "    return \"variable\";\n",
              "  }\n",
              "\n",
              "  function tokenComment(stream, state) {\n",
              "    var maybeEnd = false, ch;\n",
              "    while (ch = stream.next()) {\n",
              "      if (ch == \"/\" && maybeEnd) {\n",
              "        state.tokenize.pop();\n",
              "        break;\n",
              "      }\n",
              "      maybeEnd = (ch == \"*\");\n",
              "    }\n",
              "    return \"comment\";\n",
              "  }\n",
              "\n",
              "  function tokenUntilClosingParen() {\n",
              "    var depth = 0;\n",
              "    return function(stream, state, prev) {\n",
              "      var inner = tokenBase(stream, state, prev);\n",
              "      console.log(\"untilClosing\",inner,stream.current());\n",
              "      if (inner == \"punctuation\") {\n",
              "        if (stream.current() == \"(\") {\n",
              "          ++depth;\n",
              "        } else if (stream.current() == \")\") {\n",
              "          if (depth == 0) {\n",
              "            stream.backUp(1)\n",
              "            state.tokenize.pop()\n",
              "            return state.tokenize[state.tokenize.length - 1](stream, state)\n",
              "          } else {\n",
              "            --depth;\n",
              "          }\n",
              "        }\n",
              "      }\n",
              "      return inner;\n",
              "    }\n",
              "  }\n",
              "\n",
              "  function tokenString(stream, state) {\n",
              "    var escaped = false, next, end = false;\n",
              "    while ((next = stream.next()) != null) {\n",
              "      if (next=='(' && escaped) {\n",
              "        state.tokenize.push(tokenUntilClosingParen());\n",
              "        return \"string\";\n",
              "      }\n",
              "      if (next == '\"' && !escaped) {end = true; break;}\n",
              "      escaped = !escaped && next == \"\\\\\";\n",
              "    }\n",
              "    if (end || !escaped)\n",
              "      state.tokenize.pop();\n",
              "    return \"string\";\n",
              "  }\n",
              "\n",
              "  return {\n",
              "    startState: function(basecolumn) {\n",
              "      return {\n",
              "        tokenize: []\n",
              "      };\n",
              "    },\n",
              "\n",
              "    token: function(stream, state) {\n",
              "      if (stream.eatSpace()) return null;\n",
              "      var style = (state.tokenize[state.tokenize.length - 1] || tokenBase)(stream, state);\n",
              "      console.log(\"token\",style);\n",
              "      return style;\n",
              "    },\n",
              "\n",
              "    blockCommentStart: \"/*\",\n",
              "    blockCommentEnd: \"*/\",\n",
              "    lineComment: \"%\"\n",
              "  };\n",
              "});\n",
              "\n",
              "CodeMirror.defineMIME(\"text/minizinc\", \"text/minizinc\");\n",
              "\n",
              "Jupyter.CodeCell.options_default.highlight_modes['magic_text/minizinc'] = {'reg':[/^%%minizinc/]} ;\n",
              "\n",
              "Jupyter.notebook.get_cells().map(function(cell){\n",
              "  if (cell.cell_type == 'code'){ cell.auto_highlight(); }\n",
              "}) ;\n"
            ]
          },
          "metadata": {}
        },
        {
          "output_type": "stream",
          "name": "stdout",
          "text": [
            "MiniZinc to FlatZinc converter, version 2.6.4, build 570825159\n",
            "Copyright (C) 2014-2022 Monash University, NICTA, Data61\n"
          ]
        }
      ]
    },
    {
      "cell_type": "markdown",
      "source": [
        "## Local Runtime"
      ],
      "metadata": {
        "id": "CWRXPboRzHPs"
      }
    },
    {
      "cell_type": "markdown",
      "source": [
        "`jupyter notebook --NotebookApp.allow_origin='https://colab.research.google.com' --port=8888 --NotebookApp.port_retries=0`"
      ],
      "metadata": {
        "id": "fuNmChDszU_0"
      }
    },
    {
      "cell_type": "markdown",
      "source": [
        "## Imports"
      ],
      "metadata": {
        "id": "27sAldKUqgPC"
      }
    },
    {
      "cell_type": "code",
      "source": [
        "import sys\n",
        "import itertools\n",
        "import numpy as np\n",
        "import pandas as pd\n",
        "import networkx as nx\n",
        "import ipywidgets as widgets\n",
        "import matplotlib.pyplot as plt"
      ],
      "metadata": {
        "id": "Yi3uS7D3pOld"
      },
      "execution_count": 2,
      "outputs": []
    },
    {
      "cell_type": "markdown",
      "source": [
        "## Formulation"
      ],
      "metadata": {
        "id": "OxK_UNBzI8qg"
      }
    },
    {
      "cell_type": "markdown",
      "source": [
        "\\begin{array}{|c|c|}\n",
        "\\hline\n",
        "N := \\{1,..,n\\}&  \\text{Set of integers from one to $n$}  \\\\[1em] \n",
        "\\hline\n",
        "t_{ij} \\in \\mathbb{N}^{3\\times N}&  \\text{Element of $j^{th}$ tour, where\n",
        "$t_{1j}$=starters node, $t_{2j}$=main node, $t_{3j}$=desert node}  \\\\[1em] \n",
        "\\hline\n",
        "t^{i[J]}:=\\{t_{ij}|j=J\\},\\hspace{1em}t^{[I]j}:=\\{t_{ij}|i=I\\}&  \\text{Set of all $t_{ij}$ where one of the indices is fixed}  \\\\[1em] \n",
        "\\hline\n",
        "\\end{array}"
      ],
      "metadata": {
        "id": "J28rg-yEa4iZ"
      }
    },
    {
      "cell_type": "markdown",
      "source": [
        "\\begin{array}{|l|c|c|c|}\n",
        "\\hline\n",
        "\\textbf{Constraint} & \\textbf{Meaning} & \\textbf{Count} \\\\[2em]\n",
        "\\hline\n",
        "∀ j:\\hspace{1em} t_{1j}\\neq t_{2j}\\neq t_{3j} & \\text{Each course at a different location} & N \\\\[2em]\n",
        "\\hline\n",
        "∀ i:\\hspace{1em}∀ r \\in t^{i[N]}:\\hspace{1em} \\left|\\{x\\in t^{i[N]}|x=r\\}\\right|=3& \\text{Three tours intersect at each course} & 3N \\\\[2em]\n",
        "\\hline\n",
        "\\bigcap\\limits_{i=1}^3 t^{i[N]} = \\varnothing& \\text{Each location hosts one course} & 1 \\\\[2em]\n",
        "\\hline\n",
        "∀ p\\in N, q\\in N, q<p: \\hspace{1em} \\left|t^{i[p]} \\cap t^{i[q]}\\right| \\leq 1& \\text{Two tours intersect at most once} & N^2-N \\\\[2em]\n",
        "\\hline\n",
        "\\end{array}"
      ],
      "metadata": {
        "id": "-IB3PgAmccuS"
      }
    },
    {
      "cell_type": "markdown",
      "source": [
        "## Data"
      ],
      "metadata": {
        "id": "XW2AURgzIavl"
      }
    },
    {
      "cell_type": "code",
      "source": [
        "w_size = widgets.IntText(description='Size', orientation='horizontal', value=9, min=9)\n",
        "w_cluster = widgets.IntText(description='Clusters', orientation='horizontal', value=1, min=1)\n",
        "w_deviation = widgets.FloatText(description='Deviation', orientation='horizontal', value=0.1, min=0)\n",
        "w_scale = widgets.IntText(description='Scaling', orientation='horizontal', value=1)\n",
        "display(widgets.Box([w_size, w_cluster,w_deviation, w_scale], layout=widgets.Layout(display='flex', flex_flow='row')))"
      ],
      "metadata": {
        "id": "ZbMtrzssIR8r",
        "outputId": "e72ef0cf-06ae-47ea-a7cd-e554820d6314",
        "colab": {
          "base_uri": "https://localhost:8080/",
          "height": 49,
          "referenced_widgets": [
            "973955369b434f5ca6b12eff1d048cd9",
            "94910b6c74c74527ba05653e685e2c85",
            "dd02a400dea64fb8bec4c72825b478f2",
            "aa129350096548bcb1113743d15c4608",
            "da8165eaf2c44900bfc94fc9c97b1e7c",
            "d491fced424542a5a7adcf8e485962c8",
            "eaed74e6d5e845b7bca1ef935c014abc",
            "c09cab9b34cf46a5bbe674baa1da293f",
            "94827d85c2d040e9917505fae7a3d44a",
            "447f770920ee40e9b404114372633ce3",
            "f284c4ea5c344ae39020b4f69a81f43d",
            "9ef1e707ab384fb5a470c943dc666266",
            "7b592b6c0f714938b466a23f7aac15f5",
            "945a37ae018e4f569330a4a0635d4fa8"
          ]
        }
      },
      "execution_count": 3,
      "outputs": [
        {
          "output_type": "display_data",
          "data": {
            "text/plain": [
              "Box(children=(IntText(value=9, description='Size'), IntText(value=1, description='Clusters'), FloatText(value=…"
            ],
            "application/vnd.jupyter.widget-view+json": {
              "version_major": 2,
              "version_minor": 0,
              "model_id": "973955369b434f5ca6b12eff1d048cd9"
            }
          },
          "metadata": {}
        }
      ]
    },
    {
      "cell_type": "code",
      "source": [
        "rng = np.random.default_rng()\n",
        "\n",
        "n = w_size.value\n",
        "K = w_cluster.value\n",
        "σ = w_deviation.value\n",
        "λ = w_scale.value\n",
        "\n",
        "assert n >= 9\n",
        "assert K > 0\n",
        "assert n % K == 0\n",
        "assert n % 3 == 0\n",
        "assert σ >= 0\n",
        "assert λ > 0\n",
        "\n",
        "points = {}\n",
        "centers = rng.uniform(-1, 1, (K, 2))\n",
        "for i in range(K):\n",
        "\tpoints[str(centers[i])] = λ * rng.normal(centers[i], σ, (n // K, 2))\n",
        "\n",
        "X = np.array(list(points.values())).reshape(n, 2)[:,0]\n",
        "Y = np.array(list(points.values())).reshape(n, 2)[:,1]\n",
        "\n",
        "G = nx.DiGraph()\n",
        "for i in range(n):\n",
        "\tG.add_node(i, x = X[i], y = Y[i])\n",
        "\n",
        "C = np.empty((n,n))\n",
        "for a,b in itertools.product(range(n), range(n)):\n",
        "\tdX = (X[b]-X[a]) * (X[b]-X[a])\n",
        "\tdY = (Y[b]-Y[a]) * (Y[b]-Y[a])\n",
        "\tC[a,b] = np.sqrt(dX + dY)\n",
        "\n",
        "plt.scatter(X,Y)\n",
        "plt.show()"
      ],
      "metadata": {
        "id": "kQ8rb5aVHAZY",
        "outputId": "313401c2-6970-4dcc-c5ce-106f91bd424b",
        "colab": {
          "base_uri": "https://localhost:8080/",
          "height": 265
        }
      },
      "execution_count": 4,
      "outputs": [
        {
          "output_type": "display_data",
          "data": {
            "text/plain": [
              "<Figure size 432x288 with 1 Axes>"
            ],
            "image/png": "[encoded data removed]"
          },
          "metadata": {
            "needs_background": "light"
          }
        }
      ]
    },
    {
      "cell_type": "markdown",
      "source": [
        "## Implementation"
      ],
      "metadata": {
        "id": "jZn5QnkfaUbs"
      }
    },
    {
      "cell_type": "code",
      "source": [
        "%%minizinc -m bind\n",
        "\n",
        "include \"alldifferent.mzn\";\n",
        "include \"all_disjoint.mzn\";\n",
        "include \"count.mzn\";\n",
        "\n",
        "int: n;\n",
        "set of int: N = 1..n;\n",
        "\n",
        "array[1..3,N] of var N: t;\n",
        "\n",
        "predicate soft_disjoint_columns (var set of $$T: p, var set of $$T: q, int: m) = card(p intersect q) <= m;\n",
        "\n",
        "constraint all_disjoint([array2set(t[i,N]) | i in 1..3]);\n",
        "constraint forall (j in N) (alldifferent(t[1..3, j])) :: \"once_per_column\";\n",
        "constraint forall (i in 1..3, x in t[i,N]) (count(t[i,N], x) = 3) :: \"three_per_row\";\n",
        "constraint forall (p in N, q in 1..(p - 1)) (soft_disjoint_columns( array2set(t[1..3,p]), array2set(t[1..3,q]), 1 )) :: \"limit_encounters\";\n",
        "\n",
        "solve satisfy;"
      ],
      "metadata": {
        "id": "AQnGhfq5K-Zx"
      },
      "execution_count": 5,
      "outputs": []
    },
    {
      "cell_type": "code",
      "source": [
        "pd.DataFrame(t)"
      ],
      "metadata": {
        "id": "cANHUxbH0fGV",
        "outputId": "5a0caa6f-eecf-44db-99e9-bd78726e98ff",
        "colab": {
          "base_uri": "https://localhost:8080/",
          "height": 173
        }
      },
      "execution_count": 6,
      "outputs": [
        {
          "output_type": "execute_result",
          "data": {
            "text/plain": [
              "   0   1   2   3   4   5   6   7   8   9   ...  17  18  19  20  21  22  23  \\\n",
              "0  18  18  27  18  15  15  24  15  27  12  ...  21   6   6  21   6   3   3   \n",
              "1  16  26  16  14  23  14  16  26  14  10  ...   8   4  20   4   2  23   2   \n",
              "2  25  17  17  22  17  25  13  13  13  25  ...   7  19   5   5  22   5  19   \n",
              "\n",
              "   24  25  26  \n",
              "0  24   3  21  \n",
              "1   4  20   2  \n",
              "2   1   1   1  \n",
              "\n",
              "[3 rows x 27 columns]"
            ],
            "text/html": [
              "\n",
              "  <div id=\"df-3969089d-bd0b-4291-94e5-ed900d040507\">\n",
              "    <div class=\"colab-df-container\">\n",
              "      <div>\n",
              "<style scoped>\n",
              "    .dataframe tbody tr th:only-of-type {\n",
              "        vertical-align: middle;\n",
              "    }\n",
              "\n",
              "    .dataframe tbody tr th {\n",
              "        vertical-align: top;\n",
              "    }\n",
              "\n",
              "    .dataframe thead th {\n",
              "        text-align: right;\n",
              "    }\n",
              "</style>\n",
              "<table border=\"1\" class=\"dataframe\">\n",
              "  <thead>\n",
              "    <tr style=\"text-align: right;\">\n",
              "      <th></th>\n",
              "      <th>0</th>\n",
              "      <th>1</th>\n",
              "      <th>2</th>\n",
              "      <th>3</th>\n",
              "      <th>4</th>\n",
              "      <th>5</th>\n",
              "      <th>6</th>\n",
              "      <th>7</th>\n",
              "      <th>8</th>\n",
              "      <th>9</th>\n",
              "      <th>...</th>\n",
              "      <th>17</th>\n",
              "      <th>18</th>\n",
              "      <th>19</th>\n",
              "      <th>20</th>\n",
              "      <th>21</th>\n",
              "      <th>22</th>\n",
              "      <th>23</th>\n",
              "      <th>24</th>\n",
              "      <th>25</th>\n",
              "      <th>26</th>\n",
              "    </tr>\n",
              "  </thead>\n",
              "  <tbody>\n",
              "    <tr>\n",
              "      <th>0</th>\n",
              "      <td>18</td>\n",
              "      <td>18</td>\n",
              "      <td>27</td>\n",
              "      <td>18</td>\n",
              "      <td>15</td>\n",
              "      <td>15</td>\n",
              "      <td>24</td>\n",
              "      <td>15</td>\n",
              "      <td>27</td>\n",
              "      <td>12</td>\n",
              "      <td>...</td>\n",
              "      <td>21</td>\n",
              "      <td>6</td>\n",
              "      <td>6</td>\n",
              "      <td>21</td>\n",
              "      <td>6</td>\n",
              "      <td>3</td>\n",
              "      <td>3</td>\n",
              "      <td>24</td>\n",
              "      <td>3</td>\n",
              "      <td>21</td>\n",
              "    </tr>\n",
              "    <tr>\n",
              "      <th>1</th>\n",
              "      <td>16</td>\n",
              "      <td>26</td>\n",
              "      <td>16</td>\n",
              "      <td>14</td>\n",
              "      <td>23</td>\n",
              "      <td>14</td>\n",
              "      <td>16</td>\n",
              "      <td>26</td>\n",
              "      <td>14</td>\n",
              "      <td>10</td>\n",
              "      <td>...</td>\n",
              "      <td>8</td>\n",
              "      <td>4</td>\n",
              "      <td>20</td>\n",
              "      <td>4</td>\n",
              "      <td>2</td>\n",
              "      <td>23</td>\n",
              "      <td>2</td>\n",
              "      <td>4</td>\n",
              "      <td>20</td>\n",
              "      <td>2</td>\n",
              "    </tr>\n",
              "    <tr>\n",
              "      <th>2</th>\n",
              "      <td>25</td>\n",
              "      <td>17</td>\n",
              "      <td>17</td>\n",
              "      <td>22</td>\n",
              "      <td>17</td>\n",
              "      <td>25</td>\n",
              "      <td>13</td>\n",
              "      <td>13</td>\n",
              "      <td>13</td>\n",
              "      <td>25</td>\n",
              "      <td>...</td>\n",
              "      <td>7</td>\n",
              "      <td>19</td>\n",
              "      <td>5</td>\n",
              "      <td>5</td>\n",
              "      <td>22</td>\n",
              "      <td>5</td>\n",
              "      <td>19</td>\n",
              "      <td>1</td>\n",
              "      <td>1</td>\n",
              "      <td>1</td>\n",
              "    </tr>\n",
              "  </tbody>\n",
              "</table>\n",
              "<p>3 rows × 27 columns</p>\n",
              "</div>\n",
              "      <button class=\"colab-df-convert\" onclick=\"convertToInteractive('df-3969089d-bd0b-4291-94e5-ed900d040507')\"\n",
              "              title=\"Convert this dataframe to an interactive table.\"\n",
              "              style=\"display:none;\">\n",
              "        \n",
              "  <svg xmlns=\"http://www.w3.org/2000/svg\" height=\"24px\"viewBox=\"0 0 24 24\"\n",
              "       width=\"24px\">\n",
              "    <path d=\"M0 0h24v24H0V0z\" fill=\"none\"/>\n",
              "    <path d=\"M18.56 5.44l.94 2.06.94-2.06 2.06-.94-2.06-.94-.94-2.06-.94 2.06-2.06.94zm-11 1L8.5 8.5l.94-2.06 2.06-.94-2.06-.94L8.5 2.5l-.94 2.06-2.06.94zm10 10l.94 2.06.94-2.06 2.06-.94-2.06-.94-.94-2.06-.94 2.06-2.06.94z\"/><path d=\"M17.41 7.96l-1.37-1.37c-.4-.4-.92-.59-1.43-.59-.52 0-1.04.2-1.43.59L10.3 9.45l-7.72 7.72c-.78.78-.78 2.05 0 2.83L4 21.41c.39.39.9.59 1.41.59.51 0 1.02-.2 1.41-.59l7.78-7.78 2.81-2.81c.8-.78.8-2.07 0-2.86zM5.41 20L4 18.59l7.72-7.72 1.47 1.35L5.41 20z\"/>\n",
              "  </svg>\n",
              "      </button>\n",
              "      \n",
              "  <style>\n",
              "    .colab-df-container {\n",
              "      display:flex;\n",
              "      flex-wrap:wrap;\n",
              "      gap: 12px;\n",
              "    }\n",
              "\n",
              "    .colab-df-convert {\n",
              "      background-color: #E8F0FE;\n",
              "      border: none;\n",
              "      border-radius: 50%;\n",
              "      cursor: pointer;\n",
              "      display: none;\n",
              "      fill: #1967D2;\n",
              "      height: 32px;\n",
              "      padding: 0 0 0 0;\n",
              "      width: 32px;\n",
              "    }\n",
              "\n",
              "    .colab-df-convert:hover {\n",
              "      background-color: #E2EBFA;\n",
              "      box-shadow: 0px 1px 2px rgba(60, 64, 67, 0.3), 0px 1px 3px 1px rgba(60, 64, 67, 0.15);\n",
              "      fill: #174EA6;\n",
              "    }\n",
              "\n",
              "    [theme=dark] .colab-df-convert {\n",
              "      background-color: #3B4455;\n",
              "      fill: #D2E3FC;\n",
              "    }\n",
              "\n",
              "    [theme=dark] .colab-df-convert:hover {\n",
              "      background-color: #434B5C;\n",
              "      box-shadow: 0px 1px 3px 1px rgba(0, 0, 0, 0.15);\n",
              "      filter: drop-shadow(0px 1px 2px rgba(0, 0, 0, 0.3));\n",
              "      fill: #FFFFFF;\n",
              "    }\n",
              "  </style>\n",
              "\n",
              "      <script>\n",
              "        const buttonEl =\n",
              "          document.querySelector('#df-3969089d-bd0b-4291-94e5-ed900d040507 button.colab-df-convert');\n",
              "        buttonEl.style.display =\n",
              "          google.colab.kernel.accessAllowed ? 'block' : 'none';\n",
              "\n",
              "        async function convertToInteractive(key) {\n",
              "          const element = document.querySelector('#df-3969089d-bd0b-4291-94e5-ed900d040507');\n",
              "          const dataTable =\n",
              "            await google.colab.kernel.invokeFunction('convertToInteractive',\n",
              "                                                     [key], {});\n",
              "          if (!dataTable) return;\n",
              "\n",
              "          const docLinkHtml = 'Like what you see? Visit the ' +\n",
              "            '<a target=\"_blank\" href=https://colab.research.google.com/notebooks/data_table.ipynb>data table notebook</a>'\n",
              "            + ' to learn more about interactive tables.';\n",
              "          element.innerHTML = '';\n",
              "          dataTable['output_type'] = 'display_data';\n",
              "          await google.colab.output.renderOutput(dataTable, element);\n",
              "          const docLink = document.createElement('div');\n",
              "          docLink.innerHTML = docLinkHtml;\n",
              "          element.appendChild(docLink);\n",
              "        }\n",
              "      </script>\n",
              "    </div>\n",
              "  </div>\n",
              "  "
            ]
          },
          "metadata": {},
          "execution_count": 6
        }
      ]
    },
    {
      "cell_type": "code",
      "source": [
        "def objective(𝚷: list, T: np.array, C: np.array):\n",
        "  N = len(C)\n",
        "  \n",
        "  S = T[0,:]\n",
        "  M = T[1,:]\n",
        "  D = T[2,:]\n",
        "\n",
        "  p_S = [𝚷[T[0,i]-1] for i in range(N)]\n",
        "  p_M = [𝚷[T[1,i]-1] for i in range(N)]\n",
        "  p_D = [𝚷[T[2,i]-1] for i in range(N)]\n",
        "\n",
        "  return sum([C[p_S[i],p_M[i]] + C[p_M[i],p_D[i]] for i in range(N)])"
      ],
      "metadata": {
        "id": "FMifTCPMOKGh"
      },
      "execution_count": 7,
      "outputs": []
    },
    {
      "cell_type": "code",
      "source": [
        "T = np.array(t)\n",
        "print(f'Current objective value: {objective(list(range(n)), T, C)}')"
      ],
      "metadata": {
        "id": "ouL7IesXGOSt",
        "outputId": "99e39072-0942-41fb-ce8b-0c2639ba2585",
        "colab": {
          "base_uri": "https://localhost:8080/"
        }
      },
      "execution_count": 8,
      "outputs": [
        {
          "output_type": "stream",
          "name": "stdout",
          "text": [
            "Current objective value: 185.1627416832246\n"
          ]
        }
      ]
    },
    {
      "cell_type": "code",
      "source": [
        "!pip install -q simanneal\n",
        "from simanneal import Annealer"
      ],
      "metadata": {
        "id": "nafRLQri119A"
      },
      "execution_count": 9,
      "outputs": []
    },
    {
      "cell_type": "code",
      "source": [
        "class Permutation(Annealer):\n",
        "  def __init__(self, state: list, C: np.array, T: np.array):\n",
        "    self.C = C\n",
        "    self.T = T\n",
        "    super(Permutation, self).__init__(state)\n",
        "  \n",
        "  def move(self):\n",
        "    a = np.random.randint(0, len(self.state) - 1)\n",
        "    b = np.random.randint(0, len(self.state) - 1)\n",
        "    self.state[a], self.state[b] = self.state[b], self.state[a]\n",
        "  \n",
        "  def energy(self):\n",
        "    energy = objective(self.state, T, C)\n",
        "    return energy"
      ],
      "metadata": {
        "id": "QYNERPAB14Nd"
      },
      "execution_count": 10,
      "outputs": []
    },
    {
      "cell_type": "code",
      "source": [
        "permutation = Permutation(list(range(n)), C, T)"
      ],
      "metadata": {
        "id": "zkviYelO3Da7"
      },
      "execution_count": 11,
      "outputs": []
    },
    {
      "cell_type": "code",
      "source": [
        "permutation.Tmax = 500\n",
        "permutation.Tmin = 0.01\n",
        "permutation.steps = 1e6\n",
        "permutation.copy_strategy = 'slice'\n",
        "permutation.updates = 10\n",
        "permutation.update = lambda step, T, E, A, I: print(f'{T:12.5f}\\t{E:12.2f}\\t{float(A or 0)*100.0:7.2f}\\t{float(I or 0)*100.0:7.2f}')"
      ],
      "metadata": {
        "id": "A4TSprxk6WFO"
      },
      "execution_count": 12,
      "outputs": []
    },
    {
      "cell_type": "code",
      "source": [
        "print(f'{\"Temperature\": >12}\\t{\"Energy\": >12}\\t{\"Accept\": >7}\\t{\"Improve\": >7}')\n",
        "𝚷, y = permutation.anneal()\n",
        "print(f'Annealed objective value: {y}')"
      ],
      "metadata": {
        "colab": {
          "base_uri": "https://localhost:8080/"
        },
        "id": "URqk3Qti3W6D",
        "outputId": "09810679-e09a-40d5-8610-84f991ebe3dc"
      },
      "execution_count": 13,
      "outputs": [
        {
          "output_type": "stream",
          "name": "stdout",
          "text": [
            " Temperature\t      Energy\t Accept\tImprove\n",
            "   500.00000\t      185.16\t   0.00\t   0.00\n",
            "   169.46226\t      207.41\t  99.03\t  47.38\n",
            "    57.43492\t      195.25\t  97.07\t  46.50\n",
            "    19.46610\t      179.29\t  91.12\t  43.45\n",
            "     6.59754\t      199.58\t  75.95\t  35.80\n",
            "     2.23607\t      125.71\t  47.68\t  21.56\n",
            "     0.75786\t      113.91\t  26.44\t  11.00\n",
            "     0.25686\t      103.80\t  12.28\t   4.01\n",
            "     0.08706\t      102.22\t   7.18\t   1.44\n",
            "     0.02951\t      101.56\t   5.58\t   0.57\n",
            "     0.01000\t      101.51\t   4.89\t   0.35\n",
            "Annealed objective value: 101.47165481101896\n"
          ]
        }
      ]
    },
    {
      "cell_type": "markdown",
      "source": [
        "## Results"
      ],
      "metadata": {
        "id": "yIUwafUbalm1"
      }
    },
    {
      "cell_type": "code",
      "source": [
        "def draw_graph(nodes: dict, edges: list):\n",
        "\tG = nx.DiGraph()\n",
        "\tG.add_nodes_from(nodes)\n",
        "\tG.add_edges_from(edges)\n",
        "\tpos = {k: list(v.values()) for k, v in nodes.items()}\n",
        "\tedge_colors = nx.get_edge_attributes(G,'color').values()\n",
        "\tnode_colors = np.array(list(dict(G.in_degree(G.nodes)).values())) - np.array(list(dict(G.out_degree(G.nodes)).values()))\n",
        "  \n",
        "\n",
        "\tnx.draw(\n",
        "\t\t\tG, pos,\n",
        "\t\t\tedge_color = edge_colors,\n",
        "\t\t\tedge_cmap = plt.cm.get_cmap('Set3'),\n",
        "\t\t\tnode_color = node_colors,\n",
        "\t\t\twidth=3, node_size=50, connectionstyle='arc3,rad=0.1')\n",
        "\tplt.show()"
      ],
      "metadata": {
        "id": "ap5AWyabn-Sx"
      },
      "execution_count": 14,
      "outputs": []
    },
    {
      "cell_type": "markdown",
      "source": [
        "Base Solution"
      ],
      "metadata": {
        "id": "1sprrhjhttPi"
      }
    },
    {
      "cell_type": "code",
      "source": [
        "nodes = dict(G.nodes(data=True))\n",
        "edges = []\n",
        "for m in range(n):\n",
        "    edges.append((T[0,m]-1, T[1,m]-1, {'color':m}))\n",
        "    edges.append((T[1,m]-1, T[2,m]-1, {'color':m}))\n",
        "node_colors = np.array(list(dict(G.in_degree(G.nodes)).values()))-np.array(list(dict(G.out_degree(G.nodes)).values()))\n",
        "draw_graph(nodes, edges)"
      ],
      "metadata": {
        "id": "YP1gHDHJtzbq",
        "outputId": "228377ad-0d51-4226-bd86-a8a7c917e1be",
        "colab": {
          "base_uri": "https://localhost:8080/",
          "height": 319
        }
      },
      "execution_count": 15,
      "outputs": [
        {
          "output_type": "display_data",
          "data": {
            "text/plain": [
              "<Figure size 432x288 with 1 Axes>"
            ],
            "image/png": "[encoded data removed]"
          },
          "metadata": {}
        }
      ]
    },
    {
      "cell_type": "markdown",
      "source": [
        "Annealed Base Solution"
      ],
      "metadata": {
        "id": "YoFHtcP4tv95"
      }
    },
    {
      "cell_type": "code",
      "source": [
        "nodes = dict(G.nodes(data=True))\n",
        "edges = []\n",
        "for m in range(n):\n",
        "    edges.append((𝚷[T[0,m]-1], 𝚷[T[1,m]-1], {'color':m}))\n",
        "    edges.append((𝚷[T[1,m]-1], 𝚷[T[2,m]-1], {'color':m}))\n",
        "node_colors = np.array(list(dict(G.in_degree(G.nodes)).values()))-np.array(list(dict(G.out_degree(G.nodes)).values()))\n",
        "draw_graph(nodes, edges)"
      ],
      "metadata": {
        "id": "KBgCJYlN2k7L",
        "outputId": "b91a2f0c-ce55-4361-f57a-ad86a931ab81",
        "colab": {
          "base_uri": "https://localhost:8080/",
          "height": 319
        }
      },
      "execution_count": 16,
      "outputs": [
        {
          "output_type": "display_data",
          "data": {
            "text/plain": [
              "<Figure size 432x288 with 1 Axes>"
            ],
            "image/png": "[encoded data removed]"
          },
          "metadata": {}
        }
      ]
    }
  ]
}