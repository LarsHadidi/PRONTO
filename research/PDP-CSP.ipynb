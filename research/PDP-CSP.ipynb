{
  "nbformat": 4,
  "nbformat_minor": 0,
  "metadata": {
    "colab": {
      "provenance": [],
      "include_colab_link": true
    },
    "kernelspec": {
      "name": "python3",
      "display_name": "Python 3"
    },
    "language_info": {
      "name": "python"
    },
    "widgets": {
      "application/vnd.jupyter.widget-state+json": {
        "9718020a20df4dfea55323c59db2ea62": {
          "model_module": "@jupyter-widgets/controls",
          "model_name": "BoxModel",
          "model_module_version": "1.5.0",
          "state": {
            "_dom_classes": [],
            "_model_module": "@jupyter-widgets/controls",
            "_model_module_version": "1.5.0",
            "_model_name": "BoxModel",
            "_view_count": null,
            "_view_module": "@jupyter-widgets/controls",
            "_view_module_version": "1.5.0",
            "_view_name": "BoxView",
            "box_style": "",
            "children": [
              "IPY_MODEL_0fd603e783f54166bb28f0f2bcb7998b",
              "IPY_MODEL_15dea53517e041b7ba1b31017c531f2a",
              "IPY_MODEL_0a6d60829f1b44108d0dafeb08916ddc",
              "IPY_MODEL_437a4f17fed947e2bb394ec05506669e"
            ],
            "layout": "IPY_MODEL_ad666354356445a88320db3ba140dca5"
          }
        },
        "0fd603e783f54166bb28f0f2bcb7998b": {
          "model_module": "@jupyter-widgets/controls",
          "model_name": "IntTextModel",
          "model_module_version": "1.5.0",
          "state": {
            "_dom_classes": [],
            "_model_module": "@jupyter-widgets/controls",
            "_model_module_version": "1.5.0",
            "_model_name": "IntTextModel",
            "_view_count": null,
            "_view_module": "@jupyter-widgets/controls",
            "_view_module_version": "1.5.0",
            "_view_name": "IntTextView",
            "continuous_update": false,
            "description": "Size",
            "description_tooltip": null,
            "disabled": false,
            "layout": "IPY_MODEL_5ccb2f9eb4d146c69fa51734cfc1bff1",
            "step": 1,
            "style": "IPY_MODEL_97b4d2723bbb45d7b7fe9cc9948e59e5",
            "value": 9
          }
        },
        "15dea53517e041b7ba1b31017c531f2a": {
          "model_module": "@jupyter-widgets/controls",
          "model_name": "IntTextModel",
          "model_module_version": "1.5.0",
          "state": {
            "_dom_classes": [],
            "_model_module": "@jupyter-widgets/controls",
            "_model_module_version": "1.5.0",
            "_model_name": "IntTextModel",
            "_view_count": null,
            "_view_module": "@jupyter-widgets/controls",
            "_view_module_version": "1.5.0",
            "_view_name": "IntTextView",
            "continuous_update": false,
            "description": "Clusters",
            "description_tooltip": null,
            "disabled": false,
            "layout": "IPY_MODEL_166c1d80271b4b5fae0f9915b3fa73a5",
            "step": 1,
            "style": "IPY_MODEL_68003914941c46128d26309e5f8b043b",
            "value": 1
          }
        },
        "0a6d60829f1b44108d0dafeb08916ddc": {
          "model_module": "@jupyter-widgets/controls",
          "model_name": "FloatTextModel",
          "model_module_version": "1.5.0",
          "state": {
            "_dom_classes": [],
            "_model_module": "@jupyter-widgets/controls",
            "_model_module_version": "1.5.0",
            "_model_name": "FloatTextModel",
            "_view_count": null,
            "_view_module": "@jupyter-widgets/controls",
            "_view_module_version": "1.5.0",
            "_view_name": "FloatTextView",
            "continuous_update": false,
            "description": "Deviation",
            "description_tooltip": null,
            "disabled": false,
            "layout": "IPY_MODEL_f8e5d7378fdc4ae89fcb86ae9d2a23ae",
            "step": null,
            "style": "IPY_MODEL_2b0c2520560d48039d9d3409b7438441",
            "value": 0.1
          }
        },
        "437a4f17fed947e2bb394ec05506669e": {
          "model_module": "@jupyter-widgets/controls",
          "model_name": "IntTextModel",
          "model_module_version": "1.5.0",
          "state": {
            "_dom_classes": [],
            "_model_module": "@jupyter-widgets/controls",
            "_model_module_version": "1.5.0",
            "_model_name": "IntTextModel",
            "_view_count": null,
            "_view_module": "@jupyter-widgets/controls",
            "_view_module_version": "1.5.0",
            "_view_name": "IntTextView",
            "continuous_update": false,
            "description": "Scaling",
            "description_tooltip": null,
            "disabled": false,
            "layout": "IPY_MODEL_f9f2346cdd284313890835fc39ec3650",
            "step": 1,
            "style": "IPY_MODEL_7f79bf9bd3a046d2a62816f60300d3ec",
            "value": 1
          }
        },
        "ad666354356445a88320db3ba140dca5": {
          "model_module": "@jupyter-widgets/base",
          "model_name": "LayoutModel",
          "model_module_version": "1.2.0",
          "state": {
            "_model_module": "@jupyter-widgets/base",
            "_model_module_version": "1.2.0",
            "_model_name": "LayoutModel",
            "_view_count": null,
            "_view_module": "@jupyter-widgets/base",
            "_view_module_version": "1.2.0",
            "_view_name": "LayoutView",
            "align_content": null,
            "align_items": null,
            "align_self": null,
            "border": null,
            "bottom": null,
            "display": "flex",
            "flex": null,
            "flex_flow": "row",
            "grid_area": null,
            "grid_auto_columns": null,
            "grid_auto_flow": null,
            "grid_auto_rows": null,
            "grid_column": null,
            "grid_gap": null,
            "grid_row": null,
            "grid_template_areas": null,
            "grid_template_columns": null,
            "grid_template_rows": null,
            "height": null,
            "justify_content": null,
            "justify_items": null,
            "left": null,
            "margin": null,
            "max_height": null,
            "max_width": null,
            "min_height": null,
            "min_width": null,
            "object_fit": null,
            "object_position": null,
            "order": null,
            "overflow": null,
            "overflow_x": null,
            "overflow_y": null,
            "padding": null,
            "right": null,
            "top": null,
            "visibility": null,
            "width": null
          }
        },
        "5ccb2f9eb4d146c69fa51734cfc1bff1": {
          "model_module": "@jupyter-widgets/base",
          "model_name": "LayoutModel",
          "model_module_version": "1.2.0",
          "state": {
            "_model_module": "@jupyter-widgets/base",
            "_model_module_version": "1.2.0",
            "_model_name": "LayoutModel",
            "_view_count": null,
            "_view_module": "@jupyter-widgets/base",
            "_view_module_version": "1.2.0",
            "_view_name": "LayoutView",
            "align_content": null,
            "align_items": null,
            "align_self": null,
            "border": null,
            "bottom": null,
            "display": null,
            "flex": null,
            "flex_flow": null,
            "grid_area": null,
            "grid_auto_columns": null,
            "grid_auto_flow": null,
            "grid_auto_rows": null,
            "grid_column": null,
            "grid_gap": null,
            "grid_row": null,
            "grid_template_areas": null,
            "grid_template_columns": null,
            "grid_template_rows": null,
            "height": null,
            "justify_content": null,
            "justify_items": null,
            "left": null,
            "margin": null,
            "max_height": null,
            "max_width": null,
            "min_height": null,
            "min_width": null,
            "object_fit": null,
            "object_position": null,
            "order": null,
            "overflow": null,
            "overflow_x": null,
            "overflow_y": null,
            "padding": null,
            "right": null,
            "top": null,
            "visibility": null,
            "width": null
          }
        },
        "97b4d2723bbb45d7b7fe9cc9948e59e5": {
          "model_module": "@jupyter-widgets/controls",
          "model_name": "DescriptionStyleModel",
          "model_module_version": "1.5.0",
          "state": {
            "_model_module": "@jupyter-widgets/controls",
            "_model_module_version": "1.5.0",
            "_model_name": "DescriptionStyleModel",
            "_view_count": null,
            "_view_module": "@jupyter-widgets/base",
            "_view_module_version": "1.2.0",
            "_view_name": "StyleView",
            "description_width": ""
          }
        },
        "166c1d80271b4b5fae0f9915b3fa73a5": {
          "model_module": "@jupyter-widgets/base",
          "model_name": "LayoutModel",
          "model_module_version": "1.2.0",
          "state": {
            "_model_module": "@jupyter-widgets/base",
            "_model_module_version": "1.2.0",
            "_model_name": "LayoutModel",
            "_view_count": null,
            "_view_module": "@jupyter-widgets/base",
            "_view_module_version": "1.2.0",
            "_view_name": "LayoutView",
            "align_content": null,
            "align_items": null,
            "align_self": null,
            "border": null,
            "bottom": null,
            "display": null,
            "flex": null,
            "flex_flow": null,
            "grid_area": null,
            "grid_auto_columns": null,
            "grid_auto_flow": null,
            "grid_auto_rows": null,
            "grid_column": null,
            "grid_gap": null,
            "grid_row": null,
            "grid_template_areas": null,
            "grid_template_columns": null,
            "grid_template_rows": null,
            "height": null,
            "justify_content": null,
            "justify_items": null,
            "left": null,
            "margin": null,
            "max_height": null,
            "max_width": null,
            "min_height": null,
            "min_width": null,
            "object_fit": null,
            "object_position": null,
            "order": null,
            "overflow": null,
            "overflow_x": null,
            "overflow_y": null,
            "padding": null,
            "right": null,
            "top": null,
            "visibility": null,
            "width": null
          }
        },
        "68003914941c46128d26309e5f8b043b": {
          "model_module": "@jupyter-widgets/controls",
          "model_name": "DescriptionStyleModel",
          "model_module_version": "1.5.0",
          "state": {
            "_model_module": "@jupyter-widgets/controls",
            "_model_module_version": "1.5.0",
            "_model_name": "DescriptionStyleModel",
            "_view_count": null,
            "_view_module": "@jupyter-widgets/base",
            "_view_module_version": "1.2.0",
            "_view_name": "StyleView",
            "description_width": ""
          }
        },
        "f8e5d7378fdc4ae89fcb86ae9d2a23ae": {
          "model_module": "@jupyter-widgets/base",
          "model_name": "LayoutModel",
          "model_module_version": "1.2.0",
          "state": {
            "_model_module": "@jupyter-widgets/base",
            "_model_module_version": "1.2.0",
            "_model_name": "LayoutModel",
            "_view_count": null,
            "_view_module": "@jupyter-widgets/base",
            "_view_module_version": "1.2.0",
            "_view_name": "LayoutView",
            "align_content": null,
            "align_items": null,
            "align_self": null,
            "border": null,
            "bottom": null,
            "display": null,
            "flex": null,
            "flex_flow": null,
            "grid_area": null,
            "grid_auto_columns": null,
            "grid_auto_flow": null,
            "grid_auto_rows": null,
            "grid_column": null,
            "grid_gap": null,
            "grid_row": null,
            "grid_template_areas": null,
            "grid_template_columns": null,
            "grid_template_rows": null,
            "height": null,
            "justify_content": null,
            "justify_items": null,
            "left": null,
            "margin": null,
            "max_height": null,
            "max_width": null,
            "min_height": null,
            "min_width": null,
            "object_fit": null,
            "object_position": null,
            "order": null,
            "overflow": null,
            "overflow_x": null,
            "overflow_y": null,
            "padding": null,
            "right": null,
            "top": null,
            "visibility": null,
            "width": null
          }
        },
        "2b0c2520560d48039d9d3409b7438441": {
          "model_module": "@jupyter-widgets/controls",
          "model_name": "DescriptionStyleModel",
          "model_module_version": "1.5.0",
          "state": {
            "_model_module": "@jupyter-widgets/controls",
            "_model_module_version": "1.5.0",
            "_model_name": "DescriptionStyleModel",
            "_view_count": null,
            "_view_module": "@jupyter-widgets/base",
            "_view_module_version": "1.2.0",
            "_view_name": "StyleView",
            "description_width": ""
          }
        },
        "f9f2346cdd284313890835fc39ec3650": {
          "model_module": "@jupyter-widgets/base",
          "model_name": "LayoutModel",
          "model_module_version": "1.2.0",
          "state": {
            "_model_module": "@jupyter-widgets/base",
            "_model_module_version": "1.2.0",
            "_model_name": "LayoutModel",
            "_view_count": null,
            "_view_module": "@jupyter-widgets/base",
            "_view_module_version": "1.2.0",
            "_view_name": "LayoutView",
            "align_content": null,
            "align_items": null,
            "align_self": null,
            "border": null,
            "bottom": null,
            "display": null,
            "flex": null,
            "flex_flow": null,
            "grid_area": null,
            "grid_auto_columns": null,
            "grid_auto_flow": null,
            "grid_auto_rows": null,
            "grid_column": null,
            "grid_gap": null,
            "grid_row": null,
            "grid_template_areas": null,
            "grid_template_columns": null,
            "grid_template_rows": null,
            "height": null,
            "justify_content": null,
            "justify_items": null,
            "left": null,
            "margin": null,
            "max_height": null,
            "max_width": null,
            "min_height": null,
            "min_width": null,
            "object_fit": null,
            "object_position": null,
            "order": null,
            "overflow": null,
            "overflow_x": null,
            "overflow_y": null,
            "padding": null,
            "right": null,
            "top": null,
            "visibility": null,
            "width": null
          }
        },
        "7f79bf9bd3a046d2a62816f60300d3ec": {
          "model_module": "@jupyter-widgets/controls",
          "model_name": "DescriptionStyleModel",
          "model_module_version": "1.5.0",
          "state": {
            "_model_module": "@jupyter-widgets/controls",
            "_model_module_version": "1.5.0",
            "_model_name": "DescriptionStyleModel",
            "_view_count": null,
            "_view_module": "@jupyter-widgets/base",
            "_view_module_version": "1.2.0",
            "_view_name": "StyleView",
            "description_width": ""
          }
        }
      }
    }
  },
  "cells": [
    {
      "cell_type": "markdown",
      "metadata": {
        "id": "view-in-github",
        "colab_type": "text"
      },
      "source": [
        "<a href=\"https://colab.research.google.com/github/LarsHadidi/PRONTO/blob/mathprogram/PDP-CSP.ipynb\" target=\"_parent\"><img src=\"https://colab.research.google.com/assets/colab-badge.svg\" alt=\"Open In Colab\"/></a>"
      ]
    },
    {
      "cell_type": "markdown",
      "source": [
        "# Progressive Dinner Party: Constraint Satisfaction Program"
      ],
      "metadata": {
        "id": "HWTI2q7SjtOO"
      }
    },
    {
      "cell_type": "markdown",
      "source": [
        "## Hosted Runtime"
      ],
      "metadata": {
        "id": "FWES9P1qzCh-"
      }
    },
    {
      "cell_type": "code",
      "source": [
        "!mkdir /opt/minizinc\n",
        "!wget -q https://github.com/MiniZinc/MiniZincIDE/releases/download/2.6.4/MiniZincIDE-2.6.4-bundle-linux-x86_64.tgz -P /opt/minizinc\n",
        "!tar -xf /opt/minizinc/MiniZincIDE-2.6.4-bundle-linux-x86_64.tgz -C /opt/minizinc\n",
        "!mv /opt/minizinc/MiniZincIDE-2.6.4-bundle-linux-x86_64/* /opt/minizinc\n",
        "!cp /opt/minizinc/bin/minizinc /bin\n",
        "!cp -R /opt/minizinc/share/* /usr/local/share\n",
        "%env MZN_STDLIB_DIR=/opt/minizinc/share/minizinc\n",
        "%env LD_LIBRARY_PATH=/opt/minizinc/lib:/usr/local/nvidia/lib:/usr/local/nvidia/lib64"
      ],
      "metadata": {
        "id": "v2n1uk4lzL2G",
        "outputId": "049b491d-2744-4e07-feb1-71659f660ec8",
        "colab": {
          "base_uri": "https://localhost:8080/"
        }
      },
      "execution_count": 1,
      "outputs": [
        {
          "output_type": "stream",
          "name": "stdout",
          "text": [
            "env: MZN_STDLIB_DIR=/opt/minizinc/share/minizinc\n",
            "env: LD_LIBRARY_PATH=/opt/minizinc/lib:/usr/local/nvidia/lib:/usr/local/nvidia/lib64\n"
          ]
        }
      ]
    },
    {
      "cell_type": "code",
      "source": [
        "!pip install -q iminizinc\n",
        "%load_ext iminizinc"
      ],
      "metadata": {
        "id": "76CxYzZazwZ2",
        "outputId": "fafb1a93-826c-45f0-ff8b-5f620885123e",
        "colab": {
          "base_uri": "https://localhost:8080/",
          "height": 69
        }
      },
      "execution_count": 8,
      "outputs": [
        {
          "output_type": "stream",
          "name": "stdout",
          "text": [
            "\u001b[?25l     \u001b[90m━━━━━━━━━━━━━━━━━━━━━━━━━━━━━━━━━━━━━━━━\u001b[0m \u001b[32m0.0/1.6 MB\u001b[0m \u001b[31m?\u001b[0m eta \u001b[36m-:--:--\u001b[0m\r\u001b[2K     \u001b[91m━━━━━━━━━━━━━━━━━━━━━━━━━━━━━━━━━━━━━━━\u001b[0m\u001b[91m╸\u001b[0m \u001b[32m1.6/1.6 MB\u001b[0m \u001b[31m87.9 MB/s\u001b[0m eta \u001b[36m0:00:01\u001b[0m\r\u001b[2K     \u001b[90m━━━━━━━━━━━━━━━━━━━━━━━━━━━━━━━━━━━━━━━━\u001b[0m \u001b[32m1.6/1.6 MB\u001b[0m \u001b[31m38.5 MB/s\u001b[0m eta \u001b[36m0:00:00\u001b[0m\n",
            "\u001b[?25h"
          ]
        },
        {
          "output_type": "display_data",
          "data": {
            "text/plain": [
              "<IPython.core.display.Javascript object>"
            ],
            "application/javascript": [
              "\"use strict\";\n",
              "\n",
              "CodeMirror.defineMode(\"text/minizinc\", function(config) {\n",
              "\n",
              "  var isOperatorChar = /[+\\-*=<>\\/]/;\n",
              "\n",
              "  var keywords = {\"array\":true,\n",
              "  \"bool\":true,\n",
              "  \"case\":true,\n",
              "  \"constraint\":true,\n",
              "  \"diff\":true,\n",
              "  \"div\":true,\n",
              "  \"else\":true,\n",
              "  \"elseif\":true,\n",
              "  \"endif\":true,\n",
              "  \"enum\":true,\n",
              "  \"false\":true,\n",
              "  \"float\":true,\n",
              "  \"function\":true,\n",
              "  \"if\":true,\n",
              "  \"in\":true,\n",
              "  \"include\":true,\n",
              "  \"int\":true,\n",
              "  \"intersect\":true,\n",
              "  \"let\":true,\n",
              "  \"list\":true,\n",
              "  \"maximize\":true,\n",
              "  \"minimize\":true,\n",
              "  \"mod\":true,\n",
              "  \"not\":true,\n",
              "  \"of\":true,\n",
              "  \"op\":true,\n",
              "  \"output\":true,\n",
              "  \"par\":true,\n",
              "  \"predicate\":true,\n",
              "  \"record\":true,\n",
              "  \"satisfy\":true,\n",
              "  \"set\":true,\n",
              "  \"solve\":true,\n",
              "  \"string\":true,\n",
              "  \"subset\":true,\n",
              "  \"superset\":true,\n",
              "  \"symdiff\":true,\n",
              "  \"test\":true,\n",
              "  \"then\":true,\n",
              "  \"true\":true,\n",
              "  \"tuple\":true,\n",
              "  \"type\":true,\n",
              "  \"union\":true,\n",
              "  \"var\":true,\n",
              "  \"where\":true,\n",
              "  \"xor\":true};\n",
              "\n",
              "  var punc = \":;,.(){}[]\";\n",
              "\n",
              "  function tokenBase(stream, state) {\n",
              "    var ch = stream.next();\n",
              "    if (ch == '\"') {\n",
              "      state.tokenize.push(tokenString);\n",
              "      return tokenString(stream, state);\n",
              "    }\n",
              "    if (/[\\d\\.]/.test(ch)) {\n",
              "      if (ch == \".\") {\n",
              "        stream.match(/^[0-9]+([eE][\\-+]?[0-9]+)?/);\n",
              "      } else if (ch == \"0\") {\n",
              "        stream.match(/^[xX][0-9a-fA-F]+/) || stream.match(/^0[0-7]+/);\n",
              "      } else {\n",
              "        stream.match(/^[0-9]*\\.?[0-9]*([eE][\\-+]?[0-9]+)?/);\n",
              "      }\n",
              "      return \"number\";\n",
              "    }\n",
              "    if (ch == \"/\") {\n",
              "      if (stream.eat(\"*\")) {\n",
              "        state.tokenize.push(tokenComment);\n",
              "        return tokenComment(stream, state);\n",
              "      }\n",
              "    }\n",
              "    if (ch == \"%\") {\n",
              "      stream.skipToEnd();\n",
              "      return \"comment\";\n",
              "    }\n",
              "    if (isOperatorChar.test(ch)) {\n",
              "      stream.eatWhile(isOperatorChar);\n",
              "      return \"operator\";\n",
              "    }\n",
              "    if (punc.indexOf(ch) > -1) {\n",
              "      return \"punctuation\";\n",
              "    }\n",
              "    stream.eatWhile(/[\\w\\$_\\xa1-\\uffff]/);\n",
              "    var cur = stream.current();\n",
              "    if (keywords.propertyIsEnumerable(cur)) {\n",
              "      return \"keyword\";\n",
              "    }\n",
              "    return \"variable\";\n",
              "  }\n",
              "\n",
              "  function tokenComment(stream, state) {\n",
              "    var maybeEnd = false, ch;\n",
              "    while (ch = stream.next()) {\n",
              "      if (ch == \"/\" && maybeEnd) {\n",
              "        state.tokenize.pop();\n",
              "        break;\n",
              "      }\n",
              "      maybeEnd = (ch == \"*\");\n",
              "    }\n",
              "    return \"comment\";\n",
              "  }\n",
              "\n",
              "  function tokenUntilClosingParen() {\n",
              "    var depth = 0;\n",
              "    return function(stream, state, prev) {\n",
              "      var inner = tokenBase(stream, state, prev);\n",
              "      console.log(\"untilClosing\",inner,stream.current());\n",
              "      if (inner == \"punctuation\") {\n",
              "        if (stream.current() == \"(\") {\n",
              "          ++depth;\n",
              "        } else if (stream.current() == \")\") {\n",
              "          if (depth == 0) {\n",
              "            stream.backUp(1)\n",
              "            state.tokenize.pop()\n",
              "            return state.tokenize[state.tokenize.length - 1](stream, state)\n",
              "          } else {\n",
              "            --depth;\n",
              "          }\n",
              "        }\n",
              "      }\n",
              "      return inner;\n",
              "    }\n",
              "  }\n",
              "\n",
              "  function tokenString(stream, state) {\n",
              "    var escaped = false, next, end = false;\n",
              "    while ((next = stream.next()) != null) {\n",
              "      if (next=='(' && escaped) {\n",
              "        state.tokenize.push(tokenUntilClosingParen());\n",
              "        return \"string\";\n",
              "      }\n",
              "      if (next == '\"' && !escaped) {end = true; break;}\n",
              "      escaped = !escaped && next == \"\\\\\";\n",
              "    }\n",
              "    if (end || !escaped)\n",
              "      state.tokenize.pop();\n",
              "    return \"string\";\n",
              "  }\n",
              "\n",
              "  return {\n",
              "    startState: function(basecolumn) {\n",
              "      return {\n",
              "        tokenize: []\n",
              "      };\n",
              "    },\n",
              "\n",
              "    token: function(stream, state) {\n",
              "      if (stream.eatSpace()) return null;\n",
              "      var style = (state.tokenize[state.tokenize.length - 1] || tokenBase)(stream, state);\n",
              "      console.log(\"token\",style);\n",
              "      return style;\n",
              "    },\n",
              "\n",
              "    blockCommentStart: \"/*\",\n",
              "    blockCommentEnd: \"*/\",\n",
              "    lineComment: \"%\"\n",
              "  };\n",
              "});\n",
              "\n",
              "CodeMirror.defineMIME(\"text/minizinc\", \"text/minizinc\");\n",
              "\n",
              "Jupyter.CodeCell.options_default.highlight_modes['magic_text/minizinc'] = {'reg':[/^%%minizinc/]} ;\n",
              "\n",
              "Jupyter.notebook.get_cells().map(function(cell){\n",
              "  if (cell.cell_type == 'code'){ cell.auto_highlight(); }\n",
              "}) ;\n"
            ]
          },
          "metadata": {}
        },
        {
          "output_type": "stream",
          "name": "stdout",
          "text": [
            "MiniZinc to FlatZinc converter, version 2.6.4, build 570825159\n",
            "Copyright (C) 2014-2022 Monash University, NICTA, Data61\n"
          ]
        }
      ]
    },
    {
      "cell_type": "markdown",
      "source": [
        "## Local Runtime"
      ],
      "metadata": {
        "id": "CWRXPboRzHPs"
      }
    },
    {
      "cell_type": "markdown",
      "source": [
        "`jupyter notebook --NotebookApp.allow_origin='https://colab.research.google.com' --port=8888 --NotebookApp.port_retries=0`"
      ],
      "metadata": {
        "id": "fuNmChDszU_0"
      }
    },
    {
      "cell_type": "markdown",
      "source": [
        "## Imports"
      ],
      "metadata": {
        "id": "27sAldKUqgPC"
      }
    },
    {
      "cell_type": "code",
      "source": [
        "import itertools\n",
        "import numpy as np\n",
        "import pandas as pd\n",
        "import networkx as nx\n",
        "import ipywidgets as widgets\n",
        "import matplotlib.pyplot as plt"
      ],
      "metadata": {
        "id": "Yi3uS7D3pOld"
      },
      "execution_count": 2,
      "outputs": []
    },
    {
      "cell_type": "markdown",
      "source": [
        "## Formulation"
      ],
      "metadata": {
        "id": "OxK_UNBzI8qg"
      }
    },
    {
      "cell_type": "markdown",
      "source": [
        "\\begin{array}{|c|c|}\n",
        "\\hline\n",
        "N := \\{1,..,n\\}&  \\text{Set of integers from one to $n$}  \\\\[1em] \n",
        "\\hline\n",
        "t_{ij} \\in \\mathbb{N}^{3\\times N}&  \\text{Element of $j^{th}$ tour, where\n",
        "$t_{1j}$=starters node, $t_{2j}$=main node, $t_{3j}$=desert node}  \\\\[1em] \n",
        "\\hline\n",
        "t^{i[J]}:=\\{t_{ij}|j=J\\},\\hspace{1em}t^{[I]j}:=\\{t_{ij}|i=I\\}&  \\text{Set of all $t_{ij}$ where one of the indices is fixed}  \\\\[1em] \n",
        "\\hline\n",
        "\\end{array}"
      ],
      "metadata": {
        "id": "J28rg-yEa4iZ"
      }
    },
    {
      "cell_type": "markdown",
      "source": [
        "\\begin{array}{|l|c|c|c|}\n",
        "\\hline\n",
        "\\textbf{Constraint} & \\textbf{Meaning} & \\textbf{Count} \\\\[2em]\n",
        "\\hline\n",
        "∀ j:\\hspace{1em} t_{1j}\\neq t_{2j}\\neq t_{3j} & \\text{Each course at a different location} & N \\\\[2em]\n",
        "\\hline\n",
        "∀ i:\\hspace{1em}∀ r \\in t^{[iN]}:\\hspace{1em} \\left|\\{x\\in t^{[iN]}|x=r\\}\\right|=3& \\text{Three tours intersect at each course} & 3N \\\\[2em]\n",
        "\\hline\n",
        "t^{[1N]}\\cap t^{[2N]}\\cap t^{[3N]} = \\varnothing& \\text{Each location hosts one course} & 1 \\\\[2em]\n",
        "\\hline\n",
        "∀ p\\in N, q\\in N, q<p:\\hspace{1em} \\left|t^{i[p]} \\cap t^{i[q]}\\right| \\leq 1& \\text{Two tours intersect at most once} & N^2-N \\\\[2em]\n",
        "\\hline\n",
        "\\end{array}"
      ],
      "metadata": {
        "id": "-IB3PgAmccuS"
      }
    },
    {
      "cell_type": "markdown",
      "source": [
        "# Data"
      ],
      "metadata": {
        "id": "XW2AURgzIavl"
      }
    },
    {
      "cell_type": "code",
      "source": [
        "w_size = widgets.IntText(description='Size', orientation='horizontal', value=9, min=9)\n",
        "w_cluster = widgets.IntText(description='Clusters', orientation='horizontal', value=1, min=1)\n",
        "w_deviation = widgets.FloatText(description='Deviation', orientation='horizontal', value=0.1, min=0)\n",
        "w_scale = widgets.IntText(description='Scaling', orientation='horizontal', value=1)\n",
        "display(widgets.Box([w_size, w_cluster,w_deviation, w_scale], layout=widgets.Layout(display='flex', flex_flow='row')))"
      ],
      "metadata": {
        "id": "ZbMtrzssIR8r",
        "outputId": "906fd3c0-7414-4d03-8593-06496e90e734",
        "colab": {
          "base_uri": "https://localhost:8080/",
          "height": 49,
          "referenced_widgets": [
            "9718020a20df4dfea55323c59db2ea62",
            "0fd603e783f54166bb28f0f2bcb7998b",
            "15dea53517e041b7ba1b31017c531f2a",
            "0a6d60829f1b44108d0dafeb08916ddc",
            "437a4f17fed947e2bb394ec05506669e",
            "ad666354356445a88320db3ba140dca5",
            "5ccb2f9eb4d146c69fa51734cfc1bff1",
            "97b4d2723bbb45d7b7fe9cc9948e59e5",
            "166c1d80271b4b5fae0f9915b3fa73a5",
            "68003914941c46128d26309e5f8b043b",
            "f8e5d7378fdc4ae89fcb86ae9d2a23ae",
            "2b0c2520560d48039d9d3409b7438441",
            "f9f2346cdd284313890835fc39ec3650",
            "7f79bf9bd3a046d2a62816f60300d3ec"
          ]
        }
      },
      "execution_count": 5,
      "outputs": [
        {
          "output_type": "display_data",
          "data": {
            "text/plain": [
              "Box(children=(IntText(value=9, description='Size'), IntText(value=1, description='Clusters'), FloatText(value=…"
            ],
            "application/vnd.jupyter.widget-view+json": {
              "version_major": 2,
              "version_minor": 0,
              "model_id": "9718020a20df4dfea55323c59db2ea62"
            }
          },
          "metadata": {}
        }
      ]
    },
    {
      "cell_type": "code",
      "source": [
        "rng = np.random.default_rng()\n",
        "\n",
        "n = w_size.value\n",
        "K = w_cluster.value\n",
        "σ = w_deviation.value\n",
        "λ = w_scale.value\n",
        "\n",
        "assert n >= 9\n",
        "assert K > 0\n",
        "assert n % K == 0\n",
        "assert n % 3 == 0\n",
        "assert σ >= 0\n",
        "assert λ > 0\n",
        "\n",
        "points = {}\n",
        "centers = rng.uniform(-1, 1, (K, 2))\n",
        "for i in range(K):\n",
        "\tpoints[str(centers[i])] = λ * rng.normal(centers[i], σ, (n // K, 2))\n",
        "\n",
        "X = np.array(list(points.values())).reshape(n, 2)[:,0]\n",
        "Y = np.array(list(points.values())).reshape(n, 2)[:,1]\n",
        "\n",
        "G = nx.DiGraph()\n",
        "for i in range(n):\n",
        "\tG.add_node(i, x = X[i], y = Y[i])\n",
        "\n",
        "C = np.empty((n,n))\n",
        "for a,b in itertools.product(range(n), range(n)):\n",
        "\tdX = (X[b]-X[a]) * (X[b]-X[a])\n",
        "\tdY = (Y[b]-Y[a]) * (Y[b]-Y[a])\n",
        "\tC[a,b] = np.sqrt(dX + dY)\n",
        "\n",
        "plt.scatter(X,Y)\n",
        "plt.show()"
      ],
      "metadata": {
        "id": "kQ8rb5aVHAZY",
        "outputId": "3743df20-602f-4986-bc8c-a5598f8c76b9",
        "colab": {
          "base_uri": "https://localhost:8080/",
          "height": 265
        }
      },
      "execution_count": 6,
      "outputs": [
        {
          "output_type": "display_data",
          "data": {
            "text/plain": [
              "<Figure size 432x288 with 1 Axes>"
            ],
            "image/png": "[encoded data removed]"
          },
          "metadata": {
            "needs_background": "light"
          }
        }
      ]
    },
    {
      "cell_type": "markdown",
      "source": [
        "## Implementation"
      ],
      "metadata": {
        "id": "jZn5QnkfaUbs"
      }
    },
    {
      "cell_type": "code",
      "source": [
        "%%minizinc -m bind\n",
        "\n",
        "include \"alldifferent.mzn\";\n",
        "include \"all_disjoint.mzn\";\n",
        "include \"count.mzn\";\n",
        "\n",
        "int: n;\n",
        "set of int: N = 1..n;\n",
        "\n",
        "array[1..3,N] of var N: t;\n",
        "\n",
        "predicate soft_disjoint_columns (var set of $$T: p, var set of $$T: q, int: m) = card(p intersect q) <= m;\n",
        "\n",
        "constraint all_disjoint([array2set(t[i,N]) | i in 1..3]);\n",
        "constraint forall (j in N) (alldifferent(t[1..3, j])) :: \"once_per_column\";\n",
        "constraint forall (i in 1..3, x in t[i,N]) (count(t[i,N], x) = 3) :: \"three_per_row\";\n",
        "constraint forall (p in N, q in 1..(p - 1)) (soft_disjoint_columns( array2set(t[1..3,p]), array2set(t[1..3,q]), 1 )) :: \"limit_encounters\";\n",
        "\n",
        "solve satisfy;"
      ],
      "metadata": {
        "id": "AQnGhfq5K-Zx"
      },
      "execution_count": 9,
      "outputs": []
    },
    {
      "cell_type": "code",
      "source": [
        "pd.DataFrame(t)"
      ],
      "metadata": {
        "id": "cANHUxbH0fGV",
        "outputId": "7e82e3d6-2fea-4f9d-fb6a-3bc0dd9652e2",
        "colab": {
          "base_uri": "https://localhost:8080/",
          "height": 143
        }
      },
      "execution_count": 10,
      "outputs": [
        {
          "output_type": "execute_result",
          "data": {
            "text/plain": [
              "   0  1  2  3  4  5  6  7  8\n",
              "0  5  3  8  5  3  8  8  3  5\n",
              "1  7  4  2  4  2  7  4  7  2\n",
              "2  9  9  9  6  6  6  1  1  1"
            ],
            "text/html": [
              "\n",
              "  <div id=\"df-e6aa36dc-d9e3-4d15-a2db-326b83335bfc\">\n",
              "    <div class=\"colab-df-container\">\n",
              "      <div>\n",
              "<style scoped>\n",
              "    .dataframe tbody tr th:only-of-type {\n",
              "        vertical-align: middle;\n",
              "    }\n",
              "\n",
              "    .dataframe tbody tr th {\n",
              "        vertical-align: top;\n",
              "    }\n",
              "\n",
              "    .dataframe thead th {\n",
              "        text-align: right;\n",
              "    }\n",
              "</style>\n",
              "<table border=\"1\" class=\"dataframe\">\n",
              "  <thead>\n",
              "    <tr style=\"text-align: right;\">\n",
              "      <th></th>\n",
              "      <th>0</th>\n",
              "      <th>1</th>\n",
              "      <th>2</th>\n",
              "      <th>3</th>\n",
              "      <th>4</th>\n",
              "      <th>5</th>\n",
              "      <th>6</th>\n",
              "      <th>7</th>\n",
              "      <th>8</th>\n",
              "    </tr>\n",
              "  </thead>\n",
              "  <tbody>\n",
              "    <tr>\n",
              "      <th>0</th>\n",
              "      <td>5</td>\n",
              "      <td>3</td>\n",
              "      <td>8</td>\n",
              "      <td>5</td>\n",
              "      <td>3</td>\n",
              "      <td>8</td>\n",
              "      <td>8</td>\n",
              "      <td>3</td>\n",
              "      <td>5</td>\n",
              "    </tr>\n",
              "    <tr>\n",
              "      <th>1</th>\n",
              "      <td>7</td>\n",
              "      <td>4</td>\n",
              "      <td>2</td>\n",
              "      <td>4</td>\n",
              "      <td>2</td>\n",
              "      <td>7</td>\n",
              "      <td>4</td>\n",
              "      <td>7</td>\n",
              "      <td>2</td>\n",
              "    </tr>\n",
              "    <tr>\n",
              "      <th>2</th>\n",
              "      <td>9</td>\n",
              "      <td>9</td>\n",
              "      <td>9</td>\n",
              "      <td>6</td>\n",
              "      <td>6</td>\n",
              "      <td>6</td>\n",
              "      <td>1</td>\n",
              "      <td>1</td>\n",
              "      <td>1</td>\n",
              "    </tr>\n",
              "  </tbody>\n",
              "</table>\n",
              "</div>\n",
              "      <button class=\"colab-df-convert\" onclick=\"convertToInteractive('df-e6aa36dc-d9e3-4d15-a2db-326b83335bfc')\"\n",
              "              title=\"Convert this dataframe to an interactive table.\"\n",
              "              style=\"display:none;\">\n",
              "        \n",
              "  <svg xmlns=\"http://www.w3.org/2000/svg\" height=\"24px\"viewBox=\"0 0 24 24\"\n",
              "       width=\"24px\">\n",
              "    <path d=\"M0 0h24v24H0V0z\" fill=\"none\"/>\n",
              "    <path d=\"M18.56 5.44l.94 2.06.94-2.06 2.06-.94-2.06-.94-.94-2.06-.94 2.06-2.06.94zm-11 1L8.5 8.5l.94-2.06 2.06-.94-2.06-.94L8.5 2.5l-.94 2.06-2.06.94zm10 10l.94 2.06.94-2.06 2.06-.94-2.06-.94-.94-2.06-.94 2.06-2.06.94z\"/><path d=\"M17.41 7.96l-1.37-1.37c-.4-.4-.92-.59-1.43-.59-.52 0-1.04.2-1.43.59L10.3 9.45l-7.72 7.72c-.78.78-.78 2.05 0 2.83L4 21.41c.39.39.9.59 1.41.59.51 0 1.02-.2 1.41-.59l7.78-7.78 2.81-2.81c.8-.78.8-2.07 0-2.86zM5.41 20L4 18.59l7.72-7.72 1.47 1.35L5.41 20z\"/>\n",
              "  </svg>\n",
              "      </button>\n",
              "      \n",
              "  <style>\n",
              "    .colab-df-container {\n",
              "      display:flex;\n",
              "      flex-wrap:wrap;\n",
              "      gap: 12px;\n",
              "    }\n",
              "\n",
              "    .colab-df-convert {\n",
              "      background-color: #E8F0FE;\n",
              "      border: none;\n",
              "      border-radius: 50%;\n",
              "      cursor: pointer;\n",
              "      display: none;\n",
              "      fill: #1967D2;\n",
              "      height: 32px;\n",
              "      padding: 0 0 0 0;\n",
              "      width: 32px;\n",
              "    }\n",
              "\n",
              "    .colab-df-convert:hover {\n",
              "      background-color: #E2EBFA;\n",
              "      box-shadow: 0px 1px 2px rgba(60, 64, 67, 0.3), 0px 1px 3px 1px rgba(60, 64, 67, 0.15);\n",
              "      fill: #174EA6;\n",
              "    }\n",
              "\n",
              "    [theme=dark] .colab-df-convert {\n",
              "      background-color: #3B4455;\n",
              "      fill: #D2E3FC;\n",
              "    }\n",
              "\n",
              "    [theme=dark] .colab-df-convert:hover {\n",
              "      background-color: #434B5C;\n",
              "      box-shadow: 0px 1px 3px 1px rgba(0, 0, 0, 0.15);\n",
              "      filter: drop-shadow(0px 1px 2px rgba(0, 0, 0, 0.3));\n",
              "      fill: #FFFFFF;\n",
              "    }\n",
              "  </style>\n",
              "\n",
              "      <script>\n",
              "        const buttonEl =\n",
              "          document.querySelector('#df-e6aa36dc-d9e3-4d15-a2db-326b83335bfc button.colab-df-convert');\n",
              "        buttonEl.style.display =\n",
              "          google.colab.kernel.accessAllowed ? 'block' : 'none';\n",
              "\n",
              "        async function convertToInteractive(key) {\n",
              "          const element = document.querySelector('#df-e6aa36dc-d9e3-4d15-a2db-326b83335bfc');\n",
              "          const dataTable =\n",
              "            await google.colab.kernel.invokeFunction('convertToInteractive',\n",
              "                                                     [key], {});\n",
              "          if (!dataTable) return;\n",
              "\n",
              "          const docLinkHtml = 'Like what you see? Visit the ' +\n",
              "            '<a target=\"_blank\" href=https://colab.research.google.com/notebooks/data_table.ipynb>data table notebook</a>'\n",
              "            + ' to learn more about interactive tables.';\n",
              "          element.innerHTML = '';\n",
              "          dataTable['output_type'] = 'display_data';\n",
              "          await google.colab.output.renderOutput(dataTable, element);\n",
              "          const docLink = document.createElement('div');\n",
              "          docLink.innerHTML = docLinkHtml;\n",
              "          element.appendChild(docLink);\n",
              "        }\n",
              "      </script>\n",
              "    </div>\n",
              "  </div>\n",
              "  "
            ]
          },
          "metadata": {},
          "execution_count": 10
        }
      ]
    },
    {
      "cell_type": "code",
      "source": [
        "def objective(𝚷: list, T: np.array, C: np.array):\n",
        "  N = len(C)\n",
        "  \n",
        "  S = T[0,:]\n",
        "  M = T[1,:]\n",
        "  D = T[2,:]\n",
        "\n",
        "  p_S = [𝚷[T[0,i]-1] for i in range(N)]\n",
        "  p_M = [𝚷[T[1,i]-1] for i in range(N)]\n",
        "  p_D = [𝚷[T[2,i]-1] for i in range(N)]\n",
        "\n",
        "  return sum([C[p_S[i],p_M[i]] + C[p_M[i],p_D[i]] for i in range(N)])"
      ],
      "metadata": {
        "id": "FMifTCPMOKGh"
      },
      "execution_count": 11,
      "outputs": []
    },
    {
      "cell_type": "code",
      "source": [
        "T = np.array(t)\n",
        "print(f'Current objective value: {objective(list(range(n)), T, C)}')"
      ],
      "metadata": {
        "id": "ouL7IesXGOSt",
        "outputId": "901e34eb-0dd0-455e-a5a3-315437a81bd0",
        "colab": {
          "base_uri": "https://localhost:8080/"
        }
      },
      "execution_count": 12,
      "outputs": [
        {
          "output_type": "stream",
          "name": "stdout",
          "text": [
            "Current objective value: 3.221190966533359\n"
          ]
        }
      ]
    },
    {
      "cell_type": "code",
      "source": [
        "!pip install -q simanneal\n",
        "from simanneal import Annealer"
      ],
      "metadata": {
        "id": "nafRLQri119A"
      },
      "execution_count": 13,
      "outputs": []
    },
    {
      "cell_type": "code",
      "source": [
        "class Permutation(Annealer):\n",
        "  def __init__(self, state: list, C: np.array, T: np.array):\n",
        "    self.C = C\n",
        "    self.T = T\n",
        "    super(Permutation, self).__init__(state)\n",
        "  \n",
        "  def move(self):\n",
        "    a = np.random.randint(0, len(self.state) - 1)\n",
        "    b = np.random.randint(0, len(self.state) - 1)\n",
        "    self.state[a], self.state[b] = self.state[b], self.state[a]\n",
        "  \n",
        "  def energy(self):\n",
        "    energy = objective(self.state, T, C)\n",
        "    return energy"
      ],
      "metadata": {
        "id": "QYNERPAB14Nd"
      },
      "execution_count": 14,
      "outputs": []
    },
    {
      "cell_type": "code",
      "source": [
        "permutation = Permutation(list(range(n)), C, T)"
      ],
      "metadata": {
        "id": "zkviYelO3Da7"
      },
      "execution_count": 15,
      "outputs": []
    },
    {
      "cell_type": "code",
      "source": [
        "permutation.Tmax = 1e5\n",
        "permutation.Tmin = 0.1\n",
        "permutation.steps = 1e5"
      ],
      "metadata": {
        "id": "A4TSprxk6WFO"
      },
      "execution_count": 16,
      "outputs": []
    },
    {
      "cell_type": "code",
      "source": [
        "𝚷, y = permutation.anneal()\n",
        "print(f'Annealed objective value: {y}')"
      ],
      "metadata": {
        "colab": {
          "base_uri": "https://localhost:8080/"
        },
        "id": "URqk3Qti3W6D",
        "outputId": "64c415c2-af00-4149-b22f-2897d74af3bd"
      },
      "execution_count": 17,
      "outputs": [
        {
          "output_type": "stream",
          "name": "stderr",
          "text": [
            " Temperature        Energy    Accept   Improve     Elapsed   Remaining\n"
          ]
        },
        {
          "output_type": "stream",
          "name": "stdout",
          "text": [
            "Annealed objective value: 2.805445927722539\n"
          ]
        }
      ]
    },
    {
      "cell_type": "markdown",
      "source": [
        "## Results"
      ],
      "metadata": {
        "id": "yIUwafUbalm1"
      }
    },
    {
      "cell_type": "code",
      "source": [
        "def draw_graph(nodes: dict, edges: list[tuple]):\n",
        "\tG = nx.DiGraph()\n",
        "\tG.add_nodes_from(nodes)\n",
        "\tG.add_edges_from(edges)\n",
        "\tpos = {k: list(v.values()) for k, v in nodes.items()}\n",
        "\tedge_colors = nx.get_edge_attributes(G,'color').values()\n",
        "\tnode_colors = np.array(list(dict(G.in_degree(G.nodes)).values())) - np.array(list(dict(G.out_degree(G.nodes)).values()))\n",
        "  \n",
        "\n",
        "\tnx.draw(\n",
        "\t\t\tG, pos,\n",
        "\t\t\tedge_color = edge_colors,\n",
        "\t\t\tedge_cmap = plt.cm.get_cmap('Set3'),\n",
        "\t\t\tnode_color = node_colors,\n",
        "\t\t\twidth=3, node_size=50, connectionstyle='arc3,rad=0.1')\n",
        "\tplt.show()"
      ],
      "metadata": {
        "id": "ap5AWyabn-Sx"
      },
      "execution_count": 19,
      "outputs": []
    },
    {
      "cell_type": "code",
      "source": [
        "nodes = dict(G.nodes(data=True))\n",
        "edges = []\n",
        "for m in range(n):\n",
        "    edges.append((𝚷[T[0,m]-1], 𝚷[T[1,m]-1], {'color':m}))\n",
        "    edges.append((𝚷[T[1,m]-1], 𝚷[T[2,m]-1], {'color':m}))\n",
        "node_colors = np.array(list(dict(G.in_degree(G.nodes)).values()))-np.array(list(dict(G.out_degree(G.nodes)).values()))\n",
        "draw_graph(nodes, edges)"
      ],
      "metadata": {
        "id": "KBgCJYlN2k7L",
        "outputId": "1edd0f4f-2ccc-4618-8abf-d8935652181f",
        "colab": {
          "base_uri": "https://localhost:8080/",
          "height": 319
        }
      },
      "execution_count": 23,
      "outputs": [
        {
          "output_type": "display_data",
          "data": {
            "text/plain": [
              "<Figure size 432x288 with 1 Axes>"
            ],
            "image/png": "[encoded data removed]"
          },
          "metadata": {}
        }
      ]
    }
  ]
}